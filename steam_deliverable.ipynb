{
 "cells": [
  {
   "cell_type": "markdown",
   "metadata": {
    "application/vnd.databricks.v1+cell": {
     "cellMetadata": {},
     "inputWidgets": {},
     "nuid": "f9808734-81d7-4931-8fb3-05a2022d9dcb",
     "showTitle": false,
     "tableResultSettingsMap": {},
     "title": ""
    }
   },
   "source": [
    "## Contents\n",
    "\n",
    "[**Pre-EDA**](#pre-eda)\n",
    "\n",
    "[**Answering the Questions**](#answering-the-questions)\n",
    "\n",
    "*   [**Analysis at the \"macro\" level**](#analysis-at-the-macro-level)\n",
    "\n",
    "    *   [Which publisher has released the most games on Steam?](#which-publisher-has-released-the-most-games-on-steam)\n",
    "        \n",
    "    *   [What are the best-rated games?](#what-are-the-best-rated-games)\n",
    "        \n",
    "    *   [Are there years with more releases? Were there more or fewer game releases during Covid, for example?](#are-there-years-with-more-releases-were-there-more-or-fewer-game-releases-during-covid-for-example)\n",
    "        \n",
    "    *   [How are prices distributed? Are there many games with a discount?](#how-are-prices-distributed-are-there-many-games-with-a-discount)\n",
    "        \n",
    "    *   [What are the most represented languages?](#what-are-the-most-represented-languages)\n",
    "        \n",
    "    *   [Are there many games prohibited for children under 16/18?](#are-there-many-games-prohibited-for-children-under-1618)\n",
    "        \n",
    "\n",
    "*   [**Genres analysis**](#genres-analysis)\n",
    "\n",
    "    *   [What are the most represented genres?](#what-are-the-most-represented-genres)\n",
    "        \n",
    "    *   [Are there any genres that have a better positive/negative review ratio?](#are-there-any-genres-that-have-a-better-positivenegative-review-ratio)\n",
    "        \n",
    "    *   [Do some publishers have favorite genres?](#do-some-publishers-have-favorite-genres)\n",
    "        \n",
    "    *   [What are the most lucrative genres?](#what-are-the-most-lucrative-genres)\n",
    "        \n",
    "\n",
    "*   [**Platform analysis**]()\n",
    "\n",
    "    *   [Are most games available on Windows/Mac/Linux?](#are-most-games-available-on-windowsmaclinux)\n",
    "        \n",
    "    *   [Do certain genres tend to be preferentially available on certain platforms?](#do-certain-genres-tend-to-be-preferentially-available-on-certain-platforms)"
   ]
  },
  {
   "cell_type": "markdown",
   "metadata": {
    "application/vnd.databricks.v1+cell": {
     "cellMetadata": {},
     "inputWidgets": {},
     "nuid": "529189ce-751f-4581-8bfd-48ab3cdd64b7",
     "showTitle": false,
     "tableResultSettingsMap": {},
     "title": ""
    }
   },
   "source": [
    "# Pre-EDA"
   ]
  },
  {
   "cell_type": "code",
   "execution_count": 0,
   "metadata": {
    "application/vnd.databricks.v1+cell": {
     "cellMetadata": {
      "byteLimit": 2048000,
      "rowLimit": 10000
     },
     "inputWidgets": {},
     "nuid": "17349cc7-b8e6-4ff8-8a42-75cdaebb0055",
     "showTitle": false,
     "tableResultSettingsMap": {},
     "title": ""
    }
   },
   "outputs": [],
   "source": [
    "data_df = spark.read.json(\"s3://full-stack-bigdata-datasets/Big_Data/Project_Steam/steam_game_output.json\")\n",
    "display(data_df)"
   ]
  },
  {
   "cell_type": "code",
   "execution_count": 0,
   "metadata": {
    "application/vnd.databricks.v1+cell": {
     "cellMetadata": {},
     "inputWidgets": {},
     "nuid": "9c9c6c6c-66a0-439f-9fe4-b64e507040b9",
     "showTitle": false,
     "tableResultSettingsMap": {},
     "title": ""
    }
   },
   "outputs": [
    {
     "data": {
      "text/plain": [
       "55691"
      ]
     },
     "execution_count": 5,
     "metadata": {},
     "output_type": "execute_result"
    }
   ],
   "source": [
    "data_df.count()"
   ]
  },
  {
   "cell_type": "code",
   "execution_count": 0,
   "metadata": {
    "application/vnd.databricks.v1+cell": {
     "cellMetadata": {
      "byteLimit": 2048000,
      "rowLimit": 10000
     },
     "inputWidgets": {},
     "nuid": "eb4e2a33-1e17-435f-98af-713aeb6a2050",
     "showTitle": false,
     "tableResultSettingsMap": {},
     "title": ""
    }
   },
   "outputs": [
    {
     "name": "stdout",
     "output_type": "stream",
     "text": [
      "root\n",
      " |-- data: struct (nullable = true)\n",
      " |    |-- appid: long (nullable = true)\n",
      " |    |-- categories: array (nullable = true)\n",
      " |    |    |-- element: string (containsNull = true)\n",
      " |    |-- ccu: long (nullable = true)\n",
      " |    |-- developer: string (nullable = true)\n",
      " |    |-- discount: string (nullable = true)\n",
      " |    |-- genre: string (nullable = true)\n",
      " |    |-- header_image: string (nullable = true)\n",
      " |    |-- initialprice: string (nullable = true)\n",
      " |    |-- languages: string (nullable = true)\n",
      " |    |-- name: string (nullable = true)\n",
      " |    |-- negative: long (nullable = true)\n",
      " |    |-- owners: string (nullable = true)\n",
      " |    |-- platforms: struct (nullable = true)\n",
      " |    |    |-- linux: boolean (nullable = true)\n",
      " |    |    |-- mac: boolean (nullable = true)\n",
      " |    |    |-- windows: boolean (nullable = true)\n",
      " |    |-- positive: long (nullable = true)\n",
      " |    |-- price: string (nullable = true)\n",
      " |    |-- publisher: string (nullable = true)\n",
      " |    |-- release_date: string (nullable = true)\n",
      " |    |-- required_age: string (nullable = true)\n",
      " |    |-- short_description: string (nullable = true)\n",
      " |    |-- tags: struct (nullable = true)\n",
      " |    |    |-- 1980s: long (nullable = true)\n",
      " |    |    |-- 1990's: long (nullable = true)\n",
      " |    |    |-- 2.5D: long (nullable = true)\n",
      " |    |    |-- 2D: long (nullable = true)\n",
      " |    |    |-- 2D Fighter: long (nullable = true)\n",
      " |    |    |-- 2D Platformer: long (nullable = true)\n",
      " |    |    |-- 360 Video: long (nullable = true)\n",
      " |    |    |-- 3D: long (nullable = true)\n",
      " |    |    |-- 3D Fighter: long (nullable = true)\n",
      " |    |    |-- 3D Platformer: long (nullable = true)\n",
      " |    |    |-- 3D Vision: long (nullable = true)\n",
      " |    |    |-- 4 Player Local: long (nullable = true)\n",
      " |    |    |-- 4X: long (nullable = true)\n",
      " |    |    |-- 6DOF: long (nullable = true)\n",
      " |    |    |-- 8-bit Music: long (nullable = true)\n",
      " |    |    |-- ATV: long (nullable = true)\n",
      " |    |    |-- Abstract: long (nullable = true)\n",
      " |    |    |-- Action: long (nullable = true)\n",
      " |    |    |-- Action RPG: long (nullable = true)\n",
      " |    |    |-- Action RTS: long (nullable = true)\n",
      " |    |    |-- Action Roguelike: long (nullable = true)\n",
      " |    |    |-- Action-Adventure: long (nullable = true)\n",
      " |    |    |-- Addictive: long (nullable = true)\n",
      " |    |    |-- Adventure: long (nullable = true)\n",
      " |    |    |-- Agriculture: long (nullable = true)\n",
      " |    |    |-- Aliens: long (nullable = true)\n",
      " |    |    |-- Alternate History: long (nullable = true)\n",
      " |    |    |-- Ambient: long (nullable = true)\n",
      " |    |    |-- America: long (nullable = true)\n",
      " |    |    |-- Animation & Modeling: long (nullable = true)\n",
      " |    |    |-- Anime: long (nullable = true)\n",
      " |    |    |-- Arcade: long (nullable = true)\n",
      " |    |    |-- Archery: long (nullable = true)\n",
      " |    |    |-- Arena Shooter: long (nullable = true)\n",
      " |    |    |-- Artificial Intelligence: long (nullable = true)\n",
      " |    |    |-- Assassin: long (nullable = true)\n",
      " |    |    |-- Asymmetric VR: long (nullable = true)\n",
      " |    |    |-- Asynchronous Multiplayer: long (nullable = true)\n",
      " |    |    |-- Atmospheric: long (nullable = true)\n",
      " |    |    |-- Audio Production: long (nullable = true)\n",
      " |    |    |-- Auto Battler: long (nullable = true)\n",
      " |    |    |-- Automation: long (nullable = true)\n",
      " |    |    |-- Automobile Sim: long (nullable = true)\n",
      " |    |    |-- BMX: long (nullable = true)\n",
      " |    |    |-- Base-Building: long (nullable = true)\n",
      " |    |    |-- Baseball: long (nullable = true)\n",
      " |    |    |-- Based On A Novel: long (nullable = true)\n",
      " |    |    |-- Basketball: long (nullable = true)\n",
      " |    |    |-- Battle Royale: long (nullable = true)\n",
      " |    |    |-- Beat 'em up: long (nullable = true)\n",
      " |    |    |-- Beautiful: long (nullable = true)\n",
      " |    |    |-- Benchmark: long (nullable = true)\n",
      " |    |    |-- Bikes: long (nullable = true)\n",
      " |    |    |-- Blood: long (nullable = true)\n",
      " |    |    |-- Board Game: long (nullable = true)\n",
      " |    |    |-- Boss Rush: long (nullable = true)\n",
      " |    |    |-- Bowling: long (nullable = true)\n",
      " |    |    |-- Boxing: long (nullable = true)\n",
      " |    |    |-- Building: long (nullable = true)\n",
      " |    |    |-- Bullet Hell: long (nullable = true)\n",
      " |    |    |-- Bullet Time: long (nullable = true)\n",
      " |    |    |-- CRPG: long (nullable = true)\n",
      " |    |    |-- Capitalism: long (nullable = true)\n",
      " |    |    |-- Card Battler: long (nullable = true)\n",
      " |    |    |-- Card Game: long (nullable = true)\n",
      " |    |    |-- Cartoon: long (nullable = true)\n",
      " |    |    |-- Cartoony: long (nullable = true)\n",
      " |    |    |-- Casual: long (nullable = true)\n",
      " |    |    |-- Cats: long (nullable = true)\n",
      " |    |    |-- Character Action Game: long (nullable = true)\n",
      " |    |    |-- Character Customization: long (nullable = true)\n",
      " |    |    |-- Chess: long (nullable = true)\n",
      " |    |    |-- Choices Matter: long (nullable = true)\n",
      " |    |    |-- Choose Your Own Adventure: long (nullable = true)\n",
      " |    |    |-- Cinematic: long (nullable = true)\n",
      " |    |    |-- City Builder: long (nullable = true)\n",
      " |    |    |-- Class-Based: long (nullable = true)\n",
      " |    |    |-- Classic: long (nullable = true)\n",
      " |    |    |-- Clicker: long (nullable = true)\n",
      " |    |    |-- Co-op: long (nullable = true)\n",
      " |    |    |-- Co-op Campaign: long (nullable = true)\n",
      " |    |    |-- Coding: long (nullable = true)\n",
      " |    |    |-- Cold War: long (nullable = true)\n",
      " |    |    |-- Collectathon: long (nullable = true)\n",
      " |    |    |-- Colony Sim: long (nullable = true)\n",
      " |    |    |-- Colorful: long (nullable = true)\n",
      " |    |    |-- Combat: long (nullable = true)\n",
      " |    |    |-- Combat Racing: long (nullable = true)\n",
      " |    |    |-- Comedy: long (nullable = true)\n",
      " |    |    |-- Comic Book: long (nullable = true)\n",
      " |    |    |-- Competitive: long (nullable = true)\n",
      " |    |    |-- Conspiracy: long (nullable = true)\n",
      " |    |    |-- Controller: long (nullable = true)\n",
      " |    |    |-- Conversation: long (nullable = true)\n",
      " |    |    |-- Cooking: long (nullable = true)\n",
      " |    |    |-- Cozy: long (nullable = true)\n",
      " |    |    |-- Crafting: long (nullable = true)\n",
      " |    |    |-- Creature Collector: long (nullable = true)\n",
      " |    |    |-- Cricket: long (nullable = true)\n",
      " |    |    |-- Crime: long (nullable = true)\n",
      " |    |    |-- Crowdfunded: long (nullable = true)\n",
      " |    |    |-- Cult Classic: long (nullable = true)\n",
      " |    |    |-- Cute: long (nullable = true)\n",
      " |    |    |-- Cyberpunk: long (nullable = true)\n",
      " |    |    |-- Cycling: long (nullable = true)\n",
      " |    |    |-- Dark: long (nullable = true)\n",
      " |    |    |-- Dark Comedy: long (nullable = true)\n",
      " |    |    |-- Dark Fantasy: long (nullable = true)\n",
      " |    |    |-- Dark Humor: long (nullable = true)\n",
      " |    |    |-- Dating Sim: long (nullable = true)\n",
      " |    |    |-- Deckbuilding: long (nullable = true)\n",
      " |    |    |-- Demons: long (nullable = true)\n",
      " |    |    |-- Design & Illustration: long (nullable = true)\n",
      " |    |    |-- Destruction: long (nullable = true)\n",
      " |    |    |-- Detective: long (nullable = true)\n",
      " |    |    |-- Difficult: long (nullable = true)\n",
      " |    |    |-- Dinosaurs: long (nullable = true)\n",
      " |    |    |-- Diplomacy: long (nullable = true)\n",
      " |    |    |-- Documentary: long (nullable = true)\n",
      " |    |    |-- Dog: long (nullable = true)\n",
      " |    |    |-- Dragons: long (nullable = true)\n",
      " |    |    |-- Drama: long (nullable = true)\n",
      " |    |    |-- Driving: long (nullable = true)\n",
      " |    |    |-- Dungeon Crawler: long (nullable = true)\n",
      " |    |    |-- Dungeons & Dragons: long (nullable = true)\n",
      " |    |    |-- Dynamic Narration: long (nullable = true)\n",
      " |    |    |-- Dystopian : long (nullable = true)\n",
      " |    |    |-- Early Access: long (nullable = true)\n",
      " |    |    |-- Economy: long (nullable = true)\n",
      " |    |    |-- Education: long (nullable = true)\n",
      " |    |    |-- Electronic: long (nullable = true)\n",
      " |    |    |-- Electronic Music: long (nullable = true)\n",
      " |    |    |-- Emotional: long (nullable = true)\n",
      " |    |    |-- Epic: long (nullable = true)\n",
      " |    |    |-- Episodic: long (nullable = true)\n",
      " |    |    |-- Escape Room: long (nullable = true)\n",
      " |    |    |-- Experience: long (nullable = true)\n",
      " |    |    |-- Experimental: long (nullable = true)\n",
      " |    |    |-- Exploration: long (nullable = true)\n",
      " |    |    |-- FMV: long (nullable = true)\n",
      " |    |    |-- FPS: long (nullable = true)\n",
      " |    |    |-- Faith: long (nullable = true)\n",
      " |    |    |-- Family Friendly: long (nullable = true)\n",
      " |    |    |-- Fantasy: long (nullable = true)\n",
      " |    |    |-- Farming: long (nullable = true)\n",
      " |    |    |-- Farming Sim: long (nullable = true)\n",
      " |    |    |-- Fast-Paced: long (nullable = true)\n",
      " |    |    |-- Feature Film: long (nullable = true)\n",
      " |    |    |-- Female Protagonist: long (nullable = true)\n",
      " |    |    |-- Fighting: long (nullable = true)\n",
      " |    |    |-- First-Person: long (nullable = true)\n",
      " |    |    |-- Fishing: long (nullable = true)\n",
      " |    |    |-- Flight: long (nullable = true)\n",
      " |    |    |-- Football: long (nullable = true)\n",
      " |    |    |-- Foreign: long (nullable = true)\n",
      " |    |    |-- Free to Play: long (nullable = true)\n",
      " |    |    |-- Funny: long (nullable = true)\n",
      " |    |    |-- Futuristic: long (nullable = true)\n",
      " |    |    |-- Gambling: long (nullable = true)\n",
      " |    |    |-- Game Development: long (nullable = true)\n",
      " |    |    |-- GameMaker: long (nullable = true)\n",
      " |    |    |-- Games Workshop: long (nullable = true)\n",
      " |    |    |-- Gaming: long (nullable = true)\n",
      " |    |    |-- God Game: long (nullable = true)\n",
      " |    |    |-- Golf: long (nullable = true)\n",
      " |    |    |-- Gore: long (nullable = true)\n",
      " |    |    |-- Gothic: long (nullable = true)\n",
      " |    |    |-- Grand Strategy: long (nullable = true)\n",
      " |    |    |-- Great Soundtrack: long (nullable = true)\n",
      " |    |    |-- Grid-Based Movement: long (nullable = true)\n",
      " |    |    |-- Gun Customization: long (nullable = true)\n",
      " |    |    |-- Hack and Slash: long (nullable = true)\n",
      " |    |    |-- Hacking: long (nullable = true)\n",
      " |    |    |-- Hand-drawn: long (nullable = true)\n",
      " |    |    |-- Hardware: long (nullable = true)\n",
      " |    |    |-- Heist: long (nullable = true)\n",
      " |    |    |-- Hentai: long (nullable = true)\n",
      " |    |    |-- Hero Shooter: long (nullable = true)\n",
      " |    |    |-- Hex Grid: long (nullable = true)\n",
      " |    |    |-- Hidden Object: long (nullable = true)\n",
      " |    |    |-- Historical: long (nullable = true)\n",
      " |    |    |-- Hockey: long (nullable = true)\n",
      " |    |    |-- Horror: long (nullable = true)\n",
      " |    |    |-- Horses: long (nullable = true)\n",
      " |    |    |-- Hunting: long (nullable = true)\n",
      " |    |    |-- Idler: long (nullable = true)\n",
      " |    |    |-- Illuminati: long (nullable = true)\n",
      " |    |    |-- Immersive: long (nullable = true)\n",
      " |    |    |-- Immersive Sim: long (nullable = true)\n",
      " |    |    |-- Indie: long (nullable = true)\n",
      " |    |    |-- Instrumental Music: long (nullable = true)\n",
      " |    |    |-- Intentionally Awkward Controls: long (nullable = true)\n",
      " |    |    |-- Interactive Fiction: long (nullable = true)\n",
      " |    |    |-- Inventory Management: long (nullable = true)\n",
      " |    |    |-- Investigation: long (nullable = true)\n",
      " |    |    |-- Isometric: long (nullable = true)\n",
      " |    |    |-- JRPG: long (nullable = true)\n",
      " |    |    |-- Jet: long (nullable = true)\n",
      " |    |    |-- Job Simulator: long (nullable = true)\n",
      " |    |    |-- Jump Scare: long (nullable = true)\n",
      " |    |    |-- Kickstarter: long (nullable = true)\n",
      " |    |    |-- LEGO: long (nullable = true)\n",
      " |    |    |-- LGBTQ+: long (nullable = true)\n",
      " |    |    |-- Lemmings: long (nullable = true)\n",
      " |    |    |-- Level Editor: long (nullable = true)\n",
      " |    |    |-- Life Sim: long (nullable = true)\n",
      " |    |    |-- Linear: long (nullable = true)\n",
      " |    |    |-- Local Co-Op: long (nullable = true)\n",
      " |    |    |-- Local Multiplayer: long (nullable = true)\n",
      " |    |    |-- Logic: long (nullable = true)\n",
      " |    |    |-- Loot: long (nullable = true)\n",
      " |    |    |-- Looter Shooter: long (nullable = true)\n",
      " |    |    |-- Lore-Rich: long (nullable = true)\n",
      " |    |    |-- Lovecraftian: long (nullable = true)\n",
      " |    |    |-- MMORPG: long (nullable = true)\n",
      " |    |    |-- MOBA: long (nullable = true)\n",
      " |    |    |-- Magic: long (nullable = true)\n",
      " |    |    |-- Mahjong: long (nullable = true)\n",
      " |    |    |-- Management: long (nullable = true)\n",
      " |    |    |-- Mars: long (nullable = true)\n",
      " |    |    |-- Martial Arts: long (nullable = true)\n",
      " |    |    |-- Massively Multiplayer: long (nullable = true)\n",
      " |    |    |-- Masterpiece: long (nullable = true)\n",
      " |    |    |-- Match 3: long (nullable = true)\n",
      " |    |    |-- Mature: long (nullable = true)\n",
      " |    |    |-- Mechs: long (nullable = true)\n",
      " |    |    |-- Medical Sim: long (nullable = true)\n",
      " |    |    |-- Medieval: long (nullable = true)\n",
      " |    |    |-- Memes: long (nullable = true)\n",
      " |    |    |-- Metroidvania: long (nullable = true)\n",
      " |    |    |-- Military: long (nullable = true)\n",
      " |    |    |-- Mini Golf: long (nullable = true)\n",
      " |    |    |-- Minigames: long (nullable = true)\n",
      " |    |    |-- Minimalist: long (nullable = true)\n",
      " |    |    |-- Mining: long (nullable = true)\n",
      " |    |    |-- Mod: long (nullable = true)\n",
      " |    |    |-- Moddable: long (nullable = true)\n",
      " |    |    |-- Modern: long (nullable = true)\n",
      " |    |    |-- Motocross: long (nullable = true)\n",
      " |    |    |-- Motorbike: long (nullable = true)\n",
      " |    |    |-- Mouse only: long (nullable = true)\n",
      " |    |    |-- Movie: long (nullable = true)\n",
      " |    |    |-- Multiplayer: long (nullable = true)\n",
      " |    |    |-- Multiple Endings: long (nullable = true)\n",
      " |    |    |-- Music: long (nullable = true)\n",
      " |    |    |-- Music-Based Procedural Generation: long (nullable = true)\n",
      " |    |    |-- Musou: long (nullable = true)\n",
      " |    |    |-- Mystery: long (nullable = true)\n",
      " |    |    |-- Mystery Dungeon: long (nullable = true)\n",
      " |    |    |-- Mythology: long (nullable = true)\n",
      " |    |    |-- NSFW: long (nullable = true)\n",
      " |    |    |-- Narration: long (nullable = true)\n",
      " |    |    |-- Narrative: long (nullable = true)\n",
      " |    |    |-- Nature: long (nullable = true)\n",
      " |    |    |-- Naval: long (nullable = true)\n",
      " |    |    |-- Naval Combat: long (nullable = true)\n",
      " |    |    |-- Ninja: long (nullable = true)\n",
      " |    |    |-- Noir: long (nullable = true)\n",
      " |    |    |-- Nonlinear: long (nullable = true)\n",
      " |    |    |-- Nostalgia: long (nullable = true)\n",
      " |    |    |-- Nudity: long (nullable = true)\n",
      " |    |    |-- Offroad: long (nullable = true)\n",
      " |    |    |-- Old School: long (nullable = true)\n",
      " |    |    |-- On-Rails Shooter: long (nullable = true)\n",
      " |    |    |-- Online Co-Op: long (nullable = true)\n",
      " |    |    |-- Open World: long (nullable = true)\n",
      " |    |    |-- Open World Survival Craft: long (nullable = true)\n",
      " |    |    |-- Otome: long (nullable = true)\n",
      " |    |    |-- Outbreak Sim: long (nullable = true)\n",
      " |    |    |-- Parkour: long (nullable = true)\n",
      " |    |    |-- Parody : long (nullable = true)\n",
      " |    |    |-- Party: long (nullable = true)\n",
      " |    |    |-- Party Game: long (nullable = true)\n",
      " |    |    |-- Party-Based RPG: long (nullable = true)\n",
      " |    |    |-- Perma Death: long (nullable = true)\n",
      " |    |    |-- Philosophical: long (nullable = true)\n",
      " |    |    |-- Photo Editing: long (nullable = true)\n",
      " |    |    |-- Physics: long (nullable = true)\n",
      " |    |    |-- Pinball: long (nullable = true)\n",
      " |    |    |-- Pirates: long (nullable = true)\n",
      " |    |    |-- Pixel Graphics: long (nullable = true)\n",
      " |    |    |-- Platformer: long (nullable = true)\n",
      " |    |    |-- Point & Click: long (nullable = true)\n",
      " |    |    |-- Political: long (nullable = true)\n",
      " |    |    |-- Political Sim: long (nullable = true)\n",
      " |    |    |-- Politics: long (nullable = true)\n",
      " |    |    |-- Pool: long (nullable = true)\n",
      " |    |    |-- Post-apocalyptic: long (nullable = true)\n",
      " |    |    |-- Precision Platformer: long (nullable = true)\n",
      " |    |    |-- Procedural Generation: long (nullable = true)\n",
      " |    |    |-- Programming: long (nullable = true)\n",
      " |    |    |-- Psychedelic: long (nullable = true)\n",
      " |    |    |-- Psychological: long (nullable = true)\n",
      " |    |    |-- Psychological Horror: long (nullable = true)\n",
      " |    |    |-- Puzzle: long (nullable = true)\n",
      " |    |    |-- Puzzle-Platformer: long (nullable = true)\n",
      " |    |    |-- PvE: long (nullable = true)\n",
      " |    |    |-- PvP: long (nullable = true)\n",
      " |    |    |-- Quick-Time Events: long (nullable = true)\n",
      " |    |    |-- RPG: long (nullable = true)\n",
      " |    |    |-- RPGMaker: long (nullable = true)\n",
      " |    |    |-- RTS: long (nullable = true)\n",
      " |    |    |-- Racing: long (nullable = true)\n",
      " |    |    |-- Real Time Tactics: long (nullable = true)\n",
      " |    |    |-- Real-Time: long (nullable = true)\n",
      " |    |    |-- Real-Time with Pause: long (nullable = true)\n",
      " |    |    |-- Realistic: long (nullable = true)\n",
      " |    |    |-- Reboot: long (nullable = true)\n",
      " |    |    |-- Relaxing: long (nullable = true)\n",
      " |    |    |-- Remake: long (nullable = true)\n",
      " |    |    |-- Replay Value: long (nullable = true)\n",
      " |    |    |-- Resource Management: long (nullable = true)\n",
      " |    |    |-- Retro: long (nullable = true)\n",
      " |    |    |-- Rhythm: long (nullable = true)\n",
      " |    |    |-- Robots: long (nullable = true)\n",
      " |    |    |-- Rock Music: long (nullable = true)\n",
      " |    |    |-- Rogue-like: long (nullable = true)\n",
      " |    |    |-- Rogue-lite: long (nullable = true)\n",
      " |    |    |-- Roguelike Deckbuilder: long (nullable = true)\n",
      " |    |    |-- Roguevania: long (nullable = true)\n",
      " |    |    |-- Romance: long (nullable = true)\n",
      " |    |    |-- Rome: long (nullable = true)\n",
      " |    |    |-- Rugby: long (nullable = true)\n",
      " |    |    |-- Runner: long (nullable = true)\n",
      " |    |    |-- Sailing: long (nullable = true)\n",
      " |    |    |-- Sandbox: long (nullable = true)\n",
      " |    |    |-- Satire: long (nullable = true)\n",
      " |    |    |-- Sci-fi: long (nullable = true)\n",
      " |    |    |-- Science: long (nullable = true)\n",
      " |    |    |-- Score Attack: long (nullable = true)\n",
      " |    |    |-- Sequel: long (nullable = true)\n",
      " |    |    |-- Sexual Content: long (nullable = true)\n",
      " |    |    |-- Shoot 'Em Up: long (nullable = true)\n",
      " |    |    |-- Shooter: long (nullable = true)\n",
      " |    |    |-- Shop Keeper: long (nullable = true)\n",
      " |    |    |-- Short: long (nullable = true)\n",
      " |    |    |-- Side Scroller: long (nullable = true)\n",
      " |    |    |-- Silent Protagonist: long (nullable = true)\n",
      " |    |    |-- Simulation: long (nullable = true)\n",
      " |    |    |-- Singleplayer: long (nullable = true)\n",
      " |    |    |-- Skateboarding: long (nullable = true)\n",
      " |    |    |-- Skating: long (nullable = true)\n",
      " |    |    |-- Skiing: long (nullable = true)\n",
      " |    |    |-- Sniper: long (nullable = true)\n",
      " |    |    |-- Snooker: long (nullable = true)\n",
      " |    |    |-- Snow: long (nullable = true)\n",
      " |    |    |-- Snowboarding: long (nullable = true)\n",
      " |    |    |-- Soccer: long (nullable = true)\n",
      " |    |    |-- Social Deduction: long (nullable = true)\n",
      " |    |    |-- Software: long (nullable = true)\n",
      " |    |    |-- Software Training: long (nullable = true)\n",
      " |    |    |-- Sokoban: long (nullable = true)\n",
      " |    |    |-- Solitaire: long (nullable = true)\n",
      " |    |    |-- Souls-like: long (nullable = true)\n",
      " |    |    |-- Soundtrack: long (nullable = true)\n",
      " |    |    |-- Space: long (nullable = true)\n",
      " |    |    |-- Space Sim: long (nullable = true)\n",
      " |    |    |-- Spaceships: long (nullable = true)\n",
      " |    |    |-- Spectacle fighter: long (nullable = true)\n",
      " |    |    |-- Spelling: long (nullable = true)\n",
      " |    |    |-- Split Screen: long (nullable = true)\n",
      " |    |    |-- Sports: long (nullable = true)\n",
      " |    |    |-- Stealth: long (nullable = true)\n",
      " |    |    |-- Steam Machine: long (nullable = true)\n",
      " |    |    |-- Steampunk: long (nullable = true)\n",
      " |    |    |-- Story Rich: long (nullable = true)\n",
      " |    |    |-- Strategy: long (nullable = true)\n",
      " |    |    |-- Strategy RPG: long (nullable = true)\n",
      " |    |    |-- Stylized: long (nullable = true)\n",
      " |    |    |-- Submarine: long (nullable = true)\n",
      " |    |    |-- Superhero: long (nullable = true)\n",
      " |    |    |-- Supernatural: long (nullable = true)\n",
      " |    |    |-- Surreal: long (nullable = true)\n",
      " |    |    |-- Survival: long (nullable = true)\n",
      " |    |    |-- Survival Horror: long (nullable = true)\n",
      " |    |    |-- Swordplay: long (nullable = true)\n",
      " |    |    |-- Tabletop: long (nullable = true)\n",
      " |    |    |-- Tactical: long (nullable = true)\n",
      " |    |    |-- Tactical RPG: long (nullable = true)\n",
      " |    |    |-- Tanks: long (nullable = true)\n",
      " |    |    |-- Team-Based: long (nullable = true)\n",
      " |    |    |-- Tennis: long (nullable = true)\n",
      " |    |    |-- Text-Based: long (nullable = true)\n",
      " |    |    |-- Third Person: long (nullable = true)\n",
      " |    |    |-- Third-Person Shooter: long (nullable = true)\n",
      " |    |    |-- Thriller: long (nullable = true)\n",
      " |    |    |-- Tile-Matching: long (nullable = true)\n",
      " |    |    |-- Time Attack: long (nullable = true)\n",
      " |    |    |-- Time Management: long (nullable = true)\n",
      " |    |    |-- Time Manipulation: long (nullable = true)\n",
      " |    |    |-- Time Travel: long (nullable = true)\n",
      " |    |    |-- Top-Down: long (nullable = true)\n",
      " |    |    |-- Top-Down Shooter: long (nullable = true)\n",
      " |    |    |-- Touch-Friendly: long (nullable = true)\n",
      " |    |    |-- Tower Defense: long (nullable = true)\n",
      " |    |    |-- TrackIR: long (nullable = true)\n",
      " |    |    |-- Trading: long (nullable = true)\n",
      " |    |    |-- Trading Card Game: long (nullable = true)\n",
      " |    |    |-- Traditional Roguelike: long (nullable = true)\n",
      " |    |    |-- Trains: long (nullable = true)\n",
      " |    |    |-- Transhumanism: long (nullable = true)\n",
      " |    |    |-- Transportation: long (nullable = true)\n",
      " |    |    |-- Trivia: long (nullable = true)\n",
      " |    |    |-- Turn-Based: long (nullable = true)\n",
      " |    |    |-- Turn-Based Combat: long (nullable = true)\n",
      " |    |    |-- Turn-Based Strategy: long (nullable = true)\n",
      " |    |    |-- Turn-Based Tactics: long (nullable = true)\n",
      " |    |    |-- Tutorial: long (nullable = true)\n",
      " |    |    |-- Twin Stick Shooter: long (nullable = true)\n",
      " |    |    |-- Typing: long (nullable = true)\n",
      " |    |    |-- Underground: long (nullable = true)\n",
      " |    |    |-- Underwater: long (nullable = true)\n",
      " |    |    |-- Unforgiving: long (nullable = true)\n",
      " |    |    |-- Utilities: long (nullable = true)\n",
      " |    |    |-- VR: long (nullable = true)\n",
      " |    |    |-- VR Only: long (nullable = true)\n",
      " |    |    |-- Vampire: long (nullable = true)\n",
      " |    |    |-- Vehicular Combat: long (nullable = true)\n",
      " |    |    |-- Video Production: long (nullable = true)\n",
      " |    |    |-- Vikings: long (nullable = true)\n",
      " |    |    |-- Villain Protagonist: long (nullable = true)\n",
      " |    |    |-- Violent: long (nullable = true)\n",
      " |    |    |-- Visual Novel: long (nullable = true)\n",
      " |    |    |-- Voice Control: long (nullable = true)\n",
      " |    |    |-- Volleyball: long (nullable = true)\n",
      " |    |    |-- Voxel: long (nullable = true)\n",
      " |    |    |-- Walking Simulator: long (nullable = true)\n",
      " |    |    |-- War: long (nullable = true)\n",
      " |    |    |-- Wargame: long (nullable = true)\n",
      " |    |    |-- Warhammer 40K: long (nullable = true)\n",
      " |    |    |-- Web Publishing: long (nullable = true)\n",
      " |    |    |-- Well-Written: long (nullable = true)\n",
      " |    |    |-- Werewolves: long (nullable = true)\n",
      " |    |    |-- Western: long (nullable = true)\n",
      " |    |    |-- Wholesome: long (nullable = true)\n",
      " |    |    |-- Word Game: long (nullable = true)\n",
      " |    |    |-- World War I: long (nullable = true)\n",
      " |    |    |-- World War II: long (nullable = true)\n",
      " |    |    |-- Wrestling: long (nullable = true)\n",
      " |    |    |-- Zombies: long (nullable = true)\n",
      " |    |    |-- e-sports: long (nullable = true)\n",
      " |    |-- type: string (nullable = true)\n",
      " |    |-- website: string (nullable = true)\n",
      " |-- id: string (nullable = true)\n",
      "\n"
     ]
    }
   ],
   "source": [
    "data_df.printSchema()"
   ]
  },
  {
   "cell_type": "code",
   "execution_count": 0,
   "metadata": {
    "application/vnd.databricks.v1+cell": {
     "cellMetadata": {
      "byteLimit": 2048000,
      "rowLimit": 10000
     },
     "inputWidgets": {},
     "nuid": "8b411214-44be-45ef-be27-2ac46107e733",
     "showTitle": false,
     "tableResultSettingsMap": {},
     "title": ""
    }
   },
   "outputs": [],
   "source": [
    "from pyspark.sql import functions as F\n",
    "\n",
    "data_df_flattened = data_df.withColumn(\"appid\", F.col(\"data.appid\")) \\\n",
    "                           .withColumn(\"categories\", F.col(\"data.categories\")) \\\n",
    "                           .withColumn(\"genre\", F.col(\"data.genre\")) \\\n",
    "                           .withColumn(\"initialprice\", F.col(\"data.initialprice\")) \\\n",
    "                           .withColumn(\"languages\", F.col(\"data.languages\")) \\\n",
    "                           .withColumn(\"name\", F.col(\"data.name\")) \\\n",
    "                           .withColumn(\"negative_reviews\", F.col(\"data.negative\")) \\\n",
    "                           .withColumn(\"positive_reviews\", F.col(\"data.positive\")) \\\n",
    "                           .withColumn(\"price\", F.col(\"data.price\")) \\\n",
    "                           .withColumn(\"release_date\", F.col(\"data.release_date\")) \\\n",
    "                           .withColumn(\"owners\", F.col(\"data.owners\")) \\\n",
    "                           .withColumn(\"platforms\", F.col(\"data.platforms\")) \\\n",
    "                           .withColumn(\"publisher\", F.col(\"data.publisher\")) \\\n",
    "                           .withColumn(\"required_age\", F.col(\"data.required_age\")) \\\n",
    "                           .withColumn(\"tags\", F.col(\"data.tags\")) \\\n",
    "                           .withColumn(\"type\", F.col(\"data.type\")) \\\n",
    "                           .drop(\"data\")\n",
    "\n",
    "data_df_flattened.display()"
   ]
  },
  {
   "cell_type": "code",
   "execution_count": 0,
   "metadata": {
    "application/vnd.databricks.v1+cell": {
     "cellMetadata": {},
     "inputWidgets": {},
     "nuid": "cc3e6a9c-d743-4a38-b007-76e45ca88250",
     "showTitle": false,
     "tableResultSettingsMap": {},
     "title": ""
    }
   },
   "outputs": [
    {
     "data": {
      "text/plain": [
       "0"
      ]
     },
     "execution_count": 46,
     "metadata": {},
     "output_type": "execute_result"
    }
   ],
   "source": [
    "data_df_flattened.filter(F.col(\"id\") != F.col(\"appid\")).count()"
   ]
  },
  {
   "cell_type": "code",
   "execution_count": 0,
   "metadata": {
    "application/vnd.databricks.v1+cell": {
     "cellMetadata": {
      "byteLimit": 2048000,
      "rowLimit": 10000
     },
     "inputWidgets": {},
     "nuid": "c075c91c-c752-46e7-8565-2db860ee1848",
     "showTitle": false,
     "tableResultSettingsMap": {
      "0": {
       "dataGridStateBlob": "{\"version\":1,\"tableState\":{\"columnPinning\":{\"left\":[\"#row_number#\"],\"right\":[]},\"columnSizing\":{},\"columnVisibility\":{}},\"settings\":{\"columns\":{}},\"syncTimestamp\":1759496912931}",
       "filterBlob": null,
       "queryPlanFiltersBlob": null,
       "tableResultIndex": 0
      }
     },
     "title": ""
    }
   },
   "outputs": [],
   "source": [
    "data_df_flattened = data_df_flattened.drop(\"id\")\n",
    "\n",
    "get_true_list = F.udf(lambda d: [key for key, value in d.asDict().items() if value])\n",
    "data_df_flattened = data_df_flattened.withColumn(\"platforms\", get_true_list(F.col(\"platforms\")))\\\n",
    "                                     .withColumn(\"tags\", get_true_list(F.col(\"tags\")))\n",
    "\n",
    "data_df_flattened.select([\"platforms\", \"tags\"]).display()"
   ]
  },
  {
   "cell_type": "code",
   "execution_count": 0,
   "metadata": {
    "application/vnd.databricks.v1+cell": {
     "cellMetadata": {},
     "inputWidgets": {},
     "nuid": "8f2581d6-eb95-49b5-b50d-5ffb8b4335e4",
     "showTitle": false,
     "tableResultSettingsMap": {},
     "title": ""
    }
   },
   "outputs": [
    {
     "name": "stdout",
     "output_type": "stream",
     "text": [
      "Column<'appid AS '>\n",
      "0\n",
      "\n",
      "Column<'categories AS '>\n",
      "0\n",
      "\n",
      "Column<'genre AS '>\n",
      "0\n",
      "\n",
      "Column<'initialprice AS '>\n",
      "0\n",
      "\n",
      "Column<'languages AS '>\n",
      "0\n",
      "\n",
      "Column<'name AS '>\n",
      "0\n",
      "\n",
      "Column<'negative_reviews AS '>\n",
      "0\n",
      "\n",
      "Column<'positive_reviews AS '>\n",
      "0\n",
      "\n",
      "Column<'price AS '>\n",
      "0\n",
      "\n",
      "Column<'release_date AS '>\n",
      "0\n",
      "\n",
      "Column<'owners AS '>\n",
      "0\n",
      "\n",
      "Column<'platforms AS '>\n",
      "0\n",
      "\n",
      "Column<'publisher AS '>\n",
      "0\n",
      "\n",
      "Column<'required_age AS '>\n",
      "0\n",
      "\n",
      "Column<'tags AS '>\n",
      "0\n",
      "\n",
      "Column<'type AS '>\n",
      "0\n",
      "\n"
     ]
    }
   ],
   "source": [
    "data_df_flattened = data_df_flattened.dropDuplicates()\n",
    "\n",
    "for col in data_df_flattened:\n",
    "    print(col.name())\n",
    "    print(data_df_flattened.filter(col.isNull()).count())\n",
    "    print()"
   ]
  },
  {
   "cell_type": "code",
   "execution_count": 0,
   "metadata": {
    "application/vnd.databricks.v1+cell": {
     "cellMetadata": {},
     "inputWidgets": {},
     "nuid": "7dee6e8e-2e33-4a0e-a773-223b0954571b",
     "showTitle": false,
     "tableResultSettingsMap": {},
     "title": ""
    }
   },
   "outputs": [
    {
     "data": {
      "text/html": [
       "<style scoped>\n",
       "  .table-result-container {\n",
       "    max-height: 300px;\n",
       "    overflow: auto;\n",
       "  }\n",
       "  table, th, td {\n",
       "    border: 1px solid black;\n",
       "    border-collapse: collapse;\n",
       "  }\n",
       "  th, td {\n",
       "    padding: 5px;\n",
       "  }\n",
       "  th {\n",
       "    text-align: left;\n",
       "  }\n",
       "</style><div class='table-result-container'><table class='table-result'><thead style='background-color: white'><tr><th>type</th></tr></thead><tbody><tr><td>hardware</td></tr><tr><td>game</td></tr></tbody></table></div>"
      ]
     },
     "metadata": {
      "application/vnd.databricks.v1+output": {
       "addedWidgets": {},
       "aggData": [],
       "aggError": "",
       "aggOverflow": false,
       "aggSchema": [],
       "aggSeriesLimitReached": false,
       "aggType": "",
       "arguments": {},
       "columnCustomDisplayInfos": {},
       "data": [
        [
         "hardware"
        ],
        [
         "game"
        ]
       ],
       "datasetInfos": [],
       "dbfsResultPath": null,
       "isJsonSchema": true,
       "metadata": {},
       "overflow": false,
       "plotOptions": {
        "customPlotOptions": {},
        "displayType": "table",
        "pivotAggregation": null,
        "pivotColumns": null,
        "xColumns": null,
        "yColumns": null
       },
       "removedWidgets": [],
       "schema": [
        {
         "metadata": "{}",
         "name": "type",
         "type": "\"string\""
        }
       ],
       "type": "table"
      }
     },
     "output_type": "display_data"
    }
   ],
   "source": [
    "data_df_flattened.select(F.col(\"type\")).distinct().display()"
   ]
  },
  {
   "cell_type": "code",
   "execution_count": 0,
   "metadata": {
    "application/vnd.databricks.v1+cell": {
     "cellMetadata": {},
     "inputWidgets": {},
     "nuid": "6f32bb16-84cc-4375-8705-ca049023b838",
     "showTitle": false,
     "tableResultSettingsMap": {},
     "title": ""
    }
   },
   "outputs": [
    {
     "data": {
      "text/html": [
       "<style scoped>\n",
       "  .table-result-container {\n",
       "    max-height: 300px;\n",
       "    overflow: auto;\n",
       "  }\n",
       "  table, th, td {\n",
       "    border: 1px solid black;\n",
       "    border-collapse: collapse;\n",
       "  }\n",
       "  th, td {\n",
       "    padding: 5px;\n",
       "  }\n",
       "  th {\n",
       "    text-align: left;\n",
       "  }\n",
       "</style><div class='table-result-container'><table class='table-result'><thead style='background-color: white'><tr><th>appid</th><th>categories</th><th>genre</th><th>initialprice</th><th>languages</th><th>name</th><th>negative_reviews</th><th>positive_reviews</th><th>price</th><th>release_date</th><th>owners</th><th>platforms</th><th>publisher</th><th>required_age</th><th>tags</th><th>type</th></tr></thead><tbody><tr><td>353380</td><td>List(Full controller support, Remote Play Together)</td><td></td><td>0</td><td></td><td>Steam Link</td><td>1771</td><td>5803</td><td>0</td><td>2015/11/10</td><td>500,000 .. 1,000,000</td><td>[linux, mac, windows]</td><td>Anima Locus</td><td>0</td><td>[Comedy, Competitive, Epic, Great Soundtrack, Hentai, Local Multiplayer, Post-apocalyptic, PvP, RPG, Shooter, Software, Steam Machine, Survival, Survival Horror]</td><td>hardware</td></tr></tbody></table></div>"
      ]
     },
     "metadata": {
      "application/vnd.databricks.v1+output": {
       "addedWidgets": {},
       "aggData": [],
       "aggError": "",
       "aggOverflow": false,
       "aggSchema": [],
       "aggSeriesLimitReached": false,
       "aggType": "",
       "arguments": {},
       "columnCustomDisplayInfos": {},
       "data": [
        [
         353380,
         [
          "Full controller support",
          "Remote Play Together"
         ],
         "",
         "0",
         "",
         "Steam Link",
         1771,
         5803,
         "0",
         "2015/11/10",
         "500,000 .. 1,000,000",
         "[linux, mac, windows]",
         "Anima Locus",
         "0",
         "[Comedy, Competitive, Epic, Great Soundtrack, Hentai, Local Multiplayer, Post-apocalyptic, PvP, RPG, Shooter, Software, Steam Machine, Survival, Survival Horror]",
         "hardware"
        ]
       ],
       "datasetInfos": [],
       "dbfsResultPath": null,
       "isJsonSchema": true,
       "metadata": {},
       "overflow": false,
       "plotOptions": {
        "customPlotOptions": {},
        "displayType": "table",
        "pivotAggregation": null,
        "pivotColumns": null,
        "xColumns": null,
        "yColumns": null
       },
       "removedWidgets": [],
       "schema": [
        {
         "metadata": "{}",
         "name": "appid",
         "type": "\"long\""
        },
        {
         "metadata": "{}",
         "name": "categories",
         "type": "{\"containsNull\":true,\"elementType\":\"string\",\"type\":\"array\"}"
        },
        {
         "metadata": "{}",
         "name": "genre",
         "type": "\"string\""
        },
        {
         "metadata": "{}",
         "name": "initialprice",
         "type": "\"string\""
        },
        {
         "metadata": "{}",
         "name": "languages",
         "type": "\"string\""
        },
        {
         "metadata": "{}",
         "name": "name",
         "type": "\"string\""
        },
        {
         "metadata": "{}",
         "name": "negative_reviews",
         "type": "\"long\""
        },
        {
         "metadata": "{}",
         "name": "positive_reviews",
         "type": "\"long\""
        },
        {
         "metadata": "{}",
         "name": "price",
         "type": "\"string\""
        },
        {
         "metadata": "{}",
         "name": "release_date",
         "type": "\"string\""
        },
        {
         "metadata": "{}",
         "name": "owners",
         "type": "\"string\""
        },
        {
         "metadata": "{}",
         "name": "platforms",
         "type": "\"string\""
        },
        {
         "metadata": "{}",
         "name": "publisher",
         "type": "\"string\""
        },
        {
         "metadata": "{}",
         "name": "required_age",
         "type": "\"string\""
        },
        {
         "metadata": "{}",
         "name": "tags",
         "type": "\"string\""
        },
        {
         "metadata": "{}",
         "name": "type",
         "type": "\"string\""
        }
       ],
       "type": "table"
      }
     },
     "output_type": "display_data"
    }
   ],
   "source": [
    "data_df_flattened.filter(F.col(\"type\") == \"hardware\").display()"
   ]
  },
  {
   "cell_type": "code",
   "execution_count": 0,
   "metadata": {
    "application/vnd.databricks.v1+cell": {
     "cellMetadata": {},
     "inputWidgets": {},
     "nuid": "c2237e70-b788-44cd-b927-b20053b78b9b",
     "showTitle": false,
     "tableResultSettingsMap": {},
     "title": ""
    }
   },
   "outputs": [],
   "source": [
    "data_df_flattened = data_df_flattened.filter(F.col(\"type\") != \"hardware\")"
   ]
  },
  {
   "cell_type": "code",
   "execution_count": 0,
   "metadata": {
    "application/vnd.databricks.v1+cell": {
     "cellMetadata": {},
     "inputWidgets": {},
     "nuid": "38d8e3b2-9da2-48d8-b43c-601e7aa11828",
     "showTitle": false,
     "tableResultSettingsMap": {},
     "title": ""
    }
   },
   "outputs": [
    {
     "data": {
      "text/html": [
       "<style scoped>\n",
       "  .table-result-container {\n",
       "    max-height: 300px;\n",
       "    overflow: auto;\n",
       "  }\n",
       "  table, th, td {\n",
       "    border: 1px solid black;\n",
       "    border-collapse: collapse;\n",
       "  }\n",
       "  th, td {\n",
       "    padding: 5px;\n",
       "  }\n",
       "  th {\n",
       "    text-align: left;\n",
       "  }\n",
       "</style><div class='table-result-container'><table class='table-result'><thead style='background-color: white'><tr><th>type</th></tr></thead><tbody><tr><td>game</td></tr></tbody></table></div>"
      ]
     },
     "metadata": {
      "application/vnd.databricks.v1+output": {
       "addedWidgets": {},
       "aggData": [],
       "aggError": "",
       "aggOverflow": false,
       "aggSchema": [],
       "aggSeriesLimitReached": false,
       "aggType": "",
       "arguments": {},
       "columnCustomDisplayInfos": {},
       "data": [
        [
         "game"
        ]
       ],
       "datasetInfos": [],
       "dbfsResultPath": null,
       "isJsonSchema": true,
       "metadata": {},
       "overflow": false,
       "plotOptions": {
        "customPlotOptions": {},
        "displayType": "table",
        "pivotAggregation": null,
        "pivotColumns": null,
        "xColumns": null,
        "yColumns": null
       },
       "removedWidgets": [],
       "schema": [
        {
         "metadata": "{}",
         "name": "type",
         "type": "\"string\""
        }
       ],
       "type": "table"
      }
     },
     "output_type": "display_data"
    }
   ],
   "source": [
    "data_df_flattened.select(F.col(\"type\")).distinct().display()"
   ]
  },
  {
   "cell_type": "code",
   "execution_count": null,
   "metadata": {},
   "outputs": [
    {
     "data": {
      "text/html": [
       "<style scoped>\n",
       "  .table-result-container {\n",
       "    max-height: 300px;\n",
       "    overflow: auto;\n",
       "  }\n",
       "  table, th, td {\n",
       "    border: 1px solid black;\n",
       "    border-collapse: collapse;\n",
       "  }\n",
       "  th, td {\n",
       "    padding: 5px;\n",
       "  }\n",
       "  th {\n",
       "    text-align: left;\n",
       "  }\n",
       "</style><div class='table-result-container'><table class='table-result'><thead style='background-color: white'><tr><th>appid</th><th>categories</th><th>genre</th><th>initialprice</th><th>languages</th><th>name</th><th>negative_reviews</th><th>positive_reviews</th><th>price</th><th>release_date</th><th>owners</th><th>platforms</th><th>publisher</th><th>required_age</th><th>tags</th><th>type</th></tr></thead><tbody><tr><td>1003690</td><td>List(Multi-player, Single-player, Shared/Split Screen, Full controller support, Shared/Split Screen PvP, Remote Play Together, PvP)</td><td>Casual, Indie, Strategy</td><td>999</td><td>English</td><td>CrossTrix</td><td>0</td><td>1</td><td>999</td><td>2019/01/3</td><td>0 .. 20,000</td><td>[windows]</td><td></td><td>0</td><td>[Casual, Indie, Puzzle, Strategy]</td><td>game</td></tr><tr><td>1023410</td><td>List(Single-player)</td><td>Adventure</td><td>999</td><td>French, English</td><td>3 GEEKS - La version Gauloise pour les francophones !</td><td>3</td><td>13</td><td>999</td><td>2019/02/22</td><td>0 .. 20,000</td><td>[windows]</td><td></td><td>0</td><td>[2D, Adventure, Cartoony, Cute, Dark Comedy, Funny, Hand-drawn, Indie, Mouse only, Point & Click, Post-apocalyptic, Puzzle, Relaxing]</td><td>game</td></tr><tr><td>1096570</td><td>List(Single-player, Steam Achievements, Steam Cloud, Full controller support)</td><td>Adventure</td><td>2999</td><td>English, French, German, Spanish - Spain</td><td>SONG OF HORROR COMPLETE EDITION</td><td>215</td><td>992</td><td>1799</td><td>2019/10/31</td><td>100,000 .. 200,000</td><td>[windows]</td><td></td><td>0</td><td>[Action, Action-Adventure, Adventure, Atmospheric, Choices Matter, Cinematic, Dark, Exploration, Horror, Investigation, Lovecraftian, Mature, Psychological Horror, Replay Value, Singleplayer, Story Rich, Supernatural, Survival, Survival Horror, Third Person]</td><td>game</td></tr><tr><td>111300</td><td>List(Single-player, Partial Controller Support, Steam Achievements, Steam Cloud, Steam Leaderboards)</td><td>Action, Racing, Sports</td><td>999</td><td>English, Russian</td><td>Smash Cars</td><td>13</td><td>29</td><td>999</td><td>2011/10/18</td><td>0 .. 20,000</td><td>[windows]</td><td></td><td>0</td><td>[Action, Racing, Sports]</td><td>game</td></tr><tr><td>1117470</td><td>List(Single-player)</td><td>Casual, Indie</td><td>999</td><td>English</td><td>Seven Wonders of St. Clementine</td><td>8</td><td>1</td><td>99</td><td>2020/10/30</td><td>0 .. 20,000</td><td>[linux, mac, windows]</td><td></td><td>0</td><td>[2D, Anime, Casual, Choices Matter, Dark, Foreign, Gore, Hand-drawn, Horror, Indie, Interactive Fiction, Mature, Mystery, Nonlinear, Psychological Horror, Singleplayer, Story Rich, Supernatural, Violent, Visual Novel]</td><td>game</td></tr><tr><td>1167350</td><td>List(Single-player)</td><td>Action, Adventure, Casual, Indie</td><td>899</td><td>English</td><td>Skyous</td><td>2</td><td>0</td><td>899</td><td>2019/10/15</td><td>0 .. 20,000</td><td>[windows]</td><td></td><td>0</td><td>[Action, Adventure, Casual, Indie]</td><td>game</td></tr><tr><td>1248550</td><td>List(Single-player, Steam Achievements, Full controller support)</td><td>Action, Indie, Early Access</td><td>699</td><td>English, Japanese, Portuguese - Brazil, French, Italian, German, Spanish - Spain, Korean, Thai, Portuguese - Portugal</td><td>Breaking Gates</td><td>12</td><td>37</td><td>244</td><td>2020/11/17</td><td>0 .. 20,000</td><td>[windows]</td><td></td><td>0</td><td>[2D, 2D Platformer, Action, Anime, Colorful, Combat, Cute, Early Access, Exploration, Fantasy, Hack and Slash, Indie, Metroidvania, Platformer, Side Scroller, Singleplayer]</td><td>game</td></tr><tr><td>1268150</td><td>List(Multi-player, Single-player, Partial Controller Support, Online PvP, Remote Play Together, PvP)</td><td>Action, Adventure, Casual, Indie, Massively Multiplayer, Simulation, Strategy</td><td>199</td><td>English</td><td>Low Poly Forces</td><td>7</td><td>28</td><td>199</td><td>2020/06/22</td><td>0 .. 20,000</td><td>[windows]</td><td></td><td>0</td><td>[Action, Adventure, Casual, Free to Play, Indie, Massively Multiplayer, Simulation, Sports, Strategy]</td><td>game</td></tr><tr><td>1281400</td><td>List(Multi-player, Single-player, Co-op, Stats, Includes level editor, Steam Achievements, Steam Cloud, Shared/Split Screen, Steam Leaderboards, Full controller support, Steam Workshop, Shared/Split Screen Co-op, Remote Play Together)</td><td>Action, Casual, Indie, Early Access</td><td>1499</td><td>English, Simplified Chinese</td><td>Good Knight</td><td>1</td><td>76</td><td>1499</td><td>2021/09/17</td><td>20,000 .. 50,000</td><td>[linux, windows]</td><td></td><td>0</td><td>[Arcade, Bullet Hell, Casual, Co-op, Dark, Dark Comedy, Dark Fantasy, Dark Humor, Difficult, Early Access, Fast-Paced, Funny, Gothic, Mythology, Psychedelic, Psychological, Rhythm, Score Attack, Stylized, Top-Down Shooter]</td><td>game</td></tr><tr><td>12900</td><td>List(Single-player, Co-op, Steam Achievements, Full controller support)</td><td>Indie</td><td>999</td><td>English, Russian</td><td>AudioSurf</td><td>437</td><td>10082</td><td>999</td><td>2008/02/15</td><td>1,000,000 .. 2,000,000</td><td>[windows]</td><td></td><td>0</td><td>[Addictive, Arcade, Casual, Co-op, Colorful, Fast-Paced, Great Soundtrack, Indie, Local Co-Op, Local Multiplayer, Music, Music-Based Procedural Generation, Procedural Generation, Puzzle, Racing, Relaxing, Replay Value, Rhythm, Score Attack, Singleplayer]</td><td>game</td></tr><tr><td>1298520</td><td>List(Single-player)</td><td>Action, Adventure, Casual, Indie</td><td>1399</td><td>Spanish - Spain, English</td><td>Zac Zac adventure</td><td>1</td><td>0</td><td>1399</td><td>2020/06/9</td><td>0 .. 20,000</td><td>[windows]</td><td></td><td>0</td><td>[Action, Adventure, Arcade, Casual, Gore, Indie, Pixel Graphics, Retro, Violent]</td><td>game</td></tr><tr><td>1320500</td><td>List(Single-player)</td><td>Adventure, Casual, Indie, Simulation</td><td>599</td><td>German</td><td>Lauras Tierklinik</td><td>1</td><td>1</td><td>599</td><td>2020/08/6</td><td>0 .. 20,000</td><td>[windows]</td><td></td><td>0</td><td>[Adventure, Casual, Dog, Family Friendly, Horses, Indie, Simulation]</td><td>game</td></tr><tr><td>1320510</td><td>List(Single-player)</td><td>Adventure, Casual, Simulation</td><td>599</td><td>English, French, German, Dutch</td><td>Rider's World: I Want To Ride!</td><td>2</td><td>1</td><td>599</td><td>2020/07/31</td><td>0 .. 20,000</td><td>[windows]</td><td></td><td>0</td><td>[Adventure, Casual, Horses, Simulation]</td><td>game</td></tr><tr><td>1441850</td><td>List(Single-player)</td><td>Action, Adventure, Casual, Indie</td><td>99</td><td>English</td><td>The strangest game in the world</td><td>2</td><td>2</td><td>99</td><td>2020/11/25</td><td>0 .. 20,000</td><td>[windows]</td><td></td><td>0</td><td>[1990's, 2D Platformer, Action, Adventure, Arcade, Cartoony, Casual, Indie, PvE, Singleplayer]</td><td>game</td></tr><tr><td>1606640</td><td>List(Single-player, Steam Achievements)</td><td></td><td>0</td><td>English, French, Italian, German, Spanish - Spain</td><td>GrandMa Badass - Episode 1</td><td>0</td><td>24</td><td>0</td><td>2021/05/5</td><td>20,000 .. 50,000</td><td>[windows]</td><td></td><td>0</td><td>[2D, Adventure, Anime, Cartoon, Cartoony, Cats, Choose Your Own Adventure, Clicker, Colorful, Comedy, Comic Book, Cute, Dark Comedy, Detective, Drama, Hand-drawn, Investigation, Point & Click, Puzzle, Puzzle-Platformer]</td><td>game</td></tr><tr><td>1608400</td><td>List(Multi-player, Single-player, Co-op, Cross-Platform Multiplayer, Steam Workshop, Online Co-op)</td><td>Casual, Indie, Simulation</td><td>1999</td><td>English, French, Italian, German, Spanish - Spain, Japanese, Korean, Portuguese - Portugal, Portuguese - Brazil, Russian, Simplified Chinese, Spanish - Latin America</td><td>Vermillion - VR Painting</td><td>17</td><td>427</td><td>1999</td><td>2021/07/26</td><td>0 .. 20,000</td><td>[windows]</td><td></td><td>0</td><td>[3D, Atmospheric, Casual, Crafting, Design & Illustration, Education, Family Friendly, First-Person, Immersive Sim, Indie, Level Editor, Moddable, Realistic, Relaxing, Sandbox, Simulation, Singleplayer, Survival, Tutorial, VR, VR Only]</td><td>game</td></tr><tr><td>16300</td><td>List(Single-player, Partial Controller Support)</td><td>Indie, Casual</td><td>999</td><td>English</td><td>Everyday Shooter</td><td>7</td><td>96</td><td>999</td><td>2008/05/8</td><td>20,000 .. 50,000</td><td>[windows]</td><td></td><td>0</td><td>[Bullet Hell, Casual, Great Soundtrack, Indie, Music, Shoot 'Em Up, Shooter, Twin Stick Shooter]</td><td>game</td></tr><tr><td>19200</td><td>List(Single-player, Steam Achievements)</td><td>Action, Indie</td><td>499</td><td>English, Russian</td><td>Tank Universal</td><td>184</td><td>249</td><td>499</td><td>2008/08/21</td><td>50,000 .. 100,000</td><td>[windows]</td><td></td><td>0</td><td>[1980s, 3D, Action, Action-Adventure, Atmospheric, Choices Matter, Colorful, Exploration, FPS, First-Person, Old School, Retro, Sci-fi, Simulation, Singleplayer, Story Rich, Stylized, Tanks, Vehicular Combat, Wargame]</td><td>game</td></tr><tr><td>200910</td><td>List(Single-player, Steam Achievements, Steam Cloud, Full controller support, Steam Trading Cards)</td><td>Indie, RPG</td><td>499</td><td>English</td><td>Before the Echo</td><td>183</td><td>1191</td><td>499</td><td>2011/10/20</td><td>100,000 .. 200,000</td><td>[linux, mac, windows]</td><td></td><td>0</td><td>[Comedy, Experimental, Funny, Great Soundtrack, Indie, Kickstarter, Music, RPG, Rhythm, Singleplayer]</td><td>game</td></tr><tr><td>208730</td><td>List(Single-player, Steam Achievements, Full controller support, Remote Play on TV)</td><td>Action, RPG</td><td>1499</td><td>English, French, German, Spanish - Spain</td><td>Game of Thrones</td><td>627</td><td>1574</td><td>1499</td><td>2012/06/7</td><td>200,000 .. 500,000</td><td>[windows]</td><td></td><td>0</td><td>[Action, Action RPG, Adventure, Based On A Novel, Character Customization, Choices Matter, Controller, Dark Fantasy, Fantasy, Mature, Medieval, Multiple Endings, Nudity, Open World, RPG, Singleplayer, Story Rich, Third Person]</td><td>game</td></tr><tr><td>220660</td><td>List(Single-player, Steam Trading Cards)</td><td>Indie, Strategy</td><td>2999</td><td>English, German, French, Polish, Russian</td><td>StarDrive</td><td>802</td><td>633</td><td>2999</td><td>2013/04/26</td><td>200,000 .. 500,000</td><td>[windows]</td><td></td><td>0</td><td>[4X, Exploration, Indie, RTS, Real-Time, Sci-fi, Singleplayer, Space, Strategy]</td><td>game</td></tr><tr><td>237370</td><td>List(Steam Achievements)</td><td>Audio Production, Software Training, Utilities, Video Production</td><td>3999</td><td>English, Russian, French, Hungarian, Polish, Portuguese - Brazil, Korean, Simplified Chinese, Traditional Chinese</td><td>PlayClaw 5 - Game Recording and Streaming</td><td>118</td><td>289</td><td>3999</td><td>2013/09/10</td><td>0 .. 20,000</td><td>[windows]</td><td></td><td>0</td><td>[Audio Production, Software, Software Training, Utilities, Video Production]</td><td>game</td></tr><tr><td>238280</td><td>List(Multi-player, Single-player, Co-op, Steam Achievements, Shared/Split Screen, Full controller support, Steam Trading Cards, VR Support, Shared/Split Screen PvP, Shared/Split Screen Co-op, Remote Play Together, PvP)</td><td>Action, Indie, RPG</td><td>999</td><td>English</td><td>Legend of Dungeon</td><td>421</td><td>1170</td><td>999</td><td>2013/09/13</td><td>200,000 .. 500,000</td><td>[linux, mac, windows]</td><td></td><td>0</td><td>[4 Player Local, Action, Action Roguelike, Co-op, Difficult, Dungeon Crawler, Fantasy, Indie, Kickstarter, Local Co-Op, Local Multiplayer, Multiplayer, Perma Death, Pixel Graphics, Procedural Generation, RPG, Rogue-like, Rogue-lite, Singleplayer, VR]</td><td>game</td></tr><tr><td>245150</td><td>List(Single-player, Steam Cloud, Steam Trading Cards)</td><td>Adventure, Casual, Indie</td><td>499</td><td>English</td><td>The Novelist</td><td>251</td><td>749</td><td>499</td><td>2013/12/10</td><td>100,000 .. 200,000</td><td>[linux, mac, windows]</td><td></td><td>0</td><td>[Adventure, Atmospheric, Casual, Choices Matter, Drama, Exploration, First-Person, Indie, Short, Singleplayer, Stealth, Story Rich, Walking Simulator]</td><td>game</td></tr><tr><td>246360</td><td>List(Single-player)</td><td>Casual, Indie</td><td>299</td><td>English</td><td>Perfection.</td><td>40</td><td>26</td><td>299</td><td>2013/08/28</td><td>0 .. 20,000</td><td>[mac, windows]</td><td></td><td>0</td><td>[Casual, Indie, Puzzle]</td><td>game</td></tr><tr><td>247310</td><td>List(Single-player, Stats, Steam Achievements, Full controller support, Steam Trading Cards)</td><td>Early Access, Indie</td><td>499</td><td>English</td><td>Gravi</td><td>59</td><td>39</td><td>499</td><td>2013/10/8</td><td>20,000 .. 50,000</td><td>[windows]</td><td></td><td>0</td><td>[Early Access, Indie, Platformer, Puzzle]</td><td>game</td></tr><tr><td>247350</td><td>List(Multi-player, Co-op, Shared/Split Screen, Remote Play Together)</td><td>Action, Indie, Simulation</td><td>699</td><td>English</td><td>Artemis Spaceship Bridge Simulator</td><td>48</td><td>410</td><td>699</td><td>2013/09/16</td><td>50,000 .. 100,000</td><td>[windows]</td><td></td><td>0</td><td>[Action, Co-op, Indie, Local Co-Op, Multiplayer, Sci-fi, Simulation, Space, Space Sim]</td><td>game</td></tr><tr><td>248450</td><td>List(Single-player, Captions available, Stats, Steam Achievements, Full controller support)</td><td>Action, Indie, RPG, Simulation</td><td>1999</td><td>English, French, Russian, Hungarian, Dutch, Italian</td><td>Salvation Prophecy</td><td>77</td><td>148</td><td>1999</td><td>2013/10/7</td><td>50,000 .. 100,000</td><td>[linux, windows]</td><td></td><td>0</td><td>[Action, Indie, RPG, Sci-fi, Simulation, Singleplayer, Space, Third Person]</td><td>game</td></tr><tr><td>248730</td><td>List(Single-player, Stats, Steam Achievements, Steam Cloud, Steam Leaderboards, Full controller support, Remote Play on TV)</td><td>Action, Indie</td><td>699</td><td>English</td><td>A Walk in the Dark</td><td>73</td><td>304</td><td>699</td><td>2013/11/7</td><td>20,000 .. 50,000</td><td>[windows]</td><td></td><td>0</td><td>[2D, Action, Cats, Difficult, Great Soundtrack, Indie, Platformer]</td><td>game</td></tr><tr><td>253630</td><td>List(Single-player, Partial Controller Support, Steam Achievements, Steam Trading Cards)</td><td>Indie, RPG, Strategy</td><td>1999</td><td>English</td><td>Steam Marines</td><td>158</td><td>165</td><td>1999</td><td>2014/09/24</td><td>100,000 .. 200,000</td><td>[linux, mac, windows]</td><td></td><td>0</td><td>[2D, Difficult, Indie, Perma Death, Pixel Graphics, Procedural Generation, RPG, Rogue-like, Rogue-lite, Sci-fi, Singleplayer, Space, Steampunk, Strategy, Tactical, Turn-Based, Turn-Based Strategy]</td><td>game</td></tr><tr><td>2540</td><td>List(Multi-player, Single-player, Co-op)</td><td>Casual, Indie</td><td>499</td><td>English</td><td>RIP - Trilogy</td><td>150</td><td>218</td><td>499</td><td>2007/06/1</td><td>100,000 .. 200,000</td><td>[windows]</td><td></td><td>0</td><td>[2D, Action, Arcade, Casual, Co-op, Indie, Shoot 'Em Up, Shooter, Singleplayer, Top-Down, Top-Down Shooter]</td><td>game</td></tr><tr><td>255260</td><td>List(Multi-player, Single-player)</td><td>Simulation</td><td>999</td><td>English, French, Italian, German, Spanish - Spain, Portuguese - Portugal, Dutch, Polish, Portuguese - Brazil</td><td>Pro Cycling Manager 2014</td><td>88</td><td>178</td><td>999</td><td>2014/06/19</td><td>20,000 .. 50,000</td><td>[windows]</td><td></td><td>0</td><td>[Adventure, Cycling, Management, Simulation, Sports]</td><td>game</td></tr><tr><td>259780</td><td>List(Single-player, Partial Controller Support, Full controller support, Steam Trading Cards)</td><td>Action, Casual, Indie</td><td>499</td><td>English</td><td>Nimble Quest</td><td>66</td><td>661</td><td>499</td><td>2013/12/6</td><td>50,000 .. 100,000</td><td>[linux, mac, windows]</td><td></td><td>0</td><td>[Action, Arcade, Casual, Indie, Pixel Graphics, Singleplayer]</td><td>game</td></tr><tr><td>264140</td><td>List(Single-player, Steam Achievements, Steam Trading Cards)</td><td>Adventure, Indie, RPG, Simulation</td><td>999</td><td>English, French, German, Spanish - Spain, Finnish, Italian</td><td>Pixel Piracy</td><td>2514</td><td>4431</td><td>999</td><td>2014/07/31</td><td>200,000 .. 500,000</td><td>[linux, mac, windows]</td><td></td><td>0</td><td>[2D, Action, Action Roguelike, Adventure, Building, Crafting, Indie, Naval Combat, Open World, Pirates, Pixel Graphics, RPG, Rogue-like, Rogue-lite, Sandbox, Side Scroller, Simulation, Singleplayer, Strategy, Survival]</td><td>game</td></tr><tr><td>26500</td><td>List(Single-player, Steam Achievements)</td><td>Indie, Casual</td><td>599</td><td>English, French, German, Italian, Polish, Russian</td><td>Cogs</td><td>97</td><td>758</td><td>599</td><td>2009/04/14</td><td>200,000 .. 500,000</td><td>[linux, mac, windows]</td><td></td><td>0</td><td>[3D, Casual, Difficult, Family Friendly, Indie, Puzzle, Singleplayer, Steampunk]</td><td>game</td></tr><tr><td>280360</td><td>List(Single-player, Steam Achievements, Steam Cloud)</td><td>Adventure, Indie, RPG, Simulation, Strategy</td><td>999</td><td>English</td><td>Interstellaria</td><td>176</td><td>225</td><td>999</td><td>2015/07/17</td><td>100,000 .. 200,000</td><td>[linux, mac, windows]</td><td></td><td>0</td><td>[2D, Adventure, Colorful, Conversation, Diplomacy, Exploration, Funny, Indie, Interactive Fiction, Management, Pixel Graphics, Point & Click, RTS, Sci-fi, Soundtrack, Space, Space Sim, Strategy, Tactical, Trading]</td><td>game</td></tr><tr><td>285070</td><td>List(Single-player, Steam Achievements, Full controller support, Steam Trading Cards)</td><td>Action, Adventure, Indie</td><td>499</td><td>English, French, German, Spanish - Spain, Portuguese - Portugal, Russian, Italian</td><td>Between Me and The Night</td><td>184</td><td>614</td><td>499</td><td>2016/01/22</td><td>100,000 .. 200,000</td><td>[mac, windows]</td><td></td><td>0</td><td>[1990's, Adventure, Classic, Cult Classic, Great Soundtrack, Point & Click, Puzzle, Retro, Singleplayer]</td><td>game</td></tr><tr><td>311400</td><td>List(Single-player, Partial Controller Support)</td><td>Action, Casual, Indie, Racing, Simulation</td><td>199</td><td>English</td><td>OCEAN CITY RACING</td><td>450</td><td>245</td><td>199</td><td>2014/11/14</td><td>100,000 .. 200,000</td><td>[windows]</td><td></td><td>0</td><td>[Action, Automobile Sim, Casual, Driving, Indie, Multiplayer, Open World, Racing, Sandbox, Simulation]</td><td>game</td></tr><tr><td>312860</td><td>List()</td><td></td><td>599</td><td></td><td>Defense Grid 2: A Matter of Endurance</td><td>12</td><td>5</td><td>599</td><td>2014/09/22</td><td>0 .. 20,000</td><td>[windows]</td><td></td><td>0</td><td>[Tower Defense]</td><td>game</td></tr><tr><td>312960</td><td>List(Multi-player, Single-player, Co-op, Steam Achievements, Steam Trading Cards)</td><td>Action, Indie, Strategy</td><td>999</td><td>English</td><td>Starion Tactics</td><td>101</td><td>72</td><td>999</td><td>2014/09/5</td><td>50,000 .. 100,000</td><td>[windows]</td><td></td><td>0</td><td>[Action, Casual, Indie, Space, Strategy]</td><td>game</td></tr><tr><td>314450</td><td>List(Multi-player, Single-player, Steam Achievements, Steam Cloud, Shared/Split Screen, Full controller support, Steam Trading Cards, Remote Play Together)</td><td>Action, Indie, Strategy</td><td>199</td><td>English</td><td>Star Saviors</td><td>297</td><td>1377</td><td>199</td><td>2016/05/6</td><td>200,000 .. 500,000</td><td>[windows]</td><td></td><td>0</td><td>[2D, Action, Anime, Arcade, Atmospheric, Bullet Hell, Difficult, Gore, Great Soundtrack, Indie, Local Co-Op, Retro, Sandbox, Sci-fi, Shoot 'Em Up, Shooter, Singleplayer, Space, Story Rich, Strategy]</td><td>game</td></tr><tr><td>322550</td><td>List(Single-player, Steam Achievements, Steam Cloud, Steam Leaderboards, Full controller support, Remote Play on TV)</td><td>Action, Indie</td><td>999</td><td>English</td><td>StandPoint</td><td>8</td><td>15</td><td>999</td><td>2015/03/5</td><td>0 .. 20,000</td><td>[linux, mac, windows]</td><td></td><td>0</td><td>[Action, First-Person, Indie, Puzzle]</td><td>game</td></tr><tr><td>331610</td><td>List(Single-player)</td><td>Casual, Indie, Simulation</td><td>999</td><td>English</td><td>Movie Studio Boss: The Sequel</td><td>57</td><td>18</td><td>999</td><td>2014/12/17</td><td>0 .. 20,000</td><td>[mac, windows]</td><td></td><td>0</td><td>[Casual, Indie, Simulation]</td><td>game</td></tr><tr><td>331880</td><td>List(Single-player)</td><td>Casual, Simulation</td><td>999</td><td>English, French, Italian, German, Spanish - Spain</td><td>Truck Mechanic Simulator 2015</td><td>88</td><td>96</td><td>199</td><td>2015/05/1</td><td>20,000 .. 50,000</td><td>[windows]</td><td></td><td>0</td><td>[Automobile Sim, Casual, Simulation, Singleplayer]</td><td>game</td></tr><tr><td>333690</td><td>List(Single-player, Steam Trading Cards)</td><td>Adventure, Indie</td><td>399</td><td>English</td><td>Epanalepsis</td><td>9</td><td>22</td><td>399</td><td>2015/05/21</td><td>0 .. 20,000</td><td>[linux, mac, windows]</td><td></td><td>0</td><td>[Adventure, Cyberpunk, Indie, Point & Click, Time Travel]</td><td>game</td></tr><tr><td>338710</td><td>List(Single-player, Steam Trading Cards)</td><td>Casual, Indie, Strategy</td><td>999</td><td>English</td><td>Urja</td><td>85</td><td>89</td><td>999</td><td>2015/01/9</td><td>20,000 .. 50,000</td><td>[mac, windows]</td><td></td><td>0</td><td>[Abstract, Action, Arcade, Atmospheric, Casual, Chess, Difficult, FPS, Family Friendly, Fantasy, First-Person, Indie, Puzzle, Replay Value, Simulation, Strategy, Surreal]</td><td>game</td></tr><tr><td>339460</td><td>List(Single-player, Stats, Steam Achievements, Steam Cloud, Full controller support, Steam Trading Cards, Remote Play on TV)</td><td>Action, Adventure, Indie</td><td>1199</td><td>English</td><td>A Pixel Story</td><td>8</td><td>35</td><td>1199</td><td>2015/03/30</td><td>0 .. 20,000</td><td>[mac, windows]</td><td></td><td>0</td><td>[Action, Adventure, Indie, Pixel Graphics, Platformer, Puzzle-Platformer]</td><td>game</td></tr><tr><td>343780</td><td>List(Single-player, Steam Achievements, Steam Cloud, Steam Trading Cards)</td><td>Casual, Indie, Simulation</td><td>699</td><td>English</td><td>Cat Goes Fishing</td><td>440</td><td>7173</td><td>699</td><td>2015/01/19</td><td>200,000 .. 500,000</td><td>[windows]</td><td></td><td>0</td><td>[2D, Action, Adventure, Arcade, Casual, Cats, Cute, Difficult, Family Friendly, Fishing, Funny, Indie, Multiplayer, Psychological Horror, Puzzle, Relaxing, Simulation, Singleplayer, Underwater]</td><td>game</td></tr><tr><td>355150</td><td>List(Single-player, Partial Controller Support, Steam Trading Cards)</td><td>Adventure, Indie, Strategy</td><td>299</td><td>English</td><td>gravilon</td><td>501</td><td>757</td><td>299</td><td>2015/03/30</td><td>200,000 .. 500,000</td><td>[linux, mac, windows]</td><td></td><td>0</td><td>[2D, Adventure, Arcade, Atmospheric, Casual, Classic, Difficult, Exploration, Family Friendly, Fantasy, Great Soundtrack, Indie, Minimalist, Open World, Platformer, Puzzle, Sandbox, Singleplayer, Strategy, Third Person]</td><td>game</td></tr><tr><td>360520</td><td>List(Single-player)</td><td>Action, Casual, Indie</td><td>499</td><td>English</td><td>Hypt</td><td>10</td><td>32</td><td>499</td><td>2015/04/23</td><td>20,000 .. 50,000</td><td>[linux, mac, windows]</td><td></td><td>0</td><td>[Action, Casual, Indie]</td><td>game</td></tr><tr><td>363220</td><td>List(Single-player, Includes level editor, Partial Controller Support)</td><td>Action, Indie</td><td>499</td><td>English</td><td>Ghost in the Machine</td><td>7</td><td>13</td><td>499</td><td>2015/04/22</td><td>0 .. 20,000</td><td>[linux, mac, windows]</td><td></td><td>0</td><td>[Action, Difficult, Indie, Pixel Graphics, Platformer, Retro]</td><td>game</td></tr><tr><td>363900</td><td>List(Single-player, Steam Achievements)</td><td>Casual, Indie</td><td>299</td><td>English</td><td>Super Goo Goo</td><td>6</td><td>9</td><td>299</td><td>2015/04/16</td><td>0 .. 20,000</td><td>[mac, windows]</td><td></td><td>0</td><td>[Cartoony, Casual, Colorful, Great Soundtrack, Indie]</td><td>game</td></tr><tr><td>378490</td><td>List(Single-player)</td><td>Casual, Racing</td><td>199</td><td>English, German</td><td>Sunny Hillride</td><td>36</td><td>59</td><td>199</td><td>2016/02/1</td><td>20,000 .. 50,000</td><td>[windows]</td><td></td><td>0</td><td>[Casual, Racing]</td><td>game</td></tr><tr><td>378590</td><td>List(Single-player, Partial Controller Support)</td><td>Action, Adventure, Indie, Early Access</td><td>399</td><td>English</td><td>Forest Warrior</td><td>29</td><td>21</td><td>399</td><td>2015/06/25</td><td>0 .. 20,000</td><td>[windows]</td><td></td><td>0</td><td>[Action, Adventure, Early Access, Indie]</td><td>game</td></tr><tr><td>385770</td><td>List(Single-player, Steam Achievements)</td><td>Action, Casual, Free to Play, Indie</td><td>0</td><td>English</td><td>Time Clickers</td><td>563</td><td>4321</td><td>0</td><td>2015/07/23</td><td>500,000 .. 1,000,000</td><td>[linux, mac, windows]</td><td></td><td>0</td><td>[Action, Adventure, Casual, Clicker, FPS, First-Person, Free to Play, Idler, Indie, Multiplayer, Point & Click, RPG, Relaxing, Shooter, Simulation, Singleplayer, Strategy, Time Travel, Tower Defense, Voxel]</td><td>game</td></tr><tr><td>388080</td><td>List(Single-player, Steam Achievements, Steam Cloud, Steam Trading Cards)</td><td>Utilities</td><td>399</td><td>English, German, Russian, French, Simplified Chinese, Spanish - Spain, Korean, Polish, Traditional Chinese, Japanese, Ukrainian</td><td>Borderless Gaming</td><td>341</td><td>2523</td><td>399</td><td>2015/07/23</td><td>200,000 .. 500,000</td><td>[windows]</td><td></td><td>0</td><td>[Indie, Software, Utilities]</td><td>game</td></tr><tr><td>389810</td><td>List(Single-player, Steam Achievements, Steam Trading Cards)</td><td>Action, Indie, RPG</td><td>99</td><td>English</td><td>Rubber and Lead</td><td>48</td><td>47</td><td>99</td><td>2015/09/4</td><td>50,000 .. 100,000</td><td>[windows]</td><td></td><td>0</td><td>[Action, Driving, Indie, RPG, Racing, Shooter, Vehicular Combat]</td><td>game</td></tr><tr><td>397670</td><td>List(Single-player, Partial Controller Support)</td><td>Casual, Indie</td><td>199</td><td>English</td><td>Run Run And Die</td><td>25</td><td>14</td><td>199</td><td>2015/09/11</td><td>0 .. 20,000</td><td>[windows]</td><td></td><td>0</td><td>[Casual, Indie]</td><td>game</td></tr><tr><td>398210</td><td>List(Single-player)</td><td>Adventure, Indie</td><td>299</td><td>English</td><td>BlackShadows</td><td>135</td><td>28</td><td>299</td><td>2015/09/11</td><td>20,000 .. 50,000</td><td>[windows]</td><td></td><td>0</td><td>[Adventure, Horror, Indie]</td><td>game</td></tr><tr><td>403390</td><td>List(Single-player)</td><td>Adventure</td><td>999</td><td>English, French, German</td><td>Undercover Missions: Operation Kursk K-141</td><td>24</td><td>20</td><td>999</td><td>2015/12/11</td><td>0 .. 20,000</td><td>[windows]</td><td></td><td>0</td><td>[Adventure, Female Protagonist, Point & Click]</td><td>game</td></tr><tr><td>405590</td><td>List(Single-player, Steam Trading Cards)</td><td>Adventure, Indie</td><td>99</td><td>English, Spanish - Spain</td><td>Stone Tales</td><td>11</td><td>26</td><td>99</td><td>2015/12/11</td><td>0 .. 20,000</td><td>[windows]</td><td></td><td>0</td><td>[Adventure, Indie, Platformer]</td><td>game</td></tr><tr><td>405960</td><td>List(Single-player, Stats, Steam Achievements, Steam Leaderboards, Steam Trading Cards)</td><td>Action, Indie, RPG</td><td>999</td><td>English</td><td>Sunken</td><td>21</td><td>22</td><td>999</td><td>2016/05/26</td><td>0 .. 20,000</td><td>[linux, windows]</td><td></td><td>0</td><td>[Action, Crafting, Hack and Slash, Indie, Perma Death, RPG, Rogue-like]</td><td>game</td></tr><tr><td>40800</td><td>List(Single-player, Steam Achievements, Steam Leaderboards, Full controller support, Steam Trading Cards, Remote Play on Phone, Remote Play on Tablet, Remote Play on TV)</td><td>Indie</td><td>1499</td><td>English, Russian</td><td>Super Meat Boy</td><td>1568</td><td>28851</td><td>1499</td><td>2010/11/30</td><td>2,000,000 .. 5,000,000</td><td>[linux, mac, windows]</td><td></td><td>0</td><td>[2D, 2D Platformer, Action, Comedy, Controller, Difficult, Fast-Paced, Funny, Gore, Great Soundtrack, Indie, Pixel Graphics, Platformer, Precision Platformer, Replay Value, Retro, Side Scroller, Singleplayer, Time Attack, Unforgiving]</td><td>game</td></tr><tr><td>408920</td><td>List(Single-player, Steam Achievements)</td><td>Adventure, Indie, RPG</td><td>999</td><td>English, French, German, Polish</td><td>Krai Mira: Extended Cut</td><td>94</td><td>144</td><td>999</td><td>2016/07/11</td><td>20,000 .. 50,000</td><td>[windows]</td><td></td><td>0</td><td>[Adventure, Early Access, Indie, Isometric, Post-apocalyptic, RPG]</td><td>game</td></tr><tr><td>412250</td><td>List(Single-player, Steam Achievements, Steam Cloud, Steam Trading Cards)</td><td>Action, Indie, Simulation, Early Access</td><td>499</td><td>English</td><td>Empires Of Creation</td><td>15</td><td>15</td><td>499</td><td>2015/11/20</td><td>0 .. 20,000</td><td>[linux, mac, windows]</td><td></td><td>0</td><td>[Action, Early Access, Indie, Simulation]</td><td>game</td></tr><tr><td>424260</td><td>List(Single-player, Steam Achievements, Steam Trading Cards)</td><td>Action</td><td>699</td><td>English, Portuguese - Portugal, Russian</td><td>Feelings Adrift</td><td>31</td><td>53</td><td>699</td><td>2016/02/29</td><td>0 .. 20,000</td><td>[windows]</td><td></td><td>0</td><td>[Action, Horror]</td><td>game</td></tr><tr><td>429120</td><td>List(Multi-player, Single-player, Steam Achievements, Full controller support)</td><td>Action, Indie</td><td>199</td><td>English</td><td>Zamarian</td><td>10</td><td>24</td><td>199</td><td>2016/01/22</td><td>0 .. 20,000</td><td>[linux, mac, windows]</td><td></td><td>0</td><td>[Action, Arcade, Indie, Retro, Shoot 'Em Up]</td><td>game</td></tr><tr><td>431410</td><td>List(Single-player, Steam Achievements, Full controller support)</td><td>Action, Casual, Indie</td><td>499</td><td>English</td><td>Mazement</td><td>6</td><td>26</td><td>499</td><td>2016/03/7</td><td>0 .. 20,000</td><td>[linux, mac, windows]</td><td></td><td>0</td><td>[Action, Casual, Indie, Puzzle]</td><td>game</td></tr><tr><td>434340</td><td>List(Single-player, Stats, Steam Achievements, Steam Leaderboards, Full controller support)</td><td>Casual, Indie</td><td>399</td><td>English</td><td>Spheria</td><td>0</td><td>2</td><td>399</td><td>2016/04/1</td><td>0 .. 20,000</td><td>[windows]</td><td></td><td>0</td><td>[Casual, Indie]</td><td>game</td></tr><tr><td>434500</td><td>List(Single-player, Steam Trading Cards)</td><td>Action, Casual, Indie, Strategy</td><td>199</td><td>English</td><td>BATTLE PIXELS</td><td>28</td><td>37</td><td>199</td><td>2016/01/14</td><td>20,000 .. 50,000</td><td>[windows]</td><td></td><td>0</td><td>[2D, Action, Anime, Arcade, Casual, Classic, Clicker, Funny, Grand Strategy, Indie, Retro, Singleplayer, Strategy, Stylized, Survival, Tanks, War]</td><td>game</td></tr><tr><td>444740</td><td>List(Multi-player, Single-player, Partial Controller Support, Steam Trading Cards, Online PvP, PvP)</td><td>Action, Indie, Racing</td><td>999</td><td>English</td><td>Cologne</td><td>5</td><td>5</td><td>999</td><td>2016/03/10</td><td>0 .. 20,000</td><td>[windows]</td><td></td><td>0</td><td>[Action, Arcade, Colorful, Competitive, Futuristic, Indie, Racing, Sci-fi, Space]</td><td>game</td></tr><tr><td>447010</td><td>List(Single-player, Partial Controller Support, Steam Achievements, Steam Leaderboards, Steam Trading Cards)</td><td>Action, Adventure, Casual, Indie, Strategy</td><td>499</td><td>English</td><td>Bird of Light</td><td>3</td><td>21</td><td>499</td><td>2016/07/15</td><td>0 .. 20,000</td><td>[linux, mac, windows]</td><td></td><td>0</td><td>[Adventure, Casual, Indie, Puzzle, Strategy]</td><td>game</td></tr><tr><td>449310</td><td>List(Single-player, Steam Achievements, Steam Cloud, Full controller support)</td><td>Action, Indie</td><td>399</td><td>English</td><td>Spunk and Moxie</td><td>3</td><td>20</td><td>399</td><td>2016/05/6</td><td>0 .. 20,000</td><td>[windows]</td><td></td><td>0</td><td>[Action, Difficult, Family Friendly, Female Protagonist, Indie, Platformer, Puzzle-Platformer]</td><td>game</td></tr><tr><td>461870</td><td>List(Multi-player, Single-player, Co-op, Steam Achievements, Full controller support, Online Co-op)</td><td>Simulation</td><td>1799</td><td>English, German, French, Spanish - Spain, Polish</td><td>Police Simulator: Patrol Duty</td><td>1796</td><td>1955</td><td>1799</td><td>2019/06/18</td><td>100,000 .. 200,000</td><td>[windows]</td><td></td><td>0</td><td>[Action, Adventure, Co-op, Crime, Driving, Dystopian , Female Protagonist, First-Person, Multiplayer, Open World, Realistic, Simulation, Singleplayer, Villain Protagonist]</td><td>game</td></tr><tr><td>463870</td><td>List(Single-player, Steam Achievements, Steam Trading Cards)</td><td>Action, Indie, Early Access</td><td>499</td><td>English, Spanish - Spain</td><td>Deathwave</td><td>19</td><td>13</td><td>499</td><td>2016/06/9</td><td>0 .. 20,000</td><td>[windows]</td><td></td><td>0</td><td>[Action, Early Access, FPS, Indie]</td><td>game</td></tr><tr><td>476450</td><td>List(Single-player, Steam Achievements)</td><td>Indie</td><td>299</td><td>English</td><td>So Much Blood</td><td>18</td><td>25</td><td>299</td><td>2016/06/3</td><td>0 .. 20,000</td><td>[windows]</td><td></td><td>0</td><td>[Dungeon Crawler, Gore, Indie, Pixel Graphics, Procedural Generation, Shooter]</td><td>game</td></tr><tr><td>484870</td><td>List(Multi-player, Single-player, Co-op)</td><td>Action</td><td>199</td><td>English</td><td>Battle Dome</td><td>59</td><td>417</td><td>199</td><td>2017/06/8</td><td>50,000 .. 100,000</td><td>[windows]</td><td></td><td>0</td><td>[Action, FPS, Multiplayer, VR]</td><td>game</td></tr><tr><td>49330</td><td>List(Single-player, Steam Achievements)</td><td>Strategy</td><td>999</td><td>English, German</td><td>Pirates of Black Cove</td><td>56</td><td>101</td><td>999</td><td>2011/08/2</td><td>50,000 .. 100,000</td><td>[windows]</td><td></td><td>0</td><td>[Action, Pirates, RTS, Singleplayer, Strategy]</td><td>game</td></tr><tr><td>499450</td><td>List(Single-player, Steam Achievements, Steam Cloud, Full controller support, Steam Trading Cards)</td><td></td><td>0</td><td></td><td>The Witcher 3: Wild Hunt Game of the Year Edition</td><td>0</td><td>0</td><td>0</td><td>2016/08/29</td><td>0 .. 20,000</td><td>[windows]</td><td></td><td>0</td><td>[]</td><td>game</td></tr><tr><td>500470</td><td>List()</td><td>Animation & Modeling, Education, Early Access</td><td>999</td><td>English</td><td>Emergence ᵠ</td><td>3</td><td>38</td><td>999</td><td>2016/07/20</td><td>0 .. 20,000</td><td>[windows]</td><td></td><td>0</td><td>[Animation & Modeling, Early Access, Education, VR]</td><td>game</td></tr><tr><td>547410</td><td>List(Multi-player, Single-player, Partial Controller Support, MMO, Online PvP, PvP)</td><td>Massively Multiplayer, Racing, Simulation, Sports</td><td>1199</td><td>English, Russian</td><td>Peak Angle: Drift Online</td><td>337</td><td>541</td><td>1199</td><td>2016/11/24</td><td>50,000 .. 100,000</td><td>[windows]</td><td></td><td>0</td><td>[Automobile Sim, Driving, Free to Play, Massively Multiplayer, Multiplayer, Racing, Simulation, Sports]</td><td>game</td></tr><tr><td>555000</td><td>List(Multi-player, Steam Achievements, Steam Cloud, Online PvP, PvP)</td><td>Action, Early Access</td><td>999</td><td>English, French, Italian, German, Spanish - Spain, Polish, Portuguese - Brazil, Simplified Chinese, Turkish, Russian, Japanese</td><td>GOAT OF DUTY</td><td>470</td><td>3050</td><td>599</td><td>2019/07/10</td><td>100,000 .. 200,000</td><td>[windows]</td><td></td><td>0</td><td>[Action, Arena Shooter, Comedy, Dark Comedy, Dark Humor, Destruction, Early Access, FPS, Fast-Paced, First-Person, Funny, Memes, Multiplayer, Parkour, Parody , Physics, PvP, Sci-fi, Shooter, Violent]</td><td>game</td></tr><tr><td>586620</td><td>List(Single-player, Steam Trading Cards)</td><td>Casual, Indie</td><td>199</td><td>English</td><td>OR</td><td>104</td><td>57</td><td>199</td><td>2017/02/8</td><td>200,000 .. 500,000</td><td>[windows]</td><td></td><td>0</td><td>[Casual, Indie, Puzzle]</td><td>game</td></tr><tr><td>592330</td><td>List(Single-player, Steam Trading Cards)</td><td>Action, Casual, Sports</td><td>399</td><td>English</td><td>Roomscale Coaster</td><td>8</td><td>12</td><td>399</td><td>2017/03/1</td><td>0 .. 20,000</td><td>[windows]</td><td></td><td>0</td><td>[Action, Casual, Sports, VR]</td><td>game</td></tr><tr><td>608630</td><td>List(Single-player, Partial Controller Support, Steam Achievements, Steam Trading Cards)</td><td>Action, Adventure, Indie</td><td>199</td><td>English, Portuguese - Brazil, Russian, Ukrainian, French</td><td>PIXEL ZUMBI</td><td>7</td><td>28</td><td>199</td><td>2018/02/2</td><td>20,000 .. 50,000</td><td>[linux, windows]</td><td></td><td>0</td><td>[Action, Adventure, Indie, Zombies]</td><td>game</td></tr><tr><td>615490</td><td>List(Multi-player, Single-player, Co-op, Stats, Partial Controller Support, Steam Achievements, Shared/Split Screen, Steam Trading Cards, Shared/Split Screen PvP, Shared/Split Screen Co-op, Remote Play Together, PvP)</td><td>Sexual Content, Violent, Action, Casual, Indie</td><td>199</td><td>English</td><td>I'm Awesome</td><td>7</td><td>12</td><td>199</td><td>2017/06/7</td><td>0 .. 20,000</td><td>[windows]</td><td></td><td>0</td><td>[Action, Arcade, Beat 'em up, Casual, Co-op, Comedy, Competitive, Dark Humor, Funny, Indie, Local Multiplayer, Mature, Memes, Multiplayer, Sexual Content, Singleplayer, Survival, Violent]</td><td>game</td></tr><tr><td>628350</td><td>List(Single-player, Partial Controller Support)</td><td>Action, Adventure, Indie</td><td>699</td><td>English</td><td>Lazaretto</td><td>20</td><td>70</td><td>699</td><td>2017/05/19</td><td>0 .. 20,000</td><td>[mac, windows]</td><td></td><td>0</td><td>[Action, Adventure, Atmospheric, Classic, Dark, Exploration, First-Person, Gore, Horror, Indie, Jump Scare, Psychological, Psychological Horror, Puzzle, Singleplayer, Stealth, Story Rich, Survival, Survival Horror, Violent]</td><td>game</td></tr><tr><td>65300</td><td>List(Single-player, Partial Controller Support, Steam Achievements, Steam Cloud, Steam Leaderboards, Steam Trading Cards)</td><td>Action, Indie</td><td>999</td><td>English</td><td>Dustforce DX</td><td>264</td><td>1906</td><td>999</td><td>2012/01/17</td><td>200,000 .. 500,000</td><td>[linux, mac, windows]</td><td></td><td>0</td><td>[2D, 2D Platformer, 4 Player Local, Action, Atmospheric, Difficult, Fast-Paced, Great Soundtrack, Indie, Level Editor, Local Co-Op, Local Multiplayer, Parkour, Platformer, Precision Platformer, Score Attack, Side Scroller, Singleplayer, Stylized, Time Attack]</td><td>game</td></tr><tr><td>653940</td><td>List(Single-player, Steam Achievements, Steam Trading Cards)</td><td>Indie, RPG, Strategy</td><td>699</td><td>English</td><td>Zafehouse Diaries 2</td><td>30</td><td>86</td><td>699</td><td>2017/06/16</td><td>20,000 .. 50,000</td><td>[linux, mac, windows]</td><td></td><td>0</td><td>[Base-Building, Character Customization, Choices Matter, Crafting, Exploration, Horror, Management, Post-apocalyptic, Procedural Generation, Rogue-like, Simulation, Strategy, Survival, Survival Horror, Time Management, Turn-Based, Turn-Based Combat, Turn-Based Strategy, Turn-Based Tactics, Zombies]</td><td>game</td></tr><tr><td>670370</td><td>List(Single-player, Steam Achievements, Steam Cloud)</td><td>Indie</td><td>99</td><td>English, French, Italian, German, Spanish - Spain, Russian, Polish, Ukrainian, Finnish, Swedish</td><td>Fallen Cube</td><td>26</td><td>6</td><td>99</td><td>2017/07/14</td><td>0 .. 20,000</td><td>[windows]</td><td></td><td>0</td><td>[Indie, Puzzle]</td><td>game</td></tr><tr><td>671630</td><td>List(Single-player, Full controller support)</td><td>Action, Adventure, Indie</td><td>999</td><td>English</td><td>STRIPPER ANYA DEMON SLAYER</td><td>10</td><td>12</td><td>999</td><td>2017/07/31</td><td>0 .. 20,000</td><td>[windows]</td><td></td><td>0</td><td>[Action, Adventure, Comedy, Gore, Indie, Nudity, Sexual Content, Violent]</td><td>game</td></tr><tr><td>695920</td><td>List(Single-player, Partial Controller Support, Steam Achievements)</td><td>Adventure, Casual, RPG, Simulation, Strategy</td><td>1299</td><td>English, Italian, German, Spanish - Spain, Russian, Portuguese - Brazil, Simplified Chinese, French, Korean</td><td>Super Seducer : How to Talk to Girls</td><td>256</td><td>1307</td><td>1299</td><td>2018/03/6</td><td>200,000 .. 500,000</td><td>[mac, windows]</td><td></td><td>0</td><td>[Adventure, Choices Matter, Choose Your Own Adventure, Cinematic, Comedy, Dark Fantasy, Dating Sim, FMV, Female Protagonist, Immersive Sim, Interactive Fiction, Life Sim, Mature, Point & Click, RPG, Realistic, Sexual Content, Simulation, Singleplayer, Strategy]</td><td>game</td></tr><tr><td>705700</td><td>List(Multi-player, Single-player, Steam Cloud, Full controller support)</td><td>Action, Casual, Indie</td><td>999</td><td>English</td><td>Stripper Anya 2 X-MiGuFighters</td><td>10</td><td>9</td><td>999</td><td>2018/03/1</td><td>0 .. 20,000</td><td>[windows]</td><td></td><td>0</td><td>[Action, Casual, Comedy, Gore, Indie, Nudity, Sexual Content, Violent]</td><td>game</td></tr><tr><td>731560</td><td>List(Single-player)</td><td>Action, Casual, Indie</td><td>99</td><td>English</td><td>Boinks</td><td>2</td><td>42</td><td>99</td><td>2017/11/27</td><td>0 .. 20,000</td><td>[mac, windows]</td><td></td><td>0</td><td>[Action, Casual, Indie]</td><td>game</td></tr><tr><td>742010</td><td>List(Single-player, Partial Controller Support, Steam Achievements, Steam Leaderboards)</td><td>Action, Casual, Indie, Strategy</td><td>199</td><td>English</td><td>Lab 03 Yrinth</td><td>16</td><td>6</td><td>199</td><td>2017/11/17</td><td>0 .. 20,000</td><td>[linux, mac, windows]</td><td></td><td>0</td><td>[Action, Arcade, Atmospheric, Casual, Competitive, Difficult, Indie, Puzzle, Runner, Sci-fi, Singleplayer, Strategy]</td><td>game</td></tr><tr><td>749990</td><td>List(Single-player, Steam Achievements, Steam Leaderboards, Full controller support)</td><td>Action, Casual, Indie</td><td>99</td><td>English</td><td>Trigonometry</td><td>7</td><td>40</td><td>99</td><td>2017/11/24</td><td>0 .. 20,000</td><td>[linux, mac, windows]</td><td></td><td>0</td><td>[2D, Action, Arcade, Atmospheric, Casual, Difficult, Indie, Minimalist, Runner, Singleplayer]</td><td>game</td></tr><tr><td>752710</td><td>List(Single-player, Partial Controller Support, Steam Achievements, Steam Leaderboards)</td><td>Action, Casual, Indie, Racing</td><td>99</td><td>English</td><td>Infinity Trip</td><td>10</td><td>10</td><td>99</td><td>2017/12/8</td><td>0 .. 20,000</td><td>[linux, mac, windows]</td><td></td><td>0</td><td>[2D, Action, Arcade, Atmospheric, Casual, Competitive, Difficult, Indie, Minimalist, Racing, Singleplayer, Space]</td><td>game</td></tr><tr><td>761100</td><td>List(Single-player, Partial Controller Support, Steam Achievements, Steam Leaderboards)</td><td>Action, Casual, Indie</td><td>99</td><td>English</td><td>Jump! Jump! Jump!</td><td>11</td><td>7</td><td>99</td><td>2017/12/28</td><td>0 .. 20,000</td><td>[linux, mac, windows]</td><td></td><td>0</td><td>[2D, Action, Arcade, Atmospheric, Casual, Indie, Minimalist, Runner, Singleplayer]</td><td>game</td></tr><tr><td>761130</td><td>List(Multi-player, Single-player, Co-op, Partial Controller Support, Steam Achievements, Shared/Split Screen, Steam Leaderboards, Shared/Split Screen Co-op, Remote Play Together)</td><td>Action, Casual, Indie</td><td>199</td><td>English</td><td>Stellar Warrior</td><td>9</td><td>1</td><td>199</td><td>2018/02/1</td><td>0 .. 20,000</td><td>[linux, mac, windows]</td><td></td><td>0</td><td>[Action, Casual, Indie]</td><td>game</td></tr><tr><td>775720</td><td>List(Single-player, Steam Achievements, Steam Leaderboards)</td><td>Casual, Indie</td><td>99</td><td>English</td><td>Lozenge</td><td>6</td><td>21</td><td>99</td><td>2018/03/2</td><td>0 .. 20,000</td><td>[linux, mac, windows]</td><td></td><td>0</td><td>[2D, Atmospheric, Casual, Difficult, Indie, Minimalist, Puzzle, Singleplayer]</td><td>game</td></tr><tr><td>775730</td><td>List(Single-player, Partial Controller Support, Steam Achievements, Steam Leaderboards)</td><td>Casual, Indie</td><td>99</td><td>English</td><td>Dialing</td><td>3</td><td>24</td><td>99</td><td>2018/03/2</td><td>0 .. 20,000</td><td>[linux, mac, windows]</td><td></td><td>0</td><td>[2D, Atmospheric, Casual, Difficult, Indie, Minimalist, Puzzle, Singleplayer]</td><td>game</td></tr><tr><td>800330</td><td>List(Single-player, Partial Controller Support, Steam Achievements, Steam Leaderboards)</td><td>Action, Casual, Indie</td><td>99</td><td>English</td><td>Color Circle</td><td>4</td><td>18</td><td>99</td><td>2018/03/30</td><td>0 .. 20,000</td><td>[linux, mac, windows]</td><td></td><td>0</td><td>[2D, Action, Arcade, Casual, Difficult, Indie, Minimalist, Puzzle, Singleplayer]</td><td>game</td></tr><tr><td>810610</td><td>List(Single-player)</td><td>Action, Casual, Indie</td><td>299</td><td>English</td><td>Mission Of Hero</td><td>20</td><td>13</td><td>299</td><td>2018/03/9</td><td>0 .. 20,000</td><td>[windows]</td><td></td><td>0</td><td>[Action, Atmospheric, Casual, Difficult, Gore, Indie, Minimalist, Shooter, Singleplayer]</td><td>game</td></tr><tr><td>810680</td><td>List(Single-player)</td><td>Action, Casual, Indie</td><td>199</td><td>English</td><td>Zombie Murder</td><td>13</td><td>13</td><td>199</td><td>2018/03/12</td><td>0 .. 20,000</td><td>[windows]</td><td></td><td>0</td><td>[Action, Arcade, Atmospheric, Casual, Dark, Gore, Great Soundtrack, Horror, Indie, Minimalist, Retro, Shooter, Singleplayer, Zombies]</td><td>game</td></tr><tr><td>810740</td><td>List(Single-player)</td><td>Action, Adventure, Casual, Indie</td><td>299</td><td>English</td><td>Turtle Lu</td><td>10</td><td>5</td><td>299</td><td>2018/03/22</td><td>20,000 .. 50,000</td><td>[windows]</td><td></td><td>0</td><td>[2D, Action, Adventure, Arcade, Atmospheric, Casual, Indie, Minimalist, Platformer, Retro, Singleplayer]</td><td>game</td></tr><tr><td>812860</td><td>List(Single-player, Partial Controller Support, Steam Achievements, Steam Leaderboards)</td><td>Action, Casual, Indie</td><td>99</td><td>English</td><td>Genius Calculator</td><td>22</td><td>14</td><td>99</td><td>2018/03/23</td><td>0 .. 20,000</td><td>[linux, mac, windows]</td><td></td><td>0</td><td>[2D, Action, Arcade, Casual, Difficult, Indie, Minimalist, Puzzle, Singleplayer]</td><td>game</td></tr><tr><td>813350</td><td>List(Single-player, Steam Achievements)</td><td></td><td>0</td><td></td><td>Ben 10 VR</td><td>0</td><td>0</td><td>0</td><td>2018/03/29</td><td>0 .. 20,000</td><td>[windows]</td><td></td><td>0</td><td>[]</td><td>game</td></tr><tr><td>815010</td><td>List(Single-player, Stats, Steam Achievements, Steam Leaderboards)</td><td>Casual, Indie</td><td>799</td><td>English</td><td>Relaxicon</td><td>1</td><td>16</td><td>799</td><td>2018/03/19</td><td>0 .. 20,000</td><td>[linux, mac, windows]</td><td></td><td>0</td><td>[2D, Ambient, Atmospheric, Casual, Education, Family Friendly, Great Soundtrack, Indie, Logic, Minimalist, Music, Physics, Puzzle, Relaxing, Singleplayer, Soundtrack, Spelling, Top-Down, Word Game]</td><td>game</td></tr><tr><td>819040</td><td>List(Single-player, Steam Cloud)</td><td>Casual, Indie</td><td>399</td><td>English, Simplified Chinese</td><td>Ashi: Lake of Light</td><td>2</td><td>38</td><td>399</td><td>2018/07/5</td><td>0 .. 20,000</td><td>[mac, windows]</td><td></td><td>0</td><td>[Abstract, Atmospheric, Casual, Colorful, Experimental, Family Friendly, Flight, Indie, Logic, Magic, Minimalist, Psychedelic, Puzzle, Relaxing, Silent Protagonist, Singleplayer, Stylized, Top-Down]</td><td>game</td></tr><tr><td>826550</td><td>List(Single-player)</td><td>Action, Adventure, Casual, Indie, Racing, Simulation, Sports</td><td>399</td><td>English</td><td>Golf Cart Drive</td><td>0</td><td>1</td><td>399</td><td>2018/04/2</td><td>0 .. 20,000</td><td>[windows]</td><td></td><td>0</td><td>[Action, Adventure, Casual, Indie, Racing, Simulation, Sports]</td><td>game</td></tr><tr><td>831350</td><td>List(Single-player)</td><td>Adventure, Casual, Indie, Simulation, Sports</td><td>499</td><td>English</td><td>Hovercraft Drive</td><td>1</td><td>0</td><td>499</td><td>2018/04/6</td><td>0 .. 20,000</td><td>[windows]</td><td></td><td>0</td><td>[3D, 3D Platformer, Action-Adventure, Adventure, Arcade, Casual, Driving, Indie, Minimalist, Modern, Nonlinear, Old School, Open World, Rogue-like, Sailing, Side Scroller, Simulation, Singleplayer, Sports, Transportation]</td><td>game</td></tr><tr><td>841950</td><td>List(Single-player, Steam Achievements, Steam Leaderboards, Full controller support)</td><td>Action, Indie</td><td>799</td><td>English</td><td>Echoes III</td><td>5</td><td>13</td><td>799</td><td>2018/09/5</td><td>0 .. 20,000</td><td>[windows]</td><td></td><td>0</td><td>[Action, Indie, Shoot 'Em Up, Shooter]</td><td>game</td></tr><tr><td>842520</td><td>List(Single-player)</td><td>Action, Adventure, Casual, Indie</td><td>199</td><td>English</td><td>Neon Void Runner</td><td>10</td><td>6</td><td>199</td><td>2018/04/23</td><td>0 .. 20,000</td><td>[windows]</td><td></td><td>0</td><td>[2D, Action, Adventure, Arcade, Atmospheric, Casual, Indie, Minimalist, Retro, Runner, Sci-fi, Singleplayer]</td><td>game</td></tr><tr><td>842530</td><td>List(Single-player)</td><td>Action, Casual, Indie, Racing</td><td>99</td><td>English</td><td>Police Patrol</td><td>38</td><td>11</td><td>99</td><td>2018/04/23</td><td>20,000 .. 50,000</td><td>[windows]</td><td></td><td>0</td><td>[Action, Arcade, Casual, Indie, Racing, Singleplayer]</td><td>game</td></tr><tr><td>842560</td><td>List(Single-player)</td><td>Action, Casual, Indie</td><td>299</td><td>English</td><td>War Hunter</td><td>36</td><td>6</td><td>299</td><td>2018/04/24</td><td>0 .. 20,000</td><td>[windows]</td><td></td><td>0</td><td>[Action, Atmospheric, Casual, Difficult, FPS, Indie, Shooter, Singleplayer, War]</td><td>game</td></tr><tr><td>842590</td><td>List(Single-player)</td><td>Action, Adventure, Casual, Indie</td><td>99</td><td>English</td><td>Knight Fighter</td><td>16</td><td>6</td><td>99</td><td>2018/04/24</td><td>20,000 .. 50,000</td><td>[windows]</td><td></td><td>0</td><td>[2D, Action, Adventure, Arcade, Atmospheric, Casual, Indie, Medieval, Minimalist, Platformer, Retro, Singleplayer]</td><td>game</td></tr><tr><td>842620</td><td>List(Single-player)</td><td>Action, Adventure, Casual, Indie</td><td>199</td><td>English</td><td>Funny Yo</td><td>8</td><td>1</td><td>199</td><td>2018/04/25</td><td>0 .. 20,000</td><td>[windows]</td><td></td><td>0</td><td>[2D, Action, Adventure, Arcade, Atmospheric, Casual, Indie, Minimalist, Platformer, Retro, Singleplayer]</td><td>game</td></tr><tr><td>843790</td><td>List(Single-player)</td><td>Casual, Indie, Simulation, Strategy, Early Access</td><td>399</td><td>Simplified Chinese</td><td>HUMAN LIVE-HOW LONG CAN HUMAN BEINGS EXIST?人类能生存多久？挑战各种灾难，地球世界末日，冒险策略模拟经营游戏</td><td>12</td><td>11</td><td>399</td><td>2018/09/30</td><td>0 .. 20,000</td><td>[windows]</td><td></td><td>0</td><td>[Casual, Early Access, Indie, Simulation, Strategy]</td><td>game</td></tr><tr><td>847590</td><td>List(Single-player)</td><td>Action, Adventure, Indie</td><td>199</td><td>English</td><td>Sword of the Black Stone</td><td>4</td><td>13</td><td>199</td><td>2018/05/24</td><td>0 .. 20,000</td><td>[windows]</td><td></td><td>0</td><td>[Action, Adventure, Indie]</td><td>game</td></tr><tr><td>863570</td><td>List(Single-player, Partial Controller Support, Steam Achievements)</td><td>Adventure, Casual, RPG, Simulation, Strategy</td><td>1299</td><td>English, French, Italian, Russian, Simplified Chinese, Spanish - Spain, German, Portuguese - Brazil, Korean, Turkish</td><td>Super Seducer 2 - Advanced Seduction Tactics</td><td>252</td><td>1234</td><td>1299</td><td>2018/09/13</td><td>200,000 .. 500,000</td><td>[mac, windows]</td><td></td><td>0</td><td>[Adventure, Choices Matter, Cinematic, Comedy, Dating Sim, Education, FMV, Female Protagonist, Funny, Illuminati, Immersive Sim, Interactive Fiction, Mature, Memes, Point & Click, Realistic, Sexual Content, Simulation, Singleplayer, Surreal]</td><td>game</td></tr><tr><td>871810</td><td>List(Single-player, Steam Achievements, Full controller support)</td><td>Indie</td><td>599</td><td>English, French, Italian, German, Russian, Japanese, Simplified Chinese, Portuguese - Brazil, Spanish - Spain</td><td>Blackout</td><td>44</td><td>39</td><td>599</td><td>2019/04/23</td><td>0 .. 20,000</td><td>[windows]</td><td></td><td>0</td><td>[Action, Adventure, Dark, First-Person, Gore, Horror, Indie, Mature, Mystery, Psychological Horror, Singleplayer, Story Rich, Survival, Survival Horror]</td><td>game</td></tr><tr><td>878950</td><td>List(Single-player, Partial Controller Support)</td><td>Adventure, Indie</td><td>199</td><td>English</td><td>_dive</td><td>27</td><td>52</td><td>199</td><td>2018/07/5</td><td>0 .. 20,000</td><td>[windows]</td><td></td><td>0</td><td>[Adventure, Horror, Indie, Psychological Horror]</td><td>game</td></tr><tr><td>889530</td><td>List(Single-player, Includes level editor, Steam Achievements, Steam Cloud)</td><td>Action, Indie</td><td>0</td><td>English</td><td>Sharp</td><td>6</td><td>10</td><td>0</td><td>2018/09/1</td><td>50,000 .. 100,000</td><td>[windows]</td><td></td><td>0</td><td>[2D, Abstract, Action, Co-op, Free to Play, Grid-Based Movement, Indie, Level Editor, Linear, Minimalist, Puzzle, Retro, Singleplayer, Survival Horror, Top-Down]</td><td>game</td></tr><tr><td>897410</td><td>List(Single-player, Steam Achievements, Steam Cloud, Full controller support)</td><td>Indie, RPG, Simulation, Sports, Strategy</td><td>1999</td><td>English, Spanish - Spain, French, German, Spanish - Latin America</td><td>Esports Life Tycoon</td><td>178</td><td>310</td><td>1199</td><td>2020/09/3</td><td>50,000 .. 100,000</td><td>[mac, windows]</td><td></td><td>0</td><td>[Building, Cartoon, Cartoony, Casual, Character Customization, Comedy, Economy, Family Friendly, Funny, Life Sim, MOBA, Management, Resource Management, Sandbox, Simulation, Singleplayer, Sports, Strategy, Time Management, e-sports]</td><td>game</td></tr><tr><td>898460</td><td>List(Single-player, Steam Achievements, Full controller support)</td><td>Action, Indie, Early Access</td><td>499</td><td>English, French, Italian, German, Spanish - Spain, Arabic, Czech, Danish, Greek, Japanese, Portuguese - Portugal, Russian, Simplified Chinese, Swedish, Traditional Chinese</td><td>Outback Survival</td><td>21</td><td>36</td><td>499</td><td>2018/09/19</td><td>0 .. 20,000</td><td>[windows]</td><td></td><td>0</td><td>[Action, Crafting, Early Access, Indie, Open World, Open World Survival Craft, Post-apocalyptic, Survival, Violent]</td><td>game</td></tr><tr><td>907920</td><td>List(Single-player)</td><td>Adventure, Casual, Indie, RPG</td><td>99</td><td>Simplified Chinese, English, Japanese</td><td>建筑大冒险 Architectural Adventure</td><td>1</td><td>0</td><td>99</td><td>2018/08/14</td><td>20,000 .. 50,000</td><td>[windows]</td><td></td><td>0</td><td>[Adventure, Casual, Indie, RPG]</td><td>game</td></tr><tr><td>910290</td><td>List(Single-player)</td><td>Action, Adventure, Casual, Indie</td><td>499</td><td>English</td><td>CRACKPOT DESPOT: TRUMP WARFARE</td><td>2</td><td>1</td><td>499</td><td>2018/08/27</td><td>0 .. 20,000</td><td>[windows]</td><td></td><td>0</td><td>[Action, Adventure, Casual, Indie]</td><td>game</td></tr><tr><td>938660</td><td>List(Multi-player, Partial Controller Support, Shared/Split Screen, Shared/Split Screen PvP, Remote Play Together, PvP)</td><td>Action, Casual, Indie</td><td>0</td><td>English</td><td>Achtung die Kugel!</td><td>7</td><td>5</td><td>0</td><td>2018/10/11</td><td>0 .. 20,000</td><td>[windows]</td><td></td><td>0</td><td>[Action, Casual, Free to Play, Indie]</td><td>game</td></tr><tr><td>949330</td><td>List(Multi-player, Single-player, Co-op, Online PvP, Online Co-op, PvP)</td><td>Action, Indie, Massively Multiplayer, RPG, Early Access</td><td>799</td><td>English, Portuguese - Brazil, Spanish - Spain, Portuguese - Portugal, Traditional Chinese, Greek, Japanese, Russian</td><td>Magicae Mundi</td><td>2</td><td>5</td><td>799</td><td>2018/10/17</td><td>0 .. 20,000</td><td>[linux, mac, windows]</td><td></td><td>0</td><td>[Action, Adventure, Battle Royale, Early Access, Fantasy, Indie, Massively Multiplayer, RPG]</td><td>game</td></tr><tr><td>98300</td><td>List(Single-player, Partial Controller Support, Steam Achievements, Steam Cloud, Steam Leaderboards)</td><td>Action, Casual, Simulation, Strategy</td><td>999</td><td>English, German, French, Italian, Korean, Spanish - Spain, Traditional Chinese, Japanese</td><td>Toy Soldiers</td><td>135</td><td>1218</td><td>999</td><td>2012/04/27</td><td>100,000 .. 200,000</td><td>[windows]</td><td></td><td>0</td><td>[Action, Casual, Historical, Multiplayer, Simulation, Singleplayer, Strategy, Tower Defense, War, World War I, World War II]</td><td>game</td></tr><tr><td>992330</td><td>List(Single-player, Captions available, Steam Achievements)</td><td>Adventure, Indie</td><td>699</td><td>English, French, German, Spanish - Spain, Japanese, Korean, Russian, Simplified Chinese, Traditional Chinese</td><td>Nightmare (Incubo)</td><td>40</td><td>162</td><td>699</td><td>2019/01/31</td><td>0 .. 20,000</td><td>[windows]</td><td></td><td>0</td><td>[2D, Adventure, Anime, Gore, Great Soundtrack, Horror, Indie, Platformer, Puzzle, Puzzle-Platformer, Singleplayer, Story Rich, Violent]</td><td>game</td></tr><tr><td>998950</td><td>List(Single-player)</td><td>Action, Casual, Indie</td><td>499</td><td>English</td><td>Rhythm Nights</td><td>2</td><td>0</td><td>499</td><td>2019/12/12</td><td>0 .. 20,000</td><td>[windows]</td><td></td><td>0</td><td>[Action, Beautiful, Casual, Family Friendly, Great Soundtrack, Indie, Music, Rhythm, Singleplayer, VR, VR Only]</td><td>game</td></tr></tbody></table></div>"
      ]
     },
     "metadata": {},
     "output_type": "display_data"
    }
   ],
   "source": [
    "data_df_flattened.filter(F.col(\"publisher\") == \"\").display()\n",
    "\n",
    "# I decided to leave these rows in because they are fine otherwise, and because they don't prevent me from performing the analyses I need"
   ]
  },
  {
   "cell_type": "code",
   "execution_count": null,
   "metadata": {},
   "outputs": [
    {
     "data": {
      "text/html": [
       "<style scoped>\n",
       "  .table-result-container {\n",
       "    max-height: 300px;\n",
       "    overflow: auto;\n",
       "  }\n",
       "  table, th, td {\n",
       "    border: 1px solid black;\n",
       "    border-collapse: collapse;\n",
       "  }\n",
       "  th, td {\n",
       "    padding: 5px;\n",
       "  }\n",
       "  th {\n",
       "    text-align: left;\n",
       "  }\n",
       "</style><div class='table-result-container'><table class='table-result'><thead style='background-color: white'><tr><th>appid</th><th>categories</th><th>genre</th><th>initialprice</th><th>languages</th><th>name</th><th>negative_reviews</th><th>positive_reviews</th><th>price</th><th>release_date</th><th>owners</th><th>platforms</th><th>publisher</th><th>required_age</th><th>tags</th><th>type</th></tr></thead><tbody><tr><td>102500</td><td>List(Single-player, Partial Controller Support, Steam Achievements, Steam Cloud, Remote Play on Tablet)</td><td>Action, RPG</td><td>0</td><td>English, French, German, Italian, Spanish - Spain</td><td>Kingdoms of Amalur: Reckoning</td><td>1492</td><td>11184</td><td>0</td><td></td><td>2,000,000 .. 5,000,000</td><td>[windows]</td><td>38 Studios, Electronic Arts</td><td>15</td><td>[Action, Action RPG, Adventure, Atmospheric, Character Customization, Controller, Crafting, Exploration, Fantasy, Female Protagonist, Great Soundtrack, Hack and Slash, Loot, Magic, Open World, RPG, Sandbox, Singleplayer, Story Rich, Third Person]</td><td>game</td></tr><tr><td>1075950</td><td>List(Multi-player, Single-player, Full controller support, Online PvP, PvP)</td><td>Action, Strategy</td><td>0</td><td>English</td><td>Disintegration Technical Beta</td><td>342</td><td>1144</td><td>0</td><td></td><td>0 .. 20,000</td><td>[windows]</td><td>Private Division</td><td>0</td><td>[Action, FPS, RTS, Strategy]</td><td>game</td></tr><tr><td>1173590</td><td>List(Multi-player, Single-player, Co-op, Shared/Split Screen, Shared/Split Screen PvP, Shared/Split Screen Co-op, Remote Play Together, PvP)</td><td>Free to Play, Indie, Strategy</td><td>0</td><td>English</td><td>Dominus Galaxia: KS Edition</td><td>31</td><td>162</td><td>0</td><td></td><td>0 .. 20,000</td><td>[linux, mac, windows]</td><td>StarChart-Interactive</td><td>0</td><td>[4X, Free to Play, Indie, Space, Strategy]</td><td>game</td></tr><tr><td>1269260</td><td>List(Multi-player, Single-player, Online PvP, PvP)</td><td>Strategy</td><td>0</td><td>English, French, Italian, German, Spanish - Spain, Japanese, Korean, Polish, Portuguese - Brazil, Russian, Simplified Chinese, Spanish - Latin America, Thai, Traditional Chinese, Turkish</td><td>Artifact Foundry</td><td>306</td><td>379</td><td>0</td><td></td><td>0 .. 20,000</td><td>[linux, mac, windows]</td><td>Valve</td><td>0</td><td>[Board Game, Card Game, Free to Play, Hand-drawn, Multiplayer, Puzzle, Singleplayer, Strategy, Top-Down]</td><td>game</td></tr><tr><td>1321650</td><td>List(Single-player, Steam Achievements, Full controller support)</td><td>Action, Adventure, Indie</td><td>0</td><td>English</td><td>Rocket Ghost Aidan 2</td><td>0</td><td>14</td><td>0</td><td></td><td>0 .. 20,000</td><td>[windows]</td><td>Bobby Schwind</td><td>0</td><td>[2D, 2D Platformer, Action, Action-Adventure, Adventure, Arcade, Cartoony, Character Customization, Colorful, Cute, Exploration, Indie, Platformer, Precision Platformer, Retro, Singleplayer]</td><td>game</td></tr><tr><td>1402480</td><td>List(Multi-player, Online PvP, PvP)</td><td>Action, Adventure</td><td>0</td><td>English, Japanese, Simplified Chinese, Traditional Chinese, Korean</td><td>NARAKA: BLADEPOINT / 永劫無間 - Test Server</td><td>22</td><td>100</td><td>0</td><td></td><td>0 .. 20,000</td><td>[windows]</td><td>24 Entertainment</td><td>0</td><td>[Action, Adventure, Co-op, Gore, Online Co-Op, PvP, Violent]</td><td>game</td></tr><tr><td>15540</td><td>List(Single-player, Steam Achievements, Steam Trading Cards)</td><td>Action, Indie, Early Access</td><td>0</td><td>English</td><td>1... 2... 3... KICK IT! (Drop That Beat Like an Ugly Baby)</td><td>383</td><td>151</td><td>0</td><td></td><td>50,000 .. 100,000</td><td>[windows]</td><td>Dejobaan Games, LLC</td><td>0</td><td>[Action, Early Access, Indie, Music, Music-Based Procedural Generation, Procedural Generation, Rhythm, Singleplayer]</td><td>game</td></tr><tr><td>201830</td><td>List(Single-player, Partial Controller Support, Steam Achievements)</td><td>Adventure</td><td>0</td><td>English, French, German</td><td>Jurassic Park: The Game</td><td>638</td><td>1313</td><td>0</td><td></td><td>200,000 .. 500,000</td><td>[mac, windows]</td><td>Telltale Games</td><td>0</td><td>[Action, Adventure, Atmospheric, Choices Matter, Dinosaurs, Episodic, Female Protagonist, Horror, Movie, Point & Click, Quick-Time Events, Sci-fi, Singleplayer, Story Rich, Survival]</td><td>game</td></tr><tr><td>202170</td><td>List(Single-player, Steam Achievements, Full controller support, Steam Trading Cards)</td><td>Action, Adventure</td><td>0</td><td>English, French, German, Italian, Spanish - Spain, Russian, Polish</td><td>Sleeping Dogs</td><td>922</td><td>15808</td><td>0</td><td></td><td>2,000,000 .. 5,000,000</td><td>[windows]</td><td>Square Enix</td><td>15</td><td>[Action, Adventure, Atmospheric, Automobile Sim, Crime, Driving, Fighting, Great Soundtrack, Martial Arts, Multiplayer, Open World, Parkour, RPG, Sandbox, Shooter, Singleplayer, Story Rich, Third Person, Third-Person Shooter, Violent]</td><td>game</td></tr><tr><td>203680</td><td>List(Multi-player, Single-player, Co-op, Partial Controller Support, Steam Achievements, Steam Cloud, Shared/Split Screen, Remote Play Together)</td><td>Racing</td><td>0</td><td>English, German, French, Italian, Spanish - Spain, Japanese, Polish, Portuguese - Brazil</td><td>F1 RACE STARS</td><td>395</td><td>1439</td><td>0</td><td></td><td>500,000 .. 1,000,000</td><td>[windows]</td><td>Codemasters, Electronic Arts</td><td>0</td><td>[3D Vision, 4 Player Local, Action, Arcade, Controller, Difficult, Driving, Funny, Local Co-Op, Local Multiplayer, Multiplayer, Racing, Singleplayer, Split Screen, Sports]</td><td>game</td></tr><tr><td>203810</td><td>List(Single-player, Partial Controller Support, Steam Cloud)</td><td>Adventure, Casual, Indie</td><td>999</td><td>English</td><td>Dear Esther</td><td>1494</td><td>4638</td><td>999</td><td></td><td>200,000 .. 500,000</td><td>[mac, windows]</td><td>Secret Mode</td><td>0</td><td>[Adventure, Atmospheric, Beautiful, Casual, Emotional, Experimental, Exploration, First-Person, Great Soundtrack, Indie, Interactive Fiction, Linear, Mystery, Narration, Relaxing, Short, Singleplayer, Soundtrack, Story Rich, Walking Simulator]</td><td>game</td></tr><tr><td>204960</td><td>List(Multi-player, Single-player, Co-op, Stats, Partial Controller Support, Steam Achievements, Steam Cloud, Shared/Split Screen, Steam Leaderboards, Remote Play Together)</td><td>Casual, Indie</td><td>0</td><td>English, German, French, Italian, Spanish - Spain, Japanese</td><td>Magical Drop V</td><td>204</td><td>223</td><td>0</td><td></td><td>20,000 .. 50,000</td><td>[windows]</td><td>UTV Ignition Entertainment</td><td>0</td><td>[Anime, Arcade, Casual, Competitive, Indie, Local Co-Op, Multiplayer, Puzzle, Singleplayer]</td><td>game</td></tr><tr><td>205250</td><td>List(Steam Leaderboards)</td><td>Utilities</td><td>0</td><td>English, French, German, Traditional Chinese</td><td>3DMark Vantage</td><td>2</td><td>18</td><td>0</td><td></td><td>0 .. 20,000</td><td>[windows]</td><td>UL</td><td>0</td><td>[Benchmark, Utilities]</td><td>game</td></tr><tr><td>208500</td><td>List(Multi-player, Single-player, Co-op, Partial Controller Support, Steam Achievements, Steam Cloud, Steam Leaderboards)</td><td>Racing, Simulation, Sports</td><td>0</td><td>English, German, French, Italian, Spanish - Spain, Russian, Japanese, Polish, Portuguese - Brazil</td><td>F1 2012</td><td>276</td><td>3574</td><td>0</td><td></td><td>200,000 .. 500,000</td><td>[windows]</td><td>Codemasters, Electronic Arts</td><td>0</td><td>[Automobile Sim, Co-op, Controller, Driving, Multiplayer, Racing, Realistic, Simulation, Singleplayer, Split Screen, Sports]</td><td>game</td></tr><tr><td>209270</td><td>List(Multi-player, Single-player, Cross-Platform Multiplayer)</td><td>Indie, Strategy</td><td>0</td><td>English, German, French, Korean, Spanish - Spain, Russian, Japanese</td><td>Hero Academy</td><td>235</td><td>510</td><td>0</td><td></td><td>100,000 .. 200,000</td><td>[linux, mac, windows]</td><td>Robot Entertainment</td><td>0</td><td>[Asynchronous Multiplayer, Casual, Indie, Multiplayer, Strategy, Turn-Based]</td><td>game</td></tr><tr><td>209520</td><td>List(Single-player, Stats, Steam Achievements, Steam Cloud, Steam Leaderboards, Full controller support, Steam Trading Cards)</td><td>Casual, Indie, Racing</td><td>0</td><td>English</td><td>Mini Motor Racing EVO</td><td>236</td><td>437</td><td>0</td><td></td><td>50,000 .. 100,000</td><td>[windows]</td><td>The Binary Mill</td><td>0</td><td>[Arcade, Casual, Indie, Racing, Top-Down]</td><td>game</td></tr><tr><td>210350</td><td>List()</td><td></td><td>0</td><td>English, Not supported</td><td>Max Payne RU</td><td>40</td><td>321</td><td>0</td><td></td><td>20,000 .. 50,000</td><td>[windows]</td><td>Rockstar Games</td><td>0</td><td>[Action, Atmospheric, Classic, Story Rich]</td><td>game</td></tr><tr><td>210550</td><td>List(Single-player, Stats, Steam Achievements, Steam Cloud, Steam Leaderboards, Steam Trading Cards)</td><td>Casual</td><td>0</td><td>English</td><td>Angry Birds Space</td><td>50</td><td>467</td><td>0</td><td></td><td>20,000 .. 50,000</td><td>[windows]</td><td>Rovio Entertainment Ltd</td><td>0</td><td>[2D, Action, Casual, Family Friendly, Free to Play, Horror, Indie, Physics, Puzzle, Singleplayer, Space, Touch-Friendly]</td><td>game</td></tr><tr><td>214560</td><td>List(Single-player, Steam Achievements, Steam Cloud, Steam Leaderboards, Full controller support, Steam Trading Cards, Remote Play on TV)</td><td>Action, Adventure, Indie</td><td>499</td><td>English, German, French, Italian, Spanish - Spain, Japanese</td><td>Mark of the Ninja</td><td>469</td><td>15248</td><td>499</td><td></td><td>1,000,000 .. 2,000,000</td><td>[linux, mac, windows]</td><td>Microsoft Studios</td><td>0</td><td>[2D, Action, Adventure, Assassin, Atmospheric, Cartoon, Casual, Controller, Dark, Indie, Ninja, Platformer, Puzzle, Replay Value, Short, Side Scroller, Singleplayer, Stealth, Story Rich, Strategy]</td><td>game</td></tr><tr><td>215450</td><td>List(Single-player, Partial Controller Support, Steam Achievements, Steam Cloud, Steam Leaderboards, Steam Trading Cards)</td><td>Action, Casual, Indie</td><td>799</td><td>English, German, French, Italian, Spanish - Spain, Czech, Polish, Russian</td><td>Transcripted</td><td>3</td><td>50</td><td>799</td><td></td><td>0 .. 20,000</td><td>[mac, windows]</td><td>Alkemi</td><td>0</td><td>[Action, Casual, Indie, Puzzle, Twin Stick Shooter]</td><td>game</td></tr><tr><td>218980</td><td>List(Multi-player, Single-player)</td><td></td><td>0</td><td>English</td><td>Patterns</td><td>133</td><td>23</td><td>0</td><td></td><td>0 .. 20,000</td><td>[mac, windows]</td><td>Microsoft Studios</td><td>0</td><td>[Building, Casual, Sandbox, Simulation, Strategy]</td><td>game</td></tr><tr><td>219740</td><td>List(Single-player, Steam Cloud, Full controller support, Steam Trading Cards, Steam Workshop, Remote Play on Phone, Remote Play on Tablet, Remote Play on TV)</td><td>Adventure, Indie, Simulation</td><td>999</td><td>English, Simplified Chinese</td><td>Don't Starve</td><td>3164</td><td>95114</td><td>999</td><td></td><td>5,000,000 .. 10,000,000</td><td>[linux, mac, windows]</td><td>Klei Entertainment</td><td>0</td><td>[2D, Adventure, Crafting, Difficult, Exploration, Horror, Indie, Moddable, Multiplayer, Open World, Open World Survival Craft, Perma Death, Replay Value, Rogue-like, Sandbox, Simulation, Singleplayer, Survival, Survival Horror, Top-Down]</td><td>game</td></tr><tr><td>220980</td><td>List(Stats, Includes level editor, VR Support)</td><td>Animation & Modeling, Education, Software Training, Utilities</td><td>0</td><td>English</td><td>CRYENGINE</td><td>64</td><td>167</td><td>0</td><td></td><td>100,000 .. 200,000</td><td>[windows]</td><td>Crytek</td><td>0</td><td>[Action, Animation & Modeling, Education, FPS, Free to Play, Game Development, Indie, Open World, Sandbox, Software, Software Training, Utilities]</td><td>game</td></tr><tr><td>221220</td><td>List()</td><td>Animation & Modeling</td><td>0</td><td>English</td><td>iPi Recorder 2</td><td>3</td><td>10</td><td>0</td><td></td><td>0 .. 20,000</td><td>[windows]</td><td>iPi Soft</td><td>0</td><td>[Animation & Modeling]</td><td>game</td></tr><tr><td>22140</td><td>List(Single-player, Captions available)</td><td>Adventure, Indie</td><td>0</td><td>English</td><td>Penumbra: Requiem</td><td>406</td><td>418</td><td>0</td><td></td><td>100,000 .. 200,000</td><td>[linux, mac, windows]</td><td>Frictional Games</td><td>0</td><td>[Adventure, Atmospheric, Dark, First-Person, Horror, Indie, Puzzle]</td><td>game</td></tr><tr><td>222860</td><td>List()</td><td></td><td>0</td><td>English, Not supported</td><td>Left 4 Dead 2 Dedicated Server</td><td>5</td><td>30</td><td>0</td><td></td><td>20,000 .. 50,000</td><td>[windows]</td><td>Ziggurat</td><td>0</td><td>[Action, Funny, Horror, Multiplayer, Zombies]</td><td>game</td></tr><tr><td>223630</td><td>List(Multi-player, Steam Trading Cards)</td><td>Action, Free to Play, Indie, RPG, Strategy</td><td>0</td><td>English, Russian, Polish</td><td>AirBuccaneers</td><td>260</td><td>408</td><td>0</td><td></td><td>100,000 .. 200,000</td><td>[windows]</td><td>LudoCraft Ltd.</td><td>0</td><td>[Action, Co-op, FPS, First-Person, Free to Play, Indie, Multiplayer, Pirates, RPG, Strategy, Team-Based]</td><td>game</td></tr><tr><td>223850</td><td>List(Steam Achievements, Steam Leaderboards, Steam Trading Cards)</td><td>Utilities</td><td>3499</td><td>English, German, Simplified Chinese, Russian, Spanish - Spain, Japanese, Korean, Traditional Chinese, Polish, Portuguese - Brazil</td><td>3DMark</td><td>787</td><td>11192</td><td>3499</td><td></td><td>1,000,000 .. 2,000,000</td><td>[windows]</td><td>UL Solutions</td><td>0</td><td>[3D, Benchmark, Software, Utilities]</td><td>game</td></tr><tr><td>224280</td><td>List()</td><td></td><td>0</td><td>English</td><td>RPG Maker VX Ace Lite</td><td>6</td><td>151</td><td>0</td><td></td><td>0 .. 20,000</td><td>[windows]</td><td>Degica</td><td>0</td><td>[Game Development, RPG, RPGMaker]</td><td>game</td></tr><tr><td>224440</td><td>List(Single-player, Steam Workshop)</td><td>Indie, RPG, Simulation, Strategy, Early Access</td><td>0</td><td>English</td><td>Folk Tale</td><td>1706</td><td>1056</td><td>0</td><td></td><td>100,000 .. 200,000</td><td>[mac, windows]</td><td>Games Foundry</td><td>0</td><td>[Building, City Builder, Comedy, Early Access, Fantasy, Indie, Inventory Management, Magic, Management, Medieval, RPG, RTS, Resource Management, Sandbox, Simulation, Singleplayer, Strategy, Survival]</td><td>game</td></tr><tr><td>224540</td><td>List(Multi-player, Co-op, Includes level editor, Steam Achievements, Cross-Platform Multiplayer, Steam Trading Cards, Steam Workshop)</td><td>Action, Indie</td><td>0</td><td>English, German, French, Italian, Spanish - Spain, Polish, Portuguese - Brazil, Russian, Turkish</td><td>Ace of Spades: Battle Builder</td><td>6534</td><td>12070</td><td>0</td><td></td><td>1,000,000 .. 2,000,000</td><td>[mac, windows]</td><td>Jagex Limited</td><td>0</td><td>[Action, Adventure, Building, Casual, Class-Based, Co-op, Competitive, FPS, First-Person, Free to Play, Funny, Indie, Massively Multiplayer, Multiplayer, Open World, Replay Value, Sandbox, Shooter, Voxel, Zombies]</td><td>game</td></tr><tr><td>224700</td><td>List(Single-player)</td><td>Casual, Strategy</td><td>0</td><td>English</td><td>The Game of Life</td><td>50</td><td>31</td><td>0</td><td></td><td>0 .. 20,000</td><td>[windows]</td><td>PopCap</td><td>0</td><td>[Board Game, Casual, Strategy]</td><td>game</td></tr><tr><td>226700</td><td>List(Multi-player, MMO, Steam Achievements, In-App Purchases, Online PvP, PvP)</td><td>Action, Free to Play, Indie, Massively Multiplayer, RPG</td><td>0</td><td>English, French, German, Simplified Chinese, Portuguese - Portugal, Russian, Spanish - Latin America, Thai, Traditional Chinese, Turkish, Portuguese - Brazil, Vietnamese</td><td>Infestation: Survivor Stories 2020</td><td>14860</td><td>10672</td><td>0</td><td></td><td>1,000,000 .. 2,000,000</td><td>[windows]</td><td>OP Productions LLC</td><td>0</td><td>[Action, Casual, Co-op, FPS, Free to Play, Horror, Indie, Massively Multiplayer, Multiplayer, Open World, Post-apocalyptic, PvE, PvP, RPG, Shooter, Simulation, Survival, Third Person, Third-Person Shooter, Zombies]</td><td>game</td></tr><tr><td>227900</td><td>List(Single-player)</td><td>Strategy, Casual</td><td>0</td><td>English</td><td>Battleship</td><td>17</td><td>27</td><td>0</td><td></td><td>0 .. 20,000</td><td>[windows]</td><td>PopCap</td><td>0</td><td>[Board Game, Casual, Strategy]</td><td>game</td></tr><tr><td>227920</td><td>List(Single-player)</td><td>Strategy, Casual</td><td>0</td><td>English</td><td>Risk</td><td>141</td><td>158</td><td>0</td><td></td><td>20,000 .. 50,000</td><td>[windows]</td><td>PopCap</td><td>0</td><td>[Board Game, Casual, Multiplayer, Strategy]</td><td>game</td></tr><tr><td>229950</td><td>List()</td><td>Utilities</td><td>0</td><td>English, German, French, Italian, Spanish - Spain, Russian, Japanese, Portuguese - Portugal, Polish</td><td>Resident Evil 6 Benchmark Tool</td><td>58</td><td>315</td><td>0</td><td></td><td>50,000 .. 100,000</td><td>[windows]</td><td>Capcom</td><td>0</td><td>[Benchmark, Free to Play, Multiplayer, Online Co-Op, Utilities, Zombies]</td><td>game</td></tr><tr><td>230780</td><td>List()</td><td>Design & Illustration, Education, Utilities</td><td>0</td><td>English, German</td><td>articy:draft</td><td>10</td><td>75</td><td>0</td><td></td><td>0 .. 20,000</td><td>[windows]</td><td>Articy Software</td><td>0</td><td>[Design & Illustration, Education, Game Development, Software, Utilities]</td><td>game</td></tr><tr><td>232810</td><td>List(Single-player, Commentary available)</td><td>Indie, Simulation, Strategy, Early Access</td><td>1499</td><td>English, French, Italian, German, Spanish - Spain, Russian, Turkish</td><td>Godus</td><td>5344</td><td>1799</td><td>1499</td><td></td><td>200,000 .. 500,000</td><td>[mac, windows]</td><td>22cans Ltd.</td><td>0</td><td>[Addictive, Adventure, Casual, City Builder, Crowdfunded, Early Access, Free to Play, God Game, Indie, Kickstarter, Management, Multiplayer, Open World, Sandbox, Simulation, Singleplayer, Strategy]</td><td>game</td></tr><tr><td>233370</td><td>List(Single-player, Partial Controller Support, Steam Achievements, Steam Cloud)</td><td>Adventure</td><td>1999</td><td>English, German, Russian</td><td>The Raven - Legacy of a Master Thief</td><td>192</td><td>593</td><td>1999</td><td></td><td>200,000 .. 500,000</td><td>[linux, mac, windows]</td><td>THQ Nordic</td><td>0</td><td>[Adventure, Atmospheric, Crime, Detective, Escape Room, Great Soundtrack, Mystery, Noir, Point & Click, Puzzle, Singleplayer, Story Rich]</td><td>game</td></tr><tr><td>233530</td><td>List(Single-player, Partial Controller Support, Steam Trading Cards)</td><td>Action, Indie</td><td>499</td><td>English</td><td>Wake</td><td>139</td><td>52</td><td>499</td><td></td><td>0 .. 20,000</td><td>[windows]</td><td>Boss Baddie</td><td>0</td><td>[Action, Indie, Metroidvania, Platformer]</td><td>game</td></tr><tr><td>233800</td><td>List()</td><td></td><td>0</td><td>English</td><td>Arma 3 Tools</td><td>59</td><td>352</td><td>0</td><td></td><td>50,000 .. 100,000</td><td>[windows]</td><td>Bohemia Interactive</td><td>0</td><td>[Free to Play, Game Development]</td><td>game</td></tr><tr><td>237110</td><td>List(Multi-player, Single-player, Co-op, Steam Achievements, Steam Cloud, Shared/Split Screen, Steam Leaderboards, Full controller support, Remote Play Together)</td><td>Action</td><td>0</td><td>English, German, French, Italian, Spanish - Spain, Portuguese - Brazil</td><td>Mortal Kombat Komplete Edition</td><td>1562</td><td>15869</td><td>0</td><td></td><td>1,000,000 .. 2,000,000</td><td>[windows]</td><td>Warner Bros. Interactive Entertainment</td><td>18</td><td>[2.5D, 2D, 2D Fighter, Action, Arcade, Beat 'em up, Blood, Classic, Co-op, Competitive, Fighting, Gore, Local Co-Op, Local Multiplayer, Multiplayer, Nostalgia, Remake, Replay Value, Singleplayer, Violent]</td><td>game</td></tr><tr><td>238070</td><td>List(Single-player)</td><td>Action</td><td>0</td><td>English</td><td>Shadow Warrior Classic (1997)</td><td>104</td><td>1365</td><td>0</td><td></td><td>200,000 .. 500,000</td><td>[mac, windows]</td><td>Devolver Digital</td><td>0</td><td>[1990's, Action, Classic, Comedy, Difficult, FPS, First-Person, Free to Play, Funny, Gore, Multiplayer, Ninja, Nudity, Old School, Pixel Graphics, Retro, Shooter, Singleplayer]</td><td>game</td></tr><tr><td>242050</td><td>List(Multi-player, Single-player, In-App Purchases)</td><td>Action, Adventure</td><td>3999</td><td>English, French, Italian, German, Spanish - Spain, Czech, Danish, Dutch, Finnish, Norwegian, Polish, Portuguese - Portugal, Portuguese - Brazil, Russian, Swedish, Simplified Chinese</td><td>Assassin’s Creed IV Black Flag</td><td>5548</td><td>48077</td><td>3999</td><td></td><td>2,000,000 .. 5,000,000</td><td>[windows]</td><td>Ubisoft</td><td>0</td><td>[Action, Action-Adventure, Adventure, Assassin, Atmospheric, Exploration, Historical, Mature, Multiplayer, Naval, Naval Combat, Open World, Parkour, Pirates, RPG, Sandbox, Singleplayer, Stealth, Story Rich, Third Person]</td><td>game</td></tr><tr><td>24660</td><td>List(Single-player)</td><td>Simulation</td><td>0</td><td>English</td><td>Trainz: Murchison 2</td><td>14</td><td>19</td><td>0</td><td></td><td>0 .. 20,000</td><td>[windows]</td><td>N3V Games</td><td>0</td><td>[Simulation, Trains]</td><td>game</td></tr><tr><td>250820</td><td>List(Steam Workshop, VR Support, SteamVR Collectibles)</td><td></td><td>0</td><td>English, French, Italian, German, Spanish - Spain, Bulgarian, Czech, Danish, Dutch, Finnish, Greek, Hungarian, Japanese, Korean, Norwegian, Polish, Portuguese - Portugal, Portuguese - Brazil, Romanian, Russian, Simplified Chinese, Spanish - Latin America, Swedish, Thai, Traditional Chinese, Turkish, Ukrainian, Vietnamese</td><td>SteamVR</td><td>3597</td><td>33379</td><td>0</td><td></td><td>2,000,000 .. 5,000,000</td><td>[windows]</td><td>Warner Bros. Interactive Entertainment</td><td>0</td><td>[Action, Anime, Atmospheric, Beautiful, Family Friendly, Female Protagonist, First-Person, Free to Play, Funny, Gore, Hentai, Horror, LGBTQ+, Memes, Nudity, Psychological Horror, Sexual Content, Simulation, Software, VR]</td><td>game</td></tr><tr><td>256440</td><td>List(Single-player, Partial Controller Support, Steam Cloud)</td><td>Action, Indie, Strategy</td><td>0</td><td>English</td><td>Monsters & Munitions</td><td>15</td><td>10</td><td>0</td><td></td><td>0 .. 20,000</td><td>[windows]</td><td>MumboJumbo</td><td>0</td><td>[Action, Indie, Strategy]</td><td>game</td></tr><tr><td>259490</td><td>List(Single-player, Partial Controller Support, Steam Achievements, Steam Leaderboards)</td><td></td><td>0</td><td>English</td><td>Beast Boxing Turbo</td><td>30</td><td>257</td><td>0</td><td></td><td>0 .. 20,000</td><td>[mac, windows]</td><td>MumboJumbo</td><td>0</td><td>[Action, Boxing, Female Protagonist, Fighting, Indie, Sports]</td><td>game</td></tr><tr><td>31220</td><td>List(Single-player)</td><td>Action, Adventure</td><td>999</td><td>English</td><td>Sam & Max 301: The Penal Zone</td><td>47</td><td>434</td><td>999</td><td></td><td>100,000 .. 200,000</td><td>[windows]</td><td>Skunkape Games</td><td>0</td><td>[Action, Adventure, Comedy, Detective, Episodic, Escape Room, Funny, Mystery, Point & Click, Singleplayer, Story Rich]</td><td>game</td></tr><tr><td>31230</td><td>List(Single-player)</td><td>Adventure</td><td>999</td><td>English</td><td>Sam & Max 302: The Tomb of Sammun-Mak</td><td>12</td><td>68</td><td>999</td><td></td><td>0 .. 20,000</td><td>[mac, windows]</td><td>Skunkape Games</td><td>0</td><td>[Adventure, Point & Click]</td><td>game</td></tr><tr><td>31240</td><td>List(Single-player)</td><td>Adventure</td><td>999</td><td>English</td><td>Sam & Max 303: They Stole Max's Brain!</td><td>7</td><td>67</td><td>999</td><td></td><td>0 .. 20,000</td><td>[mac, windows]</td><td>Skunkape Games</td><td>0</td><td>[Adventure, Point & Click]</td><td>game</td></tr><tr><td>31250</td><td>List(Single-player)</td><td>Adventure</td><td>999</td><td>English</td><td>Sam & Max 304: Beyond the Alley of the Dolls</td><td>6</td><td>54</td><td>999</td><td></td><td>0 .. 20,000</td><td>[mac, windows]</td><td>Skunkape Games</td><td>0</td><td>[Adventure, Point & Click]</td><td>game</td></tr><tr><td>334750</td><td>List(Multi-player, Single-player, Co-op)</td><td>Simulation</td><td>0</td><td>English, French, Italian, German, Spanish - Spain, Czech, Hungarian, Turkish</td><td>Farm Expert 2016</td><td>156</td><td>108</td><td>0</td><td></td><td>0 .. 20,000</td><td>[windows]</td><td>PlayWay Inc</td><td>0</td><td>[Agriculture, Co-op, Farming, Farming Sim, Multiplayer, Simulation, Singleplayer]</td><td>game</td></tr><tr><td>33750</td><td>List(Single-player)</td><td></td><td>0</td><td>English</td><td>Prison Tycoon 4: SuperMax</td><td>29</td><td>7</td><td>0</td><td></td><td>0 .. 20,000</td><td>[windows]</td><td>Cosmi Valusoft</td><td>0</td><td>[Management, Simulation]</td><td>game</td></tr><tr><td>33900</td><td>List(Multi-player, Single-player, Co-op, Captions available, Includes level editor, Partial Controller Support)</td><td>Action, Simulation, Strategy</td><td>1299</td><td>English</td><td>Arma 2</td><td>351</td><td>1781</td><td>1299</td><td></td><td>2,000,000 .. 5,000,000</td><td>[windows]</td><td>Bohemia Interactive</td><td>0</td><td>[Action, Co-op, FPS, First-Person, Military, Moddable, Multiplayer, Open World, Realistic, Sandbox, Shooter, Simulation, Singleplayer, Strategy, Tactical, Third Person, Third-Person Shooter, TrackIR, War, Zombies]</td><td>game</td></tr><tr><td>350540</td><td>List(Single-player, Partial Controller Support)</td><td>Simulation</td><td>0</td><td>English, French, Italian, German, Spanish - Spain, Czech, Hungarian</td><td>Helicopter 2015: Natural Disasters</td><td>100</td><td>19</td><td>0</td><td></td><td>0 .. 20,000</td><td>[windows]</td><td>Ravenscourt</td><td>0</td><td>[Simulation]</td><td>game</td></tr><tr><td>352280</td><td>List()</td><td>Audio Production</td><td>0</td><td>English</td><td>Cakewalk Sound Center</td><td>10</td><td>8</td><td>0</td><td></td><td>0 .. 20,000</td><td>[windows]</td><td>Cakewalk</td><td>0</td><td>[Audio Production]</td><td>game</td></tr><tr><td>355330</td><td>List(Single-player)</td><td>Simulation</td><td>0</td><td>English, French, Italian, German, Spanish - Spain, Czech, Hungarian</td><td>Construction Machines Simulator 2016</td><td>64</td><td>49</td><td>0</td><td></td><td>0 .. 20,000</td><td>[windows]</td><td>Ravenscourt, PlayWay SA</td><td>0</td><td>[Building, Multiplayer, Simulation]</td><td>game</td></tr><tr><td>36100</td><td>List(Single-player)</td><td>Casual</td><td>0</td><td>English</td><td>Tradewinds Classics</td><td>3</td><td>69</td><td>0</td><td></td><td>0 .. 20,000</td><td>[windows]</td><td>Sandlot Games</td><td>0</td><td>[Adventure, Casual, Pirates, Trading]</td><td>game</td></tr><tr><td>36130</td><td>List(Single-player)</td><td>Casual</td><td>0</td><td>English</td><td>Tradewinds Caravans + Odyssey Pack</td><td>1</td><td>7</td><td>0</td><td></td><td>0 .. 20,000</td><td>[windows]</td><td>Sandlot Games</td><td>0</td><td>[Casual, Trading]</td><td>game</td></tr><tr><td>36150</td><td>List()</td><td>Casual</td><td>0</td><td>English</td><td>Westward Collection</td><td>1</td><td>16</td><td>0</td><td></td><td>0 .. 20,000</td><td>[windows]</td><td>Sandlot Games</td><td>0</td><td>[Casual, City Builder, RTS, Strategy, Western]</td><td>game</td></tr><tr><td>36210</td><td>List(Single-player)</td><td>Casual</td><td>0</td><td>English</td><td>Monster Mash</td><td>4</td><td>17</td><td>0</td><td></td><td>0 .. 20,000</td><td>[windows]</td><td>Sandlot Games</td><td>0</td><td>[Casual, Tower Defense]</td><td>game</td></tr><tr><td>36270</td><td>List(Single-player)</td><td></td><td>0</td><td>English</td><td>Super Granny Collection</td><td>3</td><td>15</td><td>0</td><td></td><td>0 .. 20,000</td><td>[windows]</td><td>Sandlot Games</td><td>0</td><td>[Illuminati]</td><td>game</td></tr><tr><td>36300</td><td>List(Single-player)</td><td>Casual</td><td>0</td><td>English</td><td>Cake Mania Main Street</td><td>6</td><td>22</td><td>0</td><td></td><td>0 .. 20,000</td><td>[windows]</td><td>Sandlot Games</td><td>0</td><td>[Casual, Time Management]</td><td>game</td></tr><tr><td>36310</td><td>List(Single-player)</td><td>Strategy, Casual</td><td>0</td><td>English</td><td>Westward IV: All Aboard</td><td>1</td><td>24</td><td>0</td><td></td><td>0 .. 20,000</td><td>[windows]</td><td>Sandlot Games</td><td>0</td><td>[Casual, Strategy]</td><td>game</td></tr><tr><td>36320</td><td>List(Single-player)</td><td>Adventure, Casual</td><td>0</td><td>English</td><td>Iron Roses</td><td>4</td><td>4</td><td>0</td><td></td><td>0 .. 20,000</td><td>[windows]</td><td>Sandlot Games</td><td>0</td><td>[Adventure, Casual]</td><td>game</td></tr><tr><td>390500</td><td>List()</td><td></td><td>0</td><td>English</td><td>Arma 3 Samples</td><td>1</td><td>2</td><td>0</td><td></td><td>0 .. 20,000</td><td>[windows]</td><td>Bohemia Interactive</td><td>0</td><td>[Game Development]</td><td>game</td></tr><tr><td>39550</td><td>List(Multi-player, Single-player, Co-op, Includes level editor, Steam Cloud, Online PvP, Online Co-op, PvP)</td><td>RPG, Strategy</td><td>1499</td><td>English, French, German, Italian, Spanish - Spain, Polish, Russian</td><td>SpellForce 2 - Anniversary Edition</td><td>245</td><td>710</td><td>374</td><td></td><td>100,000 .. 200,000</td><td>[windows]</td><td>THQ Nordic</td><td>0</td><td>[Action, Fantasy, RPG, RTS, Singleplayer, Strategy]</td><td>game</td></tr><tr><td>40960</td><td>List(Multi-player, Single-player, Steam Achievements, Steam Cloud, Steam Trading Cards, Steam Workshop, Online PvP, PvP)</td><td>Simulation, Strategy</td><td>1499</td><td>English, French, Italian, German, Spanish - Spain, Polish, Russian, Simplified Chinese</td><td>Stronghold 2: Steam Edition</td><td>467</td><td>3360</td><td>1499</td><td></td><td>1,000,000 .. 2,000,000</td><td>[windows]</td><td>FireFly Studios</td><td>0</td><td>[Base-Building, Building, City Builder, Colony Sim, Economy, Historical, Isometric, Management, Medieval, Military, Open World, RTS, Real Time Tactics, Real-Time, Resource Management, Sandbox, Simulation, Strategy, Top-Down, War]</td><td>game</td></tr><tr><td>437350</td><td>List(Multi-player, Valve Anti-Cheat enabled, Steam Leaderboards, Full controller support)</td><td>Action, Adventure</td><td>1499</td><td>English, French, Italian, German, Spanish - Spain, Simplified Chinese, Traditional Chinese, Japanese, Polish, Portuguese - Brazil, Russian</td><td>Call of Duty: Black Ops III - Multiplayer Starter Pack</td><td>77</td><td>121</td><td>1499</td><td></td><td>0 .. 20,000</td><td>[mac, windows]</td><td>Activision, Aspyr (Mac)</td><td>18</td><td>[Action, Adventure, Casual, Co-op, FPS, First-Person, Free to Play, Futuristic, Massively Multiplayer, Mod, Multiplayer, Online Co-Op, Sci-fi, Shooter, Singleplayer, Zombies]</td><td>game</td></tr><tr><td>44340</td><td>List(Multi-player, Single-player, Co-op)</td><td>Action, Strategy</td><td>0</td><td>English, French, German, Italian, Spanish - Spain</td><td>Operation Flashpoint: Red River</td><td>706</td><td>765</td><td>0</td><td></td><td>500,000 .. 1,000,000</td><td>[windows]</td><td>Codemasters</td><td>15</td><td>[Action, Co-op, FPS, First-Person, Military, Multiplayer, Open World, Realistic, Shooter, Simulation, Singleplayer, Strategy, Tactical, War]</td><td>game</td></tr><tr><td>44350</td><td>List(Multi-player, Single-player, Valve Anti-Cheat enabled, Steam Achievements, Steam Cloud, Shared/Split Screen, Steam Leaderboards, Full controller support, Steam Trading Cards, Remote Play on TV, Remote Play Together)</td><td>Racing, Sports</td><td>0</td><td>English, German, French, Italian, Spanish - Spain, Japanese, Polish, Portuguese - Brazil</td><td>GRID 2</td><td>4630</td><td>23997</td><td>0</td><td></td><td>2,000,000 .. 5,000,000</td><td>[windows]</td><td>Codemasters</td><td>0</td><td>[3D Vision, Action, Arcade, Automobile Sim, Casual, Co-op, Controller, Driving, First-Person, Local Co-Op, Local Multiplayer, Multiplayer, Online Co-Op, Open World, Racing, Realistic, Simulation, Singleplayer, Split Screen, Sports]</td><td>game</td></tr><tr><td>44360</td><td>List(Multi-player, Single-player, Co-op)</td><td>Racing, Simulation, Sports</td><td>0</td><td>English, German, French, Italian, Spanish - Spain</td><td>F1 2011</td><td>177</td><td>531</td><td>0</td><td></td><td>20,000 .. 50,000</td><td>[windows]</td><td>Codemasters</td><td>0</td><td>[Automobile Sim, Co-op, Driving, Multiplayer, Racing, Realistic, Simulation, Split Screen, Sports]</td><td>game</td></tr><tr><td>47800</td><td>List(Multi-player, Single-player, Partial Controller Support, Steam Achievements)</td><td>Strategy</td><td>0</td><td>English, French, German, Spanish - Spain</td><td>RISK: Factions</td><td>300</td><td>766</td><td>0</td><td></td><td>20,000 .. 50,000</td><td>[windows]</td><td>Electronic Arts</td><td>0</td><td>[Board Game, Local Multiplayer, Multiplayer, Singleplayer, Strategy, Tabletop, Turn-Based]</td><td>game</td></tr><tr><td>48900</td><td>List(Single-player)</td><td>Indie</td><td>0</td><td>English</td><td>Saira</td><td>61</td><td>239</td><td>0</td><td></td><td>20,000 .. 50,000</td><td>[windows]</td><td>Kreatoriet AB</td><td>0</td><td>[2D, Adventure, Exploration, Female Protagonist, Free to Play, Indie, Metroidvania, Platformer, Puzzle, Sci-fi, Singleplayer]</td><td>game</td></tr><tr><td>49540</td><td>List(Multi-player, Single-player, Co-op, Steam Achievements, Full controller support, Remote Play on TV)</td><td>Action</td><td>2999</td><td>English, French, German, Italian, Polish, Russian, Spanish - Spain</td><td>Aliens: Colonial Marines Collection</td><td>4122</td><td>5890</td><td>2999</td><td></td><td>1,000,000 .. 2,000,000</td><td>[windows]</td><td>SEGA</td><td>0</td><td>[Action, Adventure, Aliens, Atmospheric, Character Customization, Co-op, FPS, Female Protagonist, First-Person, Futuristic, Gore, Horror, Multiplayer, Online Co-Op, Sci-fi, Shooter, Singleplayer, Space, Survival, Survival Horror]</td><td>game</td></tr><tr><td>564310</td><td>List(Multi-player, Single-player, Co-op, Includes level editor, Steam Achievements, Steam Cloud, Shared/Split Screen, Steam Leaderboards, Cross-Platform Multiplayer, Full controller support, Steam Workshop, Online PvP, Shared/Split Screen PvP, Online Co-op, Shared/Split Screen Co-op, Remote Play Together, PvP)</td><td>Action, Indie</td><td>1499</td><td>English, French, Italian, German, Spanish - Spain, Russian</td><td>Serious Sam Fusion 2017 (beta)</td><td>284</td><td>3632</td><td>1499</td><td></td><td>50,000 .. 100,000</td><td>[linux, mac, windows]</td><td>Devolver Digital, Croteam</td><td>0</td><td>[Action, Arena Shooter, Classic, Co-op, Comedy, Difficult, FPS, First-Person, Funny, Gore, Great Soundtrack, Indie, Local Co-Op, Local Multiplayer, Multiplayer, Online Co-Op, Shooter, Singleplayer, VR, Violent]</td><td>game</td></tr><tr><td>577800</td><td>List(Multi-player, Single-player, Steam Achievements, Steam Cloud, Shared/Split Screen, Full controller support, Remote Play on TV, Remote Play Together)</td><td>Simulation, Sports</td><td>0</td><td>English, French, Italian, German, Spanish - Spain, Japanese, Simplified Chinese, Traditional Chinese, Korean</td><td>NBA 2K18</td><td>13410</td><td>5501</td><td>0</td><td></td><td>1,000,000 .. 2,000,000</td><td>[windows]</td><td>2K</td><td>0</td><td>[Basketball, Competitive, Gambling, Great Soundtrack, Local Multiplayer, Multiplayer, Realistic, Simulation, Singleplayer, Sports, Survival, Walking Simulator]</td><td>game</td></tr><tr><td>63380</td><td>List(Multi-player, Single-player, Co-op, Partial Controller Support, Steam Achievements, Steam Cloud, Steam Leaderboards, Steam Trading Cards)</td><td>Action</td><td>0</td><td>English, French, German, Italian, Polish, Russian, Spanish - Spain</td><td>Sniper Elite V2</td><td>2895</td><td>21751</td><td>0</td><td></td><td>2,000,000 .. 5,000,000</td><td>[windows]</td><td>Rebellion</td><td>0</td><td>[Action, Adventure, Bullet Time, Co-op, FPS, Gore, Historical, Multiplayer, Online Co-Op, Shooter, Simulation, Singleplayer, Sniper, Stealth, Strategy, Tactical, Third Person, Third-Person Shooter, War, World War II]</td><td>game</td></tr><tr><td>63620</td><td>List(Single-player)</td><td>Adventure, Casual</td><td>599</td><td>English</td><td>Cosmic Osmo and the Worlds Beyond the Mackerel</td><td>21</td><td>69</td><td>599</td><td></td><td>0 .. 20,000</td><td>[windows]</td><td>Cyan Worlds Inc</td><td>0</td><td>[1980s, 2D, Adventure, Cartoony, Casual, Classic, Cute, Exploration, Family Friendly, First-Person, Mystery, Nostalgia, Open World, Pixel Graphics, Point & Click, Procedural Generation, Psychological Horror, Singleplayer, Surreal, Walking Simulator]</td><td>game</td></tr><tr><td>63630</td><td>List(Single-player)</td><td>Adventure, Casual</td><td>599</td><td>English</td><td>The Manhole: Masterpiece Edition</td><td>14</td><td>36</td><td>599</td><td></td><td>0 .. 20,000</td><td>[windows]</td><td>Cyan Worlds Inc</td><td>0</td><td>[Adventure, Casual, Point & Click]</td><td>game</td></tr><tr><td>63640</td><td>List(Single-player)</td><td>Adventure, Casual</td><td>599</td><td>English</td><td>Spelunx and the Caves of Mr. Seudo</td><td>11</td><td>28</td><td>599</td><td></td><td>0 .. 20,000</td><td>[windows]</td><td>Cyan Worlds Inc</td><td>0</td><td>[Adventure, Casual, Point & Click]</td><td>game</td></tr><tr><td>684460</td><td>List(Single-player)</td><td>Adventure, Indie</td><td>0</td><td>English</td><td>Project Lucie</td><td>22</td><td>40</td><td>0</td><td></td><td>0 .. 20,000</td><td>[windows]</td><td>Bohemia Interactive</td><td>0</td><td>[Adventure, Indie, VR]</td><td>game</td></tr><tr><td>71162</td><td>List(Multi-player, Single-player, Partial Controller Support)</td><td></td><td>0</td><td>English</td><td>Sonic 3 & Knuckles</td><td>2</td><td>39</td><td>0</td><td></td><td>50,000 .. 100,000</td><td>[linux, mac, windows]</td><td>SEGA</td><td>0</td><td>[1990's, 2D, Action, Adventure, Classic, Co-op, Colorful, Difficult, Family Friendly, Fast-Paced, Great Soundtrack, Local Co-Op, Local Multiplayer, Multiplayer, Pixel Graphics, Platformer, Replay Value, Retro, Side Scroller, Singleplayer]</td><td>game</td></tr><tr><td>71163</td><td>List(Multi-player, Single-player, Partial Controller Support)</td><td>Action, Adventure</td><td>0</td><td>English</td><td>Sonic The Hedgehog 2</td><td>3</td><td>31</td><td>0</td><td></td><td>100,000 .. 200,000</td><td>[linux, mac, windows]</td><td>SEGA</td><td>0</td><td>[1990's, 2D, 2D Platformer, Action, Adventure, Classic, Co-op, Colorful, Difficult, Family Friendly, Fast-Paced, Great Soundtrack, Local Co-Op, Local Multiplayer, Multiplayer, Pixel Graphics, Platformer, Retro, Side Scroller, Singleplayer]</td><td>game</td></tr><tr><td>755640</td><td>List(Multi-player, Single-player)</td><td>Action, Adventure</td><td>0</td><td>English</td><td>Predator VR</td><td>0</td><td>1</td><td>0</td><td></td><td>0 .. 20,000</td><td>[windows]</td><td>FoxNext VR Studio</td><td>18</td><td>[Action, Adventure, Gore, VR, Violent]</td><td>game</td></tr><tr><td>8350</td><td>List()</td><td>Adventure</td><td>1499</td><td>English, Not supported</td><td>Strong Bad's Cool Game for Attractive People: Episode 2</td><td>7</td><td>35</td><td>1499</td><td></td><td>0 .. 20,000</td><td>[windows]</td><td>Telltale Games</td><td>0</td><td>[Adventure, Point & Click]</td><td>game</td></tr><tr><td>8360</td><td>List()</td><td>Adventure</td><td>1499</td><td>English, Not supported</td><td>Strong Bad's Cool Game for Attractive People: Episode 3</td><td>8</td><td>26</td><td>1499</td><td></td><td>0 .. 20,000</td><td>[windows]</td><td>Telltale Games</td><td>0</td><td>[Adventure, Point & Click]</td><td>game</td></tr><tr><td>8370</td><td>List()</td><td>Adventure</td><td>1499</td><td>English, Not supported</td><td>Strong Bad's Cool Game for Attractive People: Episode 4</td><td>7</td><td>26</td><td>1499</td><td></td><td>0 .. 20,000</td><td>[windows]</td><td>Telltale Games</td><td>0</td><td>[Adventure, Point & Click]</td><td>game</td></tr><tr><td>8380</td><td>List()</td><td>Adventure</td><td>1499</td><td>English, Not supported</td><td>Strong Bad's Cool Game for Attractive People: Episode 5</td><td>6</td><td>26</td><td>1499</td><td></td><td>0 .. 20,000</td><td>[windows]</td><td>Telltale Games</td><td>0</td><td>[Adventure, Point & Click]</td><td>game</td></tr><tr><td>8980</td><td>List(Multi-player, Single-player, Co-op, Partial Controller Support, Steam Achievements, Steam Cloud)</td><td>Action, RPG</td><td>2999</td><td>English, French, Spanish - Spain, German, Italian</td><td>Borderlands Game of the Year</td><td>2863</td><td>27519</td><td>2999</td><td></td><td>1,000,000 .. 2,000,000</td><td>[windows]</td><td>2K</td><td>0</td><td>[Action, Action RPG, Adventure, Co-op, Comedy, Dark Humor, FPS, First-Person, Funny, Gore, Loot, Looter Shooter, Multiplayer, Online Co-Op, Open World, Post-apocalyptic, RPG, Sci-fi, Shooter, Singleplayer]</td><td>game</td></tr><tr><td>901583</td><td>List(Multi-player, Single-player, Partial Controller Support)</td><td>Action, Adventure</td><td>0</td><td>English, French, German, Italian, Spanish - Spain</td><td>Grand Theft Auto IV: Complete Edition</td><td>24868</td><td>88724</td><td>0</td><td></td><td>10,000,000 .. 20,000,000</td><td>[windows]</td><td>Rockstar Games</td><td>0</td><td>[Action, Adventure, Atmospheric, Automobile Sim, Classic, Co-op, Crime, Dark Humor, Funny, Gore, Moddable, Multiplayer, Open World, Physics, Sandbox, Satire, Shooter, Singleplayer, Third Person, Third-Person Shooter]</td><td>game</td></tr><tr><td>94510</td><td>List()</td><td></td><td>0</td><td>English, Not supported</td><td>Back to the Future: Ep 3 - Citizen Brown</td><td>17</td><td>153</td><td>0</td><td></td><td>20,000 .. 50,000</td><td>[mac, windows]</td><td>Telltale Games</td><td>0</td><td>[Adventure, Episodic, Point & Click]</td><td>game</td></tr><tr><td>94520</td><td>List()</td><td></td><td>0</td><td>English, Not supported</td><td>Back to the Future: Ep 4 - Double Visions</td><td>18</td><td>142</td><td>0</td><td></td><td>20,000 .. 50,000</td><td>[mac, windows]</td><td>Telltale Games</td><td>0</td><td>[Adventure, Episodic, Point & Click]</td><td>game</td></tr><tr><td>94530</td><td>List()</td><td></td><td>0</td><td>English, Not supported</td><td>Back to the Future: Ep 5 - OUTATIME</td><td>22</td><td>192</td><td>0</td><td></td><td>20,000 .. 50,000</td><td>[mac, windows]</td><td>Telltale Games</td><td>0</td><td>[Adventure, Episodic, Point & Click]</td><td>game</td></tr><tr><td>94600</td><td>List(Single-player)</td><td>Action, Adventure, Casual</td><td>1499</td><td>English</td><td>Hector: Episode 1</td><td>32</td><td>93</td><td>1499</td><td></td><td>0 .. 20,000</td><td>[mac, windows]</td><td>Telltale</td><td>0</td><td>[Action, Adventure, Casual, Dark Humor, Detective, Point & Click, Singleplayer, Story Rich]</td><td>game</td></tr><tr><td>94610</td><td>List(Single-player)</td><td>Action, Adventure, Casual, RPG</td><td>1499</td><td>English</td><td>Hector: Episode 2</td><td>13</td><td>50</td><td>1499</td><td></td><td>0 .. 20,000</td><td>[mac, windows]</td><td>Telltale</td><td>0</td><td>[Action, Adventure, Casual, Point & Click, RPG, Singleplayer, Story Rich]</td><td>game</td></tr><tr><td>952070</td><td>List(Multi-player, Steam Achievements, Steam Cloud, Full controller support, Steam Trading Cards, In-App Purchases, Online PvP, PvP)</td><td>Action</td><td>3999</td><td>English, French, Italian, German, Spanish - Spain, Russian, Japanese, Polish, Simplified Chinese, Traditional Chinese, Portuguese - Brazil, Korean, Arabic, Thai</td><td>RESIDENT EVIL RESISTANCE</td><td>4253</td><td>2741</td><td>3999</td><td></td><td>200,000 .. 500,000</td><td>[windows]</td><td>CAPCOM Co., Ltd.</td><td>0</td><td>[Action, Co-op, Gore, Horror, Multiplayer, Online Co-Op, Strategy, Survival Horror, Zombies]</td><td>game</td></tr><tr><td>969680</td><td>List(Multi-player, Co-op, PvP)</td><td></td><td>0</td><td>English, Not supported</td><td>Steel Circus</td><td>764</td><td>1585</td><td>0</td><td></td><td>0 .. 20,000</td><td>[windows]</td><td>Angus</td><td>0</td><td>[Action, Early Access, Football, Free to Play, MOBA, Massively Multiplayer, Multiplayer, Sports]</td><td>game</td></tr></tbody></table></div>"
      ]
     },
     "metadata": {},
     "output_type": "display_data"
    }
   ],
   "source": [
    "data_df_flattened.filter(F.col(\"release_date\") == \"\").display()"
   ]
  },
  {
   "cell_type": "code",
   "execution_count": 0,
   "metadata": {
    "application/vnd.databricks.v1+cell": {
     "cellMetadata": {},
     "inputWidgets": {},
     "nuid": "3fe330e9-1f85-4499-be76-f611764ac593",
     "showTitle": false,
     "tableResultSettingsMap": {},
     "title": ""
    }
   },
   "outputs": [
    {
     "data": {
      "text/html": [
       "<style scoped>\n",
       "  .table-result-container {\n",
       "    max-height: 300px;\n",
       "    overflow: auto;\n",
       "  }\n",
       "  table, th, td {\n",
       "    border: 1px solid black;\n",
       "    border-collapse: collapse;\n",
       "  }\n",
       "  th, td {\n",
       "    padding: 5px;\n",
       "  }\n",
       "  th {\n",
       "    text-align: left;\n",
       "  }\n",
       "</style><div class='table-result-container'><table class='table-result'><thead style='background-color: white'><tr><th>required_age</th></tr></thead><tbody><tr><td>0</td></tr><tr><td>14</td></tr><tr><td>21+</td></tr><tr><td>9</td></tr><tr><td>16</td></tr><tr><td>35</td></tr><tr><td>6</td></tr><tr><td>12</td></tr><tr><td>7</td></tr><tr><td>7+</td></tr><tr><td>15</td></tr><tr><td>10</td></tr><tr><td>MA 15+</td></tr><tr><td>5</td></tr><tr><td>13</td></tr><tr><td>8</td></tr><tr><td>180</td></tr><tr><td>17</td></tr><tr><td>18</td></tr><tr><td>20</td></tr><tr><td>3</td></tr></tbody></table></div>"
      ]
     },
     "metadata": {
      "application/vnd.databricks.v1+output": {
       "addedWidgets": {},
       "aggData": [],
       "aggError": "",
       "aggOverflow": false,
       "aggSchema": [],
       "aggSeriesLimitReached": false,
       "aggType": "",
       "arguments": {},
       "columnCustomDisplayInfos": {},
       "data": [
        [
         "0"
        ],
        [
         "14"
        ],
        [
         "21+"
        ],
        [
         "9"
        ],
        [
         "16"
        ],
        [
         "35"
        ],
        [
         "6"
        ],
        [
         "12"
        ],
        [
         "7"
        ],
        [
         "7+"
        ],
        [
         "15"
        ],
        [
         "10"
        ],
        [
         "MA 15+"
        ],
        [
         "5"
        ],
        [
         "13"
        ],
        [
         "8"
        ],
        [
         "180"
        ],
        [
         "17"
        ],
        [
         "18"
        ],
        [
         "20"
        ],
        [
         "3"
        ]
       ],
       "datasetInfos": [],
       "dbfsResultPath": null,
       "isJsonSchema": true,
       "metadata": {},
       "overflow": false,
       "plotOptions": {
        "customPlotOptions": {},
        "displayType": "table",
        "pivotAggregation": null,
        "pivotColumns": null,
        "xColumns": null,
        "yColumns": null
       },
       "removedWidgets": [],
       "schema": [
        {
         "metadata": "{}",
         "name": "required_age",
         "type": "\"string\""
        }
       ],
       "type": "table"
      }
     },
     "output_type": "display_data"
    }
   ],
   "source": [
    "data_df_flattened.select(F.col(\"required_age\")).distinct().display()"
   ]
  },
  {
   "cell_type": "markdown",
   "metadata": {
    "application/vnd.databricks.v1+cell": {
     "cellMetadata": {},
     "inputWidgets": {},
     "nuid": "b30d493c-8928-4679-a661-d69200615852",
     "showTitle": false,
     "tableResultSettingsMap": {},
     "title": ""
    }
   },
   "source": [
    "# Answering the Questions"
   ]
  },
  {
   "cell_type": "code",
   "execution_count": 0,
   "metadata": {
    "application/vnd.databricks.v1+cell": {
     "cellMetadata": {
      "byteLimit": 2048000,
      "rowLimit": 10000
     },
     "inputWidgets": {},
     "nuid": "3b4c2472-8dc6-4610-976c-d0c2ead0ef37",
     "showTitle": false,
     "tableResultSettingsMap": {},
     "title": ""
    }
   },
   "outputs": [],
   "source": [
    "from pyspark.sql.types import ArrayType, StringType, DoubleType\n",
    "from pyspark.sql import functions as F\n",
    "from pyspark.sql import Window\n",
    "import numpy as np"
   ]
  },
  {
   "cell_type": "code",
   "execution_count": 0,
   "metadata": {
    "application/vnd.databricks.v1+cell": {
     "cellMetadata": {
      "byteLimit": 2048000,
      "rowLimit": 10000
     },
     "inputWidgets": {},
     "nuid": "726e7dd0-db42-43df-9953-c364f3bfa25d",
     "showTitle": false,
     "tableResultSettingsMap": {},
     "title": ""
    }
   },
   "outputs": [],
   "source": [
    "# All the edits I made during the EDA phase and that I want to keep\n",
    "\n",
    "get_true_list = F.udf(lambda d: [key for key, value in d.asDict().items() if value])\n",
    "\n",
    "df = spark.read.json(\"s3://full-stack-bigdata-datasets/Big_Data/Project_Steam/steam_game_output.json\")\\\n",
    "    .withColumn(\"appid\", F.col(\"data.appid\")) \\\n",
    "    .withColumn(\"categories\", F.col(\"data.categories\")) \\\n",
    "    .withColumn(\"genre\", F.col(\"data.genre\")) \\\n",
    "    .withColumn(\"initialprice\", F.col(\"data.initialprice\")) \\\n",
    "    .withColumn(\"languages\", F.col(\"data.languages\")) \\\n",
    "    .withColumn(\"name\", F.col(\"data.name\")) \\\n",
    "    .withColumn(\"negative_reviews\", F.col(\"data.negative\")) \\\n",
    "    .withColumn(\"positive_reviews\", F.col(\"data.positive\")) \\\n",
    "    .withColumn(\"price\", F.col(\"data.price\")) \\\n",
    "    .withColumn(\"release_date\", F.col(\"data.release_date\")) \\\n",
    "    .withColumn(\"owners\", F.col(\"data.owners\")) \\\n",
    "    .withColumn(\"publisher\", F.col(\"data.publisher\")) \\\n",
    "    .withColumn(\"required_age\", F.regexp_substr(\"data.required_age\",\n",
    "                                                F.lit(r\"\\d{1,2}\")).cast(\"long\"))\\\n",
    "    .withColumn(\"type\", F.col(\"data.type\")).filter(F.col(\"type\") != \"hardware\") \\\n",
    "    .withColumn(\"platforms\", F.regexp_substr(get_true_list(F.col(\"data.platforms\")),\n",
    "                                             F.lit(r\"[a-zA-Z]+\")))\\\n",
    "    .withColumn(\"tags\", get_true_list(F.col(\"data.tags\")))\\\n",
    "    .drop(\"data\", \"id\", \"type\")"
   ]
  },
  {
   "cell_type": "code",
   "execution_count": 0,
   "metadata": {
    "application/vnd.databricks.v1+cell": {
     "cellMetadata": {
      "byteLimit": 2048000,
      "rowLimit": 10000
     },
     "inputWidgets": {},
     "nuid": "5a6d6d0e-ce85-40f1-b12a-9ea983622e1b",
     "showTitle": false,
     "tableResultSettingsMap": {},
     "title": ""
    }
   },
   "outputs": [],
   "source": [
    "def get_head_as_df(df_name):\n",
    "    spark.createDataFrame(df_name.take(20)).display()"
   ]
  },
  {
   "cell_type": "markdown",
   "metadata": {
    "application/vnd.databricks.v1+cell": {
     "cellMetadata": {},
     "inputWidgets": {},
     "nuid": "1d8fe579-8a4c-4c9d-b723-7272ac90c636",
     "showTitle": false,
     "tableResultSettingsMap": {},
     "title": ""
    }
   },
   "source": [
    "## Analysis at the \"macro\" level"
   ]
  },
  {
   "cell_type": "markdown",
   "metadata": {
    "application/vnd.databricks.v1+cell": {
     "cellMetadata": {},
     "inputWidgets": {},
     "nuid": "8b5d157e-5f08-4e3e-a60b-14ccced5cb5c",
     "showTitle": false,
     "tableResultSettingsMap": {},
     "title": ""
    }
   },
   "source": [
    "### Which publisher has released the most games on Steam?"
   ]
  },
  {
   "cell_type": "code",
   "execution_count": 0,
   "metadata": {
    "application/vnd.databricks.v1+cell": {
     "cellMetadata": {
      "byteLimit": 2048000,
      "rowLimit": 10000
     },
     "inputWidgets": {},
     "nuid": "5c76c3e0-1153-42da-b201-20c192e00411",
     "showTitle": false,
     "tableResultSettingsMap": {},
     "title": ""
    }
   },
   "outputs": [
    {
     "data": {
      "text/html": [
       "<style scoped>\n",
       "  .table-result-container {\n",
       "    max-height: 300px;\n",
       "    overflow: auto;\n",
       "  }\n",
       "  table, th, td {\n",
       "    border: 1px solid black;\n",
       "    border-collapse: collapse;\n",
       "  }\n",
       "  th, td {\n",
       "    padding: 5px;\n",
       "  }\n",
       "  th {\n",
       "    text-align: left;\n",
       "  }\n",
       "</style><div class='table-result-container'><table class='table-result'><thead style='background-color: white'><tr><th>publisher</th><th>game_count</th></tr></thead><tbody><tr><td>Big Fish Games</td><td>422</td></tr><tr><td>8floor</td><td>202</td></tr><tr><td>SEGA</td><td>165</td></tr><tr><td>Strategy First</td><td>151</td></tr><tr><td>Square Enix</td><td>141</td></tr><tr><td>Choice of Games</td><td>140</td></tr><tr><td>HH-Games</td><td>132</td></tr><tr><td>Sekai Project</td><td>132</td></tr><tr><td>Ubisoft</td><td>127</td></tr><tr><td>Laush Studio</td><td>126</td></tr><tr><td>THQ Nordic</td><td>125</td></tr><tr><td>Alawar Entertainment</td><td>107</td></tr><tr><td>Fulqrum Publishing</td><td>104</td></tr><tr><td>Plug In Digital</td><td>101</td></tr><tr><td>Ziggurat</td><td>100</td></tr><tr><td>Sokpop Collective</td><td>99</td></tr><tr><td>Slitherine Ltd.</td><td>99</td></tr><tr><td>Devolver Digital</td><td>98</td></tr><tr><td>KOEI TECMO GAMES CO., LTD.</td><td>90</td></tr><tr><td>Reforged Group</td><td>89</td></tr></tbody></table></div>"
      ]
     },
     "metadata": {
      "application/vnd.databricks.v1+output": {
       "addedWidgets": {},
       "aggData": [],
       "aggError": "",
       "aggOverflow": false,
       "aggSchema": [],
       "aggSeriesLimitReached": false,
       "aggType": "",
       "arguments": {},
       "columnCustomDisplayInfos": {},
       "data": [
        [
         "Big Fish Games",
         422
        ],
        [
         "8floor",
         202
        ],
        [
         "SEGA",
         165
        ],
        [
         "Strategy First",
         151
        ],
        [
         "Square Enix",
         141
        ],
        [
         "Choice of Games",
         140
        ],
        [
         "HH-Games",
         132
        ],
        [
         "Sekai Project",
         132
        ],
        [
         "Ubisoft",
         127
        ],
        [
         "Laush Studio",
         126
        ],
        [
         "THQ Nordic",
         125
        ],
        [
         "Alawar Entertainment",
         107
        ],
        [
         "Fulqrum Publishing",
         104
        ],
        [
         "Plug In Digital",
         101
        ],
        [
         "Ziggurat",
         100
        ],
        [
         "Sokpop Collective",
         99
        ],
        [
         "Slitherine Ltd.",
         99
        ],
        [
         "Devolver Digital",
         98
        ],
        [
         "KOEI TECMO GAMES CO., LTD.",
         90
        ],
        [
         "Reforged Group",
         89
        ]
       ],
       "datasetInfos": [],
       "dbfsResultPath": null,
       "isJsonSchema": true,
       "metadata": {},
       "overflow": false,
       "plotOptions": {
        "customPlotOptions": {},
        "displayType": "table",
        "pivotAggregation": null,
        "pivotColumns": null,
        "xColumns": null,
        "yColumns": null
       },
       "removedWidgets": [],
       "schema": [
        {
         "metadata": "{}",
         "name": "publisher",
         "type": "\"string\""
        },
        {
         "metadata": "{}",
         "name": "game_count",
         "type": "\"long\""
        }
       ],
       "type": "table"
      }
     },
     "output_type": "display_data"
    }
   ],
   "source": [
    "most_games_df = df.filter(F.col(\"publisher\") != \"\")\\\n",
    "                  .groupBy(F.col(\"publisher\"))\\\n",
    "                  .agg((F.count(\"appid\")).alias(\"game_count\"))\\\n",
    "                  .orderBy(F.desc(\"game_count\"))\n",
    "get_head_as_df(most_games_df)\n"
   ]
  },
  {
   "cell_type": "markdown",
   "metadata": {
    "application/vnd.databricks.v1+cell": {
     "cellMetadata": {},
     "inputWidgets": {},
     "nuid": "6281cad1-8934-45fe-8544-bf767b80d3ec",
     "showTitle": false,
     "tableResultSettingsMap": {},
     "title": ""
    }
   },
   "source": [
    "\"Big Fish Games\" has published the most games by far."
   ]
  },
  {
   "cell_type": "markdown",
   "metadata": {
    "application/vnd.databricks.v1+cell": {
     "cellMetadata": {},
     "inputWidgets": {},
     "nuid": "4b52fdd0-fb71-454b-a630-f8fa137bde39",
     "showTitle": false,
     "tableResultSettingsMap": {},
     "title": ""
    }
   },
   "source": [
    "### What are the best-rated games?"
   ]
  },
  {
   "cell_type": "code",
   "execution_count": 0,
   "metadata": {
    "application/vnd.databricks.v1+cell": {
     "cellMetadata": {
      "byteLimit": 2048000,
      "rowLimit": 10000
     },
     "inputWidgets": {},
     "nuid": "115e760d-cf79-4828-9d69-81c9174e5ae2",
     "showTitle": false,
     "tableResultSettingsMap": {},
     "title": ""
    }
   },
   "outputs": [
    {
     "data": {
      "text/html": [
       "<style scoped>\n",
       "  .table-result-container {\n",
       "    max-height: 300px;\n",
       "    overflow: auto;\n",
       "  }\n",
       "  table, th, td {\n",
       "    border: 1px solid black;\n",
       "    border-collapse: collapse;\n",
       "  }\n",
       "  th, td {\n",
       "    padding: 5px;\n",
       "  }\n",
       "  th {\n",
       "    text-align: left;\n",
       "  }\n",
       "</style><div class='table-result-container'><table class='table-result'><thead style='background-color: white'><tr><th>appid</th><th>name</th><th>net_rating</th></tr></thead><tbody><tr><td>730</td><td>Counter-Strike: Global Offensive</td><td>5156252</td></tr><tr><td>570</td><td>Dota 2</td><td>1216979</td></tr><tr><td>271590</td><td>Grand Theft Auto V</td><td>1015886</td></tr><tr><td>105600</td><td>Terraria</td><td>992331</td></tr><tr><td>4000</td><td>Garry's Mod</td><td>831242</td></tr><tr><td>359550</td><td>Tom Clancy's Rainbow Six Siege</td><td>799663</td></tr><tr><td>440</td><td>Team Fortress 2</td><td>788984</td></tr><tr><td>550</td><td>Left 4 Dead 2</td><td>627008</td></tr><tr><td>252490</td><td>Rust</td><td>620359</td></tr><tr><td>292030</td><td>The Witcher 3: Wild Hunt</td><td>607382</td></tr><tr><td>227300</td><td>Euro Truck Simulator 2</td><td>556753</td></tr><tr><td>431960</td><td>Wallpaper Engine</td><td>550065</td></tr><tr><td>945360</td><td>Among Us</td><td>533888</td></tr><tr><td>413150</td><td>Stardew Valley</td><td>488275</td></tr><tr><td>218620</td><td>PAYDAY 2</td><td>468917</td></tr><tr><td>739630</td><td>Phasmophobia</td><td>460012</td></tr><tr><td>1245620</td><td>ELDEN RING</td><td>438135</td></tr><tr><td>252950</td><td>Rocket League</td><td>433454</td></tr><tr><td>304930</td><td>Unturned</td><td>409573</td></tr><tr><td>381210</td><td>Dead by Daylight</td><td>393240</td></tr></tbody></table></div>"
      ]
     },
     "metadata": {
      "application/vnd.databricks.v1+output": {
       "addedWidgets": {},
       "aggData": [],
       "aggError": "",
       "aggOverflow": false,
       "aggSchema": [],
       "aggSeriesLimitReached": false,
       "aggType": "",
       "arguments": {},
       "columnCustomDisplayInfos": {},
       "data": [
        [
         730,
         "Counter-Strike: Global Offensive",
         5156252
        ],
        [
         570,
         "Dota 2",
         1216979
        ],
        [
         271590,
         "Grand Theft Auto V",
         1015886
        ],
        [
         105600,
         "Terraria",
         992331
        ],
        [
         4000,
         "Garry's Mod",
         831242
        ],
        [
         359550,
         "Tom Clancy's Rainbow Six Siege",
         799663
        ],
        [
         440,
         "Team Fortress 2",
         788984
        ],
        [
         550,
         "Left 4 Dead 2",
         627008
        ],
        [
         252490,
         "Rust",
         620359
        ],
        [
         292030,
         "The Witcher 3: Wild Hunt",
         607382
        ],
        [
         227300,
         "Euro Truck Simulator 2",
         556753
        ],
        [
         431960,
         "Wallpaper Engine",
         550065
        ],
        [
         945360,
         "Among Us",
         533888
        ],
        [
         413150,
         "Stardew Valley",
         488275
        ],
        [
         218620,
         "PAYDAY 2",
         468917
        ],
        [
         739630,
         "Phasmophobia",
         460012
        ],
        [
         1245620,
         "ELDEN RING",
         438135
        ],
        [
         252950,
         "Rocket League",
         433454
        ],
        [
         304930,
         "Unturned",
         409573
        ],
        [
         381210,
         "Dead by Daylight",
         393240
        ]
       ],
       "datasetInfos": [],
       "dbfsResultPath": null,
       "isJsonSchema": true,
       "metadata": {},
       "overflow": false,
       "plotOptions": {
        "customPlotOptions": {},
        "displayType": "table",
        "pivotAggregation": null,
        "pivotColumns": null,
        "xColumns": null,
        "yColumns": null
       },
       "removedWidgets": [],
       "schema": [
        {
         "metadata": "{}",
         "name": "appid",
         "type": "\"long\""
        },
        {
         "metadata": "{}",
         "name": "name",
         "type": "\"string\""
        },
        {
         "metadata": "{}",
         "name": "net_rating",
         "type": "\"long\""
        }
       ],
       "type": "table"
      }
     },
     "output_type": "display_data"
    },
    {
     "data": {
      "text/plain": [
       "Databricks visualization. Run in Databricks to view."
      ]
     },
     "metadata": {
      "application/vnd.databricks.v1.subcommand+json": {
       "baseErrorDetails": null,
       "bindings": {},
       "collapsed": false,
       "command": "%python\n__backend_agg_display_orig = display\n__backend_agg_dfs = []\ndef __backend_agg_display_new(df):\n    __backend_agg_df_modules = [\"pandas.core.frame\", \"databricks.koalas.frame\", \"pyspark.sql.dataframe\", \"pyspark.pandas.frame\", \"pyspark.sql.connect.dataframe\"]\n    if (type(df).__module__ in __backend_agg_df_modules and type(df).__name__ == 'DataFrame') or isinstance(df, list):\n        __backend_agg_dfs.append(df)\n\ndisplay = __backend_agg_display_new\n\ndef __backend_agg_user_code_fn():\n    import base64\n    exec(base64.standard_b64decode(\"YmVzdF9yYXRlZF9kZiA9IGRmLmdyb3VwQnkoRi5jb2woImFwcGlkIikpXAogICAgICAgICAgICAgICAgICAuYWdnKChGLnN0cmluZ19hZ2dfZGlzdGluY3QoIm5hbWUiKSkuYWxpYXMoIm5hbWUiKSwgIyBpbiBjYXNlIHRoZSBzYW1lIGdhbWUgYXBwZWFycyB3aXRoIGRpZmZlcmVudCBuYW1lcwogICAgICAgICAgICAgICAgICAgICAgIChGLnN1bSgicG9zaXRpdmVfcmV2aWV3cyIpIC0gRi5zdW0oIm5lZ2F0aXZlX3Jldmlld3MiKSkuYWxpYXMoIm5ldF9yYXRpbmciKSlcCiAgICAgICAgICAgICAgICAgIC5vcmRlckJ5KEYuZGVzYygibmV0X3JhdGluZyIpKQpnZXRfaGVhZF9hc19kZihiZXN0X3JhdGVkX2RmKQ==\").decode())\n\ntry:\n    # run user code\n    __backend_agg_user_code_fn()\n\n    #reset display function\n    display = __backend_agg_display_orig\n\n    if len(__backend_agg_dfs) > 0:\n        # create a temp view\n        if type(__backend_agg_dfs[0]).__module__ == \"databricks.koalas.frame\":\n            # koalas dataframe\n            __backend_agg_dfs[0].to_spark().createOrReplaceTempView(\"DatabricksViewf9c0b5f\")\n        elif type(__backend_agg_dfs[0]).__module__ == \"pandas.core.frame\" or isinstance(__backend_agg_dfs[0], list):\n            # pandas dataframe\n            spark.createDataFrame(__backend_agg_dfs[0]).createOrReplaceTempView(\"DatabricksViewf9c0b5f\")\n        else:\n            __backend_agg_dfs[0].createOrReplaceTempView(\"DatabricksViewf9c0b5f\")\n        #run backend agg\n        display(spark.sql(\"\"\"WITH q AS (select * from DatabricksViewf9c0b5f) SELECT `name`,SUM(`net_rating`) `column_8e313d2d172` FROM q GROUP BY `name`\"\"\"))\n    else:\n        displayHTML(\"dataframe no longer exists. If you're using dataframe.display(), use display(dataframe) instead.\")\n\n\nfinally:\n    spark.sql(\"drop view if exists DatabricksViewf9c0b5f\")\n    display = __backend_agg_display_orig\n    del __backend_agg_display_new\n    del __backend_agg_display_orig\n    del __backend_agg_dfs\n    del __backend_agg_user_code_fn\n\n",
       "commandTitle": "Visualization 1",
       "commandType": "auto",
       "commandVersion": 0,
       "commentThread": [],
       "commentsVisible": false,
       "contentSha256Hex": null,
       "customPlotOptions": {
        "redashChart": [
         {
          "key": "type",
          "value": "CHART"
         },
         {
          "key": "options",
          "value": {
           "alignYAxesAtZero": true,
           "coefficient": 1,
           "columnConfigurationMap": {
            "x": {
             "column": "name",
             "id": "column_8e313d2d170"
            },
            "y": [
             {
              "column": "net_rating",
              "id": "column_8e313d2d172",
              "transform": "SUM"
             }
            ]
           },
           "dateTimeFormat": "DD/MM/YYYY HH:mm",
           "direction": {
            "type": "counterclockwise"
           },
           "error_y": {
            "type": "data",
            "visible": true
           },
           "globalSeriesType": "column",
           "isAggregationOn": true,
           "legend": {
            "traceorder": "normal"
           },
           "missingValuesAsZero": true,
           "numBins": 10,
           "numberFormat": "0,0.[00000]",
           "percentFormat": "0[.]00%",
           "series": {
            "error_y": {
             "type": "data",
             "visible": true
            },
            "stacking": null
           },
           "seriesOptions": {
            "column_8e313d2d168": {
             "name": "net_rating",
             "type": "column",
             "yAxis": 0
            },
            "column_8e313d2d172": {
             "type": "column",
             "yAxis": 0
            }
           },
           "showDataLabels": false,
           "sizemode": "diameter",
           "sortX": true,
           "sortY": true,
           "swappedAxes": true,
           "textFormat": "",
           "useAggregationsUi": true,
           "valuesOptions": {},
           "version": 2,
           "xAxis": {
            "labels": {
             "enabled": true
            },
            "type": "-"
           },
           "yAxis": [
            {
             "title": {
              "text": "net_rating"
             },
             "type": "-"
            },
            {
             "opposite": true,
             "type": "-"
            }
           ]
          }
         }
        ]
       },
       "datasetPreviewNameToCmdIdMap": {},
       "diffDeletes": [],
       "diffInserts": [],
       "displayType": "redashChart",
       "error": null,
       "errorDetails": null,
       "errorSummary": null,
       "errorTraceType": null,
       "finishTime": 0,
       "globalVars": {},
       "guid": "",
       "height": "auto",
       "hideCommandCode": false,
       "hideCommandResult": false,
       "iPythonMetadata": null,
       "inputWidgets": {},
       "isLockedInExamMode": false,
       "latestAssumeRoleInfo": null,
       "latestUser": "a user",
       "latestUserId": null,
       "listResultMetadata": null,
       "metadata": {},
       "nuid": "43da2b30-17a1-44fc-9897-67b8c4739db9",
       "origId": 0,
       "parentHierarchy": [],
       "pivotAggregation": null,
       "pivotColumns": null,
       "position": 2.90625,
       "resultDbfsErrorMessage": null,
       "resultDbfsStatus": "INLINED_IN_TREE",
       "results": null,
       "showCommandTitle": false,
       "startTime": 0,
       "state": "input",
       "streamStates": {},
       "subcommandOptions": {
        "queryPlan": {
         "groups": [
          {
           "column": "name",
           "type": "column"
          }
         ],
         "selects": [
          {
           "column": "name",
           "type": "column"
          },
          {
           "alias": "column_8e313d2d172",
           "args": [
            {
             "column": "net_rating",
             "type": "column"
            }
           ],
           "function": "SUM",
           "type": "function"
          }
         ]
        }
       },
       "submitTime": 0,
       "subtype": "tableResultSubCmd.visualization",
       "tableResultIndex": 0,
       "tableResultSettingsMap": {},
       "useConsistentColors": false,
       "version": "CommandV1",
       "width": "auto",
       "workflows": [],
       "xColumns": null,
       "yColumns": null
      }
     },
     "output_type": "display_data"
    }
   ],
   "source": [
    "best_rated_df = df.groupBy(F.col(\"appid\"))\\\n",
    "                  .agg((F.string_agg_distinct(\"name\")).alias(\"name\"), # in case the same game appears with different names\n",
    "                       (F.sum(\"positive_reviews\") - F.sum(\"negative_reviews\")).alias(\"net_rating\"))\\\n",
    "                  .orderBy(F.desc(\"net_rating\"))\n",
    "get_head_as_df(best_rated_df)"
   ]
  },
  {
   "cell_type": "markdown",
   "metadata": {
    "application/vnd.databricks.v1+cell": {
     "cellMetadata": {},
     "inputWidgets": {},
     "nuid": "56f0bc53-1e84-49be-940d-16b76a33d2fb",
     "showTitle": false,
     "tableResultSettingsMap": {},
     "title": ""
    }
   },
   "source": [
    "The top 10 best-rated games are:\n",
    "- Counter-Strike: Global Offensive\n",
    "- Dota 2\n",
    "- Grand Theft Auto V\n",
    "- Terraria\n",
    "- Garry's Mod\n",
    "- Tom Clancy's Rainbow Six Siege\n",
    "- Team Fortress 2\n",
    "- Left 4 Dead 2\n",
    "- Rust\n",
    "- The Witcher 3: Wild Hunt"
   ]
  },
  {
   "cell_type": "markdown",
   "metadata": {
    "application/vnd.databricks.v1+cell": {
     "cellMetadata": {},
     "inputWidgets": {},
     "nuid": "d829bae4-b2af-4d1b-98ae-c942e75d56ec",
     "showTitle": false,
     "tableResultSettingsMap": {},
     "title": ""
    }
   },
   "source": [
    "### Are there years with more releases? Were there more or fewer game releases during Covid, for example?"
   ]
  },
  {
   "cell_type": "code",
   "execution_count": 0,
   "metadata": {
    "application/vnd.databricks.v1+cell": {
     "cellMetadata": {
      "byteLimit": 2048000,
      "rowLimit": 10000
     },
     "inputWidgets": {},
     "nuid": "9be43ade-3783-4af5-93be-2a608c851d94",
     "showTitle": false,
     "tableResultSettingsMap": {},
     "title": ""
    }
   },
   "outputs": [
    {
     "data": {
      "text/html": [
       "<style scoped>\n",
       "  .table-result-container {\n",
       "    max-height: 300px;\n",
       "    overflow: auto;\n",
       "  }\n",
       "  table, th, td {\n",
       "    border: 1px solid black;\n",
       "    border-collapse: collapse;\n",
       "  }\n",
       "  th, td {\n",
       "    padding: 5px;\n",
       "  }\n",
       "  th {\n",
       "    text-align: left;\n",
       "  }\n",
       "</style><div class='table-result-container'><table class='table-result'><thead style='background-color: white'><tr><th>release_year</th><th>release_count</th></tr></thead><tbody><tr><td>2021</td><td>8823</td></tr><tr><td>2020</td><td>8305</td></tr><tr><td>2018</td><td>7678</td></tr><tr><td>2022</td><td>7455</td></tr><tr><td>2019</td><td>6968</td></tr><tr><td>2017</td><td>6017</td></tr><tr><td>2016</td><td>4185</td></tr><tr><td>2015</td><td>2575</td></tr><tr><td>2014</td><td>1557</td></tr><tr><td>2013</td><td>471</td></tr><tr><td>2012</td><td>345</td></tr><tr><td>2009</td><td>311</td></tr><tr><td>2010</td><td>288</td></tr><tr><td>2011</td><td>267</td></tr><tr><td>2008</td><td>159</td></tr><tr><td>2007</td><td>98</td></tr><tr><td>2006</td><td>61</td></tr><tr><td>2005</td><td>6</td></tr><tr><td>2004</td><td>6</td></tr><tr><td>2001</td><td>4</td></tr><tr><td>1999</td><td>3</td></tr><tr><td>2003</td><td>3</td></tr><tr><td>2000</td><td>2</td></tr><tr><td>1997</td><td>2</td></tr><tr><td>2002</td><td>1</td></tr><tr><td>1998</td><td>1</td></tr></tbody></table></div>"
      ]
     },
     "metadata": {
      "application/vnd.databricks.v1+output": {
       "addedWidgets": {},
       "aggData": [],
       "aggError": "",
       "aggOverflow": false,
       "aggSchema": [],
       "aggSeriesLimitReached": false,
       "aggType": "",
       "arguments": {},
       "columnCustomDisplayInfos": {},
       "data": [
        [
         "2021",
         8823
        ],
        [
         "2020",
         8305
        ],
        [
         "2018",
         7678
        ],
        [
         "2022",
         7455
        ],
        [
         "2019",
         6968
        ],
        [
         "2017",
         6017
        ],
        [
         "2016",
         4185
        ],
        [
         "2015",
         2575
        ],
        [
         "2014",
         1557
        ],
        [
         "2013",
         471
        ],
        [
         "2012",
         345
        ],
        [
         "2009",
         311
        ],
        [
         "2010",
         288
        ],
        [
         "2011",
         267
        ],
        [
         "2008",
         159
        ],
        [
         "2007",
         98
        ],
        [
         "2006",
         61
        ],
        [
         "2005",
         6
        ],
        [
         "2004",
         6
        ],
        [
         "2001",
         4
        ],
        [
         "1999",
         3
        ],
        [
         "2003",
         3
        ],
        [
         "2000",
         2
        ],
        [
         "1997",
         2
        ],
        [
         "2002",
         1
        ],
        [
         "1998",
         1
        ]
       ],
       "datasetInfos": [],
       "dbfsResultPath": null,
       "isJsonSchema": true,
       "metadata": {},
       "overflow": false,
       "plotOptions": {
        "customPlotOptions": {},
        "displayType": "table",
        "pivotAggregation": null,
        "pivotColumns": null,
        "xColumns": null,
        "yColumns": null
       },
       "removedWidgets": [],
       "schema": [
        {
         "metadata": "{}",
         "name": "release_year",
         "type": "\"string\""
        },
        {
         "metadata": "{}",
         "name": "release_count",
         "type": "\"long\""
        }
       ],
       "type": "table"
      }
     },
     "output_type": "display_data"
    }
   ],
   "source": [
    "# lazy solution\n",
    "\n",
    "big_years_df = df.filter(F.col(\"release_date\") != \"\")\\\n",
    "                 .withColumn(\"release_year\", F.col(\"release_date\")[0:4])\\\n",
    "                 .groupBy(F.col(\"release_year\"))\\\n",
    "                 .agg((F.count(\"appid\")).alias(\"release_count\"))\\\n",
    "                 .orderBy(F.desc(\"release_count\"))\n",
    "big_years_df.display()\n",
    "\n",
    "# I specified the 0 start position in the slice because pyspark doesn't understand `F.col(\"release_date\")[:4]`"
   ]
  },
  {
   "cell_type": "code",
   "execution_count": 0,
   "metadata": {
    "application/vnd.databricks.v1+cell": {
     "cellMetadata": {
      "byteLimit": 2048000,
      "rowLimit": 10000
     },
     "inputWidgets": {},
     "nuid": "508ad236-07e0-4771-99a9-93834c2ac934",
     "showTitle": false,
     "tableResultSettingsMap": {},
     "title": ""
    }
   },
   "outputs": [
    {
     "data": {
      "text/html": [
       "<style scoped>\n",
       "  .table-result-container {\n",
       "    max-height: 300px;\n",
       "    overflow: auto;\n",
       "  }\n",
       "  table, th, td {\n",
       "    border: 1px solid black;\n",
       "    border-collapse: collapse;\n",
       "  }\n",
       "  th, td {\n",
       "    padding: 5px;\n",
       "  }\n",
       "  th {\n",
       "    text-align: left;\n",
       "  }\n",
       "</style><div class='table-result-container'><table class='table-result'><thead style='background-color: white'><tr><th>release_year</th><th>release_count</th></tr></thead><tbody><tr><td>2021</td><td>8823</td></tr><tr><td>2020</td><td>8305</td></tr><tr><td>2018</td><td>7678</td></tr><tr><td>2022</td><td>7455</td></tr><tr><td>2019</td><td>6968</td></tr><tr><td>2017</td><td>6017</td></tr><tr><td>2016</td><td>4185</td></tr><tr><td>2015</td><td>2575</td></tr><tr><td>2014</td><td>1557</td></tr><tr><td>2013</td><td>471</td></tr><tr><td>2012</td><td>345</td></tr><tr><td>2009</td><td>311</td></tr><tr><td>2010</td><td>288</td></tr><tr><td>2011</td><td>267</td></tr><tr><td>2008</td><td>159</td></tr><tr><td>2007</td><td>98</td></tr><tr><td>2006</td><td>61</td></tr><tr><td>2005</td><td>6</td></tr><tr><td>2004</td><td>6</td></tr><tr><td>2001</td><td>4</td></tr></tbody></table></div>"
      ]
     },
     "metadata": {
      "application/vnd.databricks.v1+output": {
       "addedWidgets": {},
       "aggData": [],
       "aggError": "",
       "aggOverflow": false,
       "aggSchema": [],
       "aggSeriesLimitReached": false,
       "aggType": "",
       "arguments": {},
       "columnCustomDisplayInfos": {},
       "data": [
        [
         2021,
         8823
        ],
        [
         2020,
         8305
        ],
        [
         2018,
         7678
        ],
        [
         2022,
         7455
        ],
        [
         2019,
         6968
        ],
        [
         2017,
         6017
        ],
        [
         2016,
         4185
        ],
        [
         2015,
         2575
        ],
        [
         2014,
         1557
        ],
        [
         2013,
         471
        ],
        [
         2012,
         345
        ],
        [
         2009,
         311
        ],
        [
         2010,
         288
        ],
        [
         2011,
         267
        ],
        [
         2008,
         159
        ],
        [
         2007,
         98
        ],
        [
         2006,
         61
        ],
        [
         2005,
         6
        ],
        [
         2004,
         6
        ],
        [
         2001,
         4
        ]
       ],
       "datasetInfos": [],
       "dbfsResultPath": null,
       "isJsonSchema": true,
       "metadata": {},
       "overflow": false,
       "plotOptions": {
        "customPlotOptions": {},
        "displayType": "table",
        "pivotAggregation": null,
        "pivotColumns": null,
        "xColumns": null,
        "yColumns": null
       },
       "removedWidgets": [],
       "schema": [
        {
         "metadata": "{}",
         "name": "release_year",
         "type": "\"long\""
        },
        {
         "metadata": "{}",
         "name": "release_count",
         "type": "\"long\""
        }
       ],
       "type": "table"
      }
     },
     "output_type": "display_data"
    },
    {
     "data": {
      "text/plain": [
       "Databricks visualization. Run in Databricks to view."
      ]
     },
     "metadata": {
      "application/vnd.databricks.v1.subcommand+json": {
       "baseErrorDetails": null,
       "bindings": {},
       "collapsed": false,
       "command": "%python\n__backend_agg_display_orig = display\n__backend_agg_dfs = []\ndef __backend_agg_display_new(df):\n    __backend_agg_df_modules = [\"pandas.core.frame\", \"databricks.koalas.frame\", \"pyspark.sql.dataframe\", \"pyspark.pandas.frame\", \"pyspark.sql.connect.dataframe\"]\n    if (type(df).__module__ in __backend_agg_df_modules and type(df).__name__ == 'DataFrame') or isinstance(df, list):\n        __backend_agg_dfs.append(df)\n\ndisplay = __backend_agg_display_new\n\ndef __backend_agg_user_code_fn():\n    import base64\n    exec(base64.standard_b64decode(\"ZGVmIGZpeF9kYXRlcyhkYXRlX3N0cik6CiAgICAgbWF0Y2ggbGVuKGRhdGVfc3RyKToKICAgICAgICAgIGNhc2UgNzoKICAgICAgICAgICAgICAgcmV0dXJuIGRhdGVfc3RyICsgIi8wMSIKICAgICAgICAgIGNhc2UgOToKICAgICAgICAgICAgICAgcmV0dXJuIGRhdGVfc3RyWzo4XSArICIwIiArIGRhdGVfc3RyWzhdCiAgICAgICAgICBjYXNlIDEwOgogICAgICAgICAgICAgICByZXR1cm4gZGF0ZV9zdHIKICAgICAgICAgIGNhc2UgXzoKICAgICAgICAgICAgICAgcmFpc2UgRXhjZXB0aW9uKGYiVGhlIHN0cmluZyB3YXMge2xlbihkYXRlX3N0cil9IGNoYXJhY3RlcnMgbG9uZy4iKQoKZml4X2RhdGVzID0gRi51ZGYoZml4X2RhdGVzKQoKYmlnX3llYXJzX2RmID0gZGYuZmlsdGVyKEYuY29sKCJyZWxlYXNlX2RhdGUiKSAhPSAiIilcCiAgICAgICAgICAgICAgICAgLndpdGhDb2x1bW4oInJlbGVhc2VfeWVhciIsCiAgICAgICAgICAgICAgICAgICAgICAgICAgICAgRi55ZWFyKAogICAgICAgICAgICAgICAgICAgICAgICAgICAgICAgICAgRi50b19kYXRlKAogICAgICAgICAgICAgICAgICAgICAgICAgICAgICAgICAgICAgICBmaXhfZGF0ZXMoRi5jb2woInJlbGVhc2VfZGF0ZSIpKSwKICAgICAgICAgICAgICAgICAgICAgICAgICAgICAgICAgICAgICAgInl5eXkvTU0vZGQiKSkpXAogICAgICAgICAgICAgICAgIC5ncm91cEJ5KEYuY29sKCJyZWxlYXNlX3llYXIiKSlcCiAgICAgICAgICAgICAgICAgLmFnZygoRi5jb3VudCgiYXBwaWQiKSkuYWxpYXMoInJlbGVhc2VfY291bnQiKSlcCiAgICAgICAgICAgICAgICAgLm9yZGVyQnkoRi5kZXNjKCJyZWxlYXNlX2NvdW50IikpCmdldF9oZWFkX2FzX2RmKGJpZ195ZWFyc19kZik=\").decode())\n\ntry:\n    # run user code\n    __backend_agg_user_code_fn()\n\n    #reset display function\n    display = __backend_agg_display_orig\n\n    if len(__backend_agg_dfs) > 0:\n        # create a temp view\n        if type(__backend_agg_dfs[0]).__module__ == \"databricks.koalas.frame\":\n            # koalas dataframe\n            __backend_agg_dfs[0].to_spark().createOrReplaceTempView(\"DatabricksView9b0f136\")\n        elif type(__backend_agg_dfs[0]).__module__ == \"pandas.core.frame\" or isinstance(__backend_agg_dfs[0], list):\n            # pandas dataframe\n            spark.createDataFrame(__backend_agg_dfs[0]).createOrReplaceTempView(\"DatabricksView9b0f136\")\n        else:\n            __backend_agg_dfs[0].createOrReplaceTempView(\"DatabricksView9b0f136\")\n        #run backend agg\n        display(spark.sql(\"\"\"WITH q AS (select * from DatabricksView9b0f136) SELECT `release_year`,SUM(`release_count`) `column_6fbc588f137` FROM q GROUP BY `release_year`\"\"\"))\n    else:\n        displayHTML(\"dataframe no longer exists. If you're using dataframe.display(), use display(dataframe) instead.\")\n\n\nfinally:\n    spark.sql(\"drop view if exists DatabricksView9b0f136\")\n    display = __backend_agg_display_orig\n    del __backend_agg_display_new\n    del __backend_agg_display_orig\n    del __backend_agg_dfs\n    del __backend_agg_user_code_fn\n\n",
       "commandTitle": "Releases along the years",
       "commandType": "auto",
       "commandVersion": 0,
       "commentThread": [],
       "commentsVisible": false,
       "contentSha256Hex": null,
       "customPlotOptions": {
        "redashChart": [
         {
          "key": "type",
          "value": "CHART"
         },
         {
          "key": "options",
          "value": {
           "alignYAxesAtZero": true,
           "coefficient": 1,
           "columnConfigurationMap": {
            "x": {
             "column": "release_year",
             "id": "column_6fbc588f136"
            },
            "y": [
             {
              "column": "release_count",
              "id": "column_6fbc588f137",
              "transform": "SUM"
             }
            ]
           },
           "dateTimeFormat": "DD/MM/YYYY HH:mm",
           "direction": {
            "type": "counterclockwise"
           },
           "error_y": {
            "type": "data",
            "visible": true
           },
           "globalSeriesType": "line",
           "isAggregationOn": true,
           "legend": {
            "traceorder": "normal"
           },
           "missingValuesAsZero": true,
           "numberFormat": "0,0.[00000]",
           "percentFormat": "0[.]00%",
           "series": {
            "error_y": {
             "type": "data",
             "visible": true
            },
            "stacking": null
           },
           "seriesOptions": {
            "column_6fbc588f137": {
             "name": "release_count",
             "type": "line",
             "yAxis": 0
            }
           },
           "showDataLabels": false,
           "sizemode": "diameter",
           "sortX": true,
           "sortY": true,
           "swappedAxes": false,
           "textFormat": "",
           "useAggregationsUi": true,
           "valuesOptions": {},
           "version": 2,
           "xAxis": {
            "labels": {
             "enabled": true
            },
            "type": "-"
           },
           "yAxis": [
            {
             "type": "-"
            },
            {
             "opposite": true,
             "type": "-"
            }
           ]
          }
         }
        ]
       },
       "datasetPreviewNameToCmdIdMap": {},
       "diffDeletes": [],
       "diffInserts": [],
       "displayType": "redashChart",
       "error": null,
       "errorDetails": null,
       "errorSummary": null,
       "errorTraceType": null,
       "finishTime": 0,
       "globalVars": {},
       "guid": "",
       "height": "auto",
       "hideCommandCode": false,
       "hideCommandResult": false,
       "iPythonMetadata": null,
       "inputWidgets": {},
       "isLockedInExamMode": false,
       "latestAssumeRoleInfo": null,
       "latestUser": "a user",
       "latestUserId": null,
       "listResultMetadata": null,
       "metadata": {},
       "nuid": "b692a7ea-e4e1-49ce-acef-afbc885ec17d",
       "origId": 0,
       "parentHierarchy": [],
       "pivotAggregation": null,
       "pivotColumns": null,
       "position": 2.953125,
       "resultDbfsErrorMessage": null,
       "resultDbfsStatus": "INLINED_IN_TREE",
       "results": null,
       "showCommandTitle": false,
       "startTime": 0,
       "state": "input",
       "streamStates": {},
       "subcommandOptions": {
        "queryPlan": {
         "groups": [
          {
           "column": "release_year",
           "type": "column"
          }
         ],
         "selects": [
          {
           "column": "release_year",
           "type": "column"
          },
          {
           "alias": "column_6fbc588f137",
           "args": [
            {
             "column": "release_count",
             "type": "column"
            }
           ],
           "function": "SUM",
           "type": "function"
          }
         ]
        }
       },
       "submitTime": 0,
       "subtype": "tableResultSubCmd.visualization",
       "tableResultIndex": 0,
       "tableResultSettingsMap": {},
       "useConsistentColors": false,
       "version": "CommandV1",
       "width": "auto",
       "workflows": [],
       "xColumns": null,
       "yColumns": null
      }
     },
     "output_type": "display_data"
    }
   ],
   "source": [
    "# show-off solution\n",
    "\n",
    "def fix_dates(date_str):\n",
    "     match len(date_str):\n",
    "          case 7:\n",
    "               return date_str + \"/01\"\n",
    "          case 9:\n",
    "               return date_str[:8] + \"0\" + date_str[8]\n",
    "          case 10:\n",
    "               return date_str\n",
    "          case _:\n",
    "               raise Exception(f\"The string was {len(date_str)} characters long.\")\n",
    "\n",
    "fix_dates = F.udf(fix_dates)\n",
    "\n",
    "big_years_df = df.filter(F.col(\"release_date\") != \"\")\\\n",
    "                 .withColumn(\"release_year\",\n",
    "                             F.year(\n",
    "                                  F.to_date(\n",
    "                                       fix_dates(F.col(\"release_date\")),\n",
    "                                       \"yyyy/MM/dd\")))\\\n",
    "                 .groupBy(F.col(\"release_year\"))\\\n",
    "                 .agg((F.count(\"appid\")).alias(\"release_count\"))\\\n",
    "                 .orderBy(F.desc(\"release_count\"))\n",
    "get_head_as_df(big_years_df)"
   ]
  },
  {
   "cell_type": "markdown",
   "metadata": {
    "application/vnd.databricks.v1+cell": {
     "cellMetadata": {},
     "inputWidgets": {},
     "nuid": "d9944e32-93f3-4bde-b664-499beab94a34",
     "showTitle": false,
     "tableResultSettingsMap": {},
     "title": ""
    }
   },
   "source": [
    "Until 2013, publishers were still shy about publishing on Steam. From then onwards, yearly releases skyrocket.\\\n",
    "There is a little dip in 2019, but SARS-CoV-2 came to the rescue with the highest peak in the data in 2021.\\\n",
    "The data stops in 2022, still in the throws of the Covid pandemic, and release rates had come down to just about where they were before the 2019 dip."
   ]
  },
  {
   "cell_type": "markdown",
   "metadata": {
    "application/vnd.databricks.v1+cell": {
     "cellMetadata": {},
     "inputWidgets": {},
     "nuid": "69a36c4c-837b-4835-9703-21065fb4767e",
     "showTitle": false,
     "tableResultSettingsMap": {},
     "title": ""
    }
   },
   "source": [
    "### How are prices distributed? Are there many games with a discount?"
   ]
  },
  {
   "cell_type": "code",
   "execution_count": 0,
   "metadata": {
    "application/vnd.databricks.v1+cell": {
     "cellMetadata": {
      "byteLimit": 2048000,
      "rowLimit": 10000
     },
     "inputWidgets": {},
     "nuid": "362e5178-0254-465c-bab5-7a1ba35dc5d2",
     "showTitle": false,
     "tableResultSettingsMap": {},
     "title": ""
    }
   },
   "outputs": [
    {
     "name": "stdout",
     "output_type": "stream",
     "text": [
      "4.52% of games in the data have a discount\n"
     ]
    }
   ],
   "source": [
    "has_discount_rows = df.withColumn(\"has_discount\", F.col(\"price\") < F.col(\"initialprice\"))\\\n",
    "                      .select(F.col(\"has_discount\"))\\\n",
    "                      .collect()\n",
    "has_discount_binary = [1 if row_obj[\"has_discount\"] else 0\n",
    "                       for row_obj in has_discount_rows]\n",
    "\n",
    "percentage_discounted = sum(has_discount_binary) / len(has_discount_binary) * 100\n",
    "print(f\"{percentage_discounted:.2f}% of games in the data have a discount\")"
   ]
  },
  {
   "cell_type": "code",
   "execution_count": 0,
   "metadata": {
    "application/vnd.databricks.v1+cell": {
     "cellMetadata": {
      "byteLimit": 2048000,
      "rowLimit": 10000
     },
     "inputWidgets": {},
     "nuid": "9d00d2e3-783c-4d41-b2a8-6250a3df821b",
     "showTitle": false,
     "tableResultSettingsMap": {
      "0": {
       "dataGridStateBlob": "{\"version\":1,\"tableState\":{\"columnPinning\":{\"left\":[\"#row_number#\"],\"right\":[]},\"columnSizing\":{},\"columnVisibility\":{}},\"settings\":{\"columns\":{}},\"syncTimestamp\":1759234771993}",
       "filterBlob": "{\"version\":1,\"filterGroups\":[{\"enabled\":true,\"op\":\"OR\",\"filterGroupId\":\"fg_47d81ae0\",\"filters\":[{\"filterId\":\"f_5b79e50a\",\"columnId\":\"price\",\"enabled\":true,\"dataType\":\"integer\",\"filterType\":\"lte\",\"filterValue\":10000,\"filterValues\":[],\"filterConfig\":{}}],\"local\":false,\"updatedAt\":1759234876731}],\"syncTimestamp\":1759234876732}",
       "queryPlanFiltersBlob": "[{\"kind\":\"call\",\"function\":\"or\",\"args\":[{\"kind\":\"call\",\"function\":\"lte\",\"args\":[{\"kind\":\"identifier\",\"identifier\":\"price\"},{\"kind\":\"literal\",\"value\":10000,\"type\":\"integer\"}]}]}]",
       "tableResultIndex": 0
      }
     },
     "title": ""
    }
   },
   "outputs": [
    {
     "data": {
      "text/html": [
       "<style scoped>\n",
       "  .table-result-container {\n",
       "    max-height: 300px;\n",
       "    overflow: auto;\n",
       "  }\n",
       "  table, th, td {\n",
       "    border: 1px solid black;\n",
       "    border-collapse: collapse;\n",
       "  }\n",
       "  th, td {\n",
       "    padding: 5px;\n",
       "  }\n",
       "  th {\n",
       "    text-align: left;\n",
       "  }\n",
       "</style><div class='table-result-container'><table class='table-result'><thead style='background-color: white'><tr><th>price</th><th>game_count_for_price</th></tr></thead><tbody><tr><td>0</td><td>7779</td></tr><tr><td>28</td><td>20</td></tr><tr><td>29</td><td>11</td></tr><tr><td>30</td><td>2</td></tr><tr><td>31</td><td>6</td></tr><tr><td>37</td><td>19</td></tr><tr><td>38</td><td>7</td></tr><tr><td>39</td><td>7</td></tr><tr><td>41</td><td>10</td></tr><tr><td>44</td><td>1</td></tr><tr><td>45</td><td>2</td></tr><tr><td>49</td><td>303</td></tr><tr><td>50</td><td>25</td></tr><tr><td>51</td><td>51</td></tr><tr><td>53</td><td>5</td></tr><tr><td>54</td><td>21</td></tr><tr><td>56</td><td>2</td></tr><tr><td>57</td><td>3</td></tr><tr><td>59</td><td>97</td></tr><tr><td>61</td><td>2</td></tr><tr><td>62</td><td>1</td></tr><tr><td>64</td><td>3</td></tr><tr><td>65</td><td>1</td></tr><tr><td>67</td><td>2</td></tr><tr><td>69</td><td>38</td></tr><tr><td>71</td><td>1</td></tr><tr><td>74</td><td>34</td></tr><tr><td>75</td><td>2</td></tr><tr><td>76</td><td>1</td></tr><tr><td>77</td><td>4</td></tr><tr><td>79</td><td>40</td></tr><tr><td>80</td><td>1</td></tr><tr><td>81</td><td>2</td></tr><tr><td>83</td><td>2</td></tr><tr><td>84</td><td>3</td></tr><tr><td>89</td><td>25</td></tr><tr><td>90</td><td>32</td></tr><tr><td>91</td><td>4</td></tr><tr><td>95</td><td>1</td></tr><tr><td>98</td><td>1</td></tr><tr><td>99</td><td>5243</td></tr><tr><td>100</td><td>16</td></tr><tr><td>103</td><td>4</td></tr><tr><td>104</td><td>6</td></tr><tr><td>107</td><td>1</td></tr><tr><td>109</td><td>5</td></tr><tr><td>111</td><td>1</td></tr><tr><td>119</td><td>40</td></tr><tr><td>123</td><td>2</td></tr><tr><td>124</td><td>21</td></tr><tr><td>129</td><td>8</td></tr><tr><td>132</td><td>1</td></tr><tr><td>133</td><td>2</td></tr><tr><td>134</td><td>3</td></tr><tr><td>135</td><td>1</td></tr><tr><td>136</td><td>1</td></tr><tr><td>139</td><td>19</td></tr><tr><td>140</td><td>1</td></tr><tr><td>142</td><td>1</td></tr><tr><td>145</td><td>1</td></tr><tr><td>147</td><td>2</td></tr><tr><td>149</td><td>73</td></tr><tr><td>150</td><td>6</td></tr><tr><td>154</td><td>3</td></tr><tr><td>155</td><td>1</td></tr><tr><td>158</td><td>2</td></tr><tr><td>159</td><td>25</td></tr><tr><td>164</td><td>1</td></tr><tr><td>169</td><td>7</td></tr><tr><td>174</td><td>12</td></tr><tr><td>179</td><td>23</td></tr><tr><td>183</td><td>1</td></tr><tr><td>187</td><td>1</td></tr><tr><td>188</td><td>1</td></tr><tr><td>189</td><td>2</td></tr><tr><td>191</td><td>1</td></tr><tr><td>194</td><td>2</td></tr><tr><td>195</td><td>1</td></tr><tr><td>197</td><td>3</td></tr><tr><td>198</td><td>1</td></tr><tr><td>199</td><td>4193</td></tr><tr><td>200</td><td>8</td></tr><tr><td>203</td><td>1</td></tr><tr><td>209</td><td>34</td></tr><tr><td>214</td><td>1</td></tr><tr><td>216</td><td>1</td></tr><tr><td>219</td><td>14</td></tr><tr><td>222</td><td>1</td></tr><tr><td>224</td><td>12</td></tr><tr><td>229</td><td>1</td></tr><tr><td>230</td><td>1</td></tr><tr><td>236</td><td>1</td></tr><tr><td>239</td><td>27</td></tr><tr><td>244</td><td>4</td></tr><tr><td>245</td><td>1</td></tr><tr><td>249</td><td>99</td></tr><tr><td>250</td><td>5</td></tr><tr><td>251</td><td>1</td></tr><tr><td>254</td><td>2</td></tr><tr><td>259</td><td>11</td></tr><tr><td>263</td><td>1</td></tr><tr><td>269</td><td>8</td></tr><tr><td>271</td><td>4</td></tr><tr><td>274</td><td>1</td></tr><tr><td>279</td><td>22</td></tr><tr><td>288</td><td>1</td></tr><tr><td>290</td><td>1</td></tr><tr><td>293</td><td>1</td></tr><tr><td>294</td><td>1</td></tr><tr><td>299</td><td>3639</td></tr><tr><td>300</td><td>9</td></tr><tr><td>303</td><td>1</td></tr><tr><td>309</td><td>4</td></tr><tr><td>314</td><td>1</td></tr><tr><td>319</td><td>6</td></tr><tr><td>324</td><td>6</td></tr><tr><td>329</td><td>2</td></tr><tr><td>333</td><td>1</td></tr><tr><td>339</td><td>6</td></tr><tr><td>349</td><td>45</td></tr><tr><td>350</td><td>1</td></tr><tr><td>359</td><td>20</td></tr><tr><td>360</td><td>1</td></tr><tr><td>369</td><td>1</td></tr><tr><td>373</td><td>1</td></tr><tr><td>374</td><td>29</td></tr><tr><td>375</td><td>1</td></tr><tr><td>377</td><td>2</td></tr><tr><td>379</td><td>2</td></tr><tr><td>386</td><td>1</td></tr><tr><td>388</td><td>1</td></tr><tr><td>389</td><td>8</td></tr><tr><td>391</td><td>1</td></tr><tr><td>397</td><td>2</td></tr><tr><td>399</td><td>2530</td></tr><tr><td>400</td><td>6</td></tr><tr><td>419</td><td>11</td></tr><tr><td>420</td><td>8</td></tr><tr><td>424</td><td>4</td></tr><tr><td>428</td><td>1</td></tr><tr><td>430</td><td>1</td></tr><tr><td>433</td><td>1</td></tr><tr><td>439</td><td>4</td></tr><tr><td>449</td><td>41</td></tr><tr><td>454</td><td>3</td></tr><tr><td>459</td><td>1</td></tr><tr><td>463</td><td>1</td></tr><tr><td>464</td><td>1</td></tr><tr><td>479</td><td>18</td></tr><tr><td>485</td><td>1</td></tr><tr><td>488</td><td>1</td></tr><tr><td>489</td><td>3</td></tr><tr><td>493</td><td>3</td></tr><tr><td>494</td><td>2</td></tr><tr><td>495</td><td>1</td></tr><tr><td>499</td><td>6250</td></tr><tr><td>500</td><td>20</td></tr><tr><td>509</td><td>10</td></tr><tr><td>510</td><td>2</td></tr><tr><td>514</td><td>1</td></tr><tr><td>519</td><td>4</td></tr><tr><td>524</td><td>7</td></tr><tr><td>529</td><td>1</td></tr><tr><td>539</td><td>4</td></tr><tr><td>549</td><td>6</td></tr><tr><td>550</td><td>1</td></tr><tr><td>557</td><td>1</td></tr><tr><td>558</td><td>1</td></tr><tr><td>559</td><td>9</td></tr><tr><td>565</td><td>1</td></tr><tr><td>569</td><td>1</td></tr><tr><td>573</td><td>1</td></tr><tr><td>577</td><td>1</td></tr><tr><td>579</td><td>1</td></tr><tr><td>584</td><td>2</td></tr><tr><td>590</td><td>1</td></tr><tr><td>594</td><td>2</td></tr><tr><td>599</td><td>1854</td></tr><tr><td>600</td><td>5</td></tr><tr><td>610</td><td>1</td></tr><tr><td>619</td><td>1</td></tr><tr><td>623</td><td>1</td></tr><tr><td>624</td><td>5</td></tr><tr><td>629</td><td>9</td></tr><tr><td>631</td><td>1</td></tr><tr><td>636</td><td>1</td></tr><tr><td>639</td><td>6</td></tr><tr><td>649</td><td>13</td></tr><tr><td>659</td><td>2</td></tr><tr><td>666</td><td>3</td></tr><tr><td>669</td><td>7</td></tr><tr><td>674</td><td>4</td></tr><tr><td>679</td><td>7</td></tr><tr><td>680</td><td>1</td></tr><tr><td>698</td><td>1</td></tr><tr><td>699</td><td>1856</td></tr><tr><td>700</td><td>1</td></tr><tr><td>706</td><td>1</td></tr><tr><td>714</td><td>2</td></tr><tr><td>719</td><td>5</td></tr><tr><td>736</td><td>1</td></tr><tr><td>749</td><td>40</td></tr><tr><td>750</td><td>1</td></tr><tr><td>764</td><td>1</td></tr><tr><td>769</td><td>1</td></tr><tr><td>777</td><td>1</td></tr><tr><td>779</td><td>7</td></tr><tr><td>795</td><td>1</td></tr><tr><td>799</td><td>1580</td></tr><tr><td>800</td><td>3</td></tr><tr><td>809</td><td>1</td></tr><tr><td>819</td><td>1</td></tr><tr><td>824</td><td>4</td></tr><tr><td>839</td><td>5</td></tr><tr><td>849</td><td>8</td></tr><tr><td>854</td><td>1</td></tr><tr><td>870</td><td>1</td></tr><tr><td>874</td><td>1</td></tr><tr><td>879</td><td>1</td></tr><tr><td>888</td><td>1</td></tr><tr><td>890</td><td>1</td></tr><tr><td>898</td><td>1</td></tr><tr><td>899</td><td>753</td></tr><tr><td>900</td><td>2</td></tr><tr><td>909</td><td>3</td></tr><tr><td>911</td><td>1</td></tr><tr><td>929</td><td>1</td></tr><tr><td>949</td><td>1</td></tr><tr><td>959</td><td>3</td></tr><tr><td>969</td><td>1</td></tr><tr><td>974</td><td>13</td></tr><tr><td>979</td><td>3</td></tr><tr><td>987</td><td>1</td></tr><tr><td>989</td><td>7</td></tr><tr><td>990</td><td>6</td></tr><tr><td>995</td><td>2</td></tr><tr><td>998</td><td>1</td></tr><tr><td>999</td><td>6126</td></tr><tr><td>1000</td><td>10</td></tr><tr><td>1004</td><td>3</td></tr><tr><td>1019</td><td>3</td></tr><tr><td>1025</td><td>1</td></tr><tr><td>1039</td><td>4</td></tr><tr><td>1049</td><td>9</td></tr><tr><td>1079</td><td>4</td></tr><tr><td>1099</td><td>430</td></tr><tr><td>1104</td><td>2</td></tr><tr><td>1119</td><td>1</td></tr><tr><td>1124</td><td>7</td></tr><tr><td>1139</td><td>1</td></tr><tr><td>1149</td><td>1</td></tr><tr><td>1169</td><td>5</td></tr><tr><td>1189</td><td>1</td></tr><tr><td>1190</td><td>1</td></tr><tr><td>1199</td><td>822</td></tr><tr><td>1200</td><td>4</td></tr><tr><td>1224</td><td>1</td></tr><tr><td>1240</td><td>1</td></tr><tr><td>1249</td><td>14</td></tr><tr><td>1259</td><td>5</td></tr><tr><td>1274</td><td>5</td></tr><tr><td>1279</td><td>1</td></tr><tr><td>1290</td><td>1</td></tr><tr><td>1295</td><td>1</td></tr><tr><td>1299</td><td>796</td></tr><tr><td>1313</td><td>1</td></tr><tr><td>1329</td><td>2</td></tr><tr><td>1337</td><td>1</td></tr><tr><td>1339</td><td>1</td></tr><tr><td>1349</td><td>9</td></tr><tr><td>1359</td><td>2</td></tr><tr><td>1399</td><td>276</td></tr><tr><td>1438</td><td>1</td></tr><tr><td>1439</td><td>1</td></tr><tr><td>1449</td><td>2</td></tr><tr><td>1450</td><td>1</td></tr><tr><td>1473</td><td>1</td></tr><tr><td>1495</td><td>1</td></tr><tr><td>1499</td><td>2878</td></tr><tr><td>1500</td><td>9</td></tr><tr><td>1510</td><td>1</td></tr><tr><td>1519</td><td>2</td></tr><tr><td>1529</td><td>3</td></tr><tr><td>1558</td><td>1</td></tr><tr><td>1574</td><td>1</td></tr><tr><td>1599</td><td>230</td></tr><tr><td>1600</td><td>1</td></tr><tr><td>1624</td><td>4</td></tr><tr><td>1639</td><td>1</td></tr><tr><td>1666</td><td>1</td></tr><tr><td>1699</td><td>185</td></tr><tr><td>1724</td><td>1</td></tr><tr><td>1749</td><td>7</td></tr><tr><td>1777</td><td>1</td></tr><tr><td>1799</td><td>286</td></tr><tr><td>1874</td><td>2</td></tr><tr><td>1889</td><td>1</td></tr><tr><td>1899</td><td>141</td></tr><tr><td>1900</td><td>2</td></tr><tr><td>1949</td><td>2</td></tr><tr><td>1969</td><td>1</td></tr><tr><td>1979</td><td>1</td></tr><tr><td>1984</td><td>1</td></tr><tr><td>1990</td><td>2</td></tr><tr><td>1995</td><td>2</td></tr><tr><td>1996</td><td>1</td></tr><tr><td>1997</td><td>1</td></tr><tr><td>1999</td><td>2820</td></tr><tr><td>2000</td><td>5</td></tr><tr><td>2004</td><td>1</td></tr><tr><td>2024</td><td>1</td></tr><tr><td>2099</td><td>5</td></tr><tr><td>2109</td><td>1</td></tr><tr><td>2124</td><td>1</td></tr><tr><td>2199</td><td>9</td></tr><tr><td>2249</td><td>4</td></tr><tr><td>2260</td><td>1</td></tr><tr><td>2279</td><td>1</td></tr><tr><td>2299</td><td>5</td></tr><tr><td>2339</td><td>1</td></tr><tr><td>2397</td><td>1</td></tr><tr><td>2399</td><td>9</td></tr><tr><td>2449</td><td>1</td></tr><tr><td>2459</td><td>1</td></tr><tr><td>2479</td><td>1</td></tr><tr><td>2499</td><td>862</td></tr><tr><td>2500</td><td>3</td></tr><tr><td>2599</td><td>2</td></tr><tr><td>2699</td><td>6</td></tr><tr><td>2799</td><td>2</td></tr><tr><td>2899</td><td>2</td></tr><tr><td>2990</td><td>1</td></tr><tr><td>2995</td><td>1</td></tr><tr><td>2998</td><td>2</td></tr><tr><td>2999</td><td>865</td></tr><tr><td>3000</td><td>1</td></tr><tr><td>3196</td><td>1</td></tr><tr><td>3199</td><td>3</td></tr><tr><td>3299</td><td>1</td></tr><tr><td>3366</td><td>1</td></tr><tr><td>3499</td><td>155</td></tr><tr><td>3500</td><td>1</td></tr><tr><td>3595</td><td>1</td></tr><tr><td>3599</td><td>4</td></tr><tr><td>3749</td><td>1</td></tr><tr><td>3900</td><td>1</td></tr><tr><td>3939</td><td>1</td></tr><tr><td>3990</td><td>1</td></tr><tr><td>3999</td><td>428</td></tr><tr><td>4000</td><td>1</td></tr><tr><td>4495</td><td>1</td></tr><tr><td>4498</td><td>1</td></tr><tr><td>4499</td><td>44</td></tr><tr><td>4500</td><td>1</td></tr><tr><td>4969</td><td>1</td></tr><tr><td>4999</td><td>190</td></tr><tr><td>5274</td><td>1</td></tr><tr><td>5499</td><td>15</td></tr><tr><td>5624</td><td>1</td></tr><tr><td>5795</td><td>1</td></tr><tr><td>5995</td><td>1</td></tr><tr><td>5999</td><td>187</td></tr><tr><td>6495</td><td>1</td></tr><tr><td>6499</td><td>6</td></tr><tr><td>6903</td><td>1</td></tr><tr><td>6995</td><td>1</td></tr><tr><td>6999</td><td>25</td></tr><tr><td>7499</td><td>3</td></tr><tr><td>7999</td><td>13</td></tr><tr><td>8499</td><td>1</td></tr><tr><td>8999</td><td>5</td></tr><tr><td>9499</td><td>4</td></tr><tr><td>9900</td><td>1</td></tr><tr><td>9999</td><td>24</td></tr><tr><td>11999</td><td>2</td></tr><tr><td>12499</td><td>1</td></tr><tr><td>12999</td><td>5</td></tr><tr><td>14900</td><td>1</td></tr><tr><td>14999</td><td>6</td></tr><tr><td>15999</td><td>1</td></tr><tr><td>19999</td><td>17</td></tr><tr><td>24900</td><td>1</td></tr><tr><td>26999</td><td>1</td></tr><tr><td>29990</td><td>1</td></tr><tr><td>99900</td><td>1</td></tr></tbody></table></div>"
      ]
     },
     "metadata": {
      "application/vnd.databricks.v1+output": {
       "addedWidgets": {},
       "aggData": [],
       "aggError": "",
       "aggOverflow": false,
       "aggSchema": [],
       "aggSeriesLimitReached": false,
       "aggType": "",
       "arguments": {},
       "columnCustomDisplayInfos": {},
       "data": [
        [
         0,
         7779
        ],
        [
         28,
         20
        ],
        [
         29,
         11
        ],
        [
         30,
         2
        ],
        [
         31,
         6
        ],
        [
         37,
         19
        ],
        [
         38,
         7
        ],
        [
         39,
         7
        ],
        [
         41,
         10
        ],
        [
         44,
         1
        ],
        [
         45,
         2
        ],
        [
         49,
         303
        ],
        [
         50,
         25
        ],
        [
         51,
         51
        ],
        [
         53,
         5
        ],
        [
         54,
         21
        ],
        [
         56,
         2
        ],
        [
         57,
         3
        ],
        [
         59,
         97
        ],
        [
         61,
         2
        ],
        [
         62,
         1
        ],
        [
         64,
         3
        ],
        [
         65,
         1
        ],
        [
         67,
         2
        ],
        [
         69,
         38
        ],
        [
         71,
         1
        ],
        [
         74,
         34
        ],
        [
         75,
         2
        ],
        [
         76,
         1
        ],
        [
         77,
         4
        ],
        [
         79,
         40
        ],
        [
         80,
         1
        ],
        [
         81,
         2
        ],
        [
         83,
         2
        ],
        [
         84,
         3
        ],
        [
         89,
         25
        ],
        [
         90,
         32
        ],
        [
         91,
         4
        ],
        [
         95,
         1
        ],
        [
         98,
         1
        ],
        [
         99,
         5243
        ],
        [
         100,
         16
        ],
        [
         103,
         4
        ],
        [
         104,
         6
        ],
        [
         107,
         1
        ],
        [
         109,
         5
        ],
        [
         111,
         1
        ],
        [
         119,
         40
        ],
        [
         123,
         2
        ],
        [
         124,
         21
        ],
        [
         129,
         8
        ],
        [
         132,
         1
        ],
        [
         133,
         2
        ],
        [
         134,
         3
        ],
        [
         135,
         1
        ],
        [
         136,
         1
        ],
        [
         139,
         19
        ],
        [
         140,
         1
        ],
        [
         142,
         1
        ],
        [
         145,
         1
        ],
        [
         147,
         2
        ],
        [
         149,
         73
        ],
        [
         150,
         6
        ],
        [
         154,
         3
        ],
        [
         155,
         1
        ],
        [
         158,
         2
        ],
        [
         159,
         25
        ],
        [
         164,
         1
        ],
        [
         169,
         7
        ],
        [
         174,
         12
        ],
        [
         179,
         23
        ],
        [
         183,
         1
        ],
        [
         187,
         1
        ],
        [
         188,
         1
        ],
        [
         189,
         2
        ],
        [
         191,
         1
        ],
        [
         194,
         2
        ],
        [
         195,
         1
        ],
        [
         197,
         3
        ],
        [
         198,
         1
        ],
        [
         199,
         4193
        ],
        [
         200,
         8
        ],
        [
         203,
         1
        ],
        [
         209,
         34
        ],
        [
         214,
         1
        ],
        [
         216,
         1
        ],
        [
         219,
         14
        ],
        [
         222,
         1
        ],
        [
         224,
         12
        ],
        [
         229,
         1
        ],
        [
         230,
         1
        ],
        [
         236,
         1
        ],
        [
         239,
         27
        ],
        [
         244,
         4
        ],
        [
         245,
         1
        ],
        [
         249,
         99
        ],
        [
         250,
         5
        ],
        [
         251,
         1
        ],
        [
         254,
         2
        ],
        [
         259,
         11
        ],
        [
         263,
         1
        ],
        [
         269,
         8
        ],
        [
         271,
         4
        ],
        [
         274,
         1
        ],
        [
         279,
         22
        ],
        [
         288,
         1
        ],
        [
         290,
         1
        ],
        [
         293,
         1
        ],
        [
         294,
         1
        ],
        [
         299,
         3639
        ],
        [
         300,
         9
        ],
        [
         303,
         1
        ],
        [
         309,
         4
        ],
        [
         314,
         1
        ],
        [
         319,
         6
        ],
        [
         324,
         6
        ],
        [
         329,
         2
        ],
        [
         333,
         1
        ],
        [
         339,
         6
        ],
        [
         349,
         45
        ],
        [
         350,
         1
        ],
        [
         359,
         20
        ],
        [
         360,
         1
        ],
        [
         369,
         1
        ],
        [
         373,
         1
        ],
        [
         374,
         29
        ],
        [
         375,
         1
        ],
        [
         377,
         2
        ],
        [
         379,
         2
        ],
        [
         386,
         1
        ],
        [
         388,
         1
        ],
        [
         389,
         8
        ],
        [
         391,
         1
        ],
        [
         397,
         2
        ],
        [
         399,
         2530
        ],
        [
         400,
         6
        ],
        [
         419,
         11
        ],
        [
         420,
         8
        ],
        [
         424,
         4
        ],
        [
         428,
         1
        ],
        [
         430,
         1
        ],
        [
         433,
         1
        ],
        [
         439,
         4
        ],
        [
         449,
         41
        ],
        [
         454,
         3
        ],
        [
         459,
         1
        ],
        [
         463,
         1
        ],
        [
         464,
         1
        ],
        [
         479,
         18
        ],
        [
         485,
         1
        ],
        [
         488,
         1
        ],
        [
         489,
         3
        ],
        [
         493,
         3
        ],
        [
         494,
         2
        ],
        [
         495,
         1
        ],
        [
         499,
         6250
        ],
        [
         500,
         20
        ],
        [
         509,
         10
        ],
        [
         510,
         2
        ],
        [
         514,
         1
        ],
        [
         519,
         4
        ],
        [
         524,
         7
        ],
        [
         529,
         1
        ],
        [
         539,
         4
        ],
        [
         549,
         6
        ],
        [
         550,
         1
        ],
        [
         557,
         1
        ],
        [
         558,
         1
        ],
        [
         559,
         9
        ],
        [
         565,
         1
        ],
        [
         569,
         1
        ],
        [
         573,
         1
        ],
        [
         577,
         1
        ],
        [
         579,
         1
        ],
        [
         584,
         2
        ],
        [
         590,
         1
        ],
        [
         594,
         2
        ],
        [
         599,
         1854
        ],
        [
         600,
         5
        ],
        [
         610,
         1
        ],
        [
         619,
         1
        ],
        [
         623,
         1
        ],
        [
         624,
         5
        ],
        [
         629,
         9
        ],
        [
         631,
         1
        ],
        [
         636,
         1
        ],
        [
         639,
         6
        ],
        [
         649,
         13
        ],
        [
         659,
         2
        ],
        [
         666,
         3
        ],
        [
         669,
         7
        ],
        [
         674,
         4
        ],
        [
         679,
         7
        ],
        [
         680,
         1
        ],
        [
         698,
         1
        ],
        [
         699,
         1856
        ],
        [
         700,
         1
        ],
        [
         706,
         1
        ],
        [
         714,
         2
        ],
        [
         719,
         5
        ],
        [
         736,
         1
        ],
        [
         749,
         40
        ],
        [
         750,
         1
        ],
        [
         764,
         1
        ],
        [
         769,
         1
        ],
        [
         777,
         1
        ],
        [
         779,
         7
        ],
        [
         795,
         1
        ],
        [
         799,
         1580
        ],
        [
         800,
         3
        ],
        [
         809,
         1
        ],
        [
         819,
         1
        ],
        [
         824,
         4
        ],
        [
         839,
         5
        ],
        [
         849,
         8
        ],
        [
         854,
         1
        ],
        [
         870,
         1
        ],
        [
         874,
         1
        ],
        [
         879,
         1
        ],
        [
         888,
         1
        ],
        [
         890,
         1
        ],
        [
         898,
         1
        ],
        [
         899,
         753
        ],
        [
         900,
         2
        ],
        [
         909,
         3
        ],
        [
         911,
         1
        ],
        [
         929,
         1
        ],
        [
         949,
         1
        ],
        [
         959,
         3
        ],
        [
         969,
         1
        ],
        [
         974,
         13
        ],
        [
         979,
         3
        ],
        [
         987,
         1
        ],
        [
         989,
         7
        ],
        [
         990,
         6
        ],
        [
         995,
         2
        ],
        [
         998,
         1
        ],
        [
         999,
         6126
        ],
        [
         1000,
         10
        ],
        [
         1004,
         3
        ],
        [
         1019,
         3
        ],
        [
         1025,
         1
        ],
        [
         1039,
         4
        ],
        [
         1049,
         9
        ],
        [
         1079,
         4
        ],
        [
         1099,
         430
        ],
        [
         1104,
         2
        ],
        [
         1119,
         1
        ],
        [
         1124,
         7
        ],
        [
         1139,
         1
        ],
        [
         1149,
         1
        ],
        [
         1169,
         5
        ],
        [
         1189,
         1
        ],
        [
         1190,
         1
        ],
        [
         1199,
         822
        ],
        [
         1200,
         4
        ],
        [
         1224,
         1
        ],
        [
         1240,
         1
        ],
        [
         1249,
         14
        ],
        [
         1259,
         5
        ],
        [
         1274,
         5
        ],
        [
         1279,
         1
        ],
        [
         1290,
         1
        ],
        [
         1295,
         1
        ],
        [
         1299,
         796
        ],
        [
         1313,
         1
        ],
        [
         1329,
         2
        ],
        [
         1337,
         1
        ],
        [
         1339,
         1
        ],
        [
         1349,
         9
        ],
        [
         1359,
         2
        ],
        [
         1399,
         276
        ],
        [
         1438,
         1
        ],
        [
         1439,
         1
        ],
        [
         1449,
         2
        ],
        [
         1450,
         1
        ],
        [
         1473,
         1
        ],
        [
         1495,
         1
        ],
        [
         1499,
         2878
        ],
        [
         1500,
         9
        ],
        [
         1510,
         1
        ],
        [
         1519,
         2
        ],
        [
         1529,
         3
        ],
        [
         1558,
         1
        ],
        [
         1574,
         1
        ],
        [
         1599,
         230
        ],
        [
         1600,
         1
        ],
        [
         1624,
         4
        ],
        [
         1639,
         1
        ],
        [
         1666,
         1
        ],
        [
         1699,
         185
        ],
        [
         1724,
         1
        ],
        [
         1749,
         7
        ],
        [
         1777,
         1
        ],
        [
         1799,
         286
        ],
        [
         1874,
         2
        ],
        [
         1889,
         1
        ],
        [
         1899,
         141
        ],
        [
         1900,
         2
        ],
        [
         1949,
         2
        ],
        [
         1969,
         1
        ],
        [
         1979,
         1
        ],
        [
         1984,
         1
        ],
        [
         1990,
         2
        ],
        [
         1995,
         2
        ],
        [
         1996,
         1
        ],
        [
         1997,
         1
        ],
        [
         1999,
         2820
        ],
        [
         2000,
         5
        ],
        [
         2004,
         1
        ],
        [
         2024,
         1
        ],
        [
         2099,
         5
        ],
        [
         2109,
         1
        ],
        [
         2124,
         1
        ],
        [
         2199,
         9
        ],
        [
         2249,
         4
        ],
        [
         2260,
         1
        ],
        [
         2279,
         1
        ],
        [
         2299,
         5
        ],
        [
         2339,
         1
        ],
        [
         2397,
         1
        ],
        [
         2399,
         9
        ],
        [
         2449,
         1
        ],
        [
         2459,
         1
        ],
        [
         2479,
         1
        ],
        [
         2499,
         862
        ],
        [
         2500,
         3
        ],
        [
         2599,
         2
        ],
        [
         2699,
         6
        ],
        [
         2799,
         2
        ],
        [
         2899,
         2
        ],
        [
         2990,
         1
        ],
        [
         2995,
         1
        ],
        [
         2998,
         2
        ],
        [
         2999,
         865
        ],
        [
         3000,
         1
        ],
        [
         3196,
         1
        ],
        [
         3199,
         3
        ],
        [
         3299,
         1
        ],
        [
         3366,
         1
        ],
        [
         3499,
         155
        ],
        [
         3500,
         1
        ],
        [
         3595,
         1
        ],
        [
         3599,
         4
        ],
        [
         3749,
         1
        ],
        [
         3900,
         1
        ],
        [
         3939,
         1
        ],
        [
         3990,
         1
        ],
        [
         3999,
         428
        ],
        [
         4000,
         1
        ],
        [
         4495,
         1
        ],
        [
         4498,
         1
        ],
        [
         4499,
         44
        ],
        [
         4500,
         1
        ],
        [
         4969,
         1
        ],
        [
         4999,
         190
        ],
        [
         5274,
         1
        ],
        [
         5499,
         15
        ],
        [
         5624,
         1
        ],
        [
         5795,
         1
        ],
        [
         5995,
         1
        ],
        [
         5999,
         187
        ],
        [
         6495,
         1
        ],
        [
         6499,
         6
        ],
        [
         6903,
         1
        ],
        [
         6995,
         1
        ],
        [
         6999,
         25
        ],
        [
         7499,
         3
        ],
        [
         7999,
         13
        ],
        [
         8499,
         1
        ],
        [
         8999,
         5
        ],
        [
         9499,
         4
        ],
        [
         9900,
         1
        ],
        [
         9999,
         24
        ],
        [
         11999,
         2
        ],
        [
         12499,
         1
        ],
        [
         12999,
         5
        ],
        [
         14900,
         1
        ],
        [
         14999,
         6
        ],
        [
         15999,
         1
        ],
        [
         19999,
         17
        ],
        [
         24900,
         1
        ],
        [
         26999,
         1
        ],
        [
         29990,
         1
        ],
        [
         99900,
         1
        ]
       ],
       "datasetInfos": [],
       "dbfsResultPath": null,
       "isJsonSchema": true,
       "metadata": {},
       "overflow": false,
       "plotOptions": {
        "customPlotOptions": {},
        "displayType": "table",
        "pivotAggregation": null,
        "pivotColumns": null,
        "xColumns": null,
        "yColumns": null
       },
       "removedWidgets": [],
       "schema": [
        {
         "metadata": "{}",
         "name": "price",
         "type": "\"long\""
        },
        {
         "metadata": "{}",
         "name": "game_count_for_price",
         "type": "\"long\""
        }
       ],
       "type": "table"
      }
     },
     "output_type": "display_data"
    },
    {
     "data": {
      "text/plain": [
       "Databricks visualization. Run in Databricks to view."
      ]
     },
     "metadata": {
      "application/vnd.databricks.v1.subcommand+json": {
       "baseErrorDetails": null,
       "bindings": {},
       "collapsed": false,
       "command": "%python\n__backend_agg_display_orig = display\n__backend_agg_dfs = []\ndef __backend_agg_display_new(df):\n    __backend_agg_df_modules = [\"pandas.core.frame\", \"databricks.koalas.frame\", \"pyspark.sql.dataframe\", \"pyspark.pandas.frame\", \"pyspark.sql.connect.dataframe\"]\n    if (type(df).__module__ in __backend_agg_df_modules and type(df).__name__ == 'DataFrame') or isinstance(df, list):\n        __backend_agg_dfs.append(df)\n\ndisplay = __backend_agg_display_new\n\ndef __backend_agg_user_code_fn():\n    import base64\n    exec(base64.standard_b64decode(\"cHJpY2VfZGlzdHJpYl9kZiA9IGRmLmZpbHRlcihGLmNvbCgicHJpY2UiKSAhPSAiIilcCiAgICAgICAgICAgICAgICAgICAgIC5ncm91cEJ5KEYuY29sKCJwcmljZSIpLmNhc3QoImxvbmciKSlcCiAgICAgICAgICAgICAgICAgICAgIC5hZ2coKEYuY291bnQoImFwcGlkIikpLmFsaWFzKCJnYW1lX2NvdW50X2Zvcl9wcmljZSIpKVwKICAgICAgICAgICAgICAgICAgICAgLm9yZGVyQnkoRi5hc2MoInByaWNlIikpCnByaWNlX2Rpc3RyaWJfZGYuZGlzcGxheSgp\").decode())\n\ntry:\n    # run user code\n    __backend_agg_user_code_fn()\n\n    #reset display function\n    display = __backend_agg_display_orig\n\n    if len(__backend_agg_dfs) > 0:\n        # create a temp view\n        if type(__backend_agg_dfs[0]).__module__ == \"databricks.koalas.frame\":\n            # koalas dataframe\n            __backend_agg_dfs[0].to_spark().createOrReplaceTempView(\"DatabricksViewbc6abdc\")\n        elif type(__backend_agg_dfs[0]).__module__ == \"pandas.core.frame\" or isinstance(__backend_agg_dfs[0], list):\n            # pandas dataframe\n            spark.createDataFrame(__backend_agg_dfs[0]).createOrReplaceTempView(\"DatabricksViewbc6abdc\")\n        else:\n            __backend_agg_dfs[0].createOrReplaceTempView(\"DatabricksViewbc6abdc\")\n        #run backend agg\n        display(spark.sql(\"\"\"WITH q AS (select * from DatabricksViewbc6abdc) ,min_max AS (SELECT `price`,(SELECT MAX(`price`) FROM q) `target_column_max`,(SELECT MIN(`price`) FROM q) `target_column_min` FROM q) ,histogram_meta AS (SELECT `price`,`target_column_min` `min_value`,IF(`target_column_max` = `target_column_min`,`target_column_max` + 1,`target_column_max`) `max_value`,(`target_column_max` - `target_column_min`) / 200 `step` FROM min_max) SELECT IF(ISNULL(`price`),NULL,LEAST(WIDTH_BUCKET(`price`,`min_value`,`max_value`,200),200)) `price_BIN`,FIRST(`min_value` + ((IF(ISNULL(`price`),NULL,LEAST(WIDTH_BUCKET(`price`,`min_value`,`max_value`,200),200)) - 1) * `step`)) `price_BIN_LOWER_BOUND`,FIRST(`step`) `price_BIN_STEP`,COUNT(`price`) `COUNT` FROM histogram_meta GROUP BY `price_BIN`\"\"\"))\n    else:\n        displayHTML(\"dataframe no longer exists. If you're using dataframe.display(), use display(dataframe) instead.\")\n\n\nfinally:\n    spark.sql(\"drop view if exists DatabricksViewbc6abdc\")\n    display = __backend_agg_display_orig\n    del __backend_agg_display_new\n    del __backend_agg_display_orig\n    del __backend_agg_dfs\n    del __backend_agg_user_code_fn\n\n",
       "commandTitle": "Visualization 1",
       "commandType": "auto",
       "commandVersion": 0,
       "commentThread": [],
       "commentsVisible": false,
       "contentSha256Hex": null,
       "customPlotOptions": {
        "redashChart": [
         {
          "key": "type",
          "value": "CHART"
         },
         {
          "key": "options",
          "value": {
           "alignYAxesAtZero": false,
           "coefficient": 1,
           "columnConfigurationMap": {
            "x": {
             "column": "price",
             "id": "column_8e313d2d145"
            },
            "y": [
             {
              "column": "game_count_for_price",
              "id": "column_8e313d2d149",
              "transform": "SUM"
             }
            ]
           },
           "dateTimeFormat": "DD/MM/YYYY HH:mm",
           "direction": {
            "type": "counterclockwise"
           },
           "error_y": {
            "type": "data",
            "visible": true
           },
           "globalSeriesType": "column",
           "isAggregationOn": true,
           "legend": {
            "traceorder": "normal"
           },
           "missingValuesAsZero": true,
           "numBins": 200,
           "numberFormat": "0,0.[00000]",
           "percentFormat": "0[.]00%",
           "series": {
            "error_y": {
             "type": "data",
             "visible": true
            },
            "stacking": null
           },
           "seriesOptions": {
            "column_8e313d2d146": {
             "name": "game_count_for_price",
             "type": "column",
             "yAxis": 0
            },
            "column_8e313d2d149": {
             "type": "column",
             "yAxis": 0
            }
           },
           "showDataLabels": false,
           "sizemode": "diameter",
           "sortX": true,
           "sortY": true,
           "swappedAxes": false,
           "textFormat": "",
           "useAggregationsUi": true,
           "valuesOptions": {},
           "version": 2,
           "xAxis": {
            "labels": {
             "enabled": true
            },
            "type": "-"
           },
           "yAxis": [
            {
             "rangeMin": 0,
             "title": {
              "text": "game_count_for_price"
             },
             "type": "-"
            },
            {
             "opposite": true,
             "type": "-"
            }
           ]
          }
         }
        ]
       },
       "datasetPreviewNameToCmdIdMap": {},
       "diffDeletes": [],
       "diffInserts": [],
       "displayType": "redashChart",
       "error": null,
       "errorDetails": null,
       "errorSummary": null,
       "errorTraceType": null,
       "finishTime": 0,
       "globalVars": {},
       "guid": "",
       "height": "auto",
       "hideCommandCode": false,
       "hideCommandResult": false,
       "iPythonMetadata": null,
       "inputWidgets": {},
       "isLockedInExamMode": false,
       "latestAssumeRoleInfo": null,
       "latestUser": "a user",
       "latestUserId": null,
       "listResultMetadata": null,
       "metadata": {},
       "nuid": "2a794da9-0090-48c1-a1e4-64547216202c",
       "origId": 0,
       "parentHierarchy": [],
       "pivotAggregation": null,
       "pivotColumns": null,
       "position": 2.9765625,
       "resultDbfsErrorMessage": null,
       "resultDbfsStatus": "INLINED_IN_TREE",
       "results": null,
       "showCommandTitle": false,
       "startTime": 0,
       "state": "input",
       "streamStates": {},
       "subcommandOptions": {
        "queryPlan": {
         "groups": [
          {
           "column": "price",
           "type": "column"
          }
         ],
         "selects": [
          {
           "column": "price",
           "type": "column"
          },
          {
           "alias": "column_8e313d2d149",
           "args": [
            {
             "column": "game_count_for_price",
             "type": "column"
            }
           ],
           "function": "SUM",
           "type": "function"
          }
         ]
        }
       },
       "submitTime": 0,
       "subtype": "tableResultSubCmd.visualization",
       "tableResultIndex": 0,
       "tableResultSettingsMap": {},
       "useConsistentColors": false,
       "version": "CommandV1",
       "width": "auto",
       "workflows": [],
       "xColumns": null,
       "yColumns": null
      }
     },
     "output_type": "display_data"
    }
   ],
   "source": [
    "price_distrib_df = df.filter(F.col(\"price\") != \"\")\\\n",
    "                     .groupBy(F.col(\"price\").cast(\"long\"))\\\n",
    "                     .agg((F.count(\"appid\")).alias(\"game_count_for_price\"))\\\n",
    "                     .orderBy(F.asc(\"price\"))\n",
    "price_distrib_df.display()"
   ]
  },
  {
   "cell_type": "markdown",
   "metadata": {
    "application/vnd.databricks.v1+cell": {
     "cellMetadata": {},
     "inputWidgets": {},
     "nuid": "f6d83d8e-894b-48b4-a71e-d04743252e3b",
     "showTitle": false,
     "tableResultSettingsMap": {},
     "title": ""
    },
    "jupyter": {
     "outputs_hidden": true
    }
   },
   "source": [
    "- What the currency is is unclear, but it doesn't seem to be either € or £. It could be ¥ (Japanese Yen).\n",
    "- Assuming ¥, many games are free to download (presumably with in-game purchases) and most have a price below ¥1,000 (~€5.75).\n",
    "- There are spikes in the distribution of prices at every $500n-1$. It makes sense that there would be many games with these prices, as 1,000 is a nice, round power of ten, because 500 is a nice half of that, and because it is very common to lower a price a tiny bit to make an item look cheaper.\n",
    "- There are also a few outliers. The bar plot above is filtered to only display prices up to ¥10,000, but there are a few outliers in the data pricing above that and up to ¥100,000."
   ]
  },
  {
   "cell_type": "markdown",
   "metadata": {
    "application/vnd.databricks.v1+cell": {
     "cellMetadata": {},
     "inputWidgets": {},
     "nuid": "6927827d-9387-4e27-9233-c36eb2174bca",
     "showTitle": false,
     "tableResultSettingsMap": {},
     "title": ""
    }
   },
   "source": [
    "### What are the most represented languages?"
   ]
  },
  {
   "cell_type": "code",
   "execution_count": 0,
   "metadata": {
    "application/vnd.databricks.v1+cell": {
     "cellMetadata": {
      "byteLimit": 2048000,
      "rowLimit": 10000
     },
     "inputWidgets": {},
     "nuid": "ebd28644-04bf-4840-8912-d471660213aa",
     "showTitle": false,
     "tableResultSettingsMap": {},
     "title": ""
    }
   },
   "outputs": [
    {
     "data": {
      "text/html": [
       "<style scoped>\n",
       "  .table-result-container {\n",
       "    max-height: 300px;\n",
       "    overflow: auto;\n",
       "  }\n",
       "  table, th, td {\n",
       "    border: 1px solid black;\n",
       "    border-collapse: collapse;\n",
       "  }\n",
       "  th, td {\n",
       "    padding: 5px;\n",
       "  }\n",
       "  th {\n",
       "    text-align: left;\n",
       "  }\n",
       "</style><div class='table-result-container'><table class='table-result'><thead style='background-color: white'><tr><th>languages</th><th>num_occurrences</th></tr></thead><tbody><tr><td>English</td><td>55116</td></tr><tr><td>German</td><td>14019</td></tr><tr><td>French</td><td>13426</td></tr><tr><td>Russian</td><td>12922</td></tr><tr><td>Simplified Chinese</td><td>12782</td></tr><tr><td>Spanish - Spain</td><td>12233</td></tr><tr><td>Japanese</td><td>10368</td></tr><tr><td>Italian</td><td>9304</td></tr><tr><td>Portuguese - Brazil</td><td>6750</td></tr><tr><td>Korean</td><td>6600</td></tr><tr><td>Traditional Chinese</td><td>6307</td></tr><tr><td>Polish</td><td>5376</td></tr><tr><td>Portuguese - Portugal</td><td>4011</td></tr><tr><td>Turkish</td><td>3602</td></tr><tr><td>Dutch</td><td>3080</td></tr><tr><td>Spanish - Latin America</td><td>2732</td></tr><tr><td>Czech</td><td>2352</td></tr><tr><td>Swedish</td><td>2047</td></tr><tr><td>Ukrainian</td><td>1928</td></tr><tr><td>Hungarian</td><td>1923</td></tr></tbody></table></div>"
      ]
     },
     "metadata": {
      "application/vnd.databricks.v1+output": {
       "addedWidgets": {},
       "aggData": [],
       "aggError": "",
       "aggOverflow": false,
       "aggSchema": [],
       "aggSeriesLimitReached": false,
       "aggType": "",
       "arguments": {},
       "columnCustomDisplayInfos": {},
       "data": [
        [
         "English",
         55116
        ],
        [
         "German",
         14019
        ],
        [
         "French",
         13426
        ],
        [
         "Russian",
         12922
        ],
        [
         "Simplified Chinese",
         12782
        ],
        [
         "Spanish - Spain",
         12233
        ],
        [
         "Japanese",
         10368
        ],
        [
         "Italian",
         9304
        ],
        [
         "Portuguese - Brazil",
         6750
        ],
        [
         "Korean",
         6600
        ],
        [
         "Traditional Chinese",
         6307
        ],
        [
         "Polish",
         5376
        ],
        [
         "Portuguese - Portugal",
         4011
        ],
        [
         "Turkish",
         3602
        ],
        [
         "Dutch",
         3080
        ],
        [
         "Spanish - Latin America",
         2732
        ],
        [
         "Czech",
         2352
        ],
        [
         "Swedish",
         2047
        ],
        [
         "Ukrainian",
         1928
        ],
        [
         "Hungarian",
         1923
        ]
       ],
       "datasetInfos": [],
       "dbfsResultPath": null,
       "isJsonSchema": true,
       "metadata": {},
       "overflow": false,
       "plotOptions": {
        "customPlotOptions": {},
        "displayType": "table",
        "pivotAggregation": null,
        "pivotColumns": null,
        "xColumns": null,
        "yColumns": null
       },
       "removedWidgets": [],
       "schema": [
        {
         "metadata": "{}",
         "name": "languages",
         "type": "\"string\""
        },
        {
         "metadata": "{}",
         "name": "num_occurrences",
         "type": "\"long\""
        }
       ],
       "type": "table"
      }
     },
     "output_type": "display_data"
    }
   ],
   "source": [
    "get_lang_list = F.udf(lambda langs: [lang.strip() for lang in langs.split(\",\")],\n",
    "                      ArrayType(StringType()))\n",
    "\n",
    "languages_df = df.filter(F.col(\"languages\") != \"\")\\\n",
    "                 .withColumn(\"languages\",\n",
    "                             F.explode(\n",
    "                                 get_lang_list(\n",
    "                                     F.col(\"languages\"))))\\\n",
    "                 .groupBy(F.col(\"languages\"))\\\n",
    "                 .agg(F.count(\"appid\").alias(\"num_occurrences\"))\\\n",
    "                 .orderBy(F.desc(\"num_occurrences\"))\n",
    "get_head_as_df(languages_df) # some rows are malformed, but it doesn't affect the results one bit"
   ]
  },
  {
   "cell_type": "markdown",
   "metadata": {
    "application/vnd.databricks.v1+cell": {
     "cellMetadata": {},
     "inputWidgets": {},
     "nuid": "84ce101d-874f-4b9c-861b-4f9156b1340a",
     "showTitle": false,
     "tableResultSettingsMap": {},
     "title": ""
    }
   },
   "source": [
    "### Are there many games prohibited for children under 16/18?"
   ]
  },
  {
   "cell_type": "code",
   "execution_count": 0,
   "metadata": {
    "application/vnd.databricks.v1+cell": {
     "cellMetadata": {
      "byteLimit": 2048000,
      "rowLimit": 10000
     },
     "inputWidgets": {},
     "nuid": "0875ccf3-854a-450b-91e5-245e433af765",
     "showTitle": false,
     "tableResultSettingsMap": {},
     "title": ""
    }
   },
   "outputs": [
    {
     "name": "stdout",
     "output_type": "stream",
     "text": [
      "0.55% of games in the data are marked as forbidden to minors under 16, and\n",
      "0.41% of games in the data are marked as forbidden to minors under 18\n"
     ]
    }
   ],
   "source": [
    "forbidden_age_df = df.withColumn(\"forbidden_under_16\", 16 <= F.col(\"required_age\"))\\\n",
    "                     .withColumn(\"forbidden_under_18\", 18 <= F.col(\"required_age\"))\n",
    "\n",
    "is_forbidden_under_16_binary = [1 if row_obj[\"forbidden_under_16\"] else 0\n",
    "                                for row_obj in forbidden_age_df.select(F.col(\"forbidden_under_16\"))\\\n",
    "                                                               .collect()]\n",
    "percentage_forbidden_under_16 = sum(is_forbidden_under_16_binary)\\\n",
    "                                / len(is_forbidden_under_16_binary)\\\n",
    "                                * 100\n",
    "\n",
    "is_forbidden_under_18_binary = [1 if row_obj[\"forbidden_under_18\"] else 0\n",
    "                                for row_obj in forbidden_age_df.select(F.col(\"forbidden_under_18\"))\\\n",
    "                                                               .collect()]\n",
    "percentage_forbidden_under_18 = sum(is_forbidden_under_18_binary)\\\n",
    "                                / len(is_forbidden_under_18_binary)\\\n",
    "                                * 100\n",
    "\n",
    "\n",
    "print(f\"{percentage_forbidden_under_16:.2f}% of games in the data are marked as forbidden to minors under 16, and\\n\"\n",
    "      f\"{percentage_forbidden_under_18:.2f}% of games in the data are marked as forbidden to minors under 18\")"
   ]
  },
  {
   "cell_type": "code",
   "execution_count": 0,
   "metadata": {
    "application/vnd.databricks.v1+cell": {
     "cellMetadata": {
      "byteLimit": 2048000,
      "rowLimit": 10000
     },
     "inputWidgets": {},
     "nuid": "951285e2-d1fe-4447-b523-a8f9f9dc1d86",
     "showTitle": false,
     "tableResultSettingsMap": {},
     "title": ""
    }
   },
   "outputs": [
    {
     "name": "stdout",
     "output_type": "stream",
     "text": [
      "0.14% of games in the data are marked as forbidden to minors under 16, but not to minors under 18\n"
     ]
    }
   ],
   "source": [
    "# It doesn't seem like a lot, so I'm checking whether the figures are coherent\n",
    "\n",
    "is_forbidden_under_16_only_binary = [1 if (row_obj[\"forbidden_under_16\"] and not row_obj[\"forbidden_under_18\"]) else 0\n",
    "                                    for row_obj in forbidden_age_df.select([F.col(\"forbidden_under_16\"),\n",
    "                                                                            F.col(\"forbidden_under_18\")])\\\n",
    "                                                                   .collect()]\n",
    "percentage_forbidden_under_16_only = sum(is_forbidden_under_16_only_binary)\\\n",
    "                                     / len(is_forbidden_under_16_only_binary)\\\n",
    "                                     * 100\n",
    "\n",
    "print(f\"{percentage_forbidden_under_16_only:.2f}% of games in the data are marked as forbidden to minors under 16, but not to minors under 18\")\n",
    "\n",
    "# They are!"
   ]
  },
  {
   "cell_type": "code",
   "execution_count": 0,
   "metadata": {
    "application/vnd.databricks.v1+cell": {
     "cellMetadata": {
      "byteLimit": 2048000,
      "rowLimit": 10000
     },
     "inputWidgets": {},
     "nuid": "c9753c2d-a85c-4c7a-a7b6-fda1f04d924b",
     "showTitle": false,
     "tableResultSettingsMap": {
      "0": {
       "dataGridStateBlob": "{\"version\":1,\"tableState\":{\"columnPinning\":{\"left\":[\"#row_number#\"],\"right\":[]},\"columnSizing\":{},\"columnVisibility\":{}},\"settings\":{\"columns\":{}},\"syncTimestamp\":1759259130589}",
       "filterBlob": null,
       "queryPlanFiltersBlob": null,
       "tableResultIndex": 0
      }
     },
     "title": ""
    }
   },
   "outputs": [
    {
     "data": {
      "text/html": [
       "<style scoped>\n",
       "  .table-result-container {\n",
       "    max-height: 300px;\n",
       "    overflow: auto;\n",
       "  }\n",
       "  table, th, td {\n",
       "    border: 1px solid black;\n",
       "    border-collapse: collapse;\n",
       "  }\n",
       "  th, td {\n",
       "    padding: 5px;\n",
       "  }\n",
       "  th {\n",
       "    text-align: left;\n",
       "  }\n",
       "</style><div class='table-result-container'><table class='table-result'><thead style='background-color: white'><tr><th>required_age</th><th>app_count</th></tr></thead><tbody><tr><td>0</td><td>55029</td></tr><tr><td>15</td><td>265</td></tr><tr><td>18</td><td>227</td></tr><tr><td>16</td><td>38</td></tr><tr><td>17</td><td>38</td></tr><tr><td>12</td><td>32</td></tr><tr><td>13</td><td>26</td></tr><tr><td>14</td><td>10</td></tr><tr><td>10</td><td>7</td></tr><tr><td>6</td><td>4</td></tr><tr><td>8</td><td>3</td></tr><tr><td>7</td><td>3</td></tr><tr><td>3</td><td>3</td></tr><tr><td>35</td><td>1</td></tr><tr><td>20</td><td>1</td></tr><tr><td>21</td><td>1</td></tr><tr><td>5</td><td>1</td></tr><tr><td>9</td><td>1</td></tr></tbody></table></div>"
      ]
     },
     "metadata": {
      "application/vnd.databricks.v1+output": {
       "addedWidgets": {},
       "aggData": [],
       "aggError": "",
       "aggOverflow": false,
       "aggSchema": [],
       "aggSeriesLimitReached": false,
       "aggType": "",
       "arguments": {},
       "columnCustomDisplayInfos": {},
       "data": [
        [
         0,
         55029
        ],
        [
         15,
         265
        ],
        [
         18,
         227
        ],
        [
         16,
         38
        ],
        [
         17,
         38
        ],
        [
         12,
         32
        ],
        [
         13,
         26
        ],
        [
         14,
         10
        ],
        [
         10,
         7
        ],
        [
         6,
         4
        ],
        [
         8,
         3
        ],
        [
         7,
         3
        ],
        [
         3,
         3
        ],
        [
         35,
         1
        ],
        [
         20,
         1
        ],
        [
         21,
         1
        ],
        [
         5,
         1
        ],
        [
         9,
         1
        ]
       ],
       "datasetInfos": [],
       "dbfsResultPath": null,
       "isJsonSchema": true,
       "metadata": {},
       "overflow": false,
       "plotOptions": {
        "customPlotOptions": {},
        "displayType": "table",
        "pivotAggregation": null,
        "pivotColumns": null,
        "xColumns": null,
        "yColumns": null
       },
       "removedWidgets": [],
       "schema": [
        {
         "metadata": "{}",
         "name": "required_age",
         "type": "\"long\""
        },
        {
         "metadata": "{}",
         "name": "app_count",
         "type": "\"long\""
        }
       ],
       "type": "table"
      }
     },
     "output_type": "display_data"
    }
   ],
   "source": [
    "# one last check:\n",
    "\n",
    "df.groupBy(F.col(\"required_age\"))\\\n",
    "  .agg(F.count(\"appid\").alias(\"app_count\"))\\\n",
    "  .orderBy(F.desc(\"app_count\"))\\\n",
    "  .display()"
   ]
  },
  {
   "cell_type": "markdown",
   "metadata": {
    "application/vnd.databricks.v1+cell": {
     "cellMetadata": {},
     "inputWidgets": {},
     "nuid": "fcf565bb-d9c8-4e98-b700-a5912e06c3df",
     "showTitle": false,
     "tableResultSettingsMap": {},
     "title": ""
    }
   },
   "source": [
    "## Genres analysis"
   ]
  },
  {
   "cell_type": "markdown",
   "metadata": {
    "application/vnd.databricks.v1+cell": {
     "cellMetadata": {},
     "inputWidgets": {},
     "nuid": "36404c78-ffca-410a-939a-659cdaf21126",
     "showTitle": false,
     "tableResultSettingsMap": {},
     "title": ""
    }
   },
   "source": [
    "### What are the most represented genres?"
   ]
  },
  {
   "cell_type": "code",
   "execution_count": 0,
   "metadata": {
    "application/vnd.databricks.v1+cell": {
     "cellMetadata": {
      "byteLimit": 2048000,
      "rowLimit": 10000
     },
     "inputWidgets": {},
     "nuid": "40535663-c30f-4351-9786-332b9e7acde8",
     "showTitle": false,
     "tableResultSettingsMap": {},
     "title": ""
    }
   },
   "outputs": [
    {
     "data": {
      "text/html": [
       "<style scoped>\n",
       "  .table-result-container {\n",
       "    max-height: 300px;\n",
       "    overflow: auto;\n",
       "  }\n",
       "  table, th, td {\n",
       "    border: 1px solid black;\n",
       "    border-collapse: collapse;\n",
       "  }\n",
       "  th, td {\n",
       "    padding: 5px;\n",
       "  }\n",
       "  th {\n",
       "    text-align: left;\n",
       "  }\n",
       "</style><div class='table-result-container'><table class='table-result'><thead style='background-color: white'><tr><th>genre</th><th>num_occurrences</th></tr></thead><tbody><tr><td>Indie</td><td>39681</td></tr><tr><td>Action</td><td>23759</td></tr><tr><td>Casual</td><td>22086</td></tr><tr><td>Adventure</td><td>21431</td></tr><tr><td>Strategy</td><td>10895</td></tr><tr><td>Simulation</td><td>10836</td></tr><tr><td>RPG</td><td>9534</td></tr><tr><td>Early Access</td><td>6145</td></tr><tr><td>Free to Play</td><td>3393</td></tr><tr><td>Sports</td><td>2666</td></tr><tr><td>Racing</td><td>2155</td></tr><tr><td>Massively Multiplayer</td><td>1460</td></tr><tr><td>Utilities</td><td>682</td></tr><tr><td>Design & Illustration</td><td>406</td></tr><tr><td>Animation & Modeling</td><td>322</td></tr><tr><td>Education</td><td>317</td></tr><tr><td>Video Production</td><td>247</td></tr><tr><td>Audio Production</td><td>195</td></tr><tr><td>Violent</td><td>168</td></tr><tr><td>Software Training</td><td>164</td></tr><tr><td>Game Development</td><td>159</td></tr><tr><td>Photo Editing</td><td>105</td></tr><tr><td>Gore</td><td>99</td></tr><tr><td>Web Publishing</td><td>89</td></tr><tr><td>Sexual Content</td><td>54</td></tr><tr><td>Nudity</td><td>45</td></tr><tr><td>Accounting</td><td>16</td></tr><tr><td>Movie</td><td>1</td></tr></tbody></table></div>"
      ]
     },
     "metadata": {
      "application/vnd.databricks.v1+output": {
       "addedWidgets": {},
       "aggData": [],
       "aggError": "",
       "aggOverflow": false,
       "aggSchema": [],
       "aggSeriesLimitReached": false,
       "aggType": "",
       "arguments": {},
       "columnCustomDisplayInfos": {},
       "data": [
        [
         "Indie",
         39681
        ],
        [
         "Action",
         23759
        ],
        [
         "Casual",
         22086
        ],
        [
         "Adventure",
         21431
        ],
        [
         "Strategy",
         10895
        ],
        [
         "Simulation",
         10836
        ],
        [
         "RPG",
         9534
        ],
        [
         "Early Access",
         6145
        ],
        [
         "Free to Play",
         3393
        ],
        [
         "Sports",
         2666
        ],
        [
         "Racing",
         2155
        ],
        [
         "Massively Multiplayer",
         1460
        ],
        [
         "Utilities",
         682
        ],
        [
         "Design & Illustration",
         406
        ],
        [
         "Animation & Modeling",
         322
        ],
        [
         "Education",
         317
        ],
        [
         "Video Production",
         247
        ],
        [
         "Audio Production",
         195
        ],
        [
         "Violent",
         168
        ],
        [
         "Software Training",
         164
        ],
        [
         "Game Development",
         159
        ],
        [
         "Photo Editing",
         105
        ],
        [
         "Gore",
         99
        ],
        [
         "Web Publishing",
         89
        ],
        [
         "Sexual Content",
         54
        ],
        [
         "Nudity",
         45
        ],
        [
         "Accounting",
         16
        ],
        [
         "Movie",
         1
        ]
       ],
       "datasetInfos": [],
       "dbfsResultPath": null,
       "isJsonSchema": true,
       "metadata": {},
       "overflow": false,
       "plotOptions": {
        "customPlotOptions": {},
        "displayType": "table",
        "pivotAggregation": null,
        "pivotColumns": null,
        "xColumns": null,
        "yColumns": null
       },
       "removedWidgets": [],
       "schema": [
        {
         "metadata": "{}",
         "name": "genre",
         "type": "\"string\""
        },
        {
         "metadata": "{}",
         "name": "num_occurrences",
         "type": "\"long\""
        }
       ],
       "type": "table"
      }
     },
     "output_type": "display_data"
    },
    {
     "data": {
      "text/plain": [
       "Databricks visualization. Run in Databricks to view."
      ]
     },
     "metadata": {
      "application/vnd.databricks.v1.subcommand+json": {
       "baseErrorDetails": null,
       "bindings": {},
       "collapsed": false,
       "command": "%python\n__backend_agg_display_orig = display\n__backend_agg_dfs = []\ndef __backend_agg_display_new(df):\n    __backend_agg_df_modules = [\"pandas.core.frame\", \"databricks.koalas.frame\", \"pyspark.sql.dataframe\", \"pyspark.pandas.frame\", \"pyspark.sql.connect.dataframe\"]\n    if (type(df).__module__ in __backend_agg_df_modules and type(df).__name__ == 'DataFrame') or isinstance(df, list):\n        __backend_agg_dfs.append(df)\n\ndisplay = __backend_agg_display_new\n\ndef __backend_agg_user_code_fn():\n    import base64\n    exec(base64.standard_b64decode(\"Z2V0X2dlbnJlX2xpc3QgPSBGLnVkZihsYW1iZGEgZ2VucmVzOiBbZ2VucmUuc3RyaXAoKSBmb3IgZ2VucmUgaW4gZ2VucmVzLnNwbGl0KCIsIildLAogICAgICAgICAgICAgICAgICAgICAgIEFycmF5VHlwZShTdHJpbmdUeXBlKCkpKQoKZ2VucmVzX2RmID0gZGYuZmlsdGVyKEYuY29sKCJnZW5yZSIpICE9ICIiKVwKICAgICAgICAgICAgICAud2l0aENvbHVtbigiZ2VucmUiLAogICAgICAgICAgICAgICAgICAgICAgICAgIEYuZXhwbG9kZSgKICAgICAgICAgICAgICAgICAgICAgICAgICAgICAgZ2V0X2dlbnJlX2xpc3QoCiAgICAgICAgICAgICAgICAgICAgICAgICAgICAgICAgICBGLmNvbCgiZ2VucmUiKSkpKVwKICAgICAgICAgICAgICAuZ3JvdXBCeShGLmNvbCgiZ2VucmUiKSlcCiAgICAgICAgICAgICAgLmFnZyhGLmNvdW50KCJhcHBpZCIpLmFsaWFzKCJudW1fb2NjdXJyZW5jZXMiKSlcCiAgICAgICAgICAgICAgLm9yZGVyQnkoRi5kZXNjKCJudW1fb2NjdXJyZW5jZXMiKSkKZ2VucmVzX2RmLmRpc3BsYXkoKQ==\").decode())\n\ntry:\n    # run user code\n    __backend_agg_user_code_fn()\n\n    #reset display function\n    display = __backend_agg_display_orig\n\n    if len(__backend_agg_dfs) > 0:\n        # create a temp view\n        if type(__backend_agg_dfs[0]).__module__ == \"databricks.koalas.frame\":\n            # koalas dataframe\n            __backend_agg_dfs[0].to_spark().createOrReplaceTempView(\"DatabricksView18447bc\")\n        elif type(__backend_agg_dfs[0]).__module__ == \"pandas.core.frame\" or isinstance(__backend_agg_dfs[0], list):\n            # pandas dataframe\n            spark.createDataFrame(__backend_agg_dfs[0]).createOrReplaceTempView(\"DatabricksView18447bc\")\n        else:\n            __backend_agg_dfs[0].createOrReplaceTempView(\"DatabricksView18447bc\")\n        #run backend agg\n        display(spark.sql(\"\"\"WITH q AS (select * from DatabricksView18447bc) SELECT `genre`,SUM(`num_occurrences`) `column_8e313d2d372` FROM q GROUP BY `genre`\"\"\"))\n    else:\n        displayHTML(\"dataframe no longer exists. If you're using dataframe.display(), use display(dataframe) instead.\")\n\n\nfinally:\n    spark.sql(\"drop view if exists DatabricksView18447bc\")\n    display = __backend_agg_display_orig\n    del __backend_agg_display_new\n    del __backend_agg_display_orig\n    del __backend_agg_dfs\n    del __backend_agg_user_code_fn\n\n",
       "commandTitle": "Visualization 1",
       "commandType": "auto",
       "commandVersion": 0,
       "commentThread": [],
       "commentsVisible": false,
       "contentSha256Hex": null,
       "customPlotOptions": {
        "redashChart": [
         {
          "key": "type",
          "value": "CHART"
         },
         {
          "key": "options",
          "value": {
           "alignYAxesAtZero": true,
           "coefficient": 1,
           "columnConfigurationMap": {
            "x": {
             "column": "genre",
             "id": "column_8e313d2d371"
            },
            "y": [
             {
              "column": "num_occurrences",
              "id": "column_8e313d2d372",
              "transform": "SUM"
             }
            ]
           },
           "dateTimeFormat": "DD/MM/YYYY HH:mm",
           "direction": {
            "type": "counterclockwise"
           },
           "error_y": {
            "type": "data",
            "visible": true
           },
           "globalSeriesType": "column",
           "isAggregationOn": true,
           "legend": {
            "traceorder": "normal"
           },
           "missingValuesAsZero": true,
           "numberFormat": "0,0.[00000]",
           "percentFormat": "0[.]00%",
           "series": {
            "error_y": {
             "type": "data",
             "visible": true
            },
            "stacking": null
           },
           "seriesOptions": {
            "column_8e313d2d372": {
             "name": "num_occurrences",
             "yAxis": 0
            }
           },
           "showDataLabels": false,
           "sizemode": "diameter",
           "sortX": true,
           "sortY": true,
           "swappedAxes": true,
           "textFormat": "",
           "useAggregationsUi": true,
           "valuesOptions": {},
           "version": 2,
           "xAxis": {
            "labels": {
             "enabled": true
            },
            "type": "-"
           },
           "yAxis": [
            {
             "type": "logarithmic"
            },
            {
             "opposite": true,
             "type": "-"
            }
           ]
          }
         }
        ]
       },
       "datasetPreviewNameToCmdIdMap": {},
       "diffDeletes": [],
       "diffInserts": [],
       "displayType": "redashChart",
       "error": null,
       "errorDetails": null,
       "errorSummary": null,
       "errorTraceType": null,
       "finishTime": 0,
       "globalVars": {},
       "guid": "",
       "height": "auto",
       "hideCommandCode": false,
       "hideCommandResult": false,
       "iPythonMetadata": null,
       "inputWidgets": {},
       "isLockedInExamMode": false,
       "latestAssumeRoleInfo": null,
       "latestUser": "a user",
       "latestUserId": null,
       "listResultMetadata": null,
       "metadata": {},
       "nuid": "9d6e06c3-8852-4058-ab1c-11ff9cdc9875",
       "origId": 0,
       "parentHierarchy": [],
       "pivotAggregation": null,
       "pivotColumns": null,
       "position": 2.99853515625,
       "resultDbfsErrorMessage": null,
       "resultDbfsStatus": "INLINED_IN_TREE",
       "results": null,
       "showCommandTitle": false,
       "startTime": 0,
       "state": "input",
       "streamStates": {},
       "subcommandOptions": {
        "queryPlan": {
         "groups": [
          {
           "column": "genre",
           "type": "column"
          }
         ],
         "selects": [
          {
           "column": "genre",
           "type": "column"
          },
          {
           "alias": "column_8e313d2d372",
           "args": [
            {
             "column": "num_occurrences",
             "type": "column"
            }
           ],
           "function": "SUM",
           "type": "function"
          }
         ]
        }
       },
       "submitTime": 0,
       "subtype": "tableResultSubCmd.visualization",
       "tableResultIndex": 0,
       "tableResultSettingsMap": {},
       "useConsistentColors": false,
       "version": "CommandV1",
       "width": "auto",
       "workflows": [],
       "xColumns": null,
       "yColumns": null
      }
     },
     "output_type": "display_data"
    }
   ],
   "source": [
    "get_genre_list = F.udf(lambda genres: [genre.strip() for genre in genres.split(\",\")],\n",
    "                       ArrayType(StringType()))\n",
    "\n",
    "genres_df = df.filter(F.col(\"genre\") != \"\")\\\n",
    "              .withColumn(\"genre\",\n",
    "                          F.explode(\n",
    "                              get_genre_list(\n",
    "                                  F.col(\"genre\"))))\\\n",
    "              .groupBy(F.col(\"genre\"))\\\n",
    "              .agg(F.count(\"appid\").alias(\"num_occurrences\"))\\\n",
    "              .orderBy(F.desc(\"num_occurrences\"))\n",
    "genres_df.display()"
   ]
  },
  {
   "cell_type": "markdown",
   "metadata": {
    "application/vnd.databricks.v1+cell": {
     "cellMetadata": {},
     "inputWidgets": {},
     "nuid": "363aea8d-97ba-4df6-b0ba-014e3c04dffc",
     "showTitle": false,
     "tableResultSettingsMap": {},
     "title": ""
    }
   },
   "source": [
    "The 10 most represented genres are:\n",
    "1. Indie\n",
    "2. Action\n",
    "3. Casual\n",
    "4. Adventure\n",
    "5. Strategy\n",
    "6. Simulation\n",
    "7. RPG\n",
    "8. Early Access\n",
    "9. Free to Play\n",
    "10. Sports"
   ]
  },
  {
   "cell_type": "markdown",
   "metadata": {
    "application/vnd.databricks.v1+cell": {
     "cellMetadata": {},
     "inputWidgets": {},
     "nuid": "578dc98e-3f6b-4997-8e17-7629e62018c2",
     "showTitle": false,
     "tableResultSettingsMap": {},
     "title": ""
    }
   },
   "source": [
    "### Are there any genres that have a better positive/negative review ratio?"
   ]
  },
  {
   "cell_type": "code",
   "execution_count": 0,
   "metadata": {
    "application/vnd.databricks.v1+cell": {
     "cellMetadata": {
      "byteLimit": 2048000,
      "rowLimit": 10000
     },
     "inputWidgets": {},
     "nuid": "ec5ce1d9-ecbf-454f-8cb7-688a6e7a2586",
     "showTitle": false,
     "tableResultSettingsMap": {},
     "title": ""
    }
   },
   "outputs": [
    {
     "data": {
      "text/html": [
       "<style scoped>\n",
       "  .table-result-container {\n",
       "    max-height: 300px;\n",
       "    overflow: auto;\n",
       "  }\n",
       "  table, th, td {\n",
       "    border: 1px solid black;\n",
       "    border-collapse: collapse;\n",
       "  }\n",
       "  th, td {\n",
       "    padding: 5px;\n",
       "  }\n",
       "  th {\n",
       "    text-align: left;\n",
       "  }\n",
       "</style><div class='table-result-container'><table class='table-result'><thead style='background-color: white'><tr><th>genre</th><th>net_rating_sum</th></tr></thead><tbody><tr><td>Action</td><td>45170959</td></tr><tr><td>Indie</td><td>28289789</td></tr><tr><td>Adventure</td><td>24036292</td></tr><tr><td>RPG</td><td>16151200</td></tr><tr><td>Free to Play</td><td>14441439</td></tr><tr><td>Simulation</td><td>13171878</td></tr><tr><td>Strategy</td><td>11009445</td></tr><tr><td>Casual</td><td>8497671</td></tr><tr><td>Massively Multiplayer</td><td>5040418</td></tr><tr><td>Early Access</td><td>3398404</td></tr><tr><td>Sports</td><td>2226959</td></tr><tr><td>Racing</td><td>1956662</td></tr><tr><td>Utilities</td><td>695832</td></tr><tr><td>Animation & Modeling</td><td>664373</td></tr><tr><td>Design & Illustration</td><td>647050</td></tr><tr><td>Photo Editing</td><td>564006</td></tr><tr><td>Video Production</td><td>95152</td></tr><tr><td>Audio Production</td><td>59690</td></tr><tr><td>Violent</td><td>29740</td></tr><tr><td>Web Publishing</td><td>28746</td></tr><tr><td>Game Development</td><td>24187</td></tr><tr><td>Gore</td><td>22167</td></tr><tr><td>Software Training</td><td>16547</td></tr><tr><td>Education</td><td>16006</td></tr><tr><td>Nudity</td><td>4823</td></tr><tr><td>Sexual Content</td><td>4663</td></tr><tr><td>Accounting</td><td>282</td></tr><tr><td>Movie</td><td>146</td></tr></tbody></table></div>"
      ]
     },
     "metadata": {
      "application/vnd.databricks.v1+output": {
       "addedWidgets": {},
       "aggData": [],
       "aggError": "",
       "aggOverflow": false,
       "aggSchema": [],
       "aggSeriesLimitReached": false,
       "aggType": "",
       "arguments": {},
       "columnCustomDisplayInfos": {},
       "data": [
        [
         "Action",
         45170959
        ],
        [
         "Indie",
         28289789
        ],
        [
         "Adventure",
         24036292
        ],
        [
         "RPG",
         16151200
        ],
        [
         "Free to Play",
         14441439
        ],
        [
         "Simulation",
         13171878
        ],
        [
         "Strategy",
         11009445
        ],
        [
         "Casual",
         8497671
        ],
        [
         "Massively Multiplayer",
         5040418
        ],
        [
         "Early Access",
         3398404
        ],
        [
         "Sports",
         2226959
        ],
        [
         "Racing",
         1956662
        ],
        [
         "Utilities",
         695832
        ],
        [
         "Animation & Modeling",
         664373
        ],
        [
         "Design & Illustration",
         647050
        ],
        [
         "Photo Editing",
         564006
        ],
        [
         "Video Production",
         95152
        ],
        [
         "Audio Production",
         59690
        ],
        [
         "Violent",
         29740
        ],
        [
         "Web Publishing",
         28746
        ],
        [
         "Game Development",
         24187
        ],
        [
         "Gore",
         22167
        ],
        [
         "Software Training",
         16547
        ],
        [
         "Education",
         16006
        ],
        [
         "Nudity",
         4823
        ],
        [
         "Sexual Content",
         4663
        ],
        [
         "Accounting",
         282
        ],
        [
         "Movie",
         146
        ]
       ],
       "datasetInfos": [],
       "dbfsResultPath": null,
       "isJsonSchema": true,
       "metadata": {},
       "overflow": false,
       "plotOptions": {
        "customPlotOptions": {},
        "displayType": "table",
        "pivotAggregation": null,
        "pivotColumns": null,
        "xColumns": null,
        "yColumns": null
       },
       "removedWidgets": [],
       "schema": [
        {
         "metadata": "{}",
         "name": "genre",
         "type": "\"string\""
        },
        {
         "metadata": "{}",
         "name": "net_rating_sum",
         "type": "\"long\""
        }
       ],
       "type": "table"
      }
     },
     "output_type": "display_data"
    },
    {
     "data": {
      "text/plain": [
       "Databricks visualization. Run in Databricks to view."
      ]
     },
     "metadata": {
      "application/vnd.databricks.v1.subcommand+json": {
       "baseErrorDetails": null,
       "bindings": {},
       "collapsed": false,
       "command": "%python\n__backend_agg_display_orig = display\n__backend_agg_dfs = []\ndef __backend_agg_display_new(df):\n    __backend_agg_df_modules = [\"pandas.core.frame\", \"databricks.koalas.frame\", \"pyspark.sql.dataframe\", \"pyspark.pandas.frame\", \"pyspark.sql.connect.dataframe\"]\n    if (type(df).__module__ in __backend_agg_df_modules and type(df).__name__ == 'DataFrame') or isinstance(df, list):\n        __backend_agg_dfs.append(df)\n\ndisplay = __backend_agg_display_new\n\ndef __backend_agg_user_code_fn():\n    import base64\n    exec(base64.standard_b64decode(\"Z2V0X2dlbnJlX2xpc3QgPSBGLnVkZihsYW1iZGEgZ2VucmVzOiBbZ2VucmUuc3RyaXAoKSBmb3IgZ2VucmUgaW4gZ2VucmVzLnNwbGl0KCIsIildLAogICAgICAgICAgICAgICAgICAgICAgIEFycmF5VHlwZShTdHJpbmdUeXBlKCkpKQoKZ2VucmVzX25ldF9yYXRpbmdfZGYgPSBkZi5maWx0ZXIoRi5jb2woImdlbnJlIikgIT0gIiIpXAogICAgICAgICAgICAgICAgICAgICAgICAgLndpdGhDb2x1bW4oIm5ldF9yYXRpbmciLCBGLmNvbCgicG9zaXRpdmVfcmV2aWV3cyIpIC0gRi5jb2woIm5lZ2F0aXZlX3Jldmlld3MiKSlcCiAgICAgICAgICAgICAgICAgICAgICAgICAud2l0aENvbHVtbigiZ2VucmUiLAogICAgICAgICAgICAgICAgICAgICAgICAgICAgICAgICAgICAgRi5leHBsb2RlKAogICAgICAgICAgICAgICAgICAgICAgICAgICAgICAgICAgICAgICAgIGdldF9nZW5yZV9saXN0KAogICAgICAgICAgICAgICAgICAgICAgICAgICAgICAgICAgICAgICAgICAgICBGLmNvbCgiZ2VucmUiKSkpKVwKICAgICAgICAgICAgICAgICAgICAgICAgIC5ncm91cEJ5KEYuY29sKCJnZW5yZSIpKVwKICAgICAgICAgICAgICAgICAgICAgICAgIC5hZ2coRi5zdW0oIm5ldF9yYXRpbmciKS5hbGlhcygibmV0X3JhdGluZ19zdW0iKSlcCiAgICAgICAgICAgICAgICAgICAgICAgICAub3JkZXJCeShGLmRlc2MoIm5ldF9yYXRpbmdfc3VtIikpCmdlbnJlc19uZXRfcmF0aW5nX2RmLmRpc3BsYXkoKQ==\").decode())\n\ntry:\n    # run user code\n    __backend_agg_user_code_fn()\n\n    #reset display function\n    display = __backend_agg_display_orig\n\n    if len(__backend_agg_dfs) > 0:\n        # create a temp view\n        if type(__backend_agg_dfs[0]).__module__ == \"databricks.koalas.frame\":\n            # koalas dataframe\n            __backend_agg_dfs[0].to_spark().createOrReplaceTempView(\"DatabricksViewf32d4d0\")\n        elif type(__backend_agg_dfs[0]).__module__ == \"pandas.core.frame\" or isinstance(__backend_agg_dfs[0], list):\n            # pandas dataframe\n            spark.createDataFrame(__backend_agg_dfs[0]).createOrReplaceTempView(\"DatabricksViewf32d4d0\")\n        else:\n            __backend_agg_dfs[0].createOrReplaceTempView(\"DatabricksViewf32d4d0\")\n        #run backend agg\n        display(spark.sql(\"\"\"WITH q AS (select * from DatabricksViewf32d4d0) SELECT `genre`,SUM(`net_rating_sum`) `column_8e313d2d390` FROM q GROUP BY `genre`\"\"\"))\n    else:\n        displayHTML(\"dataframe no longer exists. If you're using dataframe.display(), use display(dataframe) instead.\")\n\n\nfinally:\n    spark.sql(\"drop view if exists DatabricksViewf32d4d0\")\n    display = __backend_agg_display_orig\n    del __backend_agg_display_new\n    del __backend_agg_display_orig\n    del __backend_agg_dfs\n    del __backend_agg_user_code_fn\n\n",
       "commandTitle": "Visualization 1",
       "commandType": "auto",
       "commandVersion": 0,
       "commentThread": [],
       "commentsVisible": false,
       "contentSha256Hex": null,
       "customPlotOptions": {
        "redashChart": [
         {
          "key": "type",
          "value": "CHART"
         },
         {
          "key": "options",
          "value": {
           "alignYAxesAtZero": true,
           "coefficient": 1,
           "columnConfigurationMap": {
            "x": {
             "column": "genre",
             "id": "column_8e313d2d389"
            },
            "y": [
             {
              "column": "net_rating_sum",
              "id": "column_8e313d2d390",
              "transform": "SUM"
             }
            ]
           },
           "dateTimeFormat": "DD/MM/YYYY HH:mm",
           "direction": {
            "type": "counterclockwise"
           },
           "error_y": {
            "type": "data",
            "visible": true
           },
           "globalSeriesType": "column",
           "isAggregationOn": true,
           "legend": {
            "traceorder": "normal"
           },
           "missingValuesAsZero": true,
           "numberFormat": "0,0.[00000]",
           "percentFormat": "0[.]00%",
           "series": {
            "error_y": {
             "type": "data",
             "visible": true
            },
            "percentValues": false,
            "stacking": "stack"
           },
           "seriesOptions": {
            "column_8e313d2d390": {
             "name": "net_rating_sum",
             "yAxis": 0
            }
           },
           "showDataLabels": false,
           "sizemode": "diameter",
           "sortX": true,
           "sortY": true,
           "swappedAxes": true,
           "textFormat": "",
           "useAggregationsUi": true,
           "valuesOptions": {},
           "version": 2,
           "xAxis": {
            "labels": {
             "enabled": true
            },
            "type": "-"
           },
           "yAxis": [
            {
             "type": "logarithmic"
            },
            {
             "opposite": true,
             "type": "-"
            }
           ]
          }
         }
        ]
       },
       "datasetPreviewNameToCmdIdMap": {},
       "diffDeletes": [],
       "diffInserts": [],
       "displayType": "redashChart",
       "error": null,
       "errorDetails": null,
       "errorSummary": null,
       "errorTraceType": null,
       "finishTime": 0,
       "globalVars": {},
       "guid": "",
       "height": "507",
       "hideCommandCode": false,
       "hideCommandResult": false,
       "iPythonMetadata": null,
       "inputWidgets": {},
       "isLockedInExamMode": false,
       "latestAssumeRoleInfo": null,
       "latestUser": "a user",
       "latestUserId": null,
       "listResultMetadata": null,
       "metadata": {},
       "nuid": "673b34f3-d8dc-4e05-bff1-a8e3eebe30aa",
       "origId": 0,
       "parentHierarchy": [],
       "pivotAggregation": null,
       "pivotColumns": null,
       "position": 2.999267578125,
       "resultDbfsErrorMessage": null,
       "resultDbfsStatus": "INLINED_IN_TREE",
       "results": null,
       "showCommandTitle": false,
       "startTime": 0,
       "state": "input",
       "streamStates": {},
       "subcommandOptions": {
        "queryPlan": {
         "groups": [
          {
           "column": "genre",
           "type": "column"
          }
         ],
         "selects": [
          {
           "column": "genre",
           "type": "column"
          },
          {
           "alias": "column_8e313d2d390",
           "args": [
            {
             "column": "net_rating_sum",
             "type": "column"
            }
           ],
           "function": "SUM",
           "type": "function"
          }
         ]
        }
       },
       "submitTime": 0,
       "subtype": "tableResultSubCmd.visualization",
       "tableResultIndex": 0,
       "tableResultSettingsMap": {},
       "useConsistentColors": false,
       "version": "CommandV1",
       "width": "auto",
       "workflows": [],
       "xColumns": null,
       "yColumns": null
      }
     },
     "output_type": "display_data"
    }
   ],
   "source": [
    "get_genre_list = F.udf(lambda genres: [genre.strip() for genre in genres.split(\",\")],\n",
    "                       ArrayType(StringType()))\n",
    "\n",
    "genres_net_rating_df = df.filter(F.col(\"genre\") != \"\")\\\n",
    "                         .withColumn(\"net_rating\", F.col(\"positive_reviews\") - F.col(\"negative_reviews\"))\\\n",
    "                         .withColumn(\"genre\",\n",
    "                                     F.explode(\n",
    "                                         get_genre_list(\n",
    "                                             F.col(\"genre\"))))\\\n",
    "                         .groupBy(F.col(\"genre\"))\\\n",
    "                         .agg(F.sum(\"net_rating\").alias(\"net_rating_sum\"))\\\n",
    "                         .orderBy(F.desc(\"net_rating_sum\"))\n",
    "genres_net_rating_df.display()"
   ]
  },
  {
   "cell_type": "markdown",
   "metadata": {
    "application/vnd.databricks.v1+cell": {
     "cellMetadata": {},
     "inputWidgets": {},
     "nuid": "802c2b20-677c-4784-bba1-eafbf914d053",
     "showTitle": false,
     "tableResultSettingsMap": {},
     "title": ""
    }
   },
   "source": [
    "The 10 best-rated genres are:\n",
    "1. Action\n",
    "2. Indie\n",
    "3. Adventure\n",
    "4. RPG\n",
    "5. Free to Play\n",
    "6. Simulation\n",
    "7. Strategy\n",
    "8. Casual\n",
    "9. Massively Multiplayer\n",
    "10. Early Access\n",
    "\n",
    "Interestingly, the some genres are more popular than others despite being less frequent in the data."
   ]
  },
  {
   "cell_type": "markdown",
   "metadata": {
    "application/vnd.databricks.v1+cell": {
     "cellMetadata": {},
     "inputWidgets": {},
     "nuid": "4ba14d53-3074-4749-ae23-d5f403847577",
     "showTitle": false,
     "tableResultSettingsMap": {},
     "title": ""
    }
   },
   "source": [
    "### Do some publishers have favorite genres?"
   ]
  },
  {
   "cell_type": "code",
   "execution_count": 0,
   "metadata": {
    "application/vnd.databricks.v1+cell": {
     "cellMetadata": {
      "byteLimit": 2048000,
      "rowLimit": 10000
     },
     "inputWidgets": {},
     "nuid": "971caa24-6012-4945-9a0d-60bde31cdd24",
     "showTitle": false,
     "tableResultSettingsMap": {},
     "title": ""
    }
   },
   "outputs": [
    {
     "data": {
      "text/html": [
       "<style scoped>\n",
       "  .table-result-container {\n",
       "    max-height: 300px;\n",
       "    overflow: auto;\n",
       "  }\n",
       "  table, th, td {\n",
       "    border: 1px solid black;\n",
       "    border-collapse: collapse;\n",
       "  }\n",
       "  th, td {\n",
       "    padding: 5px;\n",
       "  }\n",
       "  th {\n",
       "    text-align: left;\n",
       "  }\n",
       "</style><div class='table-result-container'><table class='table-result'><thead style='background-color: white'><tr><th>publisher</th><th>genre</th><th>genre_size_for_publisher (%)</th><th>num_games_from_publisher</th></tr></thead><tbody><tr><td>Afterthought Studios</td><td>Simulation</td><td>100.0</td><td>8</td></tr><tr><td>Andy Jurko</td><td>Indie</td><td>100.0</td><td>17</td></tr><tr><td>Age of Fear</td><td>Indie</td><td>100.0</td><td>5</td></tr><tr><td>0Cube</td><td>Adventure</td><td>100.0</td><td>19</td></tr><tr><td>Ahlman Game Studio</td><td>Free to Play</td><td>100.0</td><td>11</td></tr><tr><td>7DOTS</td><td>Indie</td><td>100.0</td><td>6</td></tr><tr><td>Airem</td><td>Indie</td><td>100.0</td><td>7</td></tr><tr><td>8floor</td><td>Casual</td><td>100.0</td><td>202</td></tr><tr><td>90E GAMES</td><td>Action</td><td>100.0</td><td>7</td></tr><tr><td>AFBIK Studio</td><td>Casual</td><td>100.0</td><td>20</td></tr><tr><td>AIHASTO</td><td>Adventure</td><td>100.0</td><td>5</td></tr><tr><td>AZAMATIKA</td><td>Indie</td><td>100.0</td><td>6</td></tr><tr><td>Anatoliy Loginovskikh</td><td>Indie</td><td>100.0</td><td>26</td></tr><tr><td>Alawar Entertainment, ESDigital Games</td><td>Simulation</td><td>100.0</td><td>5</td></tr><tr><td>Adamvision Studios</td><td>Casual</td><td>100.0</td><td>9</td></tr><tr><td>Alcedo Games</td><td>Indie</td><td>100.0</td><td>6</td></tr><tr><td>AAD Productions</td><td>Indie</td><td>100.0</td><td>6</td></tr><tr><td>3000AD</td><td>Action</td><td>100.0</td><td>6</td></tr><tr><td>8Floor</td><td>Casual</td><td>100.0</td><td>41</td></tr><tr><td>Anawiki Games</td><td>Indie</td><td>100.0</td><td>6</td></tr></tbody></table></div>"
      ]
     },
     "metadata": {
      "application/vnd.databricks.v1+output": {
       "addedWidgets": {},
       "aggData": [],
       "aggError": "",
       "aggOverflow": false,
       "aggSchema": [],
       "aggSeriesLimitReached": false,
       "aggType": "",
       "arguments": {},
       "columnCustomDisplayInfos": {},
       "data": [
        [
         "Afterthought Studios",
         "Simulation",
         100,
         8
        ],
        [
         "Andy Jurko",
         "Indie",
         100,
         17
        ],
        [
         "Age of Fear",
         "Indie",
         100,
         5
        ],
        [
         "0Cube",
         "Adventure",
         100,
         19
        ],
        [
         "Ahlman Game Studio",
         "Free to Play",
         100,
         11
        ],
        [
         "7DOTS",
         "Indie",
         100,
         6
        ],
        [
         "Airem",
         "Indie",
         100,
         7
        ],
        [
         "8floor",
         "Casual",
         100,
         202
        ],
        [
         "90E GAMES",
         "Action",
         100,
         7
        ],
        [
         "AFBIK Studio",
         "Casual",
         100,
         20
        ],
        [
         "AIHASTO",
         "Adventure",
         100,
         5
        ],
        [
         "AZAMATIKA",
         "Indie",
         100,
         6
        ],
        [
         "Anatoliy Loginovskikh",
         "Indie",
         100,
         26
        ],
        [
         "Alawar Entertainment, ESDigital Games",
         "Simulation",
         100,
         5
        ],
        [
         "Adamvision Studios",
         "Casual",
         100,
         9
        ],
        [
         "Alcedo Games",
         "Indie",
         100,
         6
        ],
        [
         "AAD Productions",
         "Indie",
         100,
         6
        ],
        [
         "3000AD",
         "Action",
         100,
         6
        ],
        [
         "8Floor",
         "Casual",
         100,
         41
        ],
        [
         "Anawiki Games",
         "Indie",
         100,
         6
        ]
       ],
       "datasetInfos": [],
       "dbfsResultPath": null,
       "isJsonSchema": true,
       "metadata": {},
       "overflow": false,
       "plotOptions": {
        "customPlotOptions": {},
        "displayType": "table",
        "pivotAggregation": null,
        "pivotColumns": null,
        "xColumns": null,
        "yColumns": null
       },
       "removedWidgets": [],
       "schema": [
        {
         "metadata": "{}",
         "name": "publisher",
         "type": "\"string\""
        },
        {
         "metadata": "{}",
         "name": "genre",
         "type": "\"string\""
        },
        {
         "metadata": "{}",
         "name": "genre_size_for_publisher (%)",
         "type": "\"double\""
        },
        {
         "metadata": "{}",
         "name": "num_games_from_publisher",
         "type": "\"long\""
        }
       ],
       "type": "table"
      }
     },
     "output_type": "display_data"
    }
   ],
   "source": [
    "get_genre_list = F.udf(lambda genres: [genre.strip() for genre in genres.split(\",\")],\n",
    "                       ArrayType(StringType()))\n",
    "\n",
    "# I can't merge the two lines below because I need the first one before the \"genre_occurrences\" column exists\n",
    "num_games_window = Window.partitionBy(F.col(\"publisher\"))\n",
    "genre_rank_window = Window.partitionBy(F.col(\"publisher\")).orderBy(F.desc(\"genre_occurrences\"))\n",
    "\n",
    "fave_genres_df = df.filter((F.col(\"genre\") != \"\") & ~F.col(\"publisher\").isin([\"\", \" \"]))\\\n",
    "                   .withColumn(\"num_games_from_publisher\", F.count(\"appid\").over(num_games_window))\\\n",
    "                   .filter(F.col(\"num_games_from_publisher\") >= 5)\\\n",
    "                   .withColumn(\"genre\", # ↑ Publishers with very few games wouldn't give us interesting \"favourite genre\" values\n",
    "                               F.explode(\n",
    "                                   get_genre_list(\n",
    "                                       F.col(\"genre\"))))\\\n",
    "                   .groupBy([F.col(\"publisher\"), F.col(\"genre\")])\\\n",
    "                   .agg(F.count(\"genre\").alias(\"genre_occurrences\"),\n",
    "                        F.max(\"num_games_from_publisher\").alias(\"num_games_from_publisher\"))\\\n",
    "                   .withColumn(\"genre_rank_for_publisher\", F.rank().over(genre_rank_window))\\\n",
    "                   .filter(F.col(\"genre_rank_for_publisher\") == 1)\\\n",
    "                   .withColumn(\"genre_size_for_publisher (%)\",\n",
    "                               (F.col(\"genre_occurrences\") / F.col(\"num_games_from_publisher\") * 100))\\\n",
    "                   .dropDuplicates(subset=[\"publisher\"])\\\n",
    "                   .orderBy(F.desc(\"genre_size_for_publisher (%)\"))\\\n",
    "                   .select([F.col(\"publisher\"),\n",
    "                            F.col(\"genre\"),\n",
    "                            F.col(\"genre_size_for_publisher (%)\"),\n",
    "                            F.col(\"num_games_from_publisher\")])\n",
    "get_head_as_df(fave_genres_df)"
   ]
  },
  {
   "cell_type": "markdown",
   "metadata": {
    "application/vnd.databricks.v1+cell": {
     "cellMetadata": {},
     "inputWidgets": {},
     "nuid": "be3a49f4-b393-452d-8020-21066a1eb82c",
     "showTitle": false,
     "tableResultSettingsMap": {},
     "title": ""
    }
   },
   "source": [
    "This doesn't tell us very much, let's look at the distribution of favourite genre sizes for each publisher.\\\n",
    "I initially tried undoing the percentage in the \"genre_size_for_publisher\" column in order to account for the fact that it's easier to have a bigger percentage when you don't have a lot of games, but it actually makes the gap much wider and the visualisation much harder to interpret."
   ]
  },
  {
   "cell_type": "code",
   "execution_count": 0,
   "metadata": {
    "application/vnd.databricks.v1+cell": {
     "cellMetadata": {
      "byteLimit": 2048000,
      "rowLimit": 10000
     },
     "inputWidgets": {},
     "nuid": "7d98ddb1-685f-4b7c-8cfb-416980b187a7",
     "showTitle": false,
     "tableResultSettingsMap": {
      "0": {
       "dataGridStateBlob": "{\"version\":1,\"tableState\":{\"columnPinning\":{\"left\":[\"#row_number#\"],\"right\":[]},\"columnSizing\":{},\"columnVisibility\":{}},\"settings\":{\"columns\":{}},\"syncTimestamp\":1759352897082}",
       "filterBlob": null,
       "queryPlanFiltersBlob": null,
       "tableResultIndex": 0
      }
     },
     "title": ""
    }
   },
   "outputs": [
    {
     "data": {
      "text/html": [
       "<style scoped>\n",
       "  .table-result-container {\n",
       "    max-height: 300px;\n",
       "    overflow: auto;\n",
       "  }\n",
       "  table, th, td {\n",
       "    border: 1px solid black;\n",
       "    border-collapse: collapse;\n",
       "  }\n",
       "  th, td {\n",
       "    padding: 5px;\n",
       "  }\n",
       "  th {\n",
       "    text-align: left;\n",
       "  }\n",
       "</style><div class='table-result-container'><table class='table-result'><thead style='background-color: white'><tr><th>genre_size_for_publisher (%)</th></tr></thead><tbody><tr><td>100.0</td></tr><tr><td>100.0</td></tr><tr><td>100.0</td></tr><tr><td>100.0</td></tr><tr><td>100.0</td></tr><tr><td>100.0</td></tr><tr><td>100.0</td></tr><tr><td>100.0</td></tr><tr><td>100.0</td></tr><tr><td>100.0</td></tr><tr><td>100.0</td></tr><tr><td>100.0</td></tr><tr><td>100.0</td></tr><tr><td>100.0</td></tr><tr><td>100.0</td></tr><tr><td>100.0</td></tr><tr><td>100.0</td></tr><tr><td>100.0</td></tr><tr><td>100.0</td></tr><tr><td>100.0</td></tr><tr><td>100.0</td></tr><tr><td>100.0</td></tr><tr><td>100.0</td></tr><tr><td>100.0</td></tr><tr><td>100.0</td></tr><tr><td>100.0</td></tr><tr><td>100.0</td></tr><tr><td>100.0</td></tr><tr><td>100.0</td></tr><tr><td>100.0</td></tr><tr><td>100.0</td></tr><tr><td>100.0</td></tr><tr><td>100.0</td></tr><tr><td>100.0</td></tr><tr><td>100.0</td></tr><tr><td>100.0</td></tr><tr><td>100.0</td></tr><tr><td>100.0</td></tr><tr><td>100.0</td></tr><tr><td>100.0</td></tr><tr><td>100.0</td></tr><tr><td>100.0</td></tr><tr><td>100.0</td></tr><tr><td>100.0</td></tr><tr><td>100.0</td></tr><tr><td>100.0</td></tr><tr><td>100.0</td></tr><tr><td>100.0</td></tr><tr><td>100.0</td></tr><tr><td>100.0</td></tr><tr><td>100.0</td></tr><tr><td>100.0</td></tr><tr><td>100.0</td></tr><tr><td>100.0</td></tr><tr><td>100.0</td></tr><tr><td>100.0</td></tr><tr><td>100.0</td></tr><tr><td>100.0</td></tr><tr><td>100.0</td></tr><tr><td>100.0</td></tr><tr><td>100.0</td></tr><tr><td>100.0</td></tr><tr><td>100.0</td></tr><tr><td>100.0</td></tr><tr><td>100.0</td></tr><tr><td>100.0</td></tr><tr><td>100.0</td></tr><tr><td>100.0</td></tr><tr><td>100.0</td></tr><tr><td>100.0</td></tr><tr><td>100.0</td></tr><tr><td>100.0</td></tr><tr><td>100.0</td></tr><tr><td>100.0</td></tr><tr><td>100.0</td></tr><tr><td>100.0</td></tr><tr><td>100.0</td></tr><tr><td>100.0</td></tr><tr><td>100.0</td></tr><tr><td>100.0</td></tr><tr><td>100.0</td></tr><tr><td>100.0</td></tr><tr><td>100.0</td></tr><tr><td>100.0</td></tr><tr><td>100.0</td></tr><tr><td>100.0</td></tr><tr><td>100.0</td></tr><tr><td>100.0</td></tr><tr><td>100.0</td></tr><tr><td>100.0</td></tr><tr><td>100.0</td></tr><tr><td>100.0</td></tr><tr><td>100.0</td></tr><tr><td>100.0</td></tr><tr><td>100.0</td></tr><tr><td>100.0</td></tr><tr><td>100.0</td></tr><tr><td>100.0</td></tr><tr><td>100.0</td></tr><tr><td>100.0</td></tr><tr><td>100.0</td></tr><tr><td>100.0</td></tr><tr><td>100.0</td></tr><tr><td>100.0</td></tr><tr><td>100.0</td></tr><tr><td>100.0</td></tr><tr><td>100.0</td></tr><tr><td>100.0</td></tr><tr><td>100.0</td></tr><tr><td>100.0</td></tr><tr><td>100.0</td></tr><tr><td>100.0</td></tr><tr><td>100.0</td></tr><tr><td>100.0</td></tr><tr><td>100.0</td></tr><tr><td>100.0</td></tr><tr><td>100.0</td></tr><tr><td>100.0</td></tr><tr><td>100.0</td></tr><tr><td>100.0</td></tr><tr><td>100.0</td></tr><tr><td>100.0</td></tr><tr><td>100.0</td></tr><tr><td>100.0</td></tr><tr><td>100.0</td></tr><tr><td>100.0</td></tr><tr><td>100.0</td></tr><tr><td>100.0</td></tr><tr><td>100.0</td></tr><tr><td>100.0</td></tr><tr><td>100.0</td></tr><tr><td>100.0</td></tr><tr><td>100.0</td></tr><tr><td>100.0</td></tr><tr><td>100.0</td></tr><tr><td>100.0</td></tr><tr><td>100.0</td></tr><tr><td>100.0</td></tr><tr><td>100.0</td></tr><tr><td>100.0</td></tr><tr><td>100.0</td></tr><tr><td>100.0</td></tr><tr><td>100.0</td></tr><tr><td>100.0</td></tr><tr><td>100.0</td></tr><tr><td>100.0</td></tr><tr><td>100.0</td></tr><tr><td>100.0</td></tr><tr><td>100.0</td></tr><tr><td>100.0</td></tr><tr><td>100.0</td></tr><tr><td>100.0</td></tr><tr><td>100.0</td></tr><tr><td>100.0</td></tr><tr><td>100.0</td></tr><tr><td>100.0</td></tr><tr><td>100.0</td></tr><tr><td>100.0</td></tr><tr><td>100.0</td></tr><tr><td>100.0</td></tr><tr><td>100.0</td></tr><tr><td>100.0</td></tr><tr><td>100.0</td></tr><tr><td>100.0</td></tr><tr><td>100.0</td></tr><tr><td>100.0</td></tr><tr><td>100.0</td></tr><tr><td>100.0</td></tr><tr><td>100.0</td></tr><tr><td>100.0</td></tr><tr><td>100.0</td></tr><tr><td>100.0</td></tr><tr><td>100.0</td></tr><tr><td>100.0</td></tr><tr><td>100.0</td></tr><tr><td>100.0</td></tr><tr><td>100.0</td></tr><tr><td>100.0</td></tr><tr><td>100.0</td></tr><tr><td>100.0</td></tr><tr><td>100.0</td></tr><tr><td>100.0</td></tr><tr><td>100.0</td></tr><tr><td>100.0</td></tr><tr><td>100.0</td></tr><tr><td>100.0</td></tr><tr><td>100.0</td></tr><tr><td>100.0</td></tr><tr><td>100.0</td></tr><tr><td>100.0</td></tr><tr><td>100.0</td></tr><tr><td>100.0</td></tr><tr><td>100.0</td></tr><tr><td>100.0</td></tr><tr><td>100.0</td></tr><tr><td>100.0</td></tr><tr><td>100.0</td></tr><tr><td>100.0</td></tr><tr><td>100.0</td></tr><tr><td>100.0</td></tr><tr><td>100.0</td></tr><tr><td>100.0</td></tr><tr><td>100.0</td></tr><tr><td>100.0</td></tr><tr><td>100.0</td></tr><tr><td>100.0</td></tr><tr><td>100.0</td></tr><tr><td>100.0</td></tr><tr><td>100.0</td></tr><tr><td>100.0</td></tr><tr><td>100.0</td></tr><tr><td>100.0</td></tr><tr><td>100.0</td></tr><tr><td>100.0</td></tr><tr><td>100.0</td></tr><tr><td>100.0</td></tr><tr><td>100.0</td></tr><tr><td>100.0</td></tr><tr><td>100.0</td></tr><tr><td>100.0</td></tr><tr><td>100.0</td></tr><tr><td>100.0</td></tr><tr><td>100.0</td></tr><tr><td>100.0</td></tr><tr><td>100.0</td></tr><tr><td>100.0</td></tr><tr><td>100.0</td></tr><tr><td>100.0</td></tr><tr><td>100.0</td></tr><tr><td>100.0</td></tr><tr><td>100.0</td></tr><tr><td>100.0</td></tr><tr><td>100.0</td></tr><tr><td>100.0</td></tr><tr><td>100.0</td></tr><tr><td>100.0</td></tr><tr><td>100.0</td></tr><tr><td>100.0</td></tr><tr><td>100.0</td></tr><tr><td>100.0</td></tr><tr><td>100.0</td></tr><tr><td>100.0</td></tr><tr><td>100.0</td></tr><tr><td>100.0</td></tr><tr><td>100.0</td></tr><tr><td>100.0</td></tr><tr><td>100.0</td></tr><tr><td>100.0</td></tr><tr><td>100.0</td></tr><tr><td>100.0</td></tr><tr><td>100.0</td></tr><tr><td>100.0</td></tr><tr><td>100.0</td></tr><tr><td>100.0</td></tr><tr><td>100.0</td></tr><tr><td>100.0</td></tr><tr><td>100.0</td></tr><tr><td>100.0</td></tr><tr><td>100.0</td></tr><tr><td>100.0</td></tr><tr><td>100.0</td></tr><tr><td>100.0</td></tr><tr><td>100.0</td></tr><tr><td>100.0</td></tr><tr><td>100.0</td></tr><tr><td>100.0</td></tr><tr><td>100.0</td></tr><tr><td>100.0</td></tr><tr><td>100.0</td></tr><tr><td>100.0</td></tr><tr><td>100.0</td></tr><tr><td>100.0</td></tr><tr><td>100.0</td></tr><tr><td>100.0</td></tr><tr><td>100.0</td></tr><tr><td>100.0</td></tr><tr><td>100.0</td></tr><tr><td>100.0</td></tr><tr><td>100.0</td></tr><tr><td>100.0</td></tr><tr><td>100.0</td></tr><tr><td>100.0</td></tr><tr><td>100.0</td></tr><tr><td>100.0</td></tr><tr><td>100.0</td></tr><tr><td>100.0</td></tr><tr><td>100.0</td></tr><tr><td>100.0</td></tr><tr><td>100.0</td></tr><tr><td>100.0</td></tr><tr><td>100.0</td></tr><tr><td>100.0</td></tr><tr><td>100.0</td></tr><tr><td>100.0</td></tr><tr><td>100.0</td></tr><tr><td>100.0</td></tr><tr><td>100.0</td></tr><tr><td>100.0</td></tr><tr><td>100.0</td></tr><tr><td>100.0</td></tr><tr><td>100.0</td></tr><tr><td>100.0</td></tr><tr><td>100.0</td></tr><tr><td>100.0</td></tr><tr><td>100.0</td></tr><tr><td>100.0</td></tr><tr><td>100.0</td></tr><tr><td>100.0</td></tr><tr><td>100.0</td></tr><tr><td>100.0</td></tr><tr><td>100.0</td></tr><tr><td>100.0</td></tr><tr><td>100.0</td></tr><tr><td>100.0</td></tr><tr><td>100.0</td></tr><tr><td>100.0</td></tr><tr><td>100.0</td></tr><tr><td>100.0</td></tr><tr><td>100.0</td></tr><tr><td>100.0</td></tr><tr><td>100.0</td></tr><tr><td>100.0</td></tr><tr><td>100.0</td></tr><tr><td>100.0</td></tr><tr><td>100.0</td></tr><tr><td>100.0</td></tr><tr><td>100.0</td></tr><tr><td>100.0</td></tr><tr><td>100.0</td></tr><tr><td>100.0</td></tr><tr><td>100.0</td></tr><tr><td>100.0</td></tr><tr><td>100.0</td></tr><tr><td>100.0</td></tr><tr><td>100.0</td></tr><tr><td>100.0</td></tr><tr><td>100.0</td></tr><tr><td>100.0</td></tr><tr><td>100.0</td></tr><tr><td>100.0</td></tr><tr><td>100.0</td></tr><tr><td>100.0</td></tr><tr><td>100.0</td></tr><tr><td>100.0</td></tr><tr><td>100.0</td></tr><tr><td>100.0</td></tr><tr><td>100.0</td></tr><tr><td>100.0</td></tr><tr><td>100.0</td></tr><tr><td>100.0</td></tr><tr><td>100.0</td></tr><tr><td>100.0</td></tr><tr><td>100.0</td></tr><tr><td>100.0</td></tr><tr><td>100.0</td></tr><tr><td>100.0</td></tr><tr><td>100.0</td></tr><tr><td>100.0</td></tr><tr><td>100.0</td></tr><tr><td>100.0</td></tr><tr><td>100.0</td></tr><tr><td>100.0</td></tr><tr><td>100.0</td></tr><tr><td>100.0</td></tr><tr><td>100.0</td></tr><tr><td>100.0</td></tr><tr><td>100.0</td></tr><tr><td>100.0</td></tr><tr><td>100.0</td></tr><tr><td>100.0</td></tr><tr><td>100.0</td></tr><tr><td>100.0</td></tr><tr><td>100.0</td></tr><tr><td>100.0</td></tr><tr><td>100.0</td></tr><tr><td>100.0</td></tr><tr><td>100.0</td></tr><tr><td>100.0</td></tr><tr><td>100.0</td></tr><tr><td>100.0</td></tr><tr><td>100.0</td></tr><tr><td>100.0</td></tr><tr><td>100.0</td></tr><tr><td>100.0</td></tr><tr><td>100.0</td></tr><tr><td>100.0</td></tr><tr><td>100.0</td></tr><tr><td>100.0</td></tr><tr><td>100.0</td></tr><tr><td>100.0</td></tr><tr><td>100.0</td></tr><tr><td>100.0</td></tr><tr><td>100.0</td></tr><tr><td>100.0</td></tr><tr><td>100.0</td></tr><tr><td>100.0</td></tr><tr><td>100.0</td></tr><tr><td>100.0</td></tr><tr><td>100.0</td></tr><tr><td>100.0</td></tr><tr><td>100.0</td></tr><tr><td>100.0</td></tr><tr><td>100.0</td></tr><tr><td>100.0</td></tr><tr><td>100.0</td></tr><tr><td>100.0</td></tr><tr><td>100.0</td></tr><tr><td>100.0</td></tr><tr><td>100.0</td></tr><tr><td>100.0</td></tr><tr><td>100.0</td></tr><tr><td>100.0</td></tr><tr><td>100.0</td></tr><tr><td>100.0</td></tr><tr><td>100.0</td></tr><tr><td>100.0</td></tr><tr><td>100.0</td></tr><tr><td>100.0</td></tr><tr><td>100.0</td></tr><tr><td>100.0</td></tr><tr><td>100.0</td></tr><tr><td>100.0</td></tr><tr><td>100.0</td></tr><tr><td>100.0</td></tr><tr><td>100.0</td></tr><tr><td>100.0</td></tr><tr><td>100.0</td></tr><tr><td>100.0</td></tr><tr><td>100.0</td></tr><tr><td>100.0</td></tr><tr><td>100.0</td></tr><tr><td>100.0</td></tr><tr><td>100.0</td></tr><tr><td>100.0</td></tr><tr><td>100.0</td></tr><tr><td>100.0</td></tr><tr><td>100.0</td></tr><tr><td>100.0</td></tr><tr><td>100.0</td></tr><tr><td>100.0</td></tr><tr><td>100.0</td></tr><tr><td>100.0</td></tr><tr><td>100.0</td></tr><tr><td>100.0</td></tr><tr><td>100.0</td></tr><tr><td>100.0</td></tr><tr><td>100.0</td></tr><tr><td>100.0</td></tr><tr><td>100.0</td></tr><tr><td>100.0</td></tr><tr><td>100.0</td></tr><tr><td>100.0</td></tr><tr><td>100.0</td></tr><tr><td>100.0</td></tr><tr><td>100.0</td></tr><tr><td>100.0</td></tr><tr><td>100.0</td></tr><tr><td>100.0</td></tr><tr><td>100.0</td></tr><tr><td>100.0</td></tr><tr><td>100.0</td></tr><tr><td>100.0</td></tr><tr><td>100.0</td></tr><tr><td>100.0</td></tr><tr><td>100.0</td></tr><tr><td>100.0</td></tr><tr><td>100.0</td></tr><tr><td>100.0</td></tr><tr><td>100.0</td></tr><tr><td>100.0</td></tr><tr><td>100.0</td></tr><tr><td>100.0</td></tr><tr><td>100.0</td></tr><tr><td>100.0</td></tr><tr><td>100.0</td></tr><tr><td>100.0</td></tr><tr><td>100.0</td></tr><tr><td>100.0</td></tr><tr><td>100.0</td></tr><tr><td>100.0</td></tr><tr><td>100.0</td></tr><tr><td>100.0</td></tr><tr><td>100.0</td></tr><tr><td>100.0</td></tr><tr><td>100.0</td></tr><tr><td>100.0</td></tr><tr><td>100.0</td></tr><tr><td>100.0</td></tr><tr><td>100.0</td></tr><tr><td>100.0</td></tr><tr><td>100.0</td></tr><tr><td>100.0</td></tr><tr><td>100.0</td></tr><tr><td>100.0</td></tr><tr><td>100.0</td></tr><tr><td>100.0</td></tr><tr><td>100.0</td></tr><tr><td>100.0</td></tr><tr><td>100.0</td></tr><tr><td>100.0</td></tr><tr><td>100.0</td></tr><tr><td>100.0</td></tr><tr><td>100.0</td></tr><tr><td>100.0</td></tr><tr><td>100.0</td></tr><tr><td>100.0</td></tr><tr><td>100.0</td></tr><tr><td>100.0</td></tr><tr><td>100.0</td></tr><tr><td>100.0</td></tr><tr><td>100.0</td></tr><tr><td>100.0</td></tr><tr><td>100.0</td></tr><tr><td>100.0</td></tr><tr><td>100.0</td></tr><tr><td>100.0</td></tr><tr><td>100.0</td></tr><tr><td>100.0</td></tr><tr><td>100.0</td></tr><tr><td>100.0</td></tr><tr><td>100.0</td></tr><tr><td>100.0</td></tr><tr><td>100.0</td></tr><tr><td>100.0</td></tr><tr><td>100.0</td></tr><tr><td>100.0</td></tr><tr><td>100.0</td></tr><tr><td>100.0</td></tr><tr><td>100.0</td></tr><tr><td>100.0</td></tr><tr><td>100.0</td></tr><tr><td>100.0</td></tr><tr><td>100.0</td></tr><tr><td>100.0</td></tr><tr><td>100.0</td></tr><tr><td>100.0</td></tr><tr><td>100.0</td></tr><tr><td>100.0</td></tr><tr><td>100.0</td></tr><tr><td>100.0</td></tr><tr><td>100.0</td></tr><tr><td>100.0</td></tr><tr><td>100.0</td></tr><tr><td>100.0</td></tr><tr><td>100.0</td></tr><tr><td>100.0</td></tr><tr><td>100.0</td></tr><tr><td>100.0</td></tr><tr><td>100.0</td></tr><tr><td>100.0</td></tr><tr><td>100.0</td></tr><tr><td>100.0</td></tr><tr><td>100.0</td></tr><tr><td>100.0</td></tr><tr><td>100.0</td></tr><tr><td>100.0</td></tr><tr><td>100.0</td></tr><tr><td>100.0</td></tr><tr><td>100.0</td></tr><tr><td>100.0</td></tr><tr><td>100.0</td></tr><tr><td>100.0</td></tr><tr><td>100.0</td></tr><tr><td>100.0</td></tr><tr><td>100.0</td></tr><tr><td>100.0</td></tr><tr><td>100.0</td></tr><tr><td>100.0</td></tr><tr><td>100.0</td></tr><tr><td>100.0</td></tr><tr><td>100.0</td></tr><tr><td>100.0</td></tr><tr><td>100.0</td></tr><tr><td>100.0</td></tr><tr><td>100.0</td></tr><tr><td>100.0</td></tr><tr><td>100.0</td></tr><tr><td>100.0</td></tr><tr><td>100.0</td></tr><tr><td>100.0</td></tr><tr><td>100.0</td></tr><tr><td>100.0</td></tr><tr><td>100.0</td></tr><tr><td>100.0</td></tr><tr><td>100.0</td></tr><tr><td>100.0</td></tr><tr><td>100.0</td></tr><tr><td>100.0</td></tr><tr><td>100.0</td></tr><tr><td>100.0</td></tr><tr><td>100.0</td></tr><tr><td>100.0</td></tr><tr><td>100.0</td></tr><tr><td>100.0</td></tr><tr><td>100.0</td></tr><tr><td>100.0</td></tr><tr><td>100.0</td></tr><tr><td>100.0</td></tr><tr><td>100.0</td></tr><tr><td>100.0</td></tr><tr><td>100.0</td></tr><tr><td>100.0</td></tr><tr><td>100.0</td></tr><tr><td>100.0</td></tr><tr><td>100.0</td></tr><tr><td>100.0</td></tr><tr><td>100.0</td></tr><tr><td>100.0</td></tr><tr><td>100.0</td></tr><tr><td>100.0</td></tr><tr><td>100.0</td></tr><tr><td>100.0</td></tr><tr><td>100.0</td></tr><tr><td>100.0</td></tr><tr><td>100.0</td></tr><tr><td>100.0</td></tr><tr><td>100.0</td></tr><tr><td>100.0</td></tr><tr><td>100.0</td></tr><tr><td>100.0</td></tr><tr><td>100.0</td></tr><tr><td>100.0</td></tr><tr><td>100.0</td></tr><tr><td>100.0</td></tr><tr><td>100.0</td></tr><tr><td>100.0</td></tr><tr><td>100.0</td></tr><tr><td>100.0</td></tr><tr><td>100.0</td></tr><tr><td>100.0</td></tr><tr><td>100.0</td></tr><tr><td>100.0</td></tr><tr><td>100.0</td></tr><tr><td>100.0</td></tr><tr><td>100.0</td></tr><tr><td>100.0</td></tr><tr><td>100.0</td></tr><tr><td>100.0</td></tr><tr><td>100.0</td></tr><tr><td>100.0</td></tr><tr><td>100.0</td></tr><tr><td>100.0</td></tr><tr><td>100.0</td></tr><tr><td>100.0</td></tr><tr><td>100.0</td></tr><tr><td>100.0</td></tr><tr><td>100.0</td></tr><tr><td>100.0</td></tr><tr><td>100.0</td></tr><tr><td>100.0</td></tr><tr><td>100.0</td></tr><tr><td>100.0</td></tr><tr><td>100.0</td></tr><tr><td>100.0</td></tr><tr><td>100.0</td></tr><tr><td>100.0</td></tr><tr><td>100.0</td></tr><tr><td>100.0</td></tr><tr><td>100.0</td></tr><tr><td>100.0</td></tr><tr><td>100.0</td></tr><tr><td>100.0</td></tr><tr><td>100.0</td></tr><tr><td>100.0</td></tr><tr><td>100.0</td></tr><tr><td>100.0</td></tr><tr><td>100.0</td></tr><tr><td>100.0</td></tr><tr><td>100.0</td></tr><tr><td>100.0</td></tr><tr><td>100.0</td></tr><tr><td>100.0</td></tr><tr><td>100.0</td></tr><tr><td>100.0</td></tr><tr><td>100.0</td></tr><tr><td>100.0</td></tr><tr><td>100.0</td></tr><tr><td>100.0</td></tr><tr><td>100.0</td></tr><tr><td>100.0</td></tr><tr><td>100.0</td></tr><tr><td>100.0</td></tr><tr><td>100.0</td></tr><tr><td>100.0</td></tr><tr><td>100.0</td></tr><tr><td>100.0</td></tr><tr><td>100.0</td></tr><tr><td>100.0</td></tr><tr><td>100.0</td></tr><tr><td>100.0</td></tr><tr><td>100.0</td></tr><tr><td>100.0</td></tr><tr><td>100.0</td></tr><tr><td>100.0</td></tr><tr><td>100.0</td></tr><tr><td>100.0</td></tr><tr><td>100.0</td></tr><tr><td>100.0</td></tr><tr><td>100.0</td></tr><tr><td>100.0</td></tr><tr><td>100.0</td></tr><tr><td>100.0</td></tr><tr><td>100.0</td></tr><tr><td>100.0</td></tr><tr><td>100.0</td></tr><tr><td>100.0</td></tr><tr><td>100.0</td></tr><tr><td>100.0</td></tr><tr><td>100.0</td></tr><tr><td>100.0</td></tr><tr><td>99.2874109263658</td></tr><tr><td>98.87640449438202</td></tr><tr><td>98.73417721518987</td></tr><tr><td>98.4126984126984</td></tr><tr><td>98.14814814814815</td></tr><tr><td>98.13084112149532</td></tr><tr><td>98.07692307692307</td></tr><tr><td>98.0392156862745</td></tr><tr><td>98.0</td></tr><tr><td>97.97979797979798</td></tr><tr><td>97.95918367346938</td></tr><tr><td>97.91666666666666</td></tr><tr><td>97.61904761904762</td></tr><tr><td>97.53086419753086</td></tr><tr><td>97.33333333333334</td></tr><tr><td>97.22222222222221</td></tr><tr><td>97.14285714285714</td></tr><tr><td>97.05882352941177</td></tr><tr><td>96.7741935483871</td></tr><tr><td>96.55172413793103</td></tr><tr><td>96.55172413793103</td></tr><tr><td>96.42857142857143</td></tr><tr><td>96.29629629629629</td></tr><tr><td>96.0</td></tr><tr><td>96.0</td></tr><tr><td>96.0</td></tr><tr><td>95.83333333333334</td></tr><tr><td>95.83333333333334</td></tr><tr><td>95.83333333333334</td></tr><tr><td>95.65217391304348</td></tr><tr><td>95.65217391304348</td></tr><tr><td>95.34883720930233</td></tr><tr><td>95.0</td></tr><tr><td>95.0</td></tr><tr><td>94.73684210526315</td></tr><tr><td>94.73684210526315</td></tr><tr><td>94.73684210526315</td></tr><tr><td>94.73684210526315</td></tr><tr><td>94.73684210526315</td></tr><tr><td>94.5945945945946</td></tr><tr><td>94.44444444444444</td></tr><tr><td>94.44444444444444</td></tr><tr><td>94.28571428571428</td></tr><tr><td>94.28571428571428</td></tr><tr><td>94.23076923076923</td></tr><tr><td>94.11764705882352</td></tr><tr><td>94.11764705882352</td></tr><tr><td>93.75</td></tr><tr><td>93.75</td></tr><tr><td>93.75</td></tr><tr><td>93.75</td></tr><tr><td>93.75</td></tr><tr><td>93.75</td></tr><tr><td>93.75</td></tr><tr><td>93.61702127659575</td></tr><tr><td>93.54838709677419</td></tr><tr><td>93.33333333333333</td></tr><tr><td>93.33333333333333</td></tr><tr><td>93.33333333333333</td></tr><tr><td>93.33333333333333</td></tr><tr><td>93.10344827586206</td></tr><tr><td>92.95774647887323</td></tr><tr><td>92.85714285714286</td></tr><tr><td>92.85714285714286</td></tr><tr><td>92.85714285714286</td></tr><tr><td>92.85714285714286</td></tr><tr><td>92.85714285714286</td></tr><tr><td>92.85714285714286</td></tr><tr><td>92.3076923076923</td></tr><tr><td>92.3076923076923</td></tr><tr><td>92.3076923076923</td></tr><tr><td>92.0</td></tr><tr><td>91.8918918918919</td></tr><tr><td>91.8918918918919</td></tr><tr><td>91.66666666666666</td></tr><tr><td>91.66666666666666</td></tr><tr><td>91.66666666666666</td></tr><tr><td>91.66666666666666</td></tr><tr><td>91.66666666666666</td></tr><tr><td>91.66666666666666</td></tr><tr><td>91.66666666666666</td></tr><tr><td>91.48936170212765</td></tr><tr><td>91.42857142857143</td></tr><tr><td>91.42857142857143</td></tr><tr><td>91.42857142857143</td></tr><tr><td>91.30434782608695</td></tr><tr><td>91.30434782608695</td></tr><tr><td>90.9090909090909</td></tr><tr><td>90.9090909090909</td></tr><tr><td>90.9090909090909</td></tr><tr><td>90.9090909090909</td></tr><tr><td>90.9090909090909</td></tr><tr><td>90.9090909090909</td></tr><tr><td>90.9090909090909</td></tr><tr><td>90.9090909090909</td></tr><tr><td>90.9090909090909</td></tr><tr><td>90.9090909090909</td></tr><tr><td>90.9090909090909</td></tr><tr><td>90.9090909090909</td></tr><tr><td>90.47619047619048</td></tr><tr><td>90.32258064516128</td></tr><tr><td>90.0</td></tr><tr><td>90.0</td></tr><tr><td>90.0</td></tr><tr><td>90.0</td></tr><tr><td>90.0</td></tr><tr><td>90.0</td></tr><tr><td>90.0</td></tr><tr><td>90.0</td></tr><tr><td>90.0</td></tr><tr><td>90.0</td></tr><tr><td>90.0</td></tr><tr><td>90.0</td></tr><tr><td>90.0</td></tr><tr><td>90.0</td></tr><tr><td>89.69072164948454</td></tr><tr><td>89.65517241379311</td></tr><tr><td>89.65517241379311</td></tr><tr><td>89.47368421052632</td></tr><tr><td>89.47368421052632</td></tr><tr><td>89.47368421052632</td></tr><tr><td>89.1891891891892</td></tr><tr><td>89.1891891891892</td></tr><tr><td>88.88888888888889</td></tr><tr><td>88.88888888888889</td></tr><tr><td>88.88888888888889</td></tr><tr><td>88.88888888888889</td></tr><tr><td>88.88888888888889</td></tr><tr><td>88.88888888888889</td></tr><tr><td>88.88888888888889</td></tr><tr><td>88.88888888888889</td></tr><tr><td>88.88888888888889</td></tr><tr><td>88.88888888888889</td></tr><tr><td>88.88888888888889</td></tr><tr><td>88.88888888888889</td></tr><tr><td>88.88888888888889</td></tr><tr><td>88.88888888888889</td></tr><tr><td>88.88888888888889</td></tr><tr><td>88.88888888888889</td></tr><tr><td>88.88888888888889</td></tr><tr><td>88.88888888888889</td></tr><tr><td>88.88888888888889</td></tr><tr><td>88.88888888888889</td></tr><tr><td>88.46153846153845</td></tr><tr><td>88.23529411764706</td></tr><tr><td>88.23529411764706</td></tr><tr><td>87.5</td></tr><tr><td>87.5</td></tr><tr><td>87.5</td></tr><tr><td>87.5</td></tr><tr><td>87.5</td></tr><tr><td>87.5</td></tr><tr><td>87.5</td></tr><tr><td>87.5</td></tr><tr><td>87.5</td></tr><tr><td>87.5</td></tr><tr><td>87.5</td></tr><tr><td>87.5</td></tr><tr><td>87.5</td></tr><tr><td>87.5</td></tr><tr><td>87.5</td></tr><tr><td>87.5</td></tr><tr><td>87.5</td></tr><tr><td>87.5</td></tr><tr><td>87.5</td></tr><tr><td>87.5</td></tr><tr><td>87.5</td></tr><tr><td>87.5</td></tr><tr><td>87.5</td></tr><tr><td>87.5</td></tr><tr><td>87.35632183908046</td></tr><tr><td>87.09677419354838</td></tr><tr><td>86.66666666666667</td></tr><tr><td>86.66666666666667</td></tr><tr><td>86.48648648648648</td></tr><tr><td>86.36363636363636</td></tr><tr><td>86.20689655172413</td></tr><tr><td>85.71428571428571</td></tr><tr><td>85.71428571428571</td></tr><tr><td>85.71428571428571</td></tr><tr><td>85.71428571428571</td></tr><tr><td>85.71428571428571</td></tr><tr><td>85.71428571428571</td></tr><tr><td>85.71428571428571</td></tr><tr><td>85.71428571428571</td></tr><tr><td>85.71428571428571</td></tr><tr><td>85.71428571428571</td></tr><tr><td>85.71428571428571</td></tr><tr><td>85.71428571428571</td></tr><tr><td>85.71428571428571</td></tr><tr><td>85.71428571428571</td></tr><tr><td>85.71428571428571</td></tr><tr><td>85.71428571428571</td></tr><tr><td>85.71428571428571</td></tr><tr><td>85.71428571428571</td></tr><tr><td>85.71428571428571</td></tr><tr><td>85.71428571428571</td></tr><tr><td>85.0</td></tr><tr><td>84.90566037735849</td></tr><tr><td>84.78260869565217</td></tr><tr><td>84.61538461538461</td></tr><tr><td>84.61538461538461</td></tr><tr><td>84.61538461538461</td></tr><tr><td>84.61538461538461</td></tr><tr><td>84.61538461538461</td></tr><tr><td>84.61538461538461</td></tr><tr><td>84.61538461538461</td></tr><tr><td>84.21052631578947</td></tr><tr><td>84.21052631578947</td></tr><tr><td>84.21052631578947</td></tr><tr><td>83.33333333333334</td></tr><tr><td>83.33333333333334</td></tr><tr><td>83.33333333333334</td></tr><tr><td>83.33333333333334</td></tr><tr><td>83.33333333333334</td></tr><tr><td>83.33333333333334</td></tr><tr><td>83.33333333333334</td></tr><tr><td>83.33333333333334</td></tr><tr><td>83.33333333333334</td></tr><tr><td>83.33333333333334</td></tr><tr><td>83.33333333333334</td></tr><tr><td>83.33333333333334</td></tr><tr><td>83.33333333333334</td></tr><tr><td>83.33333333333334</td></tr><tr><td>83.33333333333334</td></tr><tr><td>83.33333333333334</td></tr><tr><td>83.33333333333334</td></tr><tr><td>83.33333333333334</td></tr><tr><td>83.33333333333334</td></tr><tr><td>83.33333333333334</td></tr><tr><td>83.33333333333334</td></tr><tr><td>83.33333333333334</td></tr><tr><td>83.33333333333334</td></tr><tr><td>83.33333333333334</td></tr><tr><td>83.33333333333334</td></tr><tr><td>83.33333333333334</td></tr><tr><td>83.33333333333334</td></tr><tr><td>83.33333333333334</td></tr><tr><td>83.33333333333334</td></tr><tr><td>83.33333333333334</td></tr><tr><td>83.33333333333334</td></tr><tr><td>83.33333333333334</td></tr><tr><td>83.33333333333334</td></tr><tr><td>83.33333333333334</td></tr><tr><td>83.33333333333334</td></tr><tr><td>83.33333333333334</td></tr><tr><td>83.33333333333334</td></tr><tr><td>83.33333333333334</td></tr><tr><td>83.33333333333334</td></tr><tr><td>83.33333333333334</td></tr><tr><td>83.33333333333334</td></tr><tr><td>83.33333333333334</td></tr><tr><td>83.33333333333334</td></tr><tr><td>83.33333333333334</td></tr><tr><td>83.33333333333334</td></tr><tr><td>83.33333333333334</td></tr><tr><td>83.33333333333334</td></tr><tr><td>83.33333333333334</td></tr><tr><td>83.33333333333334</td></tr><tr><td>83.33333333333334</td></tr><tr><td>83.33333333333334</td></tr><tr><td>83.33333333333334</td></tr><tr><td>82.97872340425532</td></tr><tr><td>82.85714285714286</td></tr><tr><td>82.5</td></tr><tr><td>82.35294117647058</td></tr><tr><td>82.35294117647058</td></tr><tr><td>82.14285714285714</td></tr><tr><td>81.81818181818183</td></tr><tr><td>81.81818181818183</td></tr><tr><td>81.81818181818183</td></tr><tr><td>81.81818181818183</td></tr><tr><td>81.81818181818183</td></tr><tr><td>81.81818181818183</td></tr><tr><td>81.81818181818183</td></tr><tr><td>80.64516129032258</td></tr><tr><td>80.3030303030303</td></tr><tr><td>80.0</td></tr><tr><td>80.0</td></tr><tr><td>80.0</td></tr><tr><td>80.0</td></tr><tr><td>80.0</td></tr><tr><td>80.0</td></tr><tr><td>80.0</td></tr><tr><td>80.0</td></tr><tr><td>80.0</td></tr><tr><td>80.0</td></tr><tr><td>80.0</td></tr><tr><td>80.0</td></tr><tr><td>80.0</td></tr><tr><td>80.0</td></tr><tr><td>80.0</td></tr><tr><td>80.0</td></tr><tr><td>80.0</td></tr><tr><td>80.0</td></tr><tr><td>80.0</td></tr><tr><td>80.0</td></tr><tr><td>80.0</td></tr><tr><td>80.0</td></tr><tr><td>80.0</td></tr><tr><td>80.0</td></tr><tr><td>80.0</td></tr><tr><td>80.0</td></tr><tr><td>80.0</td></tr><tr><td>80.0</td></tr><tr><td>80.0</td></tr><tr><td>80.0</td></tr><tr><td>80.0</td></tr><tr><td>80.0</td></tr><tr><td>80.0</td></tr><tr><td>80.0</td></tr><tr><td>80.0</td></tr><tr><td>80.0</td></tr><tr><td>80.0</td></tr><tr><td>80.0</td></tr><tr><td>80.0</td></tr><tr><td>80.0</td></tr><tr><td>80.0</td></tr><tr><td>80.0</td></tr><tr><td>80.0</td></tr><tr><td>80.0</td></tr><tr><td>80.0</td></tr><tr><td>80.0</td></tr><tr><td>80.0</td></tr><tr><td>80.0</td></tr><tr><td>80.0</td></tr><tr><td>80.0</td></tr><tr><td>80.0</td></tr><tr><td>80.0</td></tr><tr><td>80.0</td></tr><tr><td>80.0</td></tr><tr><td>80.0</td></tr><tr><td>80.0</td></tr><tr><td>80.0</td></tr><tr><td>80.0</td></tr><tr><td>80.0</td></tr><tr><td>80.0</td></tr><tr><td>80.0</td></tr><tr><td>80.0</td></tr><tr><td>80.0</td></tr><tr><td>80.0</td></tr><tr><td>80.0</td></tr><tr><td>80.0</td></tr><tr><td>80.0</td></tr><tr><td>80.0</td></tr><tr><td>80.0</td></tr><tr><td>80.0</td></tr><tr><td>80.0</td></tr><tr><td>80.0</td></tr><tr><td>80.0</td></tr><tr><td>80.0</td></tr><tr><td>80.0</td></tr><tr><td>80.0</td></tr><tr><td>80.0</td></tr><tr><td>80.0</td></tr><tr><td>80.0</td></tr><tr><td>80.0</td></tr><tr><td>80.0</td></tr><tr><td>80.0</td></tr><tr><td>80.0</td></tr><tr><td>80.0</td></tr><tr><td>80.0</td></tr><tr><td>80.0</td></tr><tr><td>79.0</td></tr><tr><td>78.94736842105263</td></tr><tr><td>78.57142857142857</td></tr><tr><td>78.57142857142857</td></tr><tr><td>78.57142857142857</td></tr><tr><td>78.26086956521739</td></tr><tr><td>78.26086956521739</td></tr><tr><td>77.77777777777779</td></tr><tr><td>77.77777777777779</td></tr><tr><td>77.77777777777779</td></tr><tr><td>77.77777777777779</td></tr><tr><td>77.77777777777779</td></tr><tr><td>77.77777777777779</td></tr><tr><td>77.77777777777779</td></tr><tr><td>77.77777777777779</td></tr><tr><td>77.77777777777779</td></tr><tr><td>77.77777777777779</td></tr><tr><td>77.77777777777779</td></tr><tr><td>77.77777777777779</td></tr><tr><td>77.77777777777779</td></tr><tr><td>77.77777777777779</td></tr><tr><td>77.14285714285715</td></tr><tr><td>76.92307692307693</td></tr><tr><td>76.92307692307693</td></tr><tr><td>76.92307692307693</td></tr><tr><td>76.66666666666667</td></tr><tr><td>76.47058823529412</td></tr><tr><td>75.36231884057972</td></tr><tr><td>75.0</td></tr><tr><td>75.0</td></tr><tr><td>75.0</td></tr><tr><td>75.0</td></tr><tr><td>75.0</td></tr><tr><td>75.0</td></tr><tr><td>75.0</td></tr><tr><td>75.0</td></tr><tr><td>75.0</td></tr><tr><td>75.0</td></tr><tr><td>75.0</td></tr><tr><td>75.0</td></tr><tr><td>75.0</td></tr><tr><td>75.0</td></tr><tr><td>75.0</td></tr><tr><td>75.0</td></tr><tr><td>73.68421052631578</td></tr><tr><td>73.52941176470588</td></tr><tr><td>73.33333333333333</td></tr><tr><td>73.33333333333333</td></tr><tr><td>73.07692307692307</td></tr><tr><td>72.72727272727273</td></tr><tr><td>72.72727272727273</td></tr><tr><td>72.72727272727273</td></tr><tr><td>72.72727272727273</td></tr><tr><td>72.72727272727273</td></tr><tr><td>72.72727272727273</td></tr><tr><td>72.22222222222221</td></tr><tr><td>72.22222222222221</td></tr><tr><td>72.0</td></tr><tr><td>71.42857142857143</td></tr><tr><td>71.42857142857143</td></tr><tr><td>71.42857142857143</td></tr><tr><td>71.42857142857143</td></tr><tr><td>71.42857142857143</td></tr><tr><td>71.42857142857143</td></tr><tr><td>71.42857142857143</td></tr><tr><td>71.42857142857143</td></tr><tr><td>71.42857142857143</td></tr><tr><td>71.42857142857143</td></tr><tr><td>71.42857142857143</td></tr><tr><td>71.42857142857143</td></tr><tr><td>71.42857142857143</td></tr><tr><td>71.42857142857143</td></tr><tr><td>71.42857142857143</td></tr><tr><td>71.42857142857143</td></tr><tr><td>70.96774193548387</td></tr><tr><td>70.96774193548387</td></tr><tr><td>70.83333333333334</td></tr><tr><td>70.73170731707317</td></tr><tr><td>70.58823529411765</td></tr><tr><td>70.27027027027027</td></tr><tr><td>70.0</td></tr><tr><td>70.0</td></tr><tr><td>70.0</td></tr><tr><td>70.0</td></tr><tr><td>70.0</td></tr><tr><td>70.0</td></tr><tr><td>70.0</td></tr><tr><td>69.81132075471697</td></tr><tr><td>69.23076923076923</td></tr><tr><td>69.23076923076923</td></tr><tr><td>69.23076923076923</td></tr><tr><td>68.75</td></tr><tr><td>68.75</td></tr><tr><td>68.42105263157895</td></tr><tr><td>68.29268292682927</td></tr><tr><td>68.18181818181817</td></tr><tr><td>67.56756756756756</td></tr><tr><td>67.56756756756756</td></tr><tr><td>67.27272727272727</td></tr><tr><td>66.66666666666666</td></tr><tr><td>66.66666666666666</td></tr><tr><td>66.66666666666666</td></tr><tr><td>66.66666666666666</td></tr><tr><td>66.66666666666666</td></tr><tr><td>66.66666666666666</td></tr><tr><td>66.66666666666666</td></tr><tr><td>66.66666666666666</td></tr><tr><td>66.66666666666666</td></tr><tr><td>66.66666666666666</td></tr><tr><td>66.66666666666666</td></tr><tr><td>66.66666666666666</td></tr><tr><td>66.66666666666666</td></tr><tr><td>66.66666666666666</td></tr><tr><td>66.66666666666666</td></tr><tr><td>66.66666666666666</td></tr><tr><td>66.66666666666666</td></tr><tr><td>66.66666666666666</td></tr><tr><td>66.66666666666666</td></tr><tr><td>66.66666666666666</td></tr><tr><td>66.66666666666666</td></tr><tr><td>66.66666666666666</td></tr><tr><td>66.66666666666666</td></tr><tr><td>65.11627906976744</td></tr><tr><td>65.0</td></tr><tr><td>64.86486486486487</td></tr><tr><td>64.77272727272727</td></tr><tr><td>64.70588235294117</td></tr><tr><td>64.70588235294117</td></tr><tr><td>64.70588235294117</td></tr><tr><td>64.28571428571429</td></tr><tr><td>64.0</td></tr><tr><td>64.0</td></tr><tr><td>63.63636363636363</td></tr><tr><td>63.63636363636363</td></tr><tr><td>63.63636363636363</td></tr><tr><td>62.5</td></tr><tr><td>62.5</td></tr><tr><td>62.5</td></tr><tr><td>62.5</td></tr><tr><td>62.5</td></tr><tr><td>62.5</td></tr><tr><td>62.5</td></tr><tr><td>62.06896551724138</td></tr><tr><td>61.904761904761905</td></tr><tr><td>61.53846153846154</td></tr><tr><td>60.0</td></tr><tr><td>60.0</td></tr><tr><td>60.0</td></tr><tr><td>60.0</td></tr><tr><td>60.0</td></tr><tr><td>60.0</td></tr><tr><td>60.0</td></tr><tr><td>60.0</td></tr><tr><td>60.0</td></tr><tr><td>60.0</td></tr><tr><td>60.0</td></tr><tr><td>60.0</td></tr><tr><td>60.0</td></tr><tr><td>60.0</td></tr><tr><td>60.0</td></tr><tr><td>60.0</td></tr><tr><td>60.0</td></tr><tr><td>60.0</td></tr><tr><td>60.0</td></tr><tr><td>60.0</td></tr><tr><td>60.0</td></tr><tr><td>60.0</td></tr><tr><td>60.0</td></tr><tr><td>60.0</td></tr><tr><td>60.0</td></tr><tr><td>60.0</td></tr><tr><td>60.0</td></tr><tr><td>60.0</td></tr><tr><td>60.0</td></tr><tr><td>60.0</td></tr><tr><td>59.79381443298969</td></tr><tr><td>59.09090909090909</td></tr><tr><td>58.82352941176471</td></tr><tr><td>58.69565217391305</td></tr><tr><td>58.333333333333336</td></tr><tr><td>58.333333333333336</td></tr><tr><td>58.333333333333336</td></tr><tr><td>58.333333333333336</td></tr><tr><td>58.06451612903226</td></tr><tr><td>58.06451612903226</td></tr><tr><td>57.8125</td></tr><tr><td>57.14285714285714</td></tr><tr><td>57.14285714285714</td></tr><tr><td>57.14285714285714</td></tr><tr><td>57.14285714285714</td></tr><tr><td>57.14285714285714</td></tr><tr><td>57.14285714285714</td></tr><tr><td>57.14285714285714</td></tr><tr><td>57.14285714285714</td></tr><tr><td>57.14285714285714</td></tr><tr><td>57.14285714285714</td></tr><tr><td>57.14285714285714</td></tr><tr><td>57.14285714285714</td></tr><tr><td>57.14285714285714</td></tr><tr><td>57.14285714285714</td></tr><tr><td>56.81818181818182</td></tr><tr><td>56.25</td></tr><tr><td>56.00000000000001</td></tr><tr><td>55.55555555555556</td></tr><tr><td>55.55555555555556</td></tr><tr><td>55.55555555555556</td></tr><tr><td>55.55555555555556</td></tr><tr><td>55.118110236220474</td></tr><tr><td>55.00000000000001</td></tr><tr><td>55.00000000000001</td></tr><tr><td>54.761904761904766</td></tr><tr><td>54.54545454545454</td></tr><tr><td>54.166666666666664</td></tr><tr><td>53.84615384615385</td></tr><tr><td>53.57142857142857</td></tr><tr><td>52.38095238095239</td></tr><tr><td>52.0</td></tr><tr><td>52.0</td></tr><tr><td>50.0</td></tr><tr><td>50.0</td></tr><tr><td>50.0</td></tr><tr><td>50.0</td></tr><tr><td>50.0</td></tr><tr><td>50.0</td></tr><tr><td>50.0</td></tr><tr><td>50.0</td></tr><tr><td>50.0</td></tr><tr><td>50.0</td></tr><tr><td>50.0</td></tr><tr><td>50.0</td></tr><tr><td>50.0</td></tr><tr><td>50.0</td></tr><tr><td>50.0</td></tr><tr><td>50.0</td></tr><tr><td>50.0</td></tr><tr><td>50.0</td></tr><tr><td>50.0</td></tr><tr><td>50.0</td></tr><tr><td>46.15384615384615</td></tr><tr><td>45.6</td></tr><tr><td>45.45454545454545</td></tr><tr><td>45.0</td></tr><tr><td>44.89795918367347</td></tr><tr><td>44.44444444444444</td></tr><tr><td>44.44444444444444</td></tr><tr><td>44.44444444444444</td></tr><tr><td>44.230769230769226</td></tr><tr><td>43.75</td></tr><tr><td>43.47826086956522</td></tr><tr><td>42.857142857142854</td></tr><tr><td>42.22222222222222</td></tr><tr><td>40.0</td></tr><tr><td>40.0</td></tr><tr><td>40.0</td></tr><tr><td>40.0</td></tr><tr><td>40.0</td></tr><tr><td>40.0</td></tr><tr><td>38.88888888888889</td></tr><tr><td>38.70967741935484</td></tr><tr><td>37.5</td></tr><tr><td>37.3134328358209</td></tr><tr><td>36.36363636363637</td></tr><tr><td>36.04651162790697</td></tr><tr><td>34.437086092715234</td></tr><tr><td>30.0</td></tr></tbody></table></div>"
      ]
     },
     "metadata": {
      "application/vnd.databricks.v1+output": {
       "addedWidgets": {},
       "aggData": [],
       "aggError": "",
       "aggOverflow": false,
       "aggSchema": [],
       "aggSeriesLimitReached": false,
       "aggType": "",
       "arguments": {},
       "columnCustomDisplayInfos": {},
       "data": [
        [
         100
        ],
        [
         100
        ],
        [
         100
        ],
        [
         100
        ],
        [
         100
        ],
        [
         100
        ],
        [
         100
        ],
        [
         100
        ],
        [
         100
        ],
        [
         100
        ],
        [
         100
        ],
        [
         100
        ],
        [
         100
        ],
        [
         100
        ],
        [
         100
        ],
        [
         100
        ],
        [
         100
        ],
        [
         100
        ],
        [
         100
        ],
        [
         100
        ],
        [
         100
        ],
        [
         100
        ],
        [
         100
        ],
        [
         100
        ],
        [
         100
        ],
        [
         100
        ],
        [
         100
        ],
        [
         100
        ],
        [
         100
        ],
        [
         100
        ],
        [
         100
        ],
        [
         100
        ],
        [
         100
        ],
        [
         100
        ],
        [
         100
        ],
        [
         100
        ],
        [
         100
        ],
        [
         100
        ],
        [
         100
        ],
        [
         100
        ],
        [
         100
        ],
        [
         100
        ],
        [
         100
        ],
        [
         100
        ],
        [
         100
        ],
        [
         100
        ],
        [
         100
        ],
        [
         100
        ],
        [
         100
        ],
        [
         100
        ],
        [
         100
        ],
        [
         100
        ],
        [
         100
        ],
        [
         100
        ],
        [
         100
        ],
        [
         100
        ],
        [
         100
        ],
        [
         100
        ],
        [
         100
        ],
        [
         100
        ],
        [
         100
        ],
        [
         100
        ],
        [
         100
        ],
        [
         100
        ],
        [
         100
        ],
        [
         100
        ],
        [
         100
        ],
        [
         100
        ],
        [
         100
        ],
        [
         100
        ],
        [
         100
        ],
        [
         100
        ],
        [
         100
        ],
        [
         100
        ],
        [
         100
        ],
        [
         100
        ],
        [
         100
        ],
        [
         100
        ],
        [
         100
        ],
        [
         100
        ],
        [
         100
        ],
        [
         100
        ],
        [
         100
        ],
        [
         100
        ],
        [
         100
        ],
        [
         100
        ],
        [
         100
        ],
        [
         100
        ],
        [
         100
        ],
        [
         100
        ],
        [
         100
        ],
        [
         100
        ],
        [
         100
        ],
        [
         100
        ],
        [
         100
        ],
        [
         100
        ],
        [
         100
        ],
        [
         100
        ],
        [
         100
        ],
        [
         100
        ],
        [
         100
        ],
        [
         100
        ],
        [
         100
        ],
        [
         100
        ],
        [
         100
        ],
        [
         100
        ],
        [
         100
        ],
        [
         100
        ],
        [
         100
        ],
        [
         100
        ],
        [
         100
        ],
        [
         100
        ],
        [
         100
        ],
        [
         100
        ],
        [
         100
        ],
        [
         100
        ],
        [
         100
        ],
        [
         100
        ],
        [
         100
        ],
        [
         100
        ],
        [
         100
        ],
        [
         100
        ],
        [
         100
        ],
        [
         100
        ],
        [
         100
        ],
        [
         100
        ],
        [
         100
        ],
        [
         100
        ],
        [
         100
        ],
        [
         100
        ],
        [
         100
        ],
        [
         100
        ],
        [
         100
        ],
        [
         100
        ],
        [
         100
        ],
        [
         100
        ],
        [
         100
        ],
        [
         100
        ],
        [
         100
        ],
        [
         100
        ],
        [
         100
        ],
        [
         100
        ],
        [
         100
        ],
        [
         100
        ],
        [
         100
        ],
        [
         100
        ],
        [
         100
        ],
        [
         100
        ],
        [
         100
        ],
        [
         100
        ],
        [
         100
        ],
        [
         100
        ],
        [
         100
        ],
        [
         100
        ],
        [
         100
        ],
        [
         100
        ],
        [
         100
        ],
        [
         100
        ],
        [
         100
        ],
        [
         100
        ],
        [
         100
        ],
        [
         100
        ],
        [
         100
        ],
        [
         100
        ],
        [
         100
        ],
        [
         100
        ],
        [
         100
        ],
        [
         100
        ],
        [
         100
        ],
        [
         100
        ],
        [
         100
        ],
        [
         100
        ],
        [
         100
        ],
        [
         100
        ],
        [
         100
        ],
        [
         100
        ],
        [
         100
        ],
        [
         100
        ],
        [
         100
        ],
        [
         100
        ],
        [
         100
        ],
        [
         100
        ],
        [
         100
        ],
        [
         100
        ],
        [
         100
        ],
        [
         100
        ],
        [
         100
        ],
        [
         100
        ],
        [
         100
        ],
        [
         100
        ],
        [
         100
        ],
        [
         100
        ],
        [
         100
        ],
        [
         100
        ],
        [
         100
        ],
        [
         100
        ],
        [
         100
        ],
        [
         100
        ],
        [
         100
        ],
        [
         100
        ],
        [
         100
        ],
        [
         100
        ],
        [
         100
        ],
        [
         100
        ],
        [
         100
        ],
        [
         100
        ],
        [
         100
        ],
        [
         100
        ],
        [
         100
        ],
        [
         100
        ],
        [
         100
        ],
        [
         100
        ],
        [
         100
        ],
        [
         100
        ],
        [
         100
        ],
        [
         100
        ],
        [
         100
        ],
        [
         100
        ],
        [
         100
        ],
        [
         100
        ],
        [
         100
        ],
        [
         100
        ],
        [
         100
        ],
        [
         100
        ],
        [
         100
        ],
        [
         100
        ],
        [
         100
        ],
        [
         100
        ],
        [
         100
        ],
        [
         100
        ],
        [
         100
        ],
        [
         100
        ],
        [
         100
        ],
        [
         100
        ],
        [
         100
        ],
        [
         100
        ],
        [
         100
        ],
        [
         100
        ],
        [
         100
        ],
        [
         100
        ],
        [
         100
        ],
        [
         100
        ],
        [
         100
        ],
        [
         100
        ],
        [
         100
        ],
        [
         100
        ],
        [
         100
        ],
        [
         100
        ],
        [
         100
        ],
        [
         100
        ],
        [
         100
        ],
        [
         100
        ],
        [
         100
        ],
        [
         100
        ],
        [
         100
        ],
        [
         100
        ],
        [
         100
        ],
        [
         100
        ],
        [
         100
        ],
        [
         100
        ],
        [
         100
        ],
        [
         100
        ],
        [
         100
        ],
        [
         100
        ],
        [
         100
        ],
        [
         100
        ],
        [
         100
        ],
        [
         100
        ],
        [
         100
        ],
        [
         100
        ],
        [
         100
        ],
        [
         100
        ],
        [
         100
        ],
        [
         100
        ],
        [
         100
        ],
        [
         100
        ],
        [
         100
        ],
        [
         100
        ],
        [
         100
        ],
        [
         100
        ],
        [
         100
        ],
        [
         100
        ],
        [
         100
        ],
        [
         100
        ],
        [
         100
        ],
        [
         100
        ],
        [
         100
        ],
        [
         100
        ],
        [
         100
        ],
        [
         100
        ],
        [
         100
        ],
        [
         100
        ],
        [
         100
        ],
        [
         100
        ],
        [
         100
        ],
        [
         100
        ],
        [
         100
        ],
        [
         100
        ],
        [
         100
        ],
        [
         100
        ],
        [
         100
        ],
        [
         100
        ],
        [
         100
        ],
        [
         100
        ],
        [
         100
        ],
        [
         100
        ],
        [
         100
        ],
        [
         100
        ],
        [
         100
        ],
        [
         100
        ],
        [
         100
        ],
        [
         100
        ],
        [
         100
        ],
        [
         100
        ],
        [
         100
        ],
        [
         100
        ],
        [
         100
        ],
        [
         100
        ],
        [
         100
        ],
        [
         100
        ],
        [
         100
        ],
        [
         100
        ],
        [
         100
        ],
        [
         100
        ],
        [
         100
        ],
        [
         100
        ],
        [
         100
        ],
        [
         100
        ],
        [
         100
        ],
        [
         100
        ],
        [
         100
        ],
        [
         100
        ],
        [
         100
        ],
        [
         100
        ],
        [
         100
        ],
        [
         100
        ],
        [
         100
        ],
        [
         100
        ],
        [
         100
        ],
        [
         100
        ],
        [
         100
        ],
        [
         100
        ],
        [
         100
        ],
        [
         100
        ],
        [
         100
        ],
        [
         100
        ],
        [
         100
        ],
        [
         100
        ],
        [
         100
        ],
        [
         100
        ],
        [
         100
        ],
        [
         100
        ],
        [
         100
        ],
        [
         100
        ],
        [
         100
        ],
        [
         100
        ],
        [
         100
        ],
        [
         100
        ],
        [
         100
        ],
        [
         100
        ],
        [
         100
        ],
        [
         100
        ],
        [
         100
        ],
        [
         100
        ],
        [
         100
        ],
        [
         100
        ],
        [
         100
        ],
        [
         100
        ],
        [
         100
        ],
        [
         100
        ],
        [
         100
        ],
        [
         100
        ],
        [
         100
        ],
        [
         100
        ],
        [
         100
        ],
        [
         100
        ],
        [
         100
        ],
        [
         100
        ],
        [
         100
        ],
        [
         100
        ],
        [
         100
        ],
        [
         100
        ],
        [
         100
        ],
        [
         100
        ],
        [
         100
        ],
        [
         100
        ],
        [
         100
        ],
        [
         100
        ],
        [
         100
        ],
        [
         100
        ],
        [
         100
        ],
        [
         100
        ],
        [
         100
        ],
        [
         100
        ],
        [
         100
        ],
        [
         100
        ],
        [
         100
        ],
        [
         100
        ],
        [
         100
        ],
        [
         100
        ],
        [
         100
        ],
        [
         100
        ],
        [
         100
        ],
        [
         100
        ],
        [
         100
        ],
        [
         100
        ],
        [
         100
        ],
        [
         100
        ],
        [
         100
        ],
        [
         100
        ],
        [
         100
        ],
        [
         100
        ],
        [
         100
        ],
        [
         100
        ],
        [
         100
        ],
        [
         100
        ],
        [
         100
        ],
        [
         100
        ],
        [
         100
        ],
        [
         100
        ],
        [
         100
        ],
        [
         100
        ],
        [
         100
        ],
        [
         100
        ],
        [
         100
        ],
        [
         100
        ],
        [
         100
        ],
        [
         100
        ],
        [
         100
        ],
        [
         100
        ],
        [
         100
        ],
        [
         100
        ],
        [
         100
        ],
        [
         100
        ],
        [
         100
        ],
        [
         100
        ],
        [
         100
        ],
        [
         100
        ],
        [
         100
        ],
        [
         100
        ],
        [
         100
        ],
        [
         100
        ],
        [
         100
        ],
        [
         100
        ],
        [
         100
        ],
        [
         100
        ],
        [
         100
        ],
        [
         100
        ],
        [
         100
        ],
        [
         100
        ],
        [
         100
        ],
        [
         100
        ],
        [
         100
        ],
        [
         100
        ],
        [
         100
        ],
        [
         100
        ],
        [
         100
        ],
        [
         100
        ],
        [
         100
        ],
        [
         100
        ],
        [
         100
        ],
        [
         100
        ],
        [
         100
        ],
        [
         100
        ],
        [
         100
        ],
        [
         100
        ],
        [
         100
        ],
        [
         100
        ],
        [
         100
        ],
        [
         100
        ],
        [
         100
        ],
        [
         100
        ],
        [
         100
        ],
        [
         100
        ],
        [
         100
        ],
        [
         100
        ],
        [
         100
        ],
        [
         100
        ],
        [
         100
        ],
        [
         100
        ],
        [
         100
        ],
        [
         100
        ],
        [
         100
        ],
        [
         100
        ],
        [
         100
        ],
        [
         100
        ],
        [
         100
        ],
        [
         100
        ],
        [
         100
        ],
        [
         100
        ],
        [
         100
        ],
        [
         100
        ],
        [
         100
        ],
        [
         100
        ],
        [
         100
        ],
        [
         100
        ],
        [
         100
        ],
        [
         100
        ],
        [
         100
        ],
        [
         100
        ],
        [
         100
        ],
        [
         100
        ],
        [
         100
        ],
        [
         100
        ],
        [
         100
        ],
        [
         100
        ],
        [
         100
        ],
        [
         100
        ],
        [
         100
        ],
        [
         100
        ],
        [
         100
        ],
        [
         100
        ],
        [
         100
        ],
        [
         100
        ],
        [
         100
        ],
        [
         100
        ],
        [
         100
        ],
        [
         100
        ],
        [
         100
        ],
        [
         100
        ],
        [
         100
        ],
        [
         100
        ],
        [
         100
        ],
        [
         100
        ],
        [
         100
        ],
        [
         100
        ],
        [
         100
        ],
        [
         100
        ],
        [
         100
        ],
        [
         100
        ],
        [
         100
        ],
        [
         100
        ],
        [
         100
        ],
        [
         100
        ],
        [
         100
        ],
        [
         100
        ],
        [
         100
        ],
        [
         100
        ],
        [
         100
        ],
        [
         100
        ],
        [
         100
        ],
        [
         100
        ],
        [
         100
        ],
        [
         100
        ],
        [
         100
        ],
        [
         100
        ],
        [
         100
        ],
        [
         100
        ],
        [
         100
        ],
        [
         100
        ],
        [
         100
        ],
        [
         100
        ],
        [
         100
        ],
        [
         100
        ],
        [
         100
        ],
        [
         100
        ],
        [
         100
        ],
        [
         100
        ],
        [
         100
        ],
        [
         100
        ],
        [
         100
        ],
        [
         100
        ],
        [
         100
        ],
        [
         100
        ],
        [
         100
        ],
        [
         100
        ],
        [
         100
        ],
        [
         100
        ],
        [
         100
        ],
        [
         100
        ],
        [
         100
        ],
        [
         100
        ],
        [
         100
        ],
        [
         100
        ],
        [
         100
        ],
        [
         100
        ],
        [
         100
        ],
        [
         100
        ],
        [
         100
        ],
        [
         100
        ],
        [
         100
        ],
        [
         100
        ],
        [
         100
        ],
        [
         100
        ],
        [
         100
        ],
        [
         100
        ],
        [
         100
        ],
        [
         100
        ],
        [
         100
        ],
        [
         100
        ],
        [
         100
        ],
        [
         100
        ],
        [
         100
        ],
        [
         100
        ],
        [
         100
        ],
        [
         100
        ],
        [
         100
        ],
        [
         100
        ],
        [
         100
        ],
        [
         100
        ],
        [
         100
        ],
        [
         100
        ],
        [
         100
        ],
        [
         100
        ],
        [
         100
        ],
        [
         100
        ],
        [
         100
        ],
        [
         100
        ],
        [
         100
        ],
        [
         100
        ],
        [
         100
        ],
        [
         100
        ],
        [
         100
        ],
        [
         100
        ],
        [
         100
        ],
        [
         100
        ],
        [
         100
        ],
        [
         100
        ],
        [
         100
        ],
        [
         100
        ],
        [
         100
        ],
        [
         100
        ],
        [
         100
        ],
        [
         100
        ],
        [
         100
        ],
        [
         100
        ],
        [
         100
        ],
        [
         100
        ],
        [
         100
        ],
        [
         100
        ],
        [
         100
        ],
        [
         100
        ],
        [
         100
        ],
        [
         100
        ],
        [
         100
        ],
        [
         100
        ],
        [
         100
        ],
        [
         100
        ],
        [
         100
        ],
        [
         100
        ],
        [
         100
        ],
        [
         100
        ],
        [
         100
        ],
        [
         100
        ],
        [
         100
        ],
        [
         100
        ],
        [
         100
        ],
        [
         100
        ],
        [
         100
        ],
        [
         100
        ],
        [
         100
        ],
        [
         100
        ],
        [
         100
        ],
        [
         100
        ],
        [
         100
        ],
        [
         100
        ],
        [
         100
        ],
        [
         100
        ],
        [
         100
        ],
        [
         100
        ],
        [
         100
        ],
        [
         100
        ],
        [
         100
        ],
        [
         100
        ],
        [
         100
        ],
        [
         100
        ],
        [
         100
        ],
        [
         100
        ],
        [
         100
        ],
        [
         100
        ],
        [
         100
        ],
        [
         100
        ],
        [
         100
        ],
        [
         100
        ],
        [
         100
        ],
        [
         100
        ],
        [
         100
        ],
        [
         100
        ],
        [
         100
        ],
        [
         100
        ],
        [
         100
        ],
        [
         100
        ],
        [
         100
        ],
        [
         100
        ],
        [
         100
        ],
        [
         100
        ],
        [
         100
        ],
        [
         100
        ],
        [
         100
        ],
        [
         100
        ],
        [
         100
        ],
        [
         100
        ],
        [
         100
        ],
        [
         100
        ],
        [
         100
        ],
        [
         100
        ],
        [
         100
        ],
        [
         100
        ],
        [
         100
        ],
        [
         100
        ],
        [
         100
        ],
        [
         100
        ],
        [
         100
        ],
        [
         100
        ],
        [
         100
        ],
        [
         100
        ],
        [
         100
        ],
        [
         100
        ],
        [
         100
        ],
        [
         100
        ],
        [
         99.2874109263658
        ],
        [
         98.87640449438202
        ],
        [
         98.73417721518987
        ],
        [
         98.4126984126984
        ],
        [
         98.14814814814815
        ],
        [
         98.13084112149532
        ],
        [
         98.07692307692307
        ],
        [
         98.0392156862745
        ],
        [
         98
        ],
        [
         97.97979797979798
        ],
        [
         97.95918367346938
        ],
        [
         97.91666666666666
        ],
        [
         97.61904761904762
        ],
        [
         97.53086419753086
        ],
        [
         97.33333333333334
        ],
        [
         97.22222222222221
        ],
        [
         97.14285714285714
        ],
        [
         97.05882352941177
        ],
        [
         96.7741935483871
        ],
        [
         96.55172413793103
        ],
        [
         96.55172413793103
        ],
        [
         96.42857142857143
        ],
        [
         96.29629629629629
        ],
        [
         96
        ],
        [
         96
        ],
        [
         96
        ],
        [
         95.83333333333334
        ],
        [
         95.83333333333334
        ],
        [
         95.83333333333334
        ],
        [
         95.65217391304348
        ],
        [
         95.65217391304348
        ],
        [
         95.34883720930233
        ],
        [
         95
        ],
        [
         95
        ],
        [
         94.73684210526315
        ],
        [
         94.73684210526315
        ],
        [
         94.73684210526315
        ],
        [
         94.73684210526315
        ],
        [
         94.73684210526315
        ],
        [
         94.5945945945946
        ],
        [
         94.44444444444444
        ],
        [
         94.44444444444444
        ],
        [
         94.28571428571428
        ],
        [
         94.28571428571428
        ],
        [
         94.23076923076923
        ],
        [
         94.11764705882352
        ],
        [
         94.11764705882352
        ],
        [
         93.75
        ],
        [
         93.75
        ],
        [
         93.75
        ],
        [
         93.75
        ],
        [
         93.75
        ],
        [
         93.75
        ],
        [
         93.75
        ],
        [
         93.61702127659575
        ],
        [
         93.54838709677419
        ],
        [
         93.33333333333333
        ],
        [
         93.33333333333333
        ],
        [
         93.33333333333333
        ],
        [
         93.33333333333333
        ],
        [
         93.10344827586206
        ],
        [
         92.95774647887323
        ],
        [
         92.85714285714286
        ],
        [
         92.85714285714286
        ],
        [
         92.85714285714286
        ],
        [
         92.85714285714286
        ],
        [
         92.85714285714286
        ],
        [
         92.85714285714286
        ],
        [
         92.3076923076923
        ],
        [
         92.3076923076923
        ],
        [
         92.3076923076923
        ],
        [
         92
        ],
        [
         91.8918918918919
        ],
        [
         91.8918918918919
        ],
        [
         91.66666666666666
        ],
        [
         91.66666666666666
        ],
        [
         91.66666666666666
        ],
        [
         91.66666666666666
        ],
        [
         91.66666666666666
        ],
        [
         91.66666666666666
        ],
        [
         91.66666666666666
        ],
        [
         91.48936170212765
        ],
        [
         91.42857142857143
        ],
        [
         91.42857142857143
        ],
        [
         91.42857142857143
        ],
        [
         91.30434782608695
        ],
        [
         91.30434782608695
        ],
        [
         90.9090909090909
        ],
        [
         90.9090909090909
        ],
        [
         90.9090909090909
        ],
        [
         90.9090909090909
        ],
        [
         90.9090909090909
        ],
        [
         90.9090909090909
        ],
        [
         90.9090909090909
        ],
        [
         90.9090909090909
        ],
        [
         90.9090909090909
        ],
        [
         90.9090909090909
        ],
        [
         90.9090909090909
        ],
        [
         90.9090909090909
        ],
        [
         90.47619047619048
        ],
        [
         90.32258064516128
        ],
        [
         90
        ],
        [
         90
        ],
        [
         90
        ],
        [
         90
        ],
        [
         90
        ],
        [
         90
        ],
        [
         90
        ],
        [
         90
        ],
        [
         90
        ],
        [
         90
        ],
        [
         90
        ],
        [
         90
        ],
        [
         90
        ],
        [
         90
        ],
        [
         89.69072164948454
        ],
        [
         89.65517241379311
        ],
        [
         89.65517241379311
        ],
        [
         89.47368421052632
        ],
        [
         89.47368421052632
        ],
        [
         89.47368421052632
        ],
        [
         89.1891891891892
        ],
        [
         89.1891891891892
        ],
        [
         88.88888888888889
        ],
        [
         88.88888888888889
        ],
        [
         88.88888888888889
        ],
        [
         88.88888888888889
        ],
        [
         88.88888888888889
        ],
        [
         88.88888888888889
        ],
        [
         88.88888888888889
        ],
        [
         88.88888888888889
        ],
        [
         88.88888888888889
        ],
        [
         88.88888888888889
        ],
        [
         88.88888888888889
        ],
        [
         88.88888888888889
        ],
        [
         88.88888888888889
        ],
        [
         88.88888888888889
        ],
        [
         88.88888888888889
        ],
        [
         88.88888888888889
        ],
        [
         88.88888888888889
        ],
        [
         88.88888888888889
        ],
        [
         88.88888888888889
        ],
        [
         88.88888888888889
        ],
        [
         88.46153846153845
        ],
        [
         88.23529411764706
        ],
        [
         88.23529411764706
        ],
        [
         87.5
        ],
        [
         87.5
        ],
        [
         87.5
        ],
        [
         87.5
        ],
        [
         87.5
        ],
        [
         87.5
        ],
        [
         87.5
        ],
        [
         87.5
        ],
        [
         87.5
        ],
        [
         87.5
        ],
        [
         87.5
        ],
        [
         87.5
        ],
        [
         87.5
        ],
        [
         87.5
        ],
        [
         87.5
        ],
        [
         87.5
        ],
        [
         87.5
        ],
        [
         87.5
        ],
        [
         87.5
        ],
        [
         87.5
        ],
        [
         87.5
        ],
        [
         87.5
        ],
        [
         87.5
        ],
        [
         87.5
        ],
        [
         87.35632183908046
        ],
        [
         87.09677419354838
        ],
        [
         86.66666666666667
        ],
        [
         86.66666666666667
        ],
        [
         86.48648648648648
        ],
        [
         86.36363636363636
        ],
        [
         86.20689655172413
        ],
        [
         85.71428571428571
        ],
        [
         85.71428571428571
        ],
        [
         85.71428571428571
        ],
        [
         85.71428571428571
        ],
        [
         85.71428571428571
        ],
        [
         85.71428571428571
        ],
        [
         85.71428571428571
        ],
        [
         85.71428571428571
        ],
        [
         85.71428571428571
        ],
        [
         85.71428571428571
        ],
        [
         85.71428571428571
        ],
        [
         85.71428571428571
        ],
        [
         85.71428571428571
        ],
        [
         85.71428571428571
        ],
        [
         85.71428571428571
        ],
        [
         85.71428571428571
        ],
        [
         85.71428571428571
        ],
        [
         85.71428571428571
        ],
        [
         85.71428571428571
        ],
        [
         85.71428571428571
        ],
        [
         85
        ],
        [
         84.90566037735849
        ],
        [
         84.78260869565217
        ],
        [
         84.61538461538461
        ],
        [
         84.61538461538461
        ],
        [
         84.61538461538461
        ],
        [
         84.61538461538461
        ],
        [
         84.61538461538461
        ],
        [
         84.61538461538461
        ],
        [
         84.61538461538461
        ],
        [
         84.21052631578947
        ],
        [
         84.21052631578947
        ],
        [
         84.21052631578947
        ],
        [
         83.33333333333334
        ],
        [
         83.33333333333334
        ],
        [
         83.33333333333334
        ],
        [
         83.33333333333334
        ],
        [
         83.33333333333334
        ],
        [
         83.33333333333334
        ],
        [
         83.33333333333334
        ],
        [
         83.33333333333334
        ],
        [
         83.33333333333334
        ],
        [
         83.33333333333334
        ],
        [
         83.33333333333334
        ],
        [
         83.33333333333334
        ],
        [
         83.33333333333334
        ],
        [
         83.33333333333334
        ],
        [
         83.33333333333334
        ],
        [
         83.33333333333334
        ],
        [
         83.33333333333334
        ],
        [
         83.33333333333334
        ],
        [
         83.33333333333334
        ],
        [
         83.33333333333334
        ],
        [
         83.33333333333334
        ],
        [
         83.33333333333334
        ],
        [
         83.33333333333334
        ],
        [
         83.33333333333334
        ],
        [
         83.33333333333334
        ],
        [
         83.33333333333334
        ],
        [
         83.33333333333334
        ],
        [
         83.33333333333334
        ],
        [
         83.33333333333334
        ],
        [
         83.33333333333334
        ],
        [
         83.33333333333334
        ],
        [
         83.33333333333334
        ],
        [
         83.33333333333334
        ],
        [
         83.33333333333334
        ],
        [
         83.33333333333334
        ],
        [
         83.33333333333334
        ],
        [
         83.33333333333334
        ],
        [
         83.33333333333334
        ],
        [
         83.33333333333334
        ],
        [
         83.33333333333334
        ],
        [
         83.33333333333334
        ],
        [
         83.33333333333334
        ],
        [
         83.33333333333334
        ],
        [
         83.33333333333334
        ],
        [
         83.33333333333334
        ],
        [
         83.33333333333334
        ],
        [
         83.33333333333334
        ],
        [
         83.33333333333334
        ],
        [
         83.33333333333334
        ],
        [
         83.33333333333334
        ],
        [
         83.33333333333334
        ],
        [
         83.33333333333334
        ],
        [
         82.97872340425532
        ],
        [
         82.85714285714286
        ],
        [
         82.5
        ],
        [
         82.35294117647058
        ],
        [
         82.35294117647058
        ],
        [
         82.14285714285714
        ],
        [
         81.81818181818183
        ],
        [
         81.81818181818183
        ],
        [
         81.81818181818183
        ],
        [
         81.81818181818183
        ],
        [
         81.81818181818183
        ],
        [
         81.81818181818183
        ],
        [
         81.81818181818183
        ],
        [
         80.64516129032258
        ],
        [
         80.3030303030303
        ],
        [
         80
        ],
        [
         80
        ],
        [
         80
        ],
        [
         80
        ],
        [
         80
        ],
        [
         80
        ],
        [
         80
        ],
        [
         80
        ],
        [
         80
        ],
        [
         80
        ],
        [
         80
        ],
        [
         80
        ],
        [
         80
        ],
        [
         80
        ],
        [
         80
        ],
        [
         80
        ],
        [
         80
        ],
        [
         80
        ],
        [
         80
        ],
        [
         80
        ],
        [
         80
        ],
        [
         80
        ],
        [
         80
        ],
        [
         80
        ],
        [
         80
        ],
        [
         80
        ],
        [
         80
        ],
        [
         80
        ],
        [
         80
        ],
        [
         80
        ],
        [
         80
        ],
        [
         80
        ],
        [
         80
        ],
        [
         80
        ],
        [
         80
        ],
        [
         80
        ],
        [
         80
        ],
        [
         80
        ],
        [
         80
        ],
        [
         80
        ],
        [
         80
        ],
        [
         80
        ],
        [
         80
        ],
        [
         80
        ],
        [
         80
        ],
        [
         80
        ],
        [
         80
        ],
        [
         80
        ],
        [
         80
        ],
        [
         80
        ],
        [
         80
        ],
        [
         80
        ],
        [
         80
        ],
        [
         80
        ],
        [
         80
        ],
        [
         80
        ],
        [
         80
        ],
        [
         80
        ],
        [
         80
        ],
        [
         80
        ],
        [
         80
        ],
        [
         80
        ],
        [
         80
        ],
        [
         80
        ],
        [
         80
        ],
        [
         80
        ],
        [
         80
        ],
        [
         80
        ],
        [
         80
        ],
        [
         80
        ],
        [
         80
        ],
        [
         80
        ],
        [
         80
        ],
        [
         80
        ],
        [
         80
        ],
        [
         80
        ],
        [
         80
        ],
        [
         80
        ],
        [
         80
        ],
        [
         80
        ],
        [
         80
        ],
        [
         80
        ],
        [
         80
        ],
        [
         80
        ],
        [
         80
        ],
        [
         80
        ],
        [
         79
        ],
        [
         78.94736842105263
        ],
        [
         78.57142857142857
        ],
        [
         78.57142857142857
        ],
        [
         78.57142857142857
        ],
        [
         78.26086956521739
        ],
        [
         78.26086956521739
        ],
        [
         77.77777777777779
        ],
        [
         77.77777777777779
        ],
        [
         77.77777777777779
        ],
        [
         77.77777777777779
        ],
        [
         77.77777777777779
        ],
        [
         77.77777777777779
        ],
        [
         77.77777777777779
        ],
        [
         77.77777777777779
        ],
        [
         77.77777777777779
        ],
        [
         77.77777777777779
        ],
        [
         77.77777777777779
        ],
        [
         77.77777777777779
        ],
        [
         77.77777777777779
        ],
        [
         77.77777777777779
        ],
        [
         77.14285714285715
        ],
        [
         76.92307692307693
        ],
        [
         76.92307692307693
        ],
        [
         76.92307692307693
        ],
        [
         76.66666666666667
        ],
        [
         76.47058823529412
        ],
        [
         75.36231884057972
        ],
        [
         75
        ],
        [
         75
        ],
        [
         75
        ],
        [
         75
        ],
        [
         75
        ],
        [
         75
        ],
        [
         75
        ],
        [
         75
        ],
        [
         75
        ],
        [
         75
        ],
        [
         75
        ],
        [
         75
        ],
        [
         75
        ],
        [
         75
        ],
        [
         75
        ],
        [
         75
        ],
        [
         73.68421052631578
        ],
        [
         73.52941176470588
        ],
        [
         73.33333333333333
        ],
        [
         73.33333333333333
        ],
        [
         73.07692307692307
        ],
        [
         72.72727272727273
        ],
        [
         72.72727272727273
        ],
        [
         72.72727272727273
        ],
        [
         72.72727272727273
        ],
        [
         72.72727272727273
        ],
        [
         72.72727272727273
        ],
        [
         72.22222222222221
        ],
        [
         72.22222222222221
        ],
        [
         72
        ],
        [
         71.42857142857143
        ],
        [
         71.42857142857143
        ],
        [
         71.42857142857143
        ],
        [
         71.42857142857143
        ],
        [
         71.42857142857143
        ],
        [
         71.42857142857143
        ],
        [
         71.42857142857143
        ],
        [
         71.42857142857143
        ],
        [
         71.42857142857143
        ],
        [
         71.42857142857143
        ],
        [
         71.42857142857143
        ],
        [
         71.42857142857143
        ],
        [
         71.42857142857143
        ],
        [
         71.42857142857143
        ],
        [
         71.42857142857143
        ],
        [
         71.42857142857143
        ],
        [
         70.96774193548387
        ],
        [
         70.96774193548387
        ],
        [
         70.83333333333334
        ],
        [
         70.73170731707317
        ],
        [
         70.58823529411765
        ],
        [
         70.27027027027027
        ],
        [
         70
        ],
        [
         70
        ],
        [
         70
        ],
        [
         70
        ],
        [
         70
        ],
        [
         70
        ],
        [
         70
        ],
        [
         69.81132075471697
        ],
        [
         69.23076923076923
        ],
        [
         69.23076923076923
        ],
        [
         69.23076923076923
        ],
        [
         68.75
        ],
        [
         68.75
        ],
        [
         68.42105263157895
        ],
        [
         68.29268292682927
        ],
        [
         68.18181818181817
        ],
        [
         67.56756756756756
        ],
        [
         67.56756756756756
        ],
        [
         67.27272727272727
        ],
        [
         66.66666666666666
        ],
        [
         66.66666666666666
        ],
        [
         66.66666666666666
        ],
        [
         66.66666666666666
        ],
        [
         66.66666666666666
        ],
        [
         66.66666666666666
        ],
        [
         66.66666666666666
        ],
        [
         66.66666666666666
        ],
        [
         66.66666666666666
        ],
        [
         66.66666666666666
        ],
        [
         66.66666666666666
        ],
        [
         66.66666666666666
        ],
        [
         66.66666666666666
        ],
        [
         66.66666666666666
        ],
        [
         66.66666666666666
        ],
        [
         66.66666666666666
        ],
        [
         66.66666666666666
        ],
        [
         66.66666666666666
        ],
        [
         66.66666666666666
        ],
        [
         66.66666666666666
        ],
        [
         66.66666666666666
        ],
        [
         66.66666666666666
        ],
        [
         66.66666666666666
        ],
        [
         65.11627906976744
        ],
        [
         65
        ],
        [
         64.86486486486487
        ],
        [
         64.77272727272727
        ],
        [
         64.70588235294117
        ],
        [
         64.70588235294117
        ],
        [
         64.70588235294117
        ],
        [
         64.28571428571429
        ],
        [
         64
        ],
        [
         64
        ],
        [
         63.63636363636363
        ],
        [
         63.63636363636363
        ],
        [
         63.63636363636363
        ],
        [
         62.5
        ],
        [
         62.5
        ],
        [
         62.5
        ],
        [
         62.5
        ],
        [
         62.5
        ],
        [
         62.5
        ],
        [
         62.5
        ],
        [
         62.06896551724138
        ],
        [
         61.904761904761905
        ],
        [
         61.53846153846154
        ],
        [
         60
        ],
        [
         60
        ],
        [
         60
        ],
        [
         60
        ],
        [
         60
        ],
        [
         60
        ],
        [
         60
        ],
        [
         60
        ],
        [
         60
        ],
        [
         60
        ],
        [
         60
        ],
        [
         60
        ],
        [
         60
        ],
        [
         60
        ],
        [
         60
        ],
        [
         60
        ],
        [
         60
        ],
        [
         60
        ],
        [
         60
        ],
        [
         60
        ],
        [
         60
        ],
        [
         60
        ],
        [
         60
        ],
        [
         60
        ],
        [
         60
        ],
        [
         60
        ],
        [
         60
        ],
        [
         60
        ],
        [
         60
        ],
        [
         60
        ],
        [
         59.79381443298969
        ],
        [
         59.09090909090909
        ],
        [
         58.82352941176471
        ],
        [
         58.69565217391305
        ],
        [
         58.333333333333336
        ],
        [
         58.333333333333336
        ],
        [
         58.333333333333336
        ],
        [
         58.333333333333336
        ],
        [
         58.06451612903226
        ],
        [
         58.06451612903226
        ],
        [
         57.8125
        ],
        [
         57.14285714285714
        ],
        [
         57.14285714285714
        ],
        [
         57.14285714285714
        ],
        [
         57.14285714285714
        ],
        [
         57.14285714285714
        ],
        [
         57.14285714285714
        ],
        [
         57.14285714285714
        ],
        [
         57.14285714285714
        ],
        [
         57.14285714285714
        ],
        [
         57.14285714285714
        ],
        [
         57.14285714285714
        ],
        [
         57.14285714285714
        ],
        [
         57.14285714285714
        ],
        [
         57.14285714285714
        ],
        [
         56.81818181818182
        ],
        [
         56.25
        ],
        [
         56.00000000000001
        ],
        [
         55.55555555555556
        ],
        [
         55.55555555555556
        ],
        [
         55.55555555555556
        ],
        [
         55.55555555555556
        ],
        [
         55.118110236220474
        ],
        [
         55.00000000000001
        ],
        [
         55.00000000000001
        ],
        [
         54.761904761904766
        ],
        [
         54.54545454545454
        ],
        [
         54.166666666666664
        ],
        [
         53.84615384615385
        ],
        [
         53.57142857142857
        ],
        [
         52.38095238095239
        ],
        [
         52
        ],
        [
         52
        ],
        [
         50
        ],
        [
         50
        ],
        [
         50
        ],
        [
         50
        ],
        [
         50
        ],
        [
         50
        ],
        [
         50
        ],
        [
         50
        ],
        [
         50
        ],
        [
         50
        ],
        [
         50
        ],
        [
         50
        ],
        [
         50
        ],
        [
         50
        ],
        [
         50
        ],
        [
         50
        ],
        [
         50
        ],
        [
         50
        ],
        [
         50
        ],
        [
         50
        ],
        [
         46.15384615384615
        ],
        [
         45.6
        ],
        [
         45.45454545454545
        ],
        [
         45
        ],
        [
         44.89795918367347
        ],
        [
         44.44444444444444
        ],
        [
         44.44444444444444
        ],
        [
         44.44444444444444
        ],
        [
         44.230769230769226
        ],
        [
         43.75
        ],
        [
         43.47826086956522
        ],
        [
         42.857142857142854
        ],
        [
         42.22222222222222
        ],
        [
         40
        ],
        [
         40
        ],
        [
         40
        ],
        [
         40
        ],
        [
         40
        ],
        [
         40
        ],
        [
         38.88888888888889
        ],
        [
         38.70967741935484
        ],
        [
         37.5
        ],
        [
         37.3134328358209
        ],
        [
         36.36363636363637
        ],
        [
         36.04651162790697
        ],
        [
         34.437086092715234
        ],
        [
         30
        ]
       ],
       "datasetInfos": [],
       "dbfsResultPath": null,
       "isJsonSchema": true,
       "metadata": {},
       "overflow": false,
       "plotOptions": {
        "customPlotOptions": {},
        "displayType": "table",
        "pivotAggregation": null,
        "pivotColumns": null,
        "xColumns": null,
        "yColumns": null
       },
       "removedWidgets": [],
       "schema": [
        {
         "metadata": "{}",
         "name": "genre_size_for_publisher (%)",
         "type": "\"double\""
        }
       ],
       "type": "table"
      }
     },
     "output_type": "display_data"
    },
    {
     "data": {
      "text/plain": [
       "Databricks visualization. Run in Databricks to view."
      ]
     },
     "metadata": {
      "application/vnd.databricks.v1.subcommand+json": {
       "baseErrorDetails": null,
       "bindings": {},
       "collapsed": false,
       "command": "%python\n__backend_agg_display_orig = display\n__backend_agg_dfs = []\ndef __backend_agg_display_new(df):\n    __backend_agg_df_modules = [\"pandas.core.frame\", \"databricks.koalas.frame\", \"pyspark.sql.dataframe\", \"pyspark.pandas.frame\", \"pyspark.sql.connect.dataframe\"]\n    if (type(df).__module__ in __backend_agg_df_modules and type(df).__name__ == 'DataFrame') or isinstance(df, list):\n        __backend_agg_dfs.append(df)\n\ndisplay = __backend_agg_display_new\n\ndef __backend_agg_user_code_fn():\n    import base64\n    exec(base64.standard_b64decode(\"ZmF2ZV9nZW5yZXNfZGYuc2VsZWN0KEYuY29sKCJnZW5yZV9zaXplX2Zvcl9wdWJsaXNoZXIgKCUpIikpXAogICAgICAgICAgICAgIC5kaXNwbGF5KCk=\").decode())\n\ntry:\n    # run user code\n    __backend_agg_user_code_fn()\n\n    #reset display function\n    display = __backend_agg_display_orig\n\n    if len(__backend_agg_dfs) > 0:\n        # create a temp view\n        if type(__backend_agg_dfs[0]).__module__ == \"databricks.koalas.frame\":\n            # koalas dataframe\n            __backend_agg_dfs[0].to_spark().createOrReplaceTempView(\"DatabricksView1089dad\")\n        elif type(__backend_agg_dfs[0]).__module__ == \"pandas.core.frame\" or isinstance(__backend_agg_dfs[0], list):\n            # pandas dataframe\n            spark.createDataFrame(__backend_agg_dfs[0]).createOrReplaceTempView(\"DatabricksView1089dad\")\n        else:\n            __backend_agg_dfs[0].createOrReplaceTempView(\"DatabricksView1089dad\")\n        #run backend agg\n        display(spark.sql(\"\"\"WITH q AS (select * from DatabricksView1089dad) ,min_max AS (SELECT `genre_size_for_publisher (%)`,(SELECT MAX(`genre_size_for_publisher (%)`) FROM q) `target_column_max`,(SELECT MIN(`genre_size_for_publisher (%)`) FROM q) `target_column_min` FROM q) ,histogram_meta AS (SELECT `genre_size_for_publisher (%)`,`target_column_min` `min_value`,IF(`target_column_max` = `target_column_min`,`target_column_max` + 1,`target_column_max`) `max_value`,(`target_column_max` - `target_column_min`) / 10 `step` FROM min_max) SELECT IF(ISNULL(`genre_size_for_publisher (%)`),NULL,LEAST(WIDTH_BUCKET(`genre_size_for_publisher (%)`,`min_value`,`max_value`,10),10)) `genre_size_for_publisher (%)_BIN`,FIRST(`min_value` + ((IF(ISNULL(`genre_size_for_publisher (%)`),NULL,LEAST(WIDTH_BUCKET(`genre_size_for_publisher (%)`,`min_value`,`max_value`,10),10)) - 1) * `step`)) `genre_size_for_publisher (%)_BIN_LOWER_BOUND`,FIRST(`step`) `genre_size_for_publisher (%)_BIN_STEP`,COUNT(`genre_size_for_publisher (%)`) `COUNT` FROM histogram_meta GROUP BY `genre_size_for_publisher (%)_BIN`\"\"\"))\n    else:\n        displayHTML(\"dataframe no longer exists. If you're using dataframe.display(), use display(dataframe) instead.\")\n\n\nfinally:\n    spark.sql(\"drop view if exists DatabricksView1089dad\")\n    display = __backend_agg_display_orig\n    del __backend_agg_display_new\n    del __backend_agg_display_orig\n    del __backend_agg_dfs\n    del __backend_agg_user_code_fn\n\n",
       "commandTitle": "Visualization 1",
       "commandType": "auto",
       "commandVersion": 0,
       "commentThread": [],
       "commentsVisible": false,
       "contentSha256Hex": null,
       "customPlotOptions": {
        "redashChart": [
         {
          "key": "type",
          "value": "CHART"
         },
         {
          "key": "options",
          "value": {
           "alignYAxesAtZero": true,
           "coefficient": 1,
           "columnConfigurationMap": {
            "x": {
             "column": "genre_size_for_publisher (%)",
             "id": "column_8e313d2d444"
            }
           },
           "dateTimeFormat": "DD/MM/YYYY HH:mm",
           "direction": {
            "type": "counterclockwise"
           },
           "error_y": {
            "type": "data",
            "visible": true
           },
           "globalSeriesType": "histogram",
           "isAggregationOn": true,
           "legend": {
            "traceorder": "normal"
           },
           "missingValuesAsZero": true,
           "numBins": 10,
           "numberFormat": "0,0.[00000]",
           "percentFormat": "0[.]00%",
           "series": {
            "error_y": {
             "type": "data",
             "visible": true
            },
            "stacking": null
           },
           "seriesOptions": {},
           "showDataLabels": false,
           "sizemode": "diameter",
           "sortX": true,
           "sortY": true,
           "swappedAxes": false,
           "textFormat": "",
           "useAggregationsUi": true,
           "valuesOptions": {},
           "version": 2,
           "xAxis": {
            "labels": {
             "enabled": true
            },
            "type": "-"
           },
           "yAxis": [
            {
             "type": "-"
            },
            {
             "opposite": true,
             "type": "-"
            }
           ]
          }
         }
        ]
       },
       "datasetPreviewNameToCmdIdMap": {},
       "diffDeletes": [],
       "diffInserts": [],
       "displayType": "redashChart",
       "error": null,
       "errorDetails": null,
       "errorSummary": null,
       "errorTraceType": null,
       "finishTime": 0,
       "globalVars": {},
       "guid": "",
       "height": "auto",
       "hideCommandCode": false,
       "hideCommandResult": false,
       "iPythonMetadata": null,
       "inputWidgets": {},
       "isLockedInExamMode": false,
       "latestAssumeRoleInfo": null,
       "latestUser": "a user",
       "latestUserId": null,
       "listResultMetadata": null,
       "metadata": {},
       "nuid": "7e15d67e-01a7-4640-8fde-dca38c8836d7",
       "origId": 0,
       "parentHierarchy": [],
       "pivotAggregation": null,
       "pivotColumns": null,
       "position": 2.9997406005859375,
       "resultDbfsErrorMessage": null,
       "resultDbfsStatus": "INLINED_IN_TREE",
       "results": null,
       "showCommandTitle": false,
       "startTime": 0,
       "state": "input",
       "streamStates": {},
       "subcommandOptions": {
        "queryPlan": {
         "groups": [
          {
           "column": "genre_size_for_publisher (%)_BIN",
           "type": "column"
          }
         ],
         "selects": [
          {
           "alias": "genre_size_for_publisher (%)_BIN",
           "args": [
            {
             "column": "genre_size_for_publisher (%)",
             "type": "column"
            },
            {
             "number": 10,
             "type": "number"
            }
           ],
           "function": "BIN",
           "type": "function"
          },
          {
           "alias": "genre_size_for_publisher (%)_BIN_LOWER_BOUND",
           "args": [
            {
             "column": "genre_size_for_publisher (%)",
             "type": "column"
            },
            {
             "number": 10,
             "type": "number"
            }
           ],
           "function": "BIN_LOWER_BOUND",
           "type": "function"
          },
          {
           "alias": "genre_size_for_publisher (%)_BIN_STEP",
           "args": [
            {
             "column": "genre_size_for_publisher (%)",
             "type": "column"
            },
            {
             "number": 10,
             "type": "number"
            }
           ],
           "function": "BIN_STEP",
           "type": "function"
          },
          {
           "alias": "COUNT",
           "args": [
            {
             "column": "genre_size_for_publisher (%)",
             "type": "column"
            }
           ],
           "function": "COUNT",
           "type": "function"
          }
         ]
        }
       },
       "submitTime": 0,
       "subtype": "tableResultSubCmd.visualization",
       "tableResultIndex": 0,
       "tableResultSettingsMap": {},
       "useConsistentColors": false,
       "version": "CommandV1",
       "width": "auto",
       "workflows": [],
       "xColumns": null,
       "yColumns": null
      }
     },
     "output_type": "display_data"
    }
   ],
   "source": [
    "fave_genres_df.select(F.col(\"genre_size_for_publisher (%)\"))\\\n",
    "              .display()"
   ]
  },
  {
   "cell_type": "markdown",
   "metadata": {
    "application/vnd.databricks.v1+cell": {
     "cellMetadata": {},
     "inputWidgets": {},
     "nuid": "27474c01-c497-4c01-96be-3c44937c2aec",
     "showTitle": false,
     "tableResultSettingsMap": {},
     "title": ""
    }
   },
   "source": [
    "It seems that the majority of publishers mostly stick to a single genre. This may not work, but let's try treating each combination of categories as one category and seeing if the results are any different:"
   ]
  },
  {
   "cell_type": "code",
   "execution_count": 0,
   "metadata": {
    "application/vnd.databricks.v1+cell": {
     "cellMetadata": {
      "byteLimit": 2048000,
      "rowLimit": 10000
     },
     "inputWidgets": {},
     "nuid": "7b643db5-2d0b-411a-a78b-1958ba81fd10",
     "showTitle": false,
     "tableResultSettingsMap": {
      "0": {
       "dataGridStateBlob": "{\"version\":1,\"tableState\":{\"columnPinning\":{\"left\":[\"#row_number#\"],\"right\":[]},\"columnSizing\":{},\"columnVisibility\":{}},\"settings\":{\"columns\":{}},\"syncTimestamp\":1759355295485}",
       "filterBlob": null,
       "queryPlanFiltersBlob": null,
       "tableResultIndex": 0
      }
     },
     "title": ""
    }
   },
   "outputs": [
    {
     "data": {
      "text/html": [
       "<style scoped>\n",
       "  .table-result-container {\n",
       "    max-height: 300px;\n",
       "    overflow: auto;\n",
       "  }\n",
       "  table, th, td {\n",
       "    border: 1px solid black;\n",
       "    border-collapse: collapse;\n",
       "  }\n",
       "  th, td {\n",
       "    padding: 5px;\n",
       "  }\n",
       "  th {\n",
       "    text-align: left;\n",
       "  }\n",
       "</style><div class='table-result-container'><table class='table-result'><thead style='background-color: white'><tr><th>publisher</th><th>genre</th><th>genre_size_for_publisher (%)</th><th>num_games_from_publisher</th></tr></thead><tbody><tr><td>Adamvision Studios</td><td>actioncasualindie</td><td>100.0</td><td>9</td></tr><tr><td>Attack Studio</td><td>casual</td><td>100.0</td><td>6</td></tr><tr><td>Cherry Kiss Games</td><td>casual</td><td>100.0</td><td>6</td></tr><tr><td>ChessBase GmbH</td><td>strategy</td><td>100.0</td><td>8</td></tr><tr><td>DIG Publishing</td><td>casualindie</td><td>100.0</td><td>10</td></tr><tr><td>Do Games Limited</td><td>adventurecasual</td><td>100.0</td><td>6</td></tr><tr><td>DominiGames</td><td>adventurecasual</td><td>100.0</td><td>13</td></tr><tr><td>Dovetail Games - Trains</td><td>simulation</td><td>100.0</td><td>5</td></tr><tr><td>Epic Games, Inc.</td><td>action</td><td>100.0</td><td>5</td></tr><tr><td>GirlGames</td><td>casualindierpgsimulation</td><td>100.0</td><td>7</td></tr><tr><td>Hunny Bunny Studio</td><td>casualindie</td><td>100.0</td><td>14</td></tr><tr><td>InArcade</td><td>actioncasualindie</td><td>100.0</td><td>6</td></tr><tr><td>Kedronic UAB</td><td>casualindie</td><td>100.0</td><td>5</td></tr><tr><td>LKMAD</td><td>adventurecasualindie</td><td>100.0</td><td>6</td></tr><tr><td>Majesco Entertainment</td><td>action</td><td>100.0</td><td>5</td></tr><tr><td>MoeNovel</td><td>adventurecasualsimulation</td><td>100.0</td><td>8</td></tr><tr><td>MojoTouch</td><td>adventure</td><td>100.0</td><td>6</td></tr><tr><td>Music Paradise</td><td>audio productionutilities</td><td>100.0</td><td>5</td></tr><tr><td>NikiGames</td><td>casualindie</td><td>100.0</td><td>5</td></tr><tr><td>Oleg Sereda</td><td>casualindiestrategy</td><td>100.0</td><td>5</td></tr><tr><td>Pirotexnik</td><td>casualindie</td><td>100.0</td><td>8</td></tr><tr><td>PopCap Games, Inc.</td><td>casual</td><td>100.0</td><td>19</td></tr><tr><td>Pro Strategy Games</td><td>indiesimulationsportsstrategy</td><td>100.0</td><td>6</td></tr><tr><td>SCS Software</td><td>indiesimulation</td><td>100.0</td><td>6</td></tr><tr><td>SMT Ent.</td><td>indie</td><td>100.0</td><td>7</td></tr><tr><td>Sports Mogul, Inc.</td><td>casualsimulationsportsstrategy</td><td>100.0</td><td>6</td></tr><tr><td>Sweety Boy</td><td>casualindie</td><td>100.0</td><td>7</td></tr><tr><td>Thedox Games</td><td>casualindie</td><td>100.0</td><td>5</td></tr><tr><td>UL</td><td>utilities</td><td>100.0</td><td>5</td></tr><tr><td>Warner Bros. Interactive Entertainment, Feral Interactive (Mac)</td><td>actionadventure</td><td>100.0</td><td>5</td></tr><tr><td>chengcong</td><td>utilities</td><td>100.0</td><td>8</td></tr><tr><td>id Software</td><td>action</td><td>100.0</td><td>16</td></tr><tr><td>pencil</td><td>adventure</td><td>100.0</td><td>5</td></tr><tr><td>HexWar Games</td><td>strategy</td><td>97.61904761904762</td><td>42</td></tr><tr><td>Blender Games</td><td>casualindie</td><td>97.14285714285714</td><td>70</td></tr><tr><td>Cute Hannah's Games</td><td>casualindie</td><td>95.83333333333334</td><td>24</td></tr><tr><td>Sacada</td><td>casualindiestrategy</td><td>95.45454545454545</td><td>22</td></tr><tr><td>CITY CONNECTION</td><td>action</td><td>94.73684210526315</td><td>19</td></tr><tr><td>Crisp App Studio</td><td>adventurecasualindie</td><td>94.11764705882352</td><td>17</td></tr><tr><td>Mediascape Co., Ltd.</td><td>actionindie</td><td>94.11764705882352</td><td>17</td></tr><tr><td>Artifex Mundi</td><td>adventurecasual</td><td>93.33333333333333</td><td>75</td></tr><tr><td>Big Fish Games</td><td>adventurecasual</td><td>92.16152019002375</td><td>421</td></tr><tr><td>Frontwing USA</td><td>adventurecasual</td><td>91.30434782608695</td><td>23</td></tr><tr><td>Follow The Fun</td><td>casualindie</td><td>90.9090909090909</td><td>11</td></tr><tr><td>Positech Games</td><td>indiesimulationstrategy</td><td>90.9090909090909</td><td>11</td></tr><tr><td>HeR Interactive</td><td>adventure</td><td>90.32258064516128</td><td>31</td></tr><tr><td>aNCHOR Inc.</td><td>adventurecasual</td><td>90.0</td><td>10</td></tr><tr><td>grin robot</td><td>indie</td><td>90.0</td><td>10</td></tr><tr><td>凝冰剑斩</td><td>indierpg</td><td>90.0</td><td>10</td></tr><tr><td>Erbe Software</td><td>adventure</td><td>88.88888888888889</td><td>9</td></tr><tr><td>Google Inc.</td><td>adventurefree to play</td><td>88.88888888888889</td><td>9</td></tr><tr><td>Milestone S.r.l.</td><td>racingsimulationsports</td><td>88.57142857142857</td><td>35</td></tr><tr><td>Amanita Design</td><td>adventurecasualindie</td><td>87.5</td><td>8</td></tr><tr><td>Cakewalk</td><td>audio production</td><td>87.5</td><td>8</td></tr><tr><td>Dogenzaka Lab</td><td>adventure</td><td>87.5</td><td>16</td></tr><tr><td>GSC World Publishing</td><td>strategy</td><td>87.5</td><td>8</td></tr><tr><td>Quiet River</td><td>casualindie</td><td>87.5</td><td>24</td></tr><tr><td>b-alive gmbh</td><td>casualindiesimulationstrategy</td><td>86.66666666666667</td><td>15</td></tr><tr><td>BrainGoodGames</td><td>strategy</td><td>85.71428571428571</td><td>7</td></tr><tr><td>Dead Drop Studios LLC</td><td>actionadventureindierpg</td><td>85.71428571428571</td><td>7</td></tr><tr><td>Gray Boss</td><td>casualindie</td><td>85.71428571428571</td><td>7</td></tr><tr><td>Illwinter Game Design</td><td>indiestrategy</td><td>85.71428571428571</td><td>7</td></tr><tr><td>MACKINN7</td><td>actioncasualindie</td><td>85.71428571428571</td><td>21</td></tr><tr><td>Small Game</td><td>adventurecasualindie</td><td>85.71428571428571</td><td>7</td></tr><tr><td>8floor</td><td>casual</td><td>84.65346534653465</td><td>202</td></tr><tr><td>Crew Lab</td><td>casualindie</td><td>84.61538461538461</td><td>13</td></tr><tr><td>Grey Alien Games</td><td>casualindie</td><td>84.0</td><td>25</td></tr><tr><td>SNK CORPORATION</td><td>action</td><td>84.0</td><td>25</td></tr><tr><td>Adventure Islands</td><td>actionadventureindie</td><td>83.33333333333334</td><td>6</td></tr><tr><td>Fractal Projects</td><td>casualindie</td><td>83.33333333333334</td><td>6</td></tr><tr><td>Gaijin Games</td><td>actionindie</td><td>83.33333333333334</td><td>6</td></tr><tr><td>IR Studio</td><td>casualindie</td><td>83.33333333333334</td><td>6</td></tr><tr><td>OFF1C1AL</td><td>adventure</td><td>83.33333333333334</td><td>6</td></tr><tr><td>Out of the Park Developments</td><td>indiesimulationsportsstrategy</td><td>83.33333333333334</td><td>12</td></tr><tr><td>Pokies4fun</td><td>indiesimulation</td><td>83.33333333333334</td><td>6</td></tr><tr><td>Polygon Art</td><td>actionindie</td><td>83.33333333333334</td><td>6</td></tr><tr><td>Raptor Claw Games</td><td>indiesimulationstrategy</td><td>83.33333333333334</td><td>6</td></tr><tr><td>Rockin' Android</td><td>actionindie</td><td>83.33333333333334</td><td>6</td></tr><tr><td>Shanghai Lusion Computer Software Co. Ltd.</td><td>casual</td><td>83.33333333333334</td><td>6</td></tr><tr><td>ShortStackStudio</td><td>casual</td><td>83.33333333333334</td><td>6</td></tr><tr><td>Soldak Entertainment</td><td>actionindierpg</td><td>83.33333333333334</td><td>6</td></tr><tr><td>Sounding Stone / 老奉毊, RMAsia</td><td>adventurecasualindierpg</td><td>83.33333333333334</td><td>6</td></tr><tr><td>Team Spikkeee</td><td>casual</td><td>83.33333333333334</td><td>6</td></tr><tr><td>Trend Redaktions- und Verlagsgesellschaft mbH</td><td>simulation</td><td>83.33333333333334</td><td>6</td></tr><tr><td>Zetsubou</td><td>casualindiesimulation</td><td>83.33333333333334</td><td>6</td></tr><tr><td>lightUP</td><td>actionadventureindie</td><td>83.33333333333334</td><td>12</td></tr><tr><td>Telltale Games</td><td>adventure</td><td>82.35294117647058</td><td>17</td></tr><tr><td>Notus Games Ltd</td><td>casual</td><td>81.81818181818183</td><td>11</td></tr><tr><td>Screen 7</td><td>adventureindie</td><td>81.81818181818183</td><td>11</td></tr><tr><td>Zeiva Inc</td><td>adventurecasualindiesimulation</td><td>81.81818181818183</td><td>11</td></tr><tr><td>Ziggurat, 612 Games</td><td>action</td><td>81.81818181818183</td><td>11</td></tr><tr><td>AIHASTO</td><td>adventureindie</td><td>80.0</td><td>5</td></tr><tr><td>Age of Fear</td><td>indierpgstrategy</td><td>80.0</td><td>5</td></tr><tr><td>Antizero company</td><td>casualindie</td><td>80.0</td><td>5</td></tr><tr><td>Arkhouse Telegnosis</td><td>actionadventureindie</td><td>80.0</td><td>5</td></tr><tr><td>Big Fat Simulations Inc.</td><td>adventure</td><td>80.0</td><td>5</td></tr><tr><td>Blaze Epic</td><td>actionadventureindie</td><td>80.0</td><td>10</td></tr><tr><td>Bliss Brain</td><td>simulation</td><td>80.0</td><td>5</td></tr><tr><td>Clarus Victoria</td><td>indiesimulationstrategy</td><td>80.0</td><td>5</td></tr><tr><td>Cyan Worlds Inc</td><td>adventurecasual</td><td>80.0</td><td>10</td></tr><tr><td>DiamosDev</td><td>adventurecasualindiesimulation</td><td>80.0</td><td>5</td></tr><tr><td>Draknek</td><td>indie</td><td>80.0</td><td>5</td></tr><tr><td>E McNeill</td><td>indiestrategy</td><td>80.0</td><td>5</td></tr><tr><td>EMIKA_GAMES</td><td>indiesimulation</td><td>80.0</td><td>5</td></tr><tr><td>Factus Games</td><td>indiesimulationstrategy</td><td>80.0</td><td>5</td></tr><tr><td>FireFly Studios</td><td>simulationstrategy</td><td>80.0</td><td>10</td></tr><tr><td>GC Games</td><td>casual</td><td>80.0</td><td>5</td></tr><tr><td>HandyGames, Black Forest Games</td><td>actionindie</td><td>80.0</td><td>5</td></tr><tr><td>Hooded Horse</td><td>early accesssimulationstrategy</td><td>80.0</td><td>5</td></tr><tr><td>InterAction studios</td><td>actioncasualindie</td><td>80.0</td><td>5</td></tr><tr><td>JOZGames</td><td>actioncasualindie</td><td>80.0</td><td>5</td></tr><tr><td>Knuckle Cracker</td><td>indiesimulationstrategy</td><td>80.0</td><td>5</td></tr><tr><td>Krome Studios</td><td>actionadventureindie</td><td>80.0</td><td>5</td></tr><tr><td>LGT SIA</td><td>casualindie</td><td>80.0</td><td>10</td></tr><tr><td>Mommy's Best Games</td><td>actionindie</td><td>80.0</td><td>5</td></tr><tr><td>Musa GUNGOR</td><td>casualindiesimulationstrategy</td><td>80.0</td><td>5</td></tr><tr><td>Old Eagle</td><td>indierpg</td><td>80.0</td><td>5</td></tr><tr><td>Redbrick Studios Ltd</td><td>simulation</td><td>80.0</td><td>5</td></tr><tr><td>Reiza Studios</td><td>racingsimulationsports</td><td>80.0</td><td>5</td></tr><tr><td>Rex Junior</td><td>casualindie</td><td>80.0</td><td>20</td></tr><tr><td>Runesoft GmbH</td><td>adventure</td><td>80.0</td><td>5</td></tr><tr><td>SAARSE</td><td>casualindie</td><td>80.0</td><td>5</td></tr><tr><td>Screaming Villains</td><td>action</td><td>80.0</td><td>5</td></tr><tr><td>Small Game Studio</td><td>adventurecasualindie</td><td>80.0</td><td>5</td></tr><tr><td>Stefan Preuss</td><td>actioncasualindie</td><td>80.0</td><td>5</td></tr><tr><td>Team Grybanser Fox</td><td>actionindie</td><td>80.0</td><td>5</td></tr><tr><td>UltimateDesktop</td><td>animation & modelingdesign & illustrationearly accessutilities</td><td>80.0</td><td>5</td></tr><tr><td>Vincent Lade</td><td>actionadventurecasualindie</td><td>80.0</td><td>5</td></tr><tr><td>Wargaming Labs</td><td>strategy</td><td>80.0</td><td>5</td></tr><tr><td>advocatus</td><td>actionadventurecasualindie</td><td>80.0</td><td>5</td></tr><tr><td>Wolverine Studios</td><td>indiesimulationsportsstrategy</td><td>79.16666666666666</td><td>24</td></tr><tr><td>TigerQiuQiu</td><td>actioncasualindie</td><td>78.94736842105263</td><td>19</td></tr><tr><td>For Kids</td><td>casualindie</td><td>78.125</td><td>32</td></tr><tr><td>N3V Games</td><td>simulation</td><td>77.77777777777779</td><td>9</td></tr><tr><td>Remix Games</td><td>casual</td><td>77.77777777777779</td><td>9</td></tr><tr><td>Sandlot Games</td><td>casual</td><td>77.77777777777779</td><td>9</td></tr><tr><td>Zloy Krot Studio</td><td>casualindie</td><td>77.77777777777779</td><td>9</td></tr><tr><td>Arc System Works</td><td>action</td><td>77.41935483870968</td><td>31</td></tr><tr><td>Interactive Pixel Entmt.</td><td>casualindie</td><td>76.47058823529412</td><td>17</td></tr><tr><td>Adobe</td><td>animation & modelingdesign & illustrationgame development</td><td>75.0</td><td>8</td></tr><tr><td>Cleverweek</td><td>casualindie</td><td>75.0</td><td>8</td></tr><tr><td>FIVE-BN GAMES</td><td>adventurecasual</td><td>75.0</td><td>24</td></tr><tr><td>Humongous Entertainment, Nightdive Studios</td><td>adventurecasual</td><td>75.0</td><td>32</td></tr><tr><td>NekoNyan Ltd., HIKARI FIELD</td><td>adventurecasual</td><td>75.0</td><td>8</td></tr><tr><td>NeocoreGames</td><td>actionadventureindierpg</td><td>75.0</td><td>8</td></tr><tr><td>Phoenix Games</td><td>adventurerpgstrategy</td><td>75.0</td><td>12</td></tr><tr><td>Playtouch</td><td>casualindie</td><td>75.0</td><td>8</td></tr><tr><td>Sigyaad Team</td><td>casual</td><td>75.0</td><td>12</td></tr><tr><td>The Revills Games</td><td>casualindie</td><td>75.0</td><td>8</td></tr><tr><td>Yacht Club Games</td><td>actionadventureindie</td><td>75.0</td><td>8</td></tr><tr><td>Qumaron</td><td>adventurecasualsimulationstrategy</td><td>74.28571428571429</td><td>35</td></tr><tr><td>Wadjet Eye Games</td><td>adventureindie</td><td>73.33333333333333</td><td>15</td></tr><tr><td>Anatoliy Loginovskikh</td><td>adventurecasualindie</td><td>73.07692307692307</td><td>26</td></tr><tr><td>Bullid Games</td><td>casualindie</td><td>72.22222222222221</td><td>18</td></tr><tr><td>Appnori Inc.</td><td>casualearly accessindiesimulationsports</td><td>71.42857142857143</td><td>7</td></tr><tr><td>Frictional Games</td><td>actionadventureindie</td><td>71.42857142857143</td><td>7</td></tr><tr><td>Giants Software</td><td>simulation</td><td>71.42857142857143</td><td>7</td></tr><tr><td>KoheiGallery</td><td>actionindie</td><td>71.42857142857143</td><td>7</td></tr><tr><td>Lil Hentai Games</td><td>casualrpg</td><td>71.42857142857143</td><td>7</td></tr><tr><td>Luci Entertainment</td><td>casualindie</td><td>71.42857142857143</td><td>35</td></tr><tr><td>PigeonDev</td><td>indie</td><td>71.42857142857143</td><td>7</td></tr><tr><td>Valorware</td><td>actionadventureindierpg</td><td>71.42857142857143</td><td>7</td></tr><tr><td>Vladimir Maslov</td><td>casualindie</td><td>71.42857142857143</td><td>7</td></tr><tr><td>gigantumgames</td><td>casualindiesimulationsports</td><td>71.42857142857143</td><td>7</td></tr><tr><td>orange</td><td>adventure</td><td>71.42857142857143</td><td>7</td></tr><tr><td>WASABI entertainment</td><td>rpg</td><td>70.58823529411765</td><td>17</td></tr><tr><td>DNA ARMY GAMING</td><td>indiesimulation</td><td>70.0</td><td>10</td></tr><tr><td>Mens Sana Interactive</td><td>casual</td><td>70.0</td><td>20</td></tr><tr><td>MangaGamer</td><td>adventure</td><td>69.81132075471697</td><td>53</td></tr><tr><td>City Interactive S.A.</td><td>adventure</td><td>69.23076923076923</td><td>13</td></tr><tr><td>Game for people</td><td>actioncasualindie</td><td>69.23076923076923</td><td>13</td></tr><tr><td>Kairosoft Co.,Ltd</td><td>casualindiesimulationstrategy</td><td>69.23076923076923</td><td>26</td></tr><tr><td>NedoStudio</td><td>casualindie</td><td>69.23076923076923</td><td>13</td></tr><tr><td>Ningbing Games</td><td>adventureindierpg</td><td>69.23076923076923</td><td>13</td></tr><tr><td>Sigma Team Inc.</td><td>actionindierpg</td><td>69.23076923076923</td><td>13</td></tr><tr><td>DigiMight</td><td>casual</td><td>68.75</td><td>16</td></tr><tr><td>7DOTS</td><td>casualindie</td><td>66.66666666666666</td><td>6</td></tr><tr><td>Abyssal Studios</td><td>casualindiestrategy</td><td>66.66666666666666</td><td>9</td></tr><tr><td>Beamdog</td><td>adventurerpg</td><td>66.66666666666666</td><td>6</td></tr><tr><td>Bloober Team SA</td><td>adventureindie</td><td>66.66666666666666</td><td>6</td></tr><tr><td>CCS</td><td>casualindie</td><td>66.66666666666666</td><td>6</td></tr><tr><td>CDIS</td><td>actionadventureindie</td><td>66.66666666666666</td><td>6</td></tr><tr><td>CI Games</td><td>action</td><td>66.66666666666666</td><td>12</td></tr><tr><td>Caiysware</td><td>actionindie</td><td>66.66666666666666</td><td>6</td></tr><tr><td>ChaniMK</td><td>casualindiesimulation</td><td>66.66666666666666</td><td>6</td></tr><tr><td>Dharker Studios Ltd</td><td>adventurecasualindie</td><td>66.66666666666666</td><td>18</td></tr><tr><td>Encore Software LLC</td><td>casualsportsstrategy</td><td>66.66666666666666</td><td>9</td></tr><tr><td>Fewjix</td><td>indie</td><td>66.66666666666666</td><td>6</td></tr><tr><td>Flat Cat Games</td><td>casualindiesimulationstrategy</td><td>66.66666666666666</td><td>9</td></tr><tr><td>GamesBraz</td><td>actionadventurecasualindiestrategy</td><td>66.66666666666666</td><td>9</td></tr><tr><td>Green Sauce Games</td><td>casualindie</td><td>66.66666666666666</td><td>12</td></tr><tr><td>Interplay Inc.</td><td>action</td><td>66.66666666666666</td><td>12</td></tr><tr><td>Introversion Software</td><td>indiestrategy</td><td>66.66666666666666</td><td>6</td></tr><tr><td>Lingtan Studio</td><td>adventureindie</td><td>66.66666666666666</td><td>6</td></tr><tr><td>Microïds Indie</td><td>adventurecasual</td><td>66.66666666666666</td><td>12</td></tr><tr><td>OnSkull Games</td><td>adventurecasualindie</td><td>66.66666666666666</td><td>9</td></tr><tr><td>Phoenix_co</td><td>adventurecasualindie</td><td>66.66666666666666</td><td>6</td></tr><tr><td>PopCap Games, Inc., Electronic Arts</td><td>casual</td><td>66.66666666666666</td><td>12</td></tr><tr><td>Rusty Lake</td><td>adventureindie</td><td>66.66666666666666</td><td>6</td></tr><tr><td>Sixteen Tons Entertainment</td><td>simulationstrategy</td><td>66.66666666666666</td><td>6</td></tr><tr><td>Studio Goya</td><td>casualindiestrategy</td><td>66.66666666666666</td><td>9</td></tr><tr><td>Tadeusz Lorkowski</td><td>sports</td><td>66.66666666666666</td><td>6</td></tr><tr><td>Valkyria Games</td><td>indierpg</td><td>66.66666666666666</td><td>9</td></tr><tr><td>Walter Machado</td><td>actionindie</td><td>66.66666666666666</td><td>18</td></tr><tr><td>eSolutions Nordic AB</td><td>casualindiestrategy</td><td>66.66666666666666</td><td>12</td></tr><tr><td>小小游戏</td><td>adventurecasualindie</td><td>66.66666666666666</td><td>6</td></tr><tr><td>William at Oxford</td><td>casual</td><td>65.38461538461539</td><td>52</td></tr><tr><td>AFBIK Studio</td><td>adventurecasualindie</td><td>65.0</td><td>20</td></tr><tr><td>Casual Arts</td><td>adventurecasualindie</td><td>65.0</td><td>20</td></tr><tr><td>Apogee Entertainment</td><td>action</td><td>64.28571428571429</td><td>14</td></tr><tr><td>Boom Games</td><td>actionadventurecasualindierpgsimulation</td><td>64.28571428571429</td><td>14</td></tr><tr><td>Educational Games</td><td>casualindie</td><td>64.28571428571429</td><td>14</td></tr><tr><td>Mikołaj Spychał</td><td>adventurecasualindiesimulation</td><td>64.28571428571429</td><td>14</td></tr><tr><td>SEGA, Feral Interactive (Mac), Feral Interactive (Linux)</td><td>strategy</td><td>64.28571428571429</td><td>14</td></tr><tr><td>H2 Interactive Co., Ltd.</td><td>action</td><td>63.63636363636363</td><td>11</td></tr><tr><td>Silver Cow Studio</td><td>adventureindiesimulation</td><td>63.63636363636363</td><td>11</td></tr><tr><td>Triority Interactive Novels</td><td>adventurecasualindie</td><td>63.63636363636363</td><td>11</td></tr><tr><td>Hosted Games</td><td>adventureindierpg</td><td>63.29113924050633</td><td>79</td></tr><tr><td>EGAMER</td><td>actioncasualindie</td><td>63.1578947368421</td><td>19</td></tr><tr><td>Valve</td><td>action</td><td>62.857142857142854</td><td>35</td></tr><tr><td>BufoProject</td><td>casualindiesimulationstrategy</td><td>62.5</td><td>8</td></tr><tr><td>ChangeMe</td><td>actionadventurecasualindieracingsimulationsports</td><td>62.5</td><td>8</td></tr><tr><td>DIGIDICED</td><td>casualindiestrategy</td><td>62.5</td><td>8</td></tr><tr><td>Growfall Games</td><td>casualindie</td><td>62.5</td><td>8</td></tr><tr><td>Indie Games Publisher</td><td>actionadventureindie</td><td>62.5</td><td>8</td></tr><tr><td>PanGuoJun</td><td>casualindiesimulation</td><td>62.5</td><td>8</td></tr><tr><td>Perverse Games</td><td>adventureindierpg</td><td>62.5</td><td>8</td></tr><tr><td>Phoenix Online Publishing</td><td>adventureindie</td><td>62.5</td><td>16</td></tr><tr><td>Robotizar Games</td><td>casual</td><td>62.5</td><td>8</td></tr><tr><td>Sub Orbital Software</td><td>actioncasualindie</td><td>62.5</td><td>8</td></tr><tr><td>Winged Cloud</td><td>simulation</td><td>62.5</td><td>40</td></tr><tr><td>橙光游戏</td><td>adventurecasualindierpgstrategy</td><td>62.06896551724138</td><td>29</td></tr><tr><td>Zoo Corporation</td><td>casual</td><td>61.111111111111114</td><td>36</td></tr><tr><td>Acram Digital</td><td>casualindiestrategy</td><td>60.0</td><td>5</td></tr><tr><td>Ambiera</td><td>simulationstrategy</td><td>60.0</td><td>5</td></tr><tr><td>BANDAI NAMCO Entertainment Europe</td><td>adventure</td><td>60.0</td><td>5</td></tr><tr><td>Bad Kid Games</td><td>casualindie</td><td>60.0</td><td>5</td></tr><tr><td>Beijing Happy Entertainment Technology</td><td>adventurerpg</td><td>60.0</td><td>5</td></tr><tr><td>BlueLine Games</td><td>casualindiestrategy</td><td>60.0</td><td>5</td></tr><tr><td>Childish Things Ltd</td><td>simulationsportsstrategy</td><td>60.0</td><td>5</td></tr><tr><td>ClickGames</td><td>actionindie</td><td>60.0</td><td>5</td></tr><tr><td>Cloak and Dagger Games</td><td>adventure</td><td>60.0</td><td>5</td></tr><tr><td>Cosmi Valusoft</td><td>simulation</td><td>60.0</td><td>20</td></tr><tr><td>Culture Select</td><td>adventurecasualindie</td><td>60.0</td><td>5</td></tr><tr><td>Diggidy.net</td><td>indiesimulation</td><td>60.0</td><td>5</td></tr><tr><td>DrinkBox Studios</td><td>actionadventureindie</td><td>60.0</td><td>5</td></tr><tr><td>Enkian Games</td><td>adventureindie</td><td>60.0</td><td>5</td></tr><tr><td>FarSight Studios</td><td>simulationsports</td><td>60.0</td><td>5</td></tr><tr><td>Flying Star Games</td><td>adventurerpgstrategy</td><td>60.0</td><td>5</td></tr><tr><td>Forever Young Games</td><td>casualindiesimulationsportsstrategy</td><td>60.0</td><td>5</td></tr><tr><td>FurGoldGames</td><td>actionadventureindie</td><td>60.0</td><td>5</td></tr><tr><td>Fürst</td><td>actionadventurecasualindie</td><td>60.0</td><td>5</td></tr><tr><td>GB Patch Games</td><td>casualfree to playindie</td><td>60.0</td><td>5</td></tr><tr><td>GGaming</td><td>adventureindiesimulation</td><td>60.0</td><td>5</td></tr><tr><td>Gales Corp. </td><td>indie</td><td>60.0</td><td>5</td></tr><tr><td>Gaming Factory, Ultimate Games S.A.</td><td>adventurecasualindiesimulation</td><td>60.0</td><td>5</td></tr><tr><td>HIKARI FIELD</td><td>adventurecasual</td><td>60.0</td><td>20</td></tr><tr><td>Heimo Game Studio</td><td>casual</td><td>60.0</td><td>5</td></tr><tr><td>Henteko Doujin</td><td>actionindie</td><td>60.0</td><td>25</td></tr><tr><td>Hot Chill</td><td>casualindie</td><td>60.0</td><td>5</td></tr><tr><td>HugePixel</td><td>actionadventureindie</td><td>60.0</td><td>15</td></tr><tr><td>Intragames</td><td>adventure</td><td>60.0</td><td>5</td></tr><tr><td>InvertMouse</td><td>indie</td><td>60.0</td><td>10</td></tr><tr><td>Ithaqua Labs</td><td>adventureindie</td><td>60.0</td><td>5</td></tr><tr><td>JinDing Chen</td><td>casualindiesimulation</td><td>60.0</td><td>5</td></tr><tr><td>Kool2Play</td><td>indie</td><td>60.0</td><td>5</td></tr><tr><td>Nova's Army</td><td>indie</td><td>60.0</td><td>5</td></tr><tr><td>NovaLogic, THQ Nordic</td><td>action</td><td>60.0</td><td>15</td></tr><tr><td>PROATIV GAMES</td><td>casualindie</td><td>60.0</td><td>15</td></tr><tr><td>Render System</td><td>casualindie</td><td>60.0</td><td>5</td></tr><tr><td>RetroBug</td><td>casual</td><td>60.0</td><td>5</td></tr><tr><td>Roencia Game Creators</td><td>design & illustration</td><td>60.0</td><td>5</td></tr><tr><td>Rosa Special Studio</td><td>adventurecasualindierpg</td><td>60.0</td><td>10</td></tr><tr><td>Screaming Bee</td><td>audio productionutilities</td><td>60.0</td><td>5</td></tr><tr><td>Simple Logic Games</td><td>casual</td><td>60.0</td><td>5</td></tr><tr><td>Skybound Games</td><td>adventure</td><td>60.0</td><td>10</td></tr><tr><td>Soma Games</td><td>adventureindie</td><td>60.0</td><td>5</td></tr><tr><td>Specialbit Studio</td><td>adventurecasualindie</td><td>60.0</td><td>5</td></tr><tr><td>Star Consult S.r.l.</td><td>adventureindiesimulation</td><td>60.0</td><td>5</td></tr><tr><td>Starni Games</td><td>simulationstrategy</td><td>60.0</td><td>5</td></tr><tr><td>Studio Thug Life</td><td>casualindie</td><td>60.0</td><td>5</td></tr><tr><td>SunshineOvercast</td><td>casualindie</td><td>60.0</td><td>5</td></tr><tr><td>TakeThem.Games</td><td>actionadventureindie</td><td>60.0</td><td>5</td></tr><tr><td>Temple Gates Games</td><td>strategy</td><td>60.0</td><td>5</td></tr><tr><td>Tortuga Team</td><td>adventurecasualindierpgstrategy</td><td>60.0</td><td>5</td></tr><tr><td>Ubisoft Entertainment</td><td>actionadventure</td><td>60.0</td><td>5</td></tr><tr><td>Unfinished Pixel</td><td>casualindiesports</td><td>60.0</td><td>5</td></tr><tr><td>Warner Bros. Games, Warner Bros. Interactive Entertainment</td><td>action</td><td>60.0</td><td>5</td></tr><tr><td>XF Game</td><td>casualearly accessindie</td><td>60.0</td><td>5</td></tr><tr><td>武汉幻狮科技有限公司</td><td>indiestrategy</td><td>60.0</td><td>5</td></tr><tr><td>Choice of Games</td><td>adventureindierpg</td><td>59.71223021582733</td><td>139</td></tr><tr><td>NS</td><td>actionindie</td><td>58.82352941176471</td><td>17</td></tr><tr><td>Reforged Group</td><td>indie</td><td>58.42696629213483</td><td>89</td></tr><tr><td>CAPCOM Co., Ltd.</td><td>action</td><td>58.333333333333336</td><td>24</td></tr><tr><td>Clouded Leopard Entertainment</td><td>rpg</td><td>58.333333333333336</td><td>12</td></tr><tr><td>HUNTERS</td><td>action</td><td>58.333333333333336</td><td>12</td></tr><tr><td>Jackbox Games, Inc.</td><td>casualindie</td><td>58.333333333333336</td><td>24</td></tr><tr><td>Spike Chunsoft Co., Ltd.</td><td>adventure</td><td>57.57575757575758</td><td>33</td></tr><tr><td>BJGameInd</td><td>indie</td><td>57.14285714285714</td><td>7</td></tr><tr><td>Cloaz Studio</td><td>adventurecasualindierpg</td><td>57.14285714285714</td><td>7</td></tr><tr><td>Deceptive Games Ltd.</td><td>actionadventureindie</td><td>57.14285714285714</td><td>7</td></tr><tr><td>Devdan Games</td><td>actionadventurecasualindie</td><td>57.14285714285714</td><td>7</td></tr><tr><td>Emblematic Group</td><td>free to playindiesimulation</td><td>57.14285714285714</td><td>7</td></tr><tr><td>Hamsters Gaming</td><td>indiesimulationstrategy</td><td>57.14285714285714</td><td>7</td></tr><tr><td>Kavkaz Sila Games</td><td>simulation</td><td>57.14285714285714</td><td>14</td></tr><tr><td>Khud0</td><td>actionindie</td><td>57.14285714285714</td><td>7</td></tr><tr><td>Laush Studio</td><td>casualindie</td><td>57.14285714285714</td><td>126</td></tr><tr><td>M9 Games</td><td>adventurecasualindie</td><td>57.14285714285714</td><td>7</td></tr><tr><td>Mikhail Melnikov</td><td>casualindie</td><td>57.14285714285714</td><td>7</td></tr><tr><td>Mismatch Studio</td><td>casualindie</td><td>57.14285714285714</td><td>7</td></tr><tr><td>MobileFusion Apps Ltd</td><td>casual</td><td>57.14285714285714</td><td>7</td></tr><tr><td>Music Breath</td><td>audio productionutilities</td><td>57.14285714285714</td><td>14</td></tr><tr><td>Paul Connor</td><td>actioncasual</td><td>57.14285714285714</td><td>14</td></tr><tr><td>RandomSpin</td><td>casual</td><td>57.14285714285714</td><td>7</td></tr><tr><td>Revolution Software Ltd</td><td>adventure</td><td>57.14285714285714</td><td>7</td></tr><tr><td>RhinoGearz</td><td>casualindiesimulation</td><td>57.14285714285714</td><td>7</td></tr><tr><td>SimBin</td><td>racing</td><td>57.14285714285714</td><td>7</td></tr><tr><td>XSEED Games, Marvelous USA, Inc., Marvelous</td><td>action</td><td>57.14285714285714</td><td>21</td></tr><tr><td>YAW Studios</td><td>casualindie</td><td>57.14285714285714</td><td>14</td></tr><tr><td>PlayFirst</td><td>casual</td><td>56.25</td><td>16</td></tr><tr><td>Zachtronics</td><td>indiesimulation</td><td>56.25</td><td>16</td></tr><tr><td>Cronostase</td><td>casualindie</td><td>55.55555555555556</td><td>9</td></tr><tr><td>EntwicklerX</td><td>actioncasualindie</td><td>55.55555555555556</td><td>9</td></tr><tr><td>GFI</td><td>adventurecasual</td><td>55.55555555555556</td><td>9</td></tr><tr><td>Mykhail Konokh</td><td>actionindie</td><td>55.55555555555556</td><td>9</td></tr><tr><td>iWin</td><td>casual</td><td>55.55555555555556</td><td>18</td></tr><tr><td>rondomedia GmbH</td><td>simulation</td><td>55.55555555555556</td><td>9</td></tr><tr><td>3dm_live_wallpapers</td><td>design & illustrationutilities</td><td>54.54545454545454</td><td>11</td></tr><tr><td>Blowfish Studios</td><td>actionadventureindie</td><td>54.54545454545454</td><td>11</td></tr><tr><td>Eversim</td><td>simulationstrategy</td><td>54.54545454545454</td><td>11</td></tr><tr><td>My Label Game Studio</td><td>casualindie</td><td>54.54545454545454</td><td>22</td></tr><tr><td>SOFTSTAR ENTERTAINMENT</td><td>rpg</td><td>54.54545454545454</td><td>22</td></tr><tr><td>Vidas Salavejus</td><td>indie</td><td>54.54545454545454</td><td>11</td></tr><tr><td>Yai Gameworks</td><td>adventureindie</td><td>54.54545454545454</td><td>11</td></tr><tr><td>Ghostlight LTD</td><td>adventurerpgstrategy</td><td>53.84615384615385</td><td>13</td></tr><tr><td>INTI CREATES CO., LTD.</td><td>action</td><td>53.84615384615385</td><td>13</td></tr><tr><td>NVLMaker</td><td>adventurecasualindie</td><td>53.84615384615385</td><td>13</td></tr><tr><td>Phr00t's Software</td><td>actionindierpg</td><td>53.84615384615385</td><td>13</td></tr><tr><td>Retroism</td><td>simulation</td><td>53.84615384615385</td><td>13</td></tr><tr><td>Boomzap Inc</td><td>casual</td><td>53.333333333333336</td><td>15</td></tr><tr><td>L. Stotch</td><td>casualfree to playindie</td><td>53.333333333333336</td><td>15</td></tr><tr><td>Andy Jurko</td><td>casualindiestrategy</td><td>52.94117647058824</td><td>17</td></tr><tr><td>HotFoodGames</td><td>indie</td><td>52.94117647058824</td><td>17</td></tr><tr><td>upjers</td><td>casualfree to playsimulation</td><td>52.63157894736842</td><td>19</td></tr><tr><td>RunServer</td><td>casualindie</td><td>52.38095238095239</td><td>21</td></tr><tr><td>familyplay</td><td>casual</td><td>51.35135135135135</td><td>37</td></tr><tr><td>Kagura Games</td><td>indierpg</td><td>50.63291139240506</td><td>79</td></tr><tr><td>AZAMATIKA</td><td>casualindie</td><td>50.0</td><td>6</td></tr><tr><td>Adam DeLease</td><td>actionadventureindie</td><td>50.0</td><td>6</td></tr><tr><td>Alcedo Games</td><td>casualindie</td><td>50.0</td><td>6</td></tr><tr><td>Anawiki Games</td><td>casualindie</td><td>50.0</td><td>6</td></tr><tr><td>Application Systems Heidelberg</td><td>adventureindie</td><td>50.0</td><td>14</td></tr><tr><td>Argent Games</td><td>casual</td><td>50.0</td><td>8</td></tr><tr><td>BattleGoat Studios</td><td>indiesimulationstrategy</td><td>50.0</td><td>6</td></tr><tr><td>Bitten Toast Games Inc.</td><td>actionindie</td><td>50.0</td><td>6</td></tr><tr><td>Bonus Stage Publishing</td><td>actionadventureindie</td><td>50.0</td><td>6</td></tr><tr><td>BottleCube inc.</td><td>casualsimulation</td><td>50.0</td><td>6</td></tr><tr><td>Cateia Games</td><td>adventurecasualindie</td><td>50.0</td><td>14</td></tr><tr><td>Cosmocat</td><td>actionadventureindie</td><td>50.0</td><td>6</td></tr><tr><td>D.W.S.</td><td>actionindie</td><td>50.0</td><td>6</td></tr><tr><td>D1ONE</td><td>casual</td><td>50.0</td><td>6</td></tr><tr><td>Daisy Games</td><td>adventure</td><td>50.0</td><td>6</td></tr><tr><td>Deep Silver, CyberLink</td><td>audio productiondesign & illustrationutilitiesvideo productionweb publishing</td><td>50.0</td><td>6</td></tr><tr><td>Dexter Studios</td><td>casualindie</td><td>50.0</td><td>6</td></tr><tr><td>DigitalEZ</td><td>adventurecasualindie</td><td>50.0</td><td>6</td></tr><tr><td>DreamsSoftGames</td><td>actioncasualindie</td><td>50.0</td><td>6</td></tr><tr><td>Dymchick1</td><td>actionadventureindie</td><td>50.0</td><td>8</td></tr><tr><td>Eugen Systems</td><td>indiesimulationstrategy</td><td>50.0</td><td>6</td></tr><tr><td>FeelThere</td><td>indiesimulation</td><td>50.0</td><td>6</td></tr><tr><td>Fireproof Games</td><td>adventureindie</td><td>50.0</td><td>6</td></tr><tr><td>Flying Islands Team</td><td>actionindie</td><td>50.0</td><td>6</td></tr><tr><td>FreezeNova.Games</td><td>actionindie</td><td>50.0</td><td>18</td></tr><tr><td>Funny Twins</td><td>actioncasualindiesimulation</td><td>50.0</td><td>8</td></tr><tr><td>GTGD</td><td>educationsoftware training</td><td>50.0</td><td>6</td></tr><tr><td>Game-Labs</td><td>indiesimulationstrategy</td><td>50.0</td><td>6</td></tr><tr><td>Gemini Stars Games</td><td>rpgstrategy</td><td>50.0</td><td>6</td></tr><tr><td>Gunnar Games</td><td>casual</td><td>50.0</td><td>6</td></tr><tr><td>Hook Games</td><td>casualindiestrategy</td><td>50.0</td><td>8</td></tr><tr><td>Ironhide Game Studio</td><td>strategy</td><td>50.0</td><td>6</td></tr><tr><td>Joshua Keith</td><td>casualindierpg</td><td>50.0</td><td>8</td></tr><tr><td>KIMIDORI SOFT</td><td>actionadventurecasualindie</td><td>50.0</td><td>8</td></tr><tr><td>LU QI</td><td>adventureindierpg</td><td>50.0</td><td>6</td></tr><tr><td>Little Black Book Entertainment</td><td>casualindie</td><td>50.0</td><td>12</td></tr><tr><td>Ma Ma Software</td><td>casual</td><td>50.0</td><td>6</td></tr><tr><td>Mind Body Aware Games LLC</td><td>casualfree to playsimulation</td><td>50.0</td><td>6</td></tr><tr><td>NLB project</td><td>adventureindie</td><td>50.0</td><td>8</td></tr><tr><td>Nekomura Games</td><td>casualsimulation</td><td>50.0</td><td>6</td></tr><tr><td>Neoclassic Games</td><td>casualindie</td><td>50.0</td><td>6</td></tr><tr><td>Nicholas Rizzo</td><td>actionindiestrategy</td><td>50.0</td><td>6</td></tr><tr><td>Nyu Media</td><td>actionindie</td><td>50.0</td><td>6</td></tr><tr><td>Octavi Navarro</td><td>adventureindie</td><td>50.0</td><td>6</td></tr><tr><td>Ominous Entertainment</td><td>actionindie</td><td>50.0</td><td>8</td></tr><tr><td>OtakuMaker.com</td><td>actionadventurecasualindiestrategy</td><td>50.0</td><td>6</td></tr><tr><td>Paleno Games</td><td>casualindie</td><td>50.0</td><td>6</td></tr><tr><td>ROSEVERTE</td><td>adventurecasualindiesimulation</td><td>50.0</td><td>12</td></tr><tr><td>Renegade Sector Games</td><td>actionindie</td><td>50.0</td><td>12</td></tr><tr><td>Revmatek</td><td>actionadventurecasualindiesimulation</td><td>50.0</td><td>12</td></tr><tr><td>Rockstar Games</td><td>action</td><td>50.0</td><td>18</td></tr><tr><td>Russpuppy</td><td>actioncasualindie</td><td>50.0</td><td>8</td></tr><tr><td>SEEP</td><td>actionadventureindie</td><td>50.0</td><td>12</td></tr><tr><td>SEKTOR GAMES</td><td>casualindiestrategy</td><td>50.0</td><td>6</td></tr><tr><td>Saibot Studios</td><td>actionadventureindie</td><td>50.0</td><td>6</td></tr><tr><td>Shaman Games Studio</td><td>casual</td><td>50.0</td><td>14</td></tr><tr><td>Shiravune</td><td>adventure</td><td>50.0</td><td>18</td></tr><tr><td>Siberian Mouse</td><td>adventurecasualindie</td><td>50.0</td><td>10</td></tr><tr><td>Simon Says: Play!</td><td>adventureindie</td><td>50.0</td><td>6</td></tr><tr><td>Skunkape Games</td><td>adventure</td><td>50.0</td><td>16</td></tr><tr><td>SosiskaGames</td><td>indie</td><td>50.0</td><td>16</td></tr><tr><td>Sprovieri Games</td><td>casual</td><td>50.0</td><td>12</td></tr><tr><td>Strategic Designs Ltd.</td><td>simulationsportsstrategy</td><td>50.0</td><td>6</td></tr><tr><td>Sweet Games</td><td>actionadventurecasualindierpgsimulation</td><td>50.0</td><td>12</td></tr><tr><td>Tamashii</td><td>actioncasualindie</td><td>50.0</td><td>16</td></tr><tr><td>Thylacine Studios LLC</td><td>indierpg</td><td>50.0</td><td>6</td></tr><tr><td>Tin Man Games</td><td>adventureindierpg</td><td>50.0</td><td>14</td></tr><tr><td>Tricol Co., Ltd.</td><td>actioncasualindiesimulation</td><td>50.0</td><td>8</td></tr><tr><td>Vergiu</td><td>casualindie</td><td>50.0</td><td>6</td></tr><tr><td>VirtexUniverse</td><td>casualindie</td><td>50.0</td><td>6</td></tr><tr><td>Zojoi</td><td>adventure</td><td>50.0</td><td>8</td></tr><tr><td>bitComposer Interactive GmbH</td><td>casualindiesimulation</td><td>50.0</td><td>8</td></tr><tr><td>nonPareil Institute</td><td>actionindie</td><td>50.0</td><td>6</td></tr><tr><td>杰游科技</td><td>actionadventureindie</td><td>50.0</td><td>18</td></tr><tr><td>橘喵喵</td><td>casualindiesimulation</td><td>50.0</td><td>6</td></tr><tr><td>Bethesda Softworks</td><td>action</td><td>49.056603773584904</td><td>53</td></tr><tr><td>Capcom</td><td>actionadventure</td><td>48.57142857142857</td><td>35</td></tr><tr><td>W.T.B.</td><td>casualindie</td><td>47.82608695652174</td><td>23</td></tr><tr><td>ImperiumGame</td><td>indie</td><td>47.72727272727273</td><td>44</td></tr><tr><td>D3PUBLISHER</td><td>action</td><td>47.05882352941176</td><td>17</td></tr><tr><td>Ravenscourt</td><td>adventure</td><td>47.05882352941176</td><td>17</td></tr><tr><td>Slitherine Ltd.</td><td>strategy</td><td>46.93877551020408</td><td>98</td></tr><tr><td>Alawar Entertainment</td><td>adventurecasualindie</td><td>46.728971962616825</td><td>107</td></tr><tr><td>cBlck</td><td>casualindie</td><td>46.666666666666664</td><td>15</td></tr><tr><td>Tripwire Interactive</td><td>action</td><td>46.15384615384615</td><td>13</td></tr><tr><td>Piko Interactive LLC, Bleem!</td><td>actionadventure</td><td>45.714285714285715</td><td>35</td></tr><tr><td>Half-Face Games</td><td>casualindie</td><td>45.45454545454545</td><td>11</td></tr><tr><td>Morning Shift Studios</td><td>adventurecasualindie</td><td>45.45454545454545</td><td>11</td></tr><tr><td>Rising Moon Games</td><td>actioncasualindie</td><td>45.45454545454545</td><td>11</td></tr><tr><td>SVGames</td><td>adventureindie</td><td>45.45454545454545</td><td>11</td></tr><tr><td>Senpai Studios</td><td>actionadventureindierpg</td><td>45.45454545454545</td><td>22</td></tr><tr><td>Warfare Studios</td><td>adventurecasualindierpgstrategy</td><td>45.45454545454545</td><td>22</td></tr><tr><td>Xitilon</td><td>actionindie</td><td>45.45454545454545</td><td>11</td></tr><tr><td>All in! Games</td><td>actionindie</td><td>44.44444444444444</td><td>9</td></tr><tr><td>AnelaGamesStudio</td><td>actioncasualindie</td><td>44.44444444444444</td><td>9</td></tr><tr><td>Axis Games</td><td>indiesimulationsportsstrategy</td><td>44.44444444444444</td><td>9</td></tr><tr><td>Chorus Worldwide Games</td><td>actionindie</td><td>44.44444444444444</td><td>9</td></tr><tr><td>Dracula's Cave</td><td>actionadventureindie</td><td>44.44444444444444</td><td>9</td></tr><tr><td>Eastasiasoft Limited</td><td>actionindie</td><td>44.44444444444444</td><td>9</td></tr><tr><td>GDNomaD</td><td>actionadventureindie</td><td>44.44444444444444</td><td>9</td></tr><tr><td>H.P.Y.S,LLC</td><td>actionadventureindierpg</td><td>44.44444444444444</td><td>9</td></tr><tr><td>Lucasfilm, Disney</td><td>adventure</td><td>44.44444444444444</td><td>9</td></tr><tr><td>LunarCore Games</td><td>actionindie</td><td>44.44444444444444</td><td>9</td></tr><tr><td>Matthew Brown</td><td>casualindiestrategy</td><td>44.44444444444444</td><td>9</td></tr><tr><td>Mindware Co.,Ltd.</td><td>actionindie</td><td>44.44444444444444</td><td>9</td></tr><tr><td>Phoenix Reborn Games</td><td>actionindie</td><td>44.44444444444444</td><td>9</td></tr><tr><td>Spiderweb Software</td><td>indierpgstrategy</td><td>44.44444444444444</td><td>18</td></tr><tr><td>qureate</td><td>adventureindie</td><td>44.44444444444444</td><td>9</td></tr><tr><td>Quarlellle</td><td>adventurecasualindie</td><td>44.0</td><td>25</td></tr><tr><td>Starship Studio</td><td>adventurecasualindierpgsimulationstrategy</td><td>43.75</td><td>16</td></tr><tr><td>Paradise Project</td><td>adventureindierpg</td><td>43.47826086956522</td><td>23</td></tr><tr><td>Deep Silver</td><td>action</td><td>43.24324324324324</td><td>37</td></tr><tr><td>Disney</td><td>actionadventure</td><td>43.24324324324324</td><td>37</td></tr><tr><td>2tainment GmbH</td><td>simulationsportsstrategy</td><td>42.857142857142854</td><td>7</td></tr><tr><td>90E GAMES</td><td>actioncasualindiesimulationstrategy</td><td>42.857142857142854</td><td>7</td></tr><tr><td>Chilled Mouse</td><td>casual</td><td>42.857142857142854</td><td>7</td></tr><tr><td>Choice Provisions</td><td>actionindie</td><td>42.857142857142854</td><td>7</td></tr><tr><td>Digital Fusion Inc.</td><td>actioncasualsimulation</td><td>42.857142857142854</td><td>7</td></tr><tr><td>Dire Wolf</td><td>casualindiestrategy</td><td>42.857142857142854</td><td>7</td></tr><tr><td>EnsenaSoft</td><td>casual</td><td>42.857142857142854</td><td>35</td></tr><tr><td>Frontier Developments</td><td>simulationstrategy</td><td>42.857142857142854</td><td>7</td></tr><tr><td>Giiku Games</td><td>adventurecasualindierpg</td><td>42.857142857142854</td><td>7</td></tr><tr><td>Gravity Interactive</td><td>free to playmassively multiplayerrpg</td><td>42.857142857142854</td><td>7</td></tr><tr><td>Heart's Choice</td><td>adventurecasualindierpg</td><td>42.857142857142854</td><td>7</td></tr><tr><td>IndigoWare</td><td>casualindie</td><td>42.857142857142854</td><td>7</td></tr><tr><td>Individual Software</td><td>software training</td><td>42.857142857142854</td><td>49</td></tr><tr><td>Ironcode Gaming</td><td>casual</td><td>42.857142857142854</td><td>7</td></tr><tr><td>JustE Publishing</td><td>indie</td><td>42.857142857142854</td><td>7</td></tr><tr><td>KuKo</td><td>adventure</td><td>42.857142857142854</td><td>14</td></tr><tr><td>Landfall</td><td>actionindie</td><td>42.857142857142854</td><td>7</td></tr><tr><td>LeonWaan Games</td><td>casualindierpgsimulationstrategy</td><td>42.857142857142854</td><td>7</td></tr><tr><td>Mode 7</td><td>indiestrategy</td><td>42.857142857142854</td><td>7</td></tr><tr><td>Notovia</td><td>indie</td><td>42.857142857142854</td><td>7</td></tr><tr><td>Opala Project</td><td>casual</td><td>42.857142857142854</td><td>7</td></tr><tr><td>Paul Schneider</td><td>actionadventureindie</td><td>42.857142857142854</td><td>7</td></tr><tr><td>Proximity Games</td><td>adventureindie</td><td>42.857142857142854</td><td>7</td></tr><tr><td>SC Jogos</td><td>casualindieracing</td><td>42.857142857142854</td><td>14</td></tr><tr><td>Sensen Games</td><td>actioncasualindie</td><td>42.857142857142854</td><td>7</td></tr><tr><td>Snkl Studio</td><td>casualindie</td><td>42.857142857142854</td><td>28</td></tr><tr><td>Softwaves Dist.</td><td>casualindiesimulationstrategy</td><td>42.857142857142854</td><td>7</td></tr><tr><td>Techland Publishing</td><td>action</td><td>42.857142857142854</td><td>7</td></tr><tr><td>TurnVex</td><td>actionadventureindie</td><td>42.857142857142854</td><td>7</td></tr><tr><td>inkle Ltd</td><td>adventureindierpg</td><td>42.857142857142854</td><td>7</td></tr><tr><td>rokaplay</td><td>casual</td><td>42.857142857142854</td><td>7</td></tr><tr><td>Anamik Majumdar</td><td>adventurecasualindie</td><td>42.5</td><td>40</td></tr><tr><td>HH-Games</td><td>casual</td><td>42.42424242424242</td><td>132</td></tr><tr><td>3D Realms (Apogee Software)</td><td>actionadventure</td><td>42.10526315789473</td><td>19</td></tr><tr><td>Astero</td><td>actionadventureindie</td><td>41.66666666666667</td><td>12</td></tr><tr><td>LoadUpGames.com</td><td>casual</td><td>41.66666666666667</td><td>12</td></tr><tr><td>LucasArts, Lucasfilm, Disney</td><td>action</td><td>41.37931034482759</td><td>29</td></tr><tr><td>Chilla's Art</td><td>actionadventurecasualindiesimulationstrategy</td><td>41.17647058823529</td><td>17</td></tr><tr><td>DigiPen Institute of Technology</td><td>actionfree to play</td><td>41.17647058823529</td><td>34</td></tr><tr><td>SNEG</td><td>actionrpg</td><td>41.17647058823529</td><td>17</td></tr><tr><td>3D Realms</td><td>actionindie</td><td>40.0</td><td>5</td></tr><tr><td>616 GAMES</td><td>actionadventureindie</td><td>40.0</td><td>5</td></tr><tr><td>Aegon Games Ltd</td><td>adventureindie</td><td>40.0</td><td>5</td></tr><tr><td>Akella</td><td>adventure</td><td>40.0</td><td>10</td></tr><tr><td>Alawar Entertainment, ESDigital Games</td><td>casualsimulationstrategy</td><td>40.0</td><td>5</td></tr><tr><td>AlekseyN</td><td>actionadventurecasualsimulation</td><td>40.0</td><td>5</td></tr><tr><td>Angel And Demons</td><td>rpg</td><td>40.0</td><td>5</td></tr><tr><td>Artalasky</td><td>actionadventurecasualindie</td><td>40.0</td><td>5</td></tr><tr><td>Avalon Digital</td><td>simulationstrategy</td><td>40.0</td><td>15</td></tr><tr><td>Axel Sonic</td><td>adventurecasualindie</td><td>40.0</td><td>5</td></tr><tr><td>BVRgames</td><td>casualindierpgsimulationstrategy</td><td>40.0</td><td>5</td></tr><tr><td>Behaviour Interactive Inc.</td><td>action</td><td>40.0</td><td>5</td></tr><tr><td>Bellcat Game</td><td>actionindiesimulation</td><td>40.0</td><td>5</td></tr><tr><td>Big Ant Studios</td><td>sports</td><td>40.0</td><td>10</td></tr><tr><td>Bit Planet Games, LLC</td><td>actionindiesimulation</td><td>40.0</td><td>5</td></tr><tr><td>Black Phoenix Studio</td><td>casualindiestrategy</td><td>40.0</td><td>10</td></tr><tr><td>Blazing Planet Studio</td><td>adventurecasualindierpgsimulation</td><td>40.0</td><td>5</td></tr><tr><td>Blue Entropy Studios</td><td>adventurecasualindie</td><td>40.0</td><td>5</td></tr><tr><td>Broken Rules</td><td>actionindie</td><td>40.0</td><td>5</td></tr><tr><td>CBC Games</td><td>actionadventurecasualindie</td><td>40.0</td><td>5</td></tr><tr><td>COLOPL, Inc.</td><td>action</td><td>40.0</td><td>5</td></tr><tr><td>Cartoon Network Games</td><td>actionadventure</td><td>40.0</td><td>5</td></tr><tr><td>Clockwork Wolf</td><td>actionindiestrategy</td><td>40.0</td><td>5</td></tr><tr><td>Cornutopia Software</td><td>casualindiesportsstrategy</td><td>40.0</td><td>5</td></tr><tr><td>Corrosive Studios LLC</td><td>actionadventureindierpgsimulationstrategy</td><td>40.0</td><td>5</td></tr><tr><td>Creepy Brothers</td><td>adventureindie</td><td>40.0</td><td>5</td></tr><tr><td>Crytek</td><td>action</td><td>40.0</td><td>5</td></tr><tr><td>David Szymanski</td><td>adventureindie</td><td>40.0</td><td>5</td></tr><tr><td>Digital Eel</td><td>casualindie</td><td>40.0</td><td>5</td></tr><tr><td>Digital Leisure Inc.</td><td>actionadventurecasual</td><td>40.0</td><td>5</td></tr><tr><td>Double Eleven</td><td>action</td><td>40.0</td><td>5</td></tr><tr><td>Eclipse Games</td><td>indieracingsports</td><td>40.0</td><td>5</td></tr><tr><td>Euphoric Brothers</td><td>actionadventurecasualindie</td><td>40.0</td><td>5</td></tr><tr><td>Evil Bunneh</td><td>actioncasualindie</td><td>40.0</td><td>5</td></tr><tr><td>Extreme Games</td><td>actionadventureindiesimulation</td><td>40.0</td><td>5</td></tr><tr><td>Far Few Giants</td><td>adventurecasualfree to playindie</td><td>40.0</td><td>5</td></tr><tr><td>Feardemic</td><td>actionadventureindie</td><td>40.0</td><td>5</td></tr><tr><td>Floor Chicken</td><td>actionadventurecasualindiesimulation</td><td>40.0</td><td>5</td></tr><tr><td>Flynn's Arcade</td><td>actionindie</td><td>40.0</td><td>5</td></tr><tr><td>FobTi interactive</td><td>actionindie</td><td>40.0</td><td>10</td></tr><tr><td>Forceight</td><td>actioncasualindiesimulation</td><td>40.0</td><td>5</td></tr><tr><td>FreeAnimals_Software</td><td>actionadventurecasualindie</td><td>40.0</td><td>5</td></tr><tr><td>From Soy Sauce LLC</td><td>actionindie</td><td>40.0</td><td>5</td></tr><tr><td>Frosted Wings Studio</td><td>actionindierpg</td><td>40.0</td><td>5</td></tr><tr><td>Funktronic Labs</td><td>actionadventureindiestrategy</td><td>40.0</td><td>5</td></tr><tr><td>Gameforge 4D GmbH</td><td>actionadventurefree to playmassively multiplayerrpg</td><td>40.0</td><td>5</td></tr><tr><td>Gamera Games, YLS Program</td><td>adventurecasualindie</td><td>40.0</td><td>5</td></tr><tr><td>GoldenGod Games</td><td>casualindierpgstrategy</td><td>40.0</td><td>5</td></tr><tr><td>GraphXGames</td><td>casualindiestrategy</td><td>40.0</td><td>5</td></tr><tr><td>Graverobber Foundation</td><td>adventureindierpg</td><td>40.0</td><td>5</td></tr><tr><td>Green Lava Studios</td><td>actionindie</td><td>40.0</td><td>5</td></tr><tr><td>GungHo Online Entertainment America, Inc.</td><td>adventurerpg</td><td>40.0</td><td>5</td></tr><tr><td>Happy Max</td><td>casualrpgsimulationstrategy</td><td>40.0</td><td>5</td></tr><tr><td>HappyGames</td><td>casualindie</td><td>40.0</td><td>5</td></tr><tr><td>Headup, WhisperGames</td><td>adventureindie</td><td>40.0</td><td>5</td></tr><tr><td>Hi-Rez Studios</td><td>actionfree to play</td><td>40.0</td><td>5</td></tr><tr><td>Hound Picked Games</td><td>actionadventureindie</td><td>40.0</td><td>5</td></tr><tr><td>INSIDE SYSTEM</td><td>actionadventurecasualindie</td><td>40.0</td><td>5</td></tr><tr><td>IPACS</td><td>indiesimulation</td><td>40.0</td><td>5</td></tr><tr><td>ImagineGame</td><td>actionadventurecasualearly accessindiemassively multiplayerracingrpgsimulationsports</td><td>40.0</td><td>5</td></tr><tr><td>Infinite Dreams</td><td>actionindie</td><td>40.0</td><td>5</td></tr><tr><td>Inverse Game</td><td>adventurecasualrpgstrategy</td><td>40.0</td><td>5</td></tr><tr><td>Invictus Games Ltd.</td><td>actionindie</td><td>40.0</td><td>5</td></tr><tr><td>Jakub Klementewicz</td><td>actionadventuresimulation</td><td>40.0</td><td>5</td></tr><tr><td>KHB-Soft</td><td>actioncasualindie</td><td>40.0</td><td>5</td></tr><tr><td>Larsonsoft</td><td>adventureindie</td><td>40.0</td><td>5</td></tr><tr><td>Legend Studio</td><td>actionadventureindie</td><td>40.0</td><td>5</td></tr><tr><td>Leonardo Alexandrino</td><td>actionadventureindierpg</td><td>40.0</td><td>5</td></tr><tr><td>Lghghre GAME</td><td>casual</td><td>40.0</td><td>5</td></tr><tr><td>Liu Lidan</td><td>casualindiesimulation</td><td>40.0</td><td>5</td></tr><tr><td>Lock 'n Load Publishing</td><td>early accessindiesimulationstrategy</td><td>40.0</td><td>5</td></tr><tr><td>MAMMOSSIX Co., Ltd.</td><td>actionadventureindie</td><td>40.0</td><td>5</td></tr><tr><td>Maciej Targoni</td><td>casual</td><td>40.0</td><td>5</td></tr><tr><td>Mana Games</td><td>simulationsports</td><td>40.0</td><td>5</td></tr><tr><td>Marmalade Game Studio Ltd</td><td>casualstrategy</td><td>40.0</td><td>5</td></tr><tr><td>Minicactus Games</td><td>casual</td><td>40.0</td><td>10</td></tr><tr><td>Monkey Face Software LLC</td><td>indieracingsimulation</td><td>40.0</td><td>5</td></tr><tr><td>MoonlightGames</td><td>actionindiestrategy</td><td>40.0</td><td>10</td></tr><tr><td>MumboJumbo</td><td>casual</td><td>40.0</td><td>35</td></tr><tr><td>Muse Games</td><td>actionadventureindiesimulation</td><td>40.0</td><td>5</td></tr><tr><td>Mykel Flynn</td><td>casualindiesimulationstrategy</td><td>40.0</td><td>5</td></tr><tr><td>N P  GAMES</td><td>casual</td><td>40.0</td><td>5</td></tr><tr><td>NAISU</td><td>actioncasualindie</td><td>40.0</td><td>5</td></tr><tr><td>Nival</td><td>strategy</td><td>40.0</td><td>10</td></tr><tr><td>ODBear Studios</td><td>adventurecasual</td><td>40.0</td><td>5</td></tr><tr><td>Oddscure</td><td>indie</td><td>40.0</td><td>5</td></tr><tr><td>Oh, a Rock! Studios</td><td>adventurecasualindie</td><td>40.0</td><td>10</td></tr><tr><td>Overaction Game Studio</td><td>casualindierpgsimulationstrategy</td><td>40.0</td><td>5</td></tr><tr><td>PGN Games</td><td>actioncasualindie</td><td>40.0</td><td>5</td></tr><tr><td>PS Games</td><td>adventureindie</td><td>40.0</td><td>5</td></tr><tr><td>Panda Indie Studio</td><td>actionadventurecasualindie</td><td>40.0</td><td>5</td></tr><tr><td>Pinhead Games</td><td>adventurecasual</td><td>40.0</td><td>5</td></tr><tr><td>Play Publishing</td><td>actionracingsimulation</td><td>40.0</td><td>5</td></tr><tr><td>Playdek, Inc.</td><td>strategy</td><td>40.0</td><td>5</td></tr><tr><td>Playito.com</td><td>actioncasualindie</td><td>40.0</td><td>5</td></tr><tr><td>Prime Matter</td><td>action</td><td>40.0</td><td>15</td></tr><tr><td>QZQ Studio</td><td>indie</td><td>40.0</td><td>5</td></tr><tr><td>Rabbiton</td><td>adventurecasualindie</td><td>40.0</td><td>5</td></tr><tr><td>Rainbow Games</td><td>casualstrategy</td><td>40.0</td><td>10</td></tr><tr><td>RedFox Games</td><td>free to playmassively multiplayerrpg</td><td>40.0</td><td>5</td></tr><tr><td>Rogueside</td><td>actionadventure</td><td>40.0</td><td>5</td></tr><tr><td>Room710Games</td><td>actionadventuremassively multiplayer</td><td>40.0</td><td>5</td></tr><tr><td>Roppy Chop Studios</td><td>actioncasualindie</td><td>40.0</td><td>5</td></tr><tr><td>Salsawi Games</td><td>actionindiestrategy</td><td>40.0</td><td>5</td></tr><tr><td>Samurai Punk</td><td>actionindie</td><td>40.0</td><td>5</td></tr><tr><td>Secret Labo</td><td>casualindie</td><td>40.0</td><td>5</td></tr><tr><td>Serious Games Interactive</td><td>adventurecasualindie</td><td>40.0</td><td>5</td></tr><tr><td>Sheer Studios</td><td>actionadventurecasualindiestrategy</td><td>40.0</td><td>5</td></tr><tr><td>Sinned Games</td><td>actionindie</td><td>40.0</td><td>10</td></tr><tr><td>Snowbird Games</td><td>indierpgstrategy</td><td>40.0</td><td>5</td></tr><tr><td>Stardock</td><td>utilities</td><td>40.0</td><td>10</td></tr><tr><td>Starmops</td><td>actionadventureindie</td><td>40.0</td><td>5</td></tr><tr><td>Starwind Games</td><td>casualindiestrategy</td><td>40.0</td><td>5</td></tr><tr><td>Stray Fawn Studio, WhisperGames</td><td>actionindiesimulation</td><td>40.0</td><td>5</td></tr><tr><td>Subdream Studios</td><td>action</td><td>40.0</td><td>5</td></tr><tr><td>Surefire.Games</td><td>actionadventureindierpg</td><td>40.0</td><td>5</td></tr><tr><td>TERNOX</td><td>actionadventureindie</td><td>40.0</td><td>5</td></tr><tr><td>TOMATOVR</td><td>actioncasualindie</td><td>40.0</td><td>5</td></tr><tr><td>Team17 Digital</td><td>actionindie</td><td>40.0</td><td>5</td></tr><tr><td>ToastieLabs</td><td>casualfree to playindie</td><td>40.0</td><td>5</td></tr><tr><td>Toge Productions</td><td>adventurecasualindie</td><td>40.0</td><td>10</td></tr><tr><td>Top Hat Curios & Oddities</td><td>casualindiesimulation</td><td>40.0</td><td>5</td></tr><tr><td>Tort</td><td>indie</td><td>40.0</td><td>5</td></tr><tr><td>TreeFall Studios L.L.C.</td><td>adventurecasualindie</td><td>40.0</td><td>5</td></tr><tr><td>Unimatrix Productions</td><td>adventureindie</td><td>40.0</td><td>5</td></tr><tr><td>Unknown Worlds Entertainment</td><td>adventureindie</td><td>40.0</td><td>5</td></tr><tr><td>Vaka Game Magazine</td><td>adventureindierpg</td><td>40.0</td><td>10</td></tr><tr><td>Vicente Rosell Roig</td><td>actionadventure</td><td>40.0</td><td>5</td></tr><tr><td>Vladislav Castillo Gonzalez</td><td>actionadventureindie</td><td>40.0</td><td>5</td></tr><tr><td>Vysoko Anime Production</td><td>adventureindie</td><td>40.0</td><td>5</td></tr><tr><td>WB Games</td><td>actionadventurerpg</td><td>40.0</td><td>5</td></tr><tr><td>Wave Light Games Inc.</td><td>actionadventureindierpgstrategy</td><td>40.0</td><td>5</td></tr><tr><td>WhisperGames</td><td>adventureindie</td><td>40.0</td><td>5</td></tr><tr><td>Windforce</td><td>indiesimulationstrategy</td><td>40.0</td><td>5</td></tr><tr><td>Windybeard</td><td>actionindie</td><td>40.0</td><td>5</td></tr><tr><td>Wolfs Moon Studios</td><td>adventurecasualindierpg</td><td>40.0</td><td>5</td></tr><tr><td>Woodsy Studio</td><td>adventure</td><td>40.0</td><td>5</td></tr><tr><td>XDEVS LTD</td><td>actioncasualfree to playmassively multiplayersimulation</td><td>40.0</td><td>5</td></tr><tr><td>XNZONE</td><td>adventurecasualindierpg</td><td>40.0</td><td>5</td></tr><tr><td>Xiotex Studios Ltd</td><td>actionadventureearly accessindie</td><td>40.0</td><td>5</td></tr><tr><td>YSY Softworks</td><td>adventurerpg</td><td>40.0</td><td>5</td></tr><tr><td>ZUGALU ENTERTAINMENT</td><td>actioncasualindie</td><td>40.0</td><td>5</td></tr><tr><td>ZaxtorGameS</td><td>actionindie</td><td>40.0</td><td>10</td></tr><tr><td>Zodiac Interactive</td><td>indiesimulation</td><td>40.0</td><td>5</td></tr><tr><td>ben lunato</td><td>adventureindie</td><td>40.0</td><td>5</td></tr><tr><td>iNFINITE Production</td><td>casualsimulation</td><td>40.0</td><td>5</td></tr><tr><td>lamb of game</td><td>adventureindierpg</td><td>40.0</td><td>5</td></tr><tr><td>mc2games</td><td>adventureindie</td><td>40.0</td><td>5</td></tr><tr><td>nDreams</td><td>actionadventure</td><td>40.0</td><td>5</td></tr><tr><td>nullplussoftware</td><td>utilitiesvideo production</td><td>40.0</td><td>5</td></tr><tr><td>ЛД [ЛетоДайджест]</td><td>adventureindie</td><td>40.0</td><td>5</td></tr><tr><td>熊窝dodox, RuiXiao</td><td>adventureindierpgstrategy</td><td>40.0</td><td>5</td></tr><tr><td>青灯独酌</td><td>actionadventurecasualindierpgstrategy</td><td>40.0</td><td>5</td></tr><tr><td>Warner Bros. Interactive Entertainment</td><td>actionadventure</td><td>39.285714285714285</td><td>28</td></tr><tr><td>MIRROR Soft</td><td>strategy</td><td>39.130434782608695</td><td>23</td></tr><tr><td>Stegalosaurus Game Development</td><td>adventureindie</td><td>38.88888888888889</td><td>18</td></tr><tr><td>beans rolls</td><td>casualindie</td><td>38.88888888888889</td><td>18</td></tr><tr><td>Nightdive Studios</td><td>adventure</td><td>38.70967741935484</td><td>31</td></tr><tr><td>NIS America, Inc.</td><td>rpg</td><td>38.63636363636363</td><td>44</td></tr><tr><td>Kalypso Media</td><td>simulationstrategy</td><td>38.46153846153847</td><td>13</td></tr><tr><td>Tranquility games</td><td>adventurecasualindierpgstrategy</td><td>38.46153846153847</td><td>13</td></tr><tr><td>Wholetone Games</td><td>casualindiesimulation</td><td>38.46153846153847</td><td>13</td></tr><tr><td>Daedalic Entertainment</td><td>adventureindie</td><td>38.028169014084504</td><td>71</td></tr><tr><td>Minimol Games</td><td>casualstrategy</td><td>37.93103448275862</td><td>29</td></tr><tr><td>BANDAI NAMCO Entertainment</td><td>action</td><td>37.68115942028986</td><td>69</td></tr><tr><td>Afterthought Studios</td><td>casualindierpgsimulation</td><td>37.5</td><td>8</td></tr><tr><td>Art Games Studio S.A.</td><td>actionadventureindie</td><td>37.5</td><td>8</td></tr><tr><td>Coffee Studio</td><td>casual</td><td>37.5</td><td>8</td></tr><tr><td>DreadXP</td><td>actionadventureindie</td><td>37.5</td><td>8</td></tr><tr><td>FlagmanJeremy</td><td>casualindiesimulationstrategy</td><td>37.5</td><td>8</td></tr><tr><td>Gammera Nest</td><td>actionadventureindie</td><td>37.5</td><td>8</td></tr><tr><td>Indovers Studio</td><td>casualindie</td><td>37.5</td><td>8</td></tr><tr><td>King Key Games</td><td>casualindie</td><td>37.5</td><td>8</td></tr><tr><td>NCH Software</td><td>audio production</td><td>37.5</td><td>8</td></tr><tr><td>Neki4 Electronics</td><td>action</td><td>37.5</td><td>16</td></tr><tr><td>Nyanco Channel</td><td>actionadventurecasualindierpg</td><td>37.5</td><td>8</td></tr><tr><td>OtakuMaker SARL</td><td>actioncasualindie</td><td>37.5</td><td>8</td></tr><tr><td>Puppygames</td><td>actionindie</td><td>37.5</td><td>8</td></tr><tr><td>Renan Miguelote Vianna</td><td>casual</td><td>37.5</td><td>8</td></tr><tr><td>Robert Alvarez</td><td>casualindiestrategy</td><td>37.5</td><td>8</td></tr><tr><td>Screenwave Media</td><td>actionadventureindie</td><td>37.5</td><td>8</td></tr><tr><td>SimProse Studios</td><td>adventureindierpg</td><td>37.5</td><td>8</td></tr><tr><td>Tim Rachor</td><td>simulation</td><td>37.5</td><td>8</td></tr><tr><td>Tuomo's games</td><td>casualindierpg</td><td>37.5</td><td>8</td></tr><tr><td>USERJOY Technology Co.,Ltd.</td><td>actionrpgsimulationstrategy</td><td>37.5</td><td>16</td></tr><tr><td>Vertigo Gaming Inc.</td><td>actionindiesimulationstrategy</td><td>37.5</td><td>8</td></tr><tr><td>Yaeko</td><td>indie</td><td>37.5</td><td>8</td></tr><tr><td>Zen Studios</td><td>simulation</td><td>37.5</td><td>8</td></tr><tr><td>azimuth team</td><td>adventurecasualindie</td><td>37.5</td><td>16</td></tr><tr><td>Garage Games</td><td>casualindie</td><td>37.096774193548384</td><td>62</td></tr><tr><td>Adult Swim Games</td><td>actionindie</td><td>36.84210526315789</td><td>19</td></tr><tr><td>Absolutist Ltd.</td><td>adventurecasualindie</td><td>36.36363636363637</td><td>11</td></tr><tr><td>Chucklefish</td><td>actionadventureindierpg</td><td>36.36363636363637</td><td>11</td></tr><tr><td>DANGEN Entertainment</td><td>actionadventureindierpg</td><td>36.36363636363637</td><td>11</td></tr><tr><td>Denda Games</td><td>adventurecasualindie</td><td>36.36363636363637</td><td>11</td></tr><tr><td>Dikobraz Games</td><td>casualindie</td><td>36.36363636363637</td><td>11</td></tr><tr><td>Peaksel</td><td>casual</td><td>36.36363636363637</td><td>11</td></tr><tr><td>Studio Inward</td><td>casualindie</td><td>36.36363636363637</td><td>11</td></tr><tr><td>Wastelands Interactive</td><td>indiestrategy</td><td>36.36363636363637</td><td>11</td></tr><tr><td>galesoozka</td><td>indie</td><td>36.36363636363637</td><td>11</td></tr><tr><td>Activision</td><td>action</td><td>36.0</td><td>50</td></tr><tr><td>Double Fine Productions</td><td>adventure</td><td>35.714285714285715</td><td>14</td></tr><tr><td>Dr. Cyril Splutterworth</td><td>casualindie</td><td>35.714285714285715</td><td>14</td></tr><tr><td>Graffiti Games</td><td>actionadventureindie</td><td>35.714285714285715</td><td>14</td></tr><tr><td>INFINITE BRIDGE</td><td>casualindie</td><td>35.714285714285715</td><td>28</td></tr><tr><td>OTAKU Plan</td><td>adventurerpg</td><td>35.714285714285715</td><td>28</td></tr><tr><td>Rising Star Games</td><td>actionindie</td><td>35.714285714285715</td><td>14</td></tr><tr><td>冷笑黑妖</td><td>casualindie</td><td>35.714285714285715</td><td>14</td></tr><tr><td>MAGIX Software GmbH</td><td>video production</td><td>35.483870967741936</td><td>62</td></tr><tr><td>Frogwares</td><td>adventure</td><td>35.294117647058826</td><td>17</td></tr><tr><td>Paradox Interactive</td><td>strategy</td><td>35.294117647058826</td><td>68</td></tr><tr><td>Tonguç Bodur</td><td>adventurecasualindie</td><td>35.0</td><td>20</td></tr><tr><td>Annapurna Interactive</td><td>adventureindie</td><td>34.78260869565217</td><td>23</td></tr><tr><td>Gamenesis</td><td>casualindie</td><td>34.78260869565217</td><td>23</td></tr><tr><td>astragon Entertainment</td><td>simulation</td><td>34.78260869565217</td><td>23</td></tr><tr><td>indie_games_studio</td><td>adventureindie</td><td>34.78260869565217</td><td>23</td></tr><tr><td>KOEI TECMO GAMES CO., LTD.</td><td>strategy</td><td>34.44444444444444</td><td>90</td></tr><tr><td>ANPA.US</td><td>actionindie</td><td>34.375</td><td>32</td></tr><tr><td>GameHouse</td><td>adventurecasualstrategy</td><td>34.285714285714285</td><td>35</td></tr><tr><td>khukhrovr</td><td>indie</td><td>34.285714285714285</td><td>35</td></tr><tr><td>8Floor</td><td>casual</td><td>34.146341463414636</td><td>41</td></tr><tr><td>2Awesome Studio</td><td>actionindie</td><td>33.33333333333333</td><td>9</td></tr><tr><td>3000AD</td><td>actioncasualindiesimulation</td><td>33.33333333333333</td><td>6</td></tr><tr><td>AAD Productions</td><td>casualindie</td><td>33.33333333333333</td><td>6</td></tr><tr><td>AK Studio</td><td>actionadventureindie</td><td>33.33333333333333</td><td>6</td></tr><tr><td>Aksys Games</td><td>adventure</td><td>33.33333333333333</td><td>12</td></tr><tr><td>Asmodee Digital</td><td>strategy</td><td>33.33333333333333</td><td>6</td></tr><tr><td>Astronomic Games</td><td>casualindierpg</td><td>33.33333333333333</td><td>6</td></tr><tr><td>Azerbaijan Technology, Aztech</td><td>actionadventurecasualindiesimulation</td><td>33.33333333333333</td><td>9</td></tr><tr><td>BT Studios</td><td>actionadventureindie</td><td>33.33333333333333</td><td>6</td></tr><tr><td>Blazing Griffin</td><td>actionindie</td><td>33.33333333333333</td><td>6</td></tr><tr><td>Blendo Games</td><td>indiestrategy</td><td>33.33333333333333</td><td>6</td></tr><tr><td>Cheesecake Dev</td><td>actionadventurecasualindiesimulationstrategy</td><td>33.33333333333333</td><td>6</td></tr><tr><td>Corvostudio di Amadei Marco</td><td>actionindiesimulationstrategy</td><td>33.33333333333333</td><td>6</td></tr><tr><td>Crystal Shard</td><td>adventureindie</td><td>33.33333333333333</td><td>6</td></tr><tr><td>Cult Software</td><td>strategy</td><td>33.33333333333333</td><td>6</td></tr><tr><td>DXF Games</td><td>indierpgstrategy</td><td>33.33333333333333</td><td>6</td></tr><tr><td>Day Dreamer Games</td><td>actionadventureindie</td><td>33.33333333333333</td><td>6</td></tr><tr><td>ESAT</td><td>actionearly accessindie</td><td>33.33333333333333</td><td>9</td></tr><tr><td>EcoGames</td><td>casualsimulation</td><td>33.33333333333333</td><td>6</td></tr><tr><td>Endless Loop Studios</td><td>indiesimulationstrategy</td><td>33.33333333333333</td><td>9</td></tr><tr><td>EpiXR Games UG</td><td>casualindiesimulation</td><td>33.33333333333333</td><td>27</td></tr><tr><td>FailoutGames</td><td>casualindierpgsimulationstrategy</td><td>33.33333333333333</td><td>6</td></tr><tr><td>FelGC.GamesDevelopment</td><td>casualindiestrategy</td><td>33.33333333333333</td><td>6</td></tr><tr><td>Flying Panjandrum / ふらいんぐパンジャンドラム</td><td>indiesimulationstrategy</td><td>33.33333333333333</td><td>6</td></tr><tr><td>Fortcullis Games</td><td>casual</td><td>33.33333333333333</td><td>6</td></tr><tr><td>Frozenbyte</td><td>actionadventureindie</td><td>33.33333333333333</td><td>9</td></tr><tr><td>Funny Games</td><td>actionadventureindiemassively multiplayerrpg</td><td>33.33333333333333</td><td>6</td></tr><tr><td>Gagonfe</td><td>casualstrategy</td><td>33.33333333333333</td><td>9</td></tr><tr><td>Goblinz Publishing, Maple Whispering Limited</td><td>indierpgstrategy</td><td>33.33333333333333</td><td>6</td></tr><tr><td>Hanako Games</td><td>adventureindie</td><td>33.33333333333333</td><td>12</td></tr><tr><td>Hitcents</td><td>adventurecasualindie</td><td>33.33333333333333</td><td>9</td></tr><tr><td>JAST USA</td><td>adventurecasual</td><td>33.33333333333333</td><td>12</td></tr><tr><td>John Wizard</td><td>indierpgstrategy</td><td>33.33333333333333</td><td>9</td></tr><tr><td>JoyBits Ltd.</td><td>adventurecasualindie</td><td>33.33333333333333</td><td>18</td></tr><tr><td>Jujubee S.A.</td><td>actionindieracingsimulation</td><td>33.33333333333333</td><td>6</td></tr><tr><td>Kiddy</td><td>actionadventureindiesimulation</td><td>33.33333333333333</td><td>18</td></tr><tr><td>Lamina Studios</td><td>indie</td><td>33.33333333333333</td><td>6</td></tr><tr><td>Legacy Games</td><td>adventurecasualindie</td><td>33.33333333333333</td><td>6</td></tr><tr><td>Lunarhellgames</td><td>actioncasualindie</td><td>33.33333333333333</td><td>6</td></tr><tr><td>MCG</td><td>adventureindierpg</td><td>33.33333333333333</td><td>9</td></tr><tr><td>MadAboutGamesStudios</td><td>actionadventureindie</td><td>33.33333333333333</td><td>6</td></tr><tr><td>Might and Delight</td><td>adventurecasualindie</td><td>33.33333333333333</td><td>12</td></tr><tr><td>Minor Key Games</td><td>actionindie</td><td>33.33333333333333</td><td>9</td></tr><tr><td>N/A</td><td>indie</td><td>33.33333333333333</td><td>15</td></tr><tr><td>NCSOFT</td><td>massively multiplayerrpg</td><td>33.33333333333333</td><td>6</td></tr><tr><td>NekoNyan Ltd.</td><td>casualsimulation</td><td>33.33333333333333</td><td>9</td></tr><tr><td>New Blood Interactive</td><td>actionearly accessindie</td><td>33.33333333333333</td><td>6</td></tr><tr><td>NewWestGames</td><td>indie</td><td>33.33333333333333</td><td>6</td></tr><tr><td>Novalink</td><td>actionfree to playindiemassively multiplayer</td><td>33.33333333333333</td><td>6</td></tr><tr><td>Numskull Games</td><td>actionadventureindie</td><td>33.33333333333333</td><td>6</td></tr><tr><td>Nuts and Volts Electronics</td><td>casualindiesimulationstrategy</td><td>33.33333333333333</td><td>6</td></tr><tr><td>OZNA STUDIO</td><td>simulation</td><td>33.33333333333333</td><td>6</td></tr><tr><td>OnBlind</td><td>adventurecasualindie</td><td>33.33333333333333</td><td>6</td></tr><tr><td>Only Human Studios</td><td>actionindie</td><td>33.33333333333333</td><td>6</td></tr><tr><td>OrionSoft</td><td>adventure</td><td>33.33333333333333</td><td>6</td></tr><tr><td>PeriScope Game</td><td>adventurecasualindierpgsimulation</td><td>33.33333333333333</td><td>9</td></tr><tr><td>Private Division</td><td>actionindiesports</td><td>33.33333333333333</td><td>6</td></tr><tr><td>Pugware</td><td>actionadventureindierpg</td><td>33.33333333333333</td><td>6</td></tr><tr><td>QUByte Interactive</td><td>actionindie</td><td>33.33333333333333</td><td>6</td></tr><tr><td>Ready To Play</td><td>adventurecasualindie</td><td>33.33333333333333</td><td>9</td></tr><tr><td>Renderise</td><td>actionadventureindiemassively multiplayer</td><td>33.33333333333333</td><td>6</td></tr><tr><td>RoBot</td><td>actionadventure</td><td>33.33333333333333</td><td>9</td></tr><tr><td>RockGame S.A.</td><td>indiesimulationstrategy</td><td>33.33333333333333</td><td>6</td></tr><tr><td>RoomsForRockets</td><td>indie</td><td>33.33333333333333</td><td>6</td></tr><tr><td>Scumhead</td><td>actionadventureindie</td><td>33.33333333333333</td><td>6</td></tr><tr><td>Secret Mode</td><td>adventurecasualindie</td><td>33.33333333333333</td><td>9</td></tr><tr><td>Seito Games</td><td>actionadventurecasualindie</td><td>33.33333333333333</td><td>6</td></tr><tr><td>ShineProject</td><td>actionadventurecasualearly accessindierpgstrategy</td><td>33.33333333333333</td><td>6</td></tr><tr><td>Shorebound Studios</td><td>casualindie</td><td>33.33333333333333</td><td>6</td></tr><tr><td>Skull Box Games</td><td>actionindie</td><td>33.33333333333333</td><td>6</td></tr><tr><td>SmashGames</td><td>actionadventureindierpg</td><td>33.33333333333333</td><td>6</td></tr><tr><td>Snapbreak</td><td>adventurecasualindie</td><td>33.33333333333333</td><td>6</td></tr><tr><td>Spry Fox LLC</td><td>casualindie</td><td>33.33333333333333</td><td>6</td></tr><tr><td>The Irregular Corporation</td><td>adventureindie</td><td>33.33333333333333</td><td>6</td></tr><tr><td>The Quantum Astrophysicists Guild</td><td>actioncasualindiestrategy</td><td>33.33333333333333</td><td>6</td></tr><tr><td>Top Hat Studios, Inc.</td><td>actionadventureindie</td><td>33.33333333333333</td><td>6</td></tr><tr><td>Twin Sails Interactive</td><td>strategy</td><td>33.33333333333333</td><td>18</td></tr><tr><td>Untold Tales</td><td>adventureindie</td><td>33.33333333333333</td><td>9</td></tr><tr><td>ValkyrieInitiative</td><td>action</td><td>33.33333333333333</td><td>6</td></tr><tr><td>VaragtP</td><td>actionadventurecasualindierpg</td><td>33.33333333333333</td><td>6</td></tr><tr><td>WRF Studios</td><td>actionindierpg</td><td>33.33333333333333</td><td>6</td></tr><tr><td>War Child Gaming</td><td>indie</td><td>33.33333333333333</td><td>12</td></tr><tr><td>XDesktopSoft</td><td>animation & modelingdesign & illustrationearly accessutilities</td><td>33.33333333333333</td><td>6</td></tr><tr><td>Yang Sun</td><td>casualindie</td><td>33.33333333333333</td><td>6</td></tr><tr><td>deadworld games</td><td>actioncasualindie</td><td>33.33333333333333</td><td>6</td></tr><tr><td>morojenoe's empire</td><td>adventurecasual</td><td>33.33333333333333</td><td>6</td></tr><tr><td>paulstephendavis</td><td>actioncasualindie</td><td>33.33333333333333</td><td>6</td></tr><tr><td>raptor lab</td><td>actionindie</td><td>33.33333333333333</td><td>6</td></tr><tr><td>  Gales Corp.   </td><td>indie</td><td>33.33333333333333</td><td>9</td></tr><tr><td>Dnovel</td><td>actionadventurecasualindie</td><td>32.55813953488372</td><td>43</td></tr><tr><td>Bitlock Studio</td><td>actionindie</td><td>32.432432432432435</td><td>37</td></tr><tr><td>Rebellion</td><td>action</td><td>32.432432432432435</td><td>37</td></tr><tr><td>Aerosoft GmbH</td><td>casualindiesimulation</td><td>32.35294117647059</td><td>34</td></tr><tr><td>NanningsGames</td><td>casual</td><td>32.25806451612903</td><td>31</td></tr><tr><td>Aldorlea Games</td><td>adventurecasualindierpg</td><td>32.0</td><td>50</td></tr><tr><td>Ratalaika Games S.L.</td><td>actionadventurecasualindie</td><td>32.0</td><td>25</td></tr><tr><td>LTZinc</td><td>actionadventurecasualindiesimulation</td><td>31.818181818181817</td><td>22</td></tr><tr><td>Forever Entertainment S. A.</td><td>actioncasualindie</td><td>31.666666666666664</td><td>60</td></tr><tr><td>SOEDESCO</td><td>adventureindie</td><td>31.57894736842105</td><td>19</td></tr><tr><td>KEMCO</td><td>adventurerpgsimulationstrategy</td><td>31.372549019607842</td><td>51</td></tr><tr><td>Akupara Games</td><td>adventureindie</td><td>31.25</td><td>16</td></tr><tr><td>Microids Indie</td><td>adventure</td><td>31.25</td><td>16</td></tr><tr><td>Telltale</td><td>adventurerpg</td><td>31.25</td><td>16</td></tr><tr><td>magnussoft</td><td>casual</td><td>31.25</td><td>16</td></tr><tr><td>Louie Inc</td><td>casualindie</td><td>31.03448275862069</td><td>29</td></tr><tr><td>United Independent Entertainment</td><td>simulation</td><td>30.909090909090907</td><td>55</td></tr><tr><td>Bandai Namco Entertainment</td><td>actionrpg</td><td>30.76923076923077</td><td>13</td></tr><tr><td>Modus Games</td><td>actionindie</td><td>30.76923076923077</td><td>13</td></tr><tr><td>Ripstone</td><td>casualindiesimulationsportsstrategy</td><td>30.76923076923077</td><td>13</td></tr><tr><td>Simulators Live</td><td>indiesimulation</td><td>30.76923076923077</td><td>13</td></tr><tr><td>Crazysoft Limited</td><td>educationutilities</td><td>30.0</td><td>10</td></tr><tr><td>Deck13</td><td>adventure</td><td>30.0</td><td>10</td></tr><tr><td>G-MODE</td><td>rpg</td><td>30.0</td><td>10</td></tr><tr><td>Kajak Games</td><td>actionindie</td><td>30.0</td><td>10</td></tr><tr><td>Konnichiwa Games</td><td>actionadventure</td><td>30.0</td><td>10</td></tr><tr><td>Lonely Troops</td><td>adventurecasualindierpg</td><td>30.0</td><td>10</td></tr><tr><td>Phat Phrog Studios</td><td>actioncasualindie</td><td>30.0</td><td>10</td></tr><tr><td>Red twice potato</td><td>adventureindie</td><td>30.0</td><td>20</td></tr><tr><td>Reverb Triple XP</td><td>actionindie</td><td>30.0</td><td>10</td></tr><tr><td>Sunlight Games</td><td>adventureindiestrategy</td><td>30.0</td><td>10</td></tr><tr><td>SuperGG.com</td><td>actionadventureindie</td><td>30.0</td><td>10</td></tr><tr><td>TALESSHOP Co., Ltd.</td><td>casualindiesimulation</td><td>30.0</td><td>10</td></tr><tr><td>kovalevviktor</td><td>indie</td><td>29.72972972972973</td><td>37</td></tr><tr><td>Retroism, Nightdive Studios</td><td>simulation</td><td>29.166666666666668</td><td>24</td></tr><tr><td>Sometimes You</td><td>casualindie</td><td>29.166666666666668</td><td>48</td></tr><tr><td>Assemble Entertainment</td><td>adventure</td><td>29.03225806451613</td><td>31</td></tr><tr><td>Devolver Digital</td><td>actionindie</td><td>28.865979381443296</td><td>97</td></tr><tr><td>AMG GAMES</td><td>actionindie</td><td>28.57142857142857</td><td>7</td></tr><tr><td>Action Portal</td><td>indie</td><td>28.57142857142857</td><td>7</td></tr><tr><td>Airem</td><td>casualindie</td><td>28.57142857142857</td><td>7</td></tr><tr><td>Aspyr</td><td>action</td><td>28.57142857142857</td><td>7</td></tr><tr><td>Bigosaur</td><td>actionadventureindie</td><td>28.57142857142857</td><td>7</td></tr><tr><td>CD PROJEKT RED</td><td>rpg</td><td>28.57142857142857</td><td>7</td></tr><tr><td>CREST</td><td>adventureindie</td><td>28.57142857142857</td><td>7</td></tr><tr><td>Day Art's Games</td><td>casualindiestrategy</td><td>28.57142857142857</td><td>7</td></tr><tr><td>Dejobaan Games, LLC</td><td>actionindie</td><td>28.57142857142857</td><td>7</td></tr><tr><td>Dotemu</td><td>action</td><td>28.57142857142857</td><td>7</td></tr><tr><td>First Games Interactive</td><td>casualindie</td><td>28.57142857142857</td><td>7</td></tr><tr><td>GameXP.com</td><td>adventurecasualfree to play</td><td>28.57142857142857</td><td>7</td></tr><tr><td>Gamesforgames</td><td>actioncasualindie</td><td>28.57142857142857</td><td>7</td></tr><tr><td>Google</td><td>adventurecasual</td><td>28.57142857142857</td><td>7</td></tr><tr><td>Independent</td><td>indie</td><td>28.57142857142857</td><td>7</td></tr><tr><td>Kazakov Oleg</td><td>actionindie</td><td>28.57142857142857</td><td>7</td></tr><tr><td>Larian Studios</td><td>adventureindierpgstrategy</td><td>28.57142857142857</td><td>7</td></tr><tr><td>Lion Castle Entertainment</td><td>racing</td><td>28.57142857142857</td><td>7</td></tr><tr><td>Michaela Laws</td><td>adventurecasualindierpgsimulation</td><td>28.57142857142857</td><td>7</td></tr><tr><td>Nibb Games</td><td>actioncasualindiestrategy</td><td>28.57142857142857</td><td>7</td></tr><tr><td>Nkidu Games Inc.</td><td>adventurecasualindie</td><td>28.57142857142857</td><td>7</td></tr><tr><td>Old School Vibes</td><td>action</td><td>28.57142857142857</td><td>7</td></tr><tr><td>PID Games</td><td>indie</td><td>28.57142857142857</td><td>14</td></tr><tr><td>Pickle Drugs</td><td>actioncasualindie</td><td>28.57142857142857</td><td>7</td></tr><tr><td>Pixel Puzzles</td><td>casualindiesimulationsportsstrategy</td><td>28.57142857142857</td><td>14</td></tr><tr><td>Rubika Supinfogame</td><td>actionindie</td><td>28.57142857142857</td><td>7</td></tr><tr><td>Soccer Manager Ltd</td><td>sports</td><td>28.57142857142857</td><td>7</td></tr><tr><td>SpielmannSpiel</td><td>casualindie</td><td>28.57142857142857</td><td>7</td></tr><tr><td>Steppe Hare Studio</td><td>actionadventureearly accessindie</td><td>28.57142857142857</td><td>7</td></tr><tr><td>Tap by Tap</td><td>early accessindiestrategy</td><td>28.57142857142857</td><td>14</td></tr><tr><td>Team Syukino</td><td>rpg</td><td>28.57142857142857</td><td>14</td></tr><tr><td>Tegridy Made Games</td><td>actionadventurecasualindiestrategy</td><td>28.57142857142857</td><td>14</td></tr><tr><td>Tribute Games Inc.</td><td>action</td><td>28.57142857142857</td><td>7</td></tr><tr><td>VGstudio</td><td>actionadventure</td><td>28.57142857142857</td><td>7</td></tr><tr><td>WTFOMGames</td><td>actionadventurecasualindie</td><td>28.57142857142857</td><td>7</td></tr><tr><td>Wathitdew Record</td><td>adventurerpg</td><td>28.57142857142857</td><td>7</td></tr><tr><td>okyakusama</td><td>casualindie</td><td>28.57142857142857</td><td>7</td></tr><tr><td>phime studio LLC</td><td>actionindie</td><td>28.57142857142857</td><td>7</td></tr><tr><td>吃了就睡工作室</td><td>adventureindierpg</td><td>28.57142857142857</td><td>7</td></tr><tr><td>哈视奇科技</td><td>casualracingsimulationsports</td><td>28.57142857142857</td><td>7</td></tr><tr><td>Iceberg Interactive</td><td>adventureindie</td><td>28.26086956521739</td><td>46</td></tr><tr><td>Kalypso Media Digital</td><td>simulationstrategy</td><td>27.906976744186046</td><td>43</td></tr><tr><td>Toplitz Productions</td><td>simulationstrategy</td><td>27.77777777777778</td><td>18</td></tr><tr><td>玫瑰工作室</td><td>adventurecasualindie</td><td>27.659574468085108</td><td>47</td></tr><tr><td>101XP</td><td>actionadventurefree to playmassively multiplayerrpg</td><td>27.27272727272727</td><td>11</td></tr><tr><td>Alawar Premium</td><td>adventureindiesimulationstrategy</td><td>27.27272727272727</td><td>11</td></tr><tr><td>Anarchy Enterprises</td><td>adventurecasualindie</td><td>27.27272727272727</td><td>11</td></tr><tr><td>Arcen Games, LLC</td><td>indiesimulationstrategy</td><td>27.27272727272727</td><td>11</td></tr><tr><td>BekkerDev Studio</td><td>actionadventurecasualindie</td><td>27.27272727272727</td><td>11</td></tr><tr><td>CasGames</td><td>casualindie</td><td>27.27272727272727</td><td>11</td></tr><tr><td>CyberStep, Inc.</td><td>adventure</td><td>27.27272727272727</td><td>11</td></tr><tr><td>Nacks Soft</td><td>actionadventurecasualfree to playindie</td><td>27.27272727272727</td><td>11</td></tr><tr><td>Naoka Games</td><td>casualindie</td><td>27.27272727272727</td><td>11</td></tr><tr><td>One Tap Games</td><td>actionindie</td><td>27.27272727272727</td><td>11</td></tr><tr><td>Pix Arts</td><td>sports</td><td>27.27272727272727</td><td>11</td></tr><tr><td>Real Fighting</td><td>action</td><td>27.27272727272727</td><td>11</td></tr><tr><td>SAT-BOX</td><td>actioncasualindieracing</td><td>27.27272727272727</td><td>11</td></tr><tr><td>SilentFuture</td><td>casualindie</td><td>27.27272727272727</td><td>11</td></tr><tr><td>WayForward</td><td>actionadventure</td><td>27.27272727272727</td><td>11</td></tr><tr><td>inXile Entertainment</td><td>rpg</td><td>27.27272727272727</td><td>11</td></tr><tr><td>Square Enix</td><td>rpg</td><td>27.142857142857142</td><td>140</td></tr><tr><td>GrabTheGames</td><td>adventureindie</td><td>26.923076923076923</td><td>52</td></tr><tr><td>XSEED Games, Marvelous USA, Inc.</td><td>rpg</td><td>26.923076923076923</td><td>26</td></tr><tr><td>Pixel Games UK</td><td>action</td><td>26.82926829268293</td><td>41</td></tr><tr><td>Ammonite Design Studios Ltd</td><td>actionadventurecasualindiesimulation</td><td>26.666666666666668</td><td>15</td></tr><tr><td>Brewsterland Studios</td><td>actionadventureindierpg</td><td>26.666666666666668</td><td>15</td></tr><tr><td>DillyFrame</td><td>casualindiestrategy</td><td>26.666666666666668</td><td>15</td></tr><tr><td>Fruitbat Factory</td><td>actionindie</td><td>26.666666666666668</td><td>30</td></tr><tr><td>Gearbox Publishing</td><td>actionadventureindie</td><td>26.666666666666668</td><td>15</td></tr><tr><td>PlayWay S.A.</td><td>racingsimulation</td><td>26.666666666666668</td><td>15</td></tr><tr><td>Sapphire Dragon Productions</td><td>casualindiesimulation</td><td>26.666666666666668</td><td>15</td></tr><tr><td>SEGA</td><td>action</td><td>26.38888888888889</td><td>144</td></tr><tr><td>Wales Interactive</td><td>adventure</td><td>26.31578947368421</td><td>19</td></tr><tr><td>baKno Games</td><td>casualindiesimulation</td><td>26.31578947368421</td><td>19</td></tr><tr><td>Outright Games Ltd.</td><td>adventure</td><td>25.806451612903224</td><td>31</td></tr><tr><td>Ziggurat</td><td>action</td><td>25.773195876288657</td><td>97</td></tr><tr><td>Ubisoft</td><td>actionadventure</td><td>25.196850393700785</td><td>127</td></tr><tr><td>Amaterasu Software</td><td>adventureindierpg</td><td>25.0</td><td>12</td></tr><tr><td>Archor Games</td><td>action</td><td>25.0</td><td>20</td></tr><tr><td>Atari</td><td>action</td><td>25.0</td><td>40</td></tr><tr><td>CINEMAX, s.r.o.</td><td>casualindie</td><td>25.0</td><td>12</td></tr><tr><td>Crystal Game Works</td><td>casualfree to playindierpg</td><td>25.0</td><td>8</td></tr><tr><td>DLsite</td><td>actionindie</td><td>25.0</td><td>20</td></tr><tr><td>David Mulder</td><td>action</td><td>25.0</td><td>8</td></tr><tr><td>Dear Villagers</td><td>actionindie</td><td>25.0</td><td>20</td></tr><tr><td>Drageus Games S.A.</td><td>indiestrategy</td><td>25.0</td><td>8</td></tr><tr><td>EJRGames</td><td>casualindiestrategy</td><td>25.0</td><td>8</td></tr><tr><td>Egosoft</td><td>actionsimulation</td><td>25.0</td><td>8</td></tr><tr><td>Endless Games</td><td>casual</td><td>25.0</td><td>8</td></tr><tr><td>Finji</td><td>indie</td><td>25.0</td><td>8</td></tr><tr><td>Fun Infused Games</td><td>actioncasualindieracing</td><td>25.0</td><td>8</td></tr><tr><td>Fungamesvr</td><td>actioncasualindiesports</td><td>25.0</td><td>8</td></tr><tr><td>GameMill Entertainment</td><td>racing</td><td>25.0</td><td>16</td></tr><tr><td>Green Man Gaming Publishing</td><td>indie</td><td>25.0</td><td>16</td></tr><tr><td>GuraShop</td><td>actionadventurecasualindie</td><td>25.0</td><td>8</td></tr><tr><td>IMGN.PRO</td><td>actionadventurecasualindie</td><td>25.0</td><td>8</td></tr><tr><td>Idea Factory International</td><td>actionadventurerpg</td><td>25.0</td><td>24</td></tr><tr><td>JimJams Games</td><td>actionindie</td><td>25.0</td><td>8</td></tr><tr><td>K Bros Games</td><td>casualindiesimulation</td><td>25.0</td><td>8</td></tr><tr><td>KazakovStudios</td><td>actionadventurecasualindiesimulation</td><td>25.0</td><td>12</td></tr><tr><td>KishMish Games</td><td>adventurecasualindie</td><td>25.0</td><td>8</td></tr><tr><td>Libredia</td><td>casual</td><td>25.0</td><td>24</td></tr><tr><td>Metal Fox</td><td>adventureindie</td><td>25.0</td><td>20</td></tr><tr><td>Mihai Morosanu</td><td>actionadventureindie</td><td>25.0</td><td>12</td></tr><tr><td>NEOWIZ</td><td>actionindie</td><td>25.0</td><td>12</td></tr><tr><td>No Gravity Games</td><td>actionadventureindie</td><td>25.0</td><td>20</td></tr><tr><td>Nomad Games</td><td>indierpgstrategy</td><td>25.0</td><td>12</td></tr><tr><td>Oddfellows Software</td><td>casualsimulation</td><td>25.0</td><td>8</td></tr><tr><td>PaulArt</td><td>indiesimulationstrategy</td><td>25.0</td><td>12</td></tr><tr><td>Phoenixx Inc.</td><td>actionindie</td><td>25.0</td><td>12</td></tr><tr><td>QuickBobber</td><td>casualindiestrategy</td><td>25.0</td><td>12</td></tr><tr><td>Rake in Grass</td><td>actionindie</td><td>25.0</td><td>8</td></tr><tr><td>SIG Publishing</td><td>indiesimulation</td><td>25.0</td><td>8</td></tr><tr><td>Sabrina Aridi</td><td>actionadventurecasualindiestrategy</td><td>25.0</td><td>12</td></tr><tr><td>Scott Cawthon</td><td>actionindiesimulation</td><td>25.0</td><td>8</td></tr><tr><td>Self</td><td>indie</td><td>25.0</td><td>8</td></tr><tr><td>Throwback Entertainment</td><td>actionindie</td><td>25.0</td><td>8</td></tr><tr><td>eGames.com</td><td>adventurerpg</td><td>25.0</td><td>8</td></tr><tr><td>hOSHI</td><td>adventureindie</td><td>25.0</td><td>8</td></tr><tr><td>kazakovstudios</td><td>indie</td><td>25.0</td><td>28</td></tr><tr><td>小小游戏工作室</td><td>adventurecasualindiestrategy</td><td>25.0</td><td>8</td></tr><tr><td>岗成年</td><td>utilities</td><td>25.0</td><td>8</td></tr><tr><td>Fulqrum Publishing</td><td>strategy</td><td>24.03846153846154</td><td>104</td></tr><tr><td>Digerati</td><td>actionindie</td><td>24.0</td><td>25</td></tr><tr><td>Konami Digital Entertainment</td><td>sports</td><td>24.0</td><td>25</td></tr><tr><td>Viva Media</td><td>casualstrategy</td><td>24.0</td><td>25</td></tr><tr><td>Microids</td><td>adventure</td><td>23.809523809523807</td><td>84</td></tr><tr><td>10tons Ltd</td><td>actionadventureindierpg</td><td>23.52941176470588</td><td>17</td></tr><tr><td>DSGame</td><td>actionadventurecasualindierpgstrategy</td><td>23.52941176470588</td><td>17</td></tr><tr><td>Vitok</td><td>casual</td><td>23.52941176470588</td><td>17</td></tr><tr><td>indiegames3000</td><td>actionindie</td><td>23.52941176470588</td><td>17</td></tr><tr><td>11 bit studios</td><td>actionindiestrategy</td><td>23.076923076923077</td><td>13</td></tr><tr><td>Bohemia Interactive</td><td>actionsimulationstrategy</td><td>23.076923076923077</td><td>26</td></tr><tr><td>Clickteam</td><td>action</td><td>23.076923076923077</td><td>13</td></tr><tr><td>HaDe Games</td><td>adventurecasualindie</td><td>23.076923076923077</td><td>13</td></tr><tr><td>Pixeljam</td><td>actionindie</td><td>23.076923076923077</td><td>13</td></tr><tr><td>Studio2760</td><td>adventurecasualearly accessindie</td><td>23.076923076923077</td><td>13</td></tr><tr><td>ARTE France</td><td>adventurecasualindie</td><td>22.22222222222222</td><td>9</td></tr><tr><td>Chris Antoni</td><td>actionadventureindiemassively multiplayerrpg</td><td>22.22222222222222</td><td>9</td></tr><tr><td>Console Classics</td><td>racing</td><td>22.22222222222222</td><td>9</td></tr><tr><td>Fatshark</td><td>actionindie</td><td>22.22222222222222</td><td>9</td></tr><tr><td>IV Productions</td><td>adventurerpg</td><td>22.22222222222222</td><td>9</td></tr><tr><td>Interactive Gaming Studios</td><td>adventurecasualindiesimulation</td><td>22.22222222222222</td><td>9</td></tr><tr><td>Klei Entertainment</td><td>adventureindiesimulation</td><td>22.22222222222222</td><td>9</td></tr><tr><td>Koch Media , CyberLink</td><td>audio productiondesign & illustrationutilitiesvideo productionweb publishing</td><td>22.22222222222222</td><td>9</td></tr><tr><td>Kongregate</td><td>adventurefree to playrpgstrategy</td><td>22.22222222222222</td><td>9</td></tr><tr><td>Libredia Entertainment</td><td>adventurecasual</td><td>22.22222222222222</td><td>9</td></tr><tr><td>Ludosity</td><td>adventureindie</td><td>22.22222222222222</td><td>9</td></tr><tr><td>Ninja Kiwi</td><td>actionfree to playstrategy</td><td>22.22222222222222</td><td>9</td></tr><tr><td>Shoho Games</td><td>casualindiesimulation</td><td>22.22222222222222</td><td>9</td></tr><tr><td>VALOFE</td><td>actionfree to playmassively multiplayerrpg</td><td>22.22222222222222</td><td>9</td></tr><tr><td>Valkyrie Initiative</td><td>actionadventure</td><td>22.22222222222222</td><td>9</td></tr><tr><td>Whitethorn Games</td><td>casualindie</td><td>22.22222222222222</td><td>9</td></tr><tr><td>wow wow Games</td><td>casual</td><td>22.22222222222222</td><td>9</td></tr><tr><td>HandMade Games</td><td>casualindie</td><td>21.62162162162162</td><td>37</td></tr><tr><td>Enoops</td><td>actionadventurecasualindierpg</td><td>21.428571428571427</td><td>42</td></tr><tr><td>Flying Interactive</td><td>casualindie</td><td>21.428571428571427</td><td>14</td></tr><tr><td>Gamera Interactive</td><td>actionindie</td><td>21.428571428571427</td><td>14</td></tr><tr><td>IO Games</td><td>indiesimulation</td><td>21.428571428571427</td><td>14</td></tr><tr><td>Klabater</td><td>adventureindie</td><td>21.428571428571427</td><td>14</td></tr><tr><td>SeedWall</td><td>actionindie</td><td>21.428571428571427</td><td>14</td></tr><tr><td>0Cube</td><td>adventurecasualindierpgsimulationstrategy</td><td>21.052631578947366</td><td>19</td></tr><tr><td>Fellow Traveller</td><td>adventureindierpg</td><td>21.052631578947366</td><td>19</td></tr><tr><td>Nicalis, Inc.</td><td>actionadventureindie</td><td>21.052631578947366</td><td>19</td></tr><tr><td>Randumb Studios</td><td>adventurecasualindierpgsimulation</td><td>21.052631578947366</td><td>19</td></tr><tr><td>Komodo</td><td>action</td><td>20.930232558139537</td><td>86</td></tr><tr><td>CFK Co., Ltd.</td><td>actionadventureindie</td><td>20.833333333333336</td><td>24</td></tr><tr><td>PLAYISM</td><td>actionindie</td><td>20.689655172413794</td><td>87</td></tr><tr><td>Raw Fury</td><td>adventureindie</td><td>20.689655172413794</td><td>29</td></tr><tr><td>SakuraGame</td><td>adventureindierpg</td><td>20.689655172413794</td><td>29</td></tr><tr><td>Strategy First</td><td>strategy</td><td>20.52980132450331</td><td>151</td></tr><tr><td>Sekai Project</td><td>casualindie</td><td>20.454545454545457</td><td>132</td></tr><tr><td>Back To Basics Gaming</td><td>actioncasualindie</td><td>20.37037037037037</td><td>54</td></tr><tr><td>RewindApp</td><td>casualindie</td><td>20.33898305084746</td><td>59</td></tr><tr><td>Aged Immortals</td><td>actionadventureindierpg</td><td>20.0</td><td>5</td></tr><tr><td>Almighty Games</td><td>casualindie</td><td>20.0</td><td>5</td></tr><tr><td>Analgesic Productions</td><td>actionadventureindie</td><td>20.0</td><td>5</td></tr><tr><td>André Bertaglia</td><td>actionadventurecasualindie</td><td>20.0</td><td>5</td></tr><tr><td>AneaGames</td><td>actionadventurecasualindiemassively multiplayerrpgstrategy</td><td>20.0</td><td>5</td></tr><tr><td>Antonio Renna</td><td>casualindiesimulation</td><td>20.0</td><td>5</td></tr><tr><td>Anvate Games</td><td>indie</td><td>20.0</td><td>5</td></tr><tr><td>Appy Monkeys Software Pvt. Ltd.</td><td>animation & modelingdesign & illustrationgame developmentphoto editing</td><td>20.0</td><td>5</td></tr><tr><td>Arcade Distillery</td><td>actioncasualindie</td><td>20.0</td><td>5</td></tr><tr><td>Archive Entertainment</td><td>actionadventurefree to playindiemassively multiplayerrpg</td><td>20.0</td><td>5</td></tr><tr><td>Assemble Entertainment, WhisperGames</td><td>strategy</td><td>20.0</td><td>5</td></tr><tr><td>Astrea</td><td>casualindie</td><td>20.0</td><td>5</td></tr><tr><td>Awaken Realms</td><td>actionadventurecasualearly accessindiesimulation</td><td>20.0</td><td>5</td></tr><tr><td>BajoGames</td><td>actionadventurecasualindie</td><td>20.0</td><td>5</td></tr><tr><td>Black Banshee Studios</td><td>actioncasualfree to playindiestrategy</td><td>20.0</td><td>5</td></tr><tr><td>Blue Mana</td><td>actionadventureearly accessindierpgsimulationstrategy</td><td>20.0</td><td>5</td></tr><tr><td>ByteRockers' Games</td><td>indiestrategy</td><td>20.0</td><td>5</td></tr><tr><td>Capybara Games</td><td>actionadventureindierpg</td><td>20.0</td><td>5</td></tr><tr><td>Chequered Ink Ltd.</td><td>actioncasual</td><td>20.0</td><td>10</td></tr><tr><td>Chun Y.</td><td>actioncasualindie</td><td>20.0</td><td>10</td></tr><tr><td>Cobra Mobile</td><td>indiestrategy</td><td>20.0</td><td>5</td></tr><tr><td>Coconut Island Games</td><td>casualindiesimulationstrategy</td><td>20.0</td><td>5</td></tr><tr><td>Codemasters, Electronic Arts</td><td>rpg</td><td>20.0</td><td>20</td></tr><tr><td>CreativeForge Games</td><td>actionsimulation</td><td>20.0</td><td>5</td></tr><tr><td>Crytivo</td><td>early accessindiesimulationstrategy</td><td>20.0</td><td>10</td></tr><tr><td>Curve Games</td><td>actionindie</td><td>20.0</td><td>35</td></tr><tr><td>Daybreak Game Company</td><td>massively multiplayer</td><td>20.0</td><td>10</td></tr><tr><td>Degica</td><td>utilities</td><td>20.0</td><td>10</td></tr><tr><td>Digital Tribe</td><td>actionadventureindie</td><td>20.0</td><td>25</td></tr><tr><td>DimleTeam</td><td>actionadventureindiesimulation</td><td>20.0</td><td>5</td></tr><tr><td>Doomster Entertainment</td><td>adventureindierpg</td><td>20.0</td><td>5</td></tr><tr><td>Dreamatrix</td><td>strategy</td><td>20.0</td><td>5</td></tr><tr><td>EF Universe Games LLC</td><td>adventurecasualindierpgsimulationstrategy</td><td>20.0</td><td>5</td></tr><tr><td>Eforb</td><td>casualindie</td><td>20.0</td><td>5</td></tr><tr><td>Excalibur Games</td><td>indieracingsimulation</td><td>20.0</td><td>5</td></tr><tr><td>Facepunch Studios</td><td>actionindie</td><td>20.0</td><td>5</td></tr><tr><td>FastGame</td><td>adventurecasualindie</td><td>20.0</td><td>5</td></tr><tr><td>Flyleap Studios</td><td>actioncasualindie</td><td>20.0</td><td>5</td></tr><tr><td>Frederik Holst</td><td>casualindiestrategy</td><td>20.0</td><td>5</td></tr><tr><td>Frontier Foundry</td><td>actionadventurecasualindie</td><td>20.0</td><td>5</td></tr><tr><td>GZ Storm</td><td>actioncasualfree to playindie</td><td>20.0</td><td>5</td></tr><tr><td>Gales Corp.</td><td>adventurecasualindie</td><td>20.0</td><td>10</td></tr><tr><td>Game Studio Abraham Stolk Inc.</td><td>action</td><td>20.0</td><td>5</td></tr><tr><td>Games Incubator, PlayWay S.A.</td><td>indiesimulationstrategy</td><td>20.0</td><td>5</td></tr><tr><td>Games Operators, PlayWay S.A.</td><td>actionindiesimulationstrategy</td><td>20.0</td><td>5</td></tr><tr><td>Gem Rose Accent</td><td>adventurecasualindiesimulation</td><td>20.0</td><td>5</td></tr><tr><td>Ghost_RUS Games</td><td>adventurecasualindie</td><td>20.0</td><td>50</td></tr><tr><td>Gooners Game</td><td>actionindiesimulationsports</td><td>20.0</td><td>5</td></tr><tr><td>Groupees Interactive</td><td>indie</td><td>20.0</td><td>5</td></tr><tr><td>HFM Games</td><td>actionindie</td><td>20.0</td><td>10</td></tr><tr><td>Hede Games, Hede</td><td>actionadventurecasualearly accessindiesimulationstrategy</td><td>20.0</td><td>10</td></tr><tr><td>Hellshake Yano.</td><td>casualindierpg</td><td>20.0</td><td>5</td></tr><tr><td>HeroCraft PC</td><td>indie</td><td>20.0</td><td>10</td></tr><tr><td>Hippo Games</td><td>animation & modelinggame developmentrpgutilities</td><td>20.0</td><td>5</td></tr><tr><td>Hoi 4 Deu</td><td>actionadventureindieracingsimulation</td><td>20.0</td><td>5</td></tr><tr><td>Home Net Games</td><td>actionfree to playindie</td><td>20.0</td><td>10</td></tr><tr><td>HorseGames</td><td>adventurecasualindiemassively multiplayerrpg</td><td>20.0</td><td>5</td></tr><tr><td>Ice Water Games</td><td>casualindiesimulation</td><td>20.0</td><td>5</td></tr><tr><td>Indie</td><td>indie</td><td>20.0</td><td>10</td></tr><tr><td>Insane Dreamers</td><td>casualindie</td><td>20.0</td><td>5</td></tr><tr><td>JTS Development</td><td>adventureindiestrategy</td><td>20.0</td><td>5</td></tr><tr><td>Kasedo Games</td><td>simulationstrategy</td><td>20.0</td><td>10</td></tr><tr><td>Kerberos Productions</td><td>casualindierpgstrategy</td><td>20.0</td><td>5</td></tr><tr><td>KomBits Game Studio</td><td>actioncasualindie</td><td>20.0</td><td>5</td></tr><tr><td>LOSEDEAD</td><td>actionadventurecasualearly accessindieracingsimulationsports</td><td>20.0</td><td>5</td></tr><tr><td>Lighthouse Games Studio</td><td>casualsimulation</td><td>20.0</td><td>5</td></tr><tr><td>Longbow Games</td><td>indiesimulationstrategy</td><td>20.0</td><td>5</td></tr><tr><td>Lovely Games</td><td>casual</td><td>20.0</td><td>20</td></tr><tr><td>M2H</td><td>actioncasualindie</td><td>20.0</td><td>5</td></tr><tr><td>MIROWIN</td><td>actionadventureindiesimulation</td><td>20.0</td><td>5</td></tr><tr><td>MSI Digital Games</td><td>casualindieracingsimulation</td><td>20.0</td><td>5</td></tr><tr><td>Matt Roszak</td><td>adventurerpgstrategy</td><td>20.0</td><td>5</td></tr><tr><td>Mehsoft</td><td>actionadventureindie</td><td>20.0</td><td>5</td></tr><tr><td>Meng Games</td><td>actioncasualindie</td><td>20.0</td><td>20</td></tr><tr><td>Milk Bottle Studio</td><td>actioncasualindiesimulationstrategy</td><td>20.0</td><td>5</td></tr><tr><td>Missing Link Games</td><td>actioncasualindieracingsports</td><td>20.0</td><td>5</td></tr><tr><td>Movie Games S.A.</td><td>actionindiesimulationstrategy</td><td>20.0</td><td>5</td></tr><tr><td>MyACG Studio</td><td>actionadventurecasualfree to playindiemassively multiplayerrpgsimulationstrategy</td><td>20.0</td><td>5</td></tr><tr><td>Mythical City Games</td><td>casualindiesimulation</td><td>20.0</td><td>5</td></tr><tr><td>NetEase Games</td><td>actionadventurecasualmassively multiplayer</td><td>20.0</td><td>5</td></tr><tr><td>Ninja Whale Studios</td><td>actioncasualracingsimulationsports</td><td>20.0</td><td>5</td></tr><tr><td>Noodlecake</td><td>casualindie</td><td>20.0</td><td>5</td></tr><tr><td>NukGames</td><td>actionadventurecasualindie</td><td>20.0</td><td>10</td></tr><tr><td>Nutaku Publishing</td><td>actioncasual</td><td>20.0</td><td>5</td></tr><tr><td>Ocean Media LLC</td><td>casual</td><td>20.0</td><td>5</td></tr><tr><td>OraMonkey</td><td>actionadventureindie</td><td>20.0</td><td>5</td></tr><tr><td>Patagoniart</td><td>actioncasualsimulationstrategy</td><td>20.0</td><td>5</td></tr><tr><td>PikPok</td><td>action</td><td>20.0</td><td>5</td></tr><tr><td>Pixel After Pixel</td><td>adventurecasualindiesimulationstrategy</td><td>20.0</td><td>5</td></tr><tr><td>PlayStation PC LLC</td><td>action</td><td>20.0</td><td>10</td></tr><tr><td>Prince Game Studio</td><td>casualindie</td><td>20.0</td><td>5</td></tr><tr><td>ProjectorGames</td><td>actionadventurecasualindie</td><td>20.0</td><td>5</td></tr><tr><td>Pujia8 Studio</td><td>adventurefree to playindierpg</td><td>20.0</td><td>15</td></tr><tr><td>Recotechnology S.L.</td><td>adventureindie</td><td>20.0</td><td>5</td></tr><tr><td>Red Meat Games</td><td>actioncasual</td><td>20.0</td><td>5</td></tr><tr><td>RedZyrro</td><td>indie</td><td>20.0</td><td>5</td></tr><tr><td>Rusimitu</td><td>early accessindiesimulation</td><td>20.0</td><td>5</td></tr><tr><td>Schell Games</td><td>adventure</td><td>20.0</td><td>10</td></tr><tr><td>Self-Published</td><td>actionadventurecasualearly accessindierpg</td><td>20.0</td><td>5</td></tr><tr><td>Siddharth Sivaraman</td><td>indie</td><td>20.0</td><td>5</td></tr><tr><td>Size Five Games</td><td>actionadventurecasualindie</td><td>20.0</td><td>5</td></tr><tr><td>Smartmove</td><td>massively multiplayerracingsimulationsports</td><td>20.0</td><td>5</td></tr><tr><td>Source Byte Sp. z o.o.</td><td>actioncasualindieracingsports</td><td>20.0</td><td>5</td></tr><tr><td>Space Fractal</td><td>actioncasualstrategy</td><td>20.0</td><td>5</td></tr><tr><td>Stardock Entertainment</td><td>indiestrategy</td><td>20.0</td><td>20</td></tr><tr><td>Stress Level Zero</td><td>actionadventuresimulation</td><td>20.0</td><td>5</td></tr><tr><td>T-Bull</td><td>actionindiestrategy</td><td>20.0</td><td>5</td></tr><tr><td>Tate Multimedia</td><td>actionracingsimulationsports</td><td>20.0</td><td>5</td></tr><tr><td>Thor Gaming</td><td>indiestrategy</td><td>20.0</td><td>5</td></tr><tr><td>ThroneLab</td><td>casualindieracingsimulation</td><td>20.0</td><td>5</td></tr><tr><td>Toffee Cafe</td><td>casualrpg</td><td>20.0</td><td>5</td></tr><tr><td>Tony Wang</td><td>animation & modelingdesign & illustrationeducationgame developmentsoftware trainingutilities</td><td>20.0</td><td>5</td></tr><tr><td>TopWare Interactive</td><td>indierpg</td><td>20.0</td><td>5</td></tr><tr><td>U24 Solutions</td><td>actionadventureearly accessracing</td><td>20.0</td><td>5</td></tr><tr><td>Unbound Creations</td><td>adventureindierpg</td><td>20.0</td><td>5</td></tr><tr><td>VR RETRO REMASTER</td><td>actioncasualindie</td><td>20.0</td><td>5</td></tr><tr><td>VRillAR</td><td>actioncasualearly accessfree to play</td><td>20.0</td><td>5</td></tr><tr><td>Vagabond Dog</td><td>indie</td><td>20.0</td><td>5</td></tr><tr><td>Visualnoveler</td><td>actionadventureindie</td><td>20.0</td><td>5</td></tr><tr><td>W. T. B.</td><td>actioncasualindie</td><td>20.0</td><td>5</td></tr><tr><td>Wainstop James</td><td>adventureindie</td><td>20.0</td><td>10</td></tr><tr><td>WhiteLakeStudio</td><td>actioncasualindie</td><td>20.0</td><td>5</td></tr><tr><td>Wreck Tangle Games</td><td>actionadventureindiesimulation</td><td>20.0</td><td>5</td></tr><tr><td>XGen Studios</td><td>adventurecasualindierpg</td><td>20.0</td><td>5</td></tr><tr><td>Yume Creations</td><td>adventurenuditysexual content</td><td>20.0</td><td>5</td></tr><tr><td>Zerouno Games</td><td>actionindie</td><td>20.0</td><td>5</td></tr><tr><td>eiNpictures</td><td>casualindie</td><td>20.0</td><td>5</td></tr><tr><td>kan.kikuchi</td><td>casualindie</td><td>20.0</td><td>5</td></tr><tr><td>meokigame</td><td>actionadventurecasualindiesimulationsportsstrategy</td><td>20.0</td><td>10</td></tr><tr><td>КиКо</td><td>indie</td><td>20.0</td><td>25</td></tr><tr><td>悦艺工作室</td><td>adventurecasualsimulationstrategy</td><td>20.0</td><td>5</td></tr><tr><td>方块游戏(CubeGame)</td><td>casualindie</td><td>20.0</td><td>10</td></tr><tr><td>电钮组</td><td>casualindierpgsimulation</td><td>20.0</td><td>5</td></tr><tr><td>白信鸽工作室</td><td>casualindiesimulationstrategy</td><td>20.0</td><td>5</td></tr><tr><td>致意</td><td>casualindierpgsimulationsports</td><td>20.0</td><td>5</td></tr><tr><td>2K</td><td>simulationsports</td><td>19.402985074626866</td><td>67</td></tr><tr><td>Winter Wolves</td><td>adventurecasualindie</td><td>19.230769230769234</td><td>26</td></tr><tr><td>ebi-hime</td><td>adventurecasualindie</td><td>19.230769230769234</td><td>26</td></tr><tr><td>Headup</td><td>actionadventureindie</td><td>18.91891891891892</td><td>37</td></tr><tr><td>Displacement Studios</td><td>actionadventureindie</td><td>18.75</td><td>16</td></tr><tr><td>Interplay</td><td>actionadventurerpg</td><td>18.75</td><td>16</td></tr><tr><td>SMU Guildhall</td><td>actionfree to playindie</td><td>18.75</td><td>16</td></tr><tr><td>Topware Interactive</td><td>strategy</td><td>18.75</td><td>16</td></tr><tr><td>Gamera Games</td><td>indie</td><td>18.51851851851852</td><td>27</td></tr><tr><td>Eroge Japan</td><td>adventurecasualindie</td><td>18.181818181818183</td><td>11</td></tr><tr><td>IndieGala</td><td>actioncasualindie</td><td>18.181818181818183</td><td>11</td></tr><tr><td>Orangepixel</td><td>actionindie</td><td>18.181818181818183</td><td>11</td></tr><tr><td>Phoenixxx Games</td><td>casualindie</td><td>18.181818181818183</td><td>22</td></tr><tr><td>Thunderful Publishing</td><td>action</td><td>18.181818181818183</td><td>11</td></tr><tr><td>Vertigo Games</td><td>adventureindie</td><td>18.181818181818183</td><td>11</td></tr><tr><td>exosyphen studios</td><td>indie</td><td>18.181818181818183</td><td>11</td></tr><tr><td>indienova</td><td>actionadventureindierpg</td><td>18.181818181818183</td><td>11</td></tr><tr><td>Armor Games Studios</td><td>adventureindie</td><td>17.857142857142858</td><td>28</td></tr><tr><td>Good Shepherd Entertainment</td><td>actionindie</td><td>17.857142857142858</td><td>28</td></tr><tr><td>Funbox Media Ltd</td><td>action</td><td>17.77777777777778</td><td>45</td></tr><tr><td>Jetdogs Studios</td><td>casualindiestrategy</td><td>17.647058823529413</td><td>34</td></tr><tr><td>Neon Doctrine</td><td>actionadventureindierpg</td><td>17.647058823529413</td><td>17</td></tr><tr><td>Xbox Game Studios</td><td>action</td><td>17.391304347826086</td><td>46</td></tr><tr><td>Electronic Arts</td><td>action</td><td>17.045454545454543</td><td>88</td></tr><tr><td>2P Games</td><td>actioncasualearly accessrpgsimulation</td><td>16.666666666666664</td><td>6</td></tr><tr><td>34BigThings srl</td><td>racing</td><td>16.666666666666664</td><td>6</td></tr><tr><td>Alda Games</td><td>actioncasualindiestrategy</td><td>16.666666666666664</td><td>6</td></tr><tr><td>Alientrap</td><td>actionfree to playindie</td><td>16.666666666666664</td><td>6</td></tr><tr><td>Aurora</td><td>indiesimulation</td><td>16.666666666666664</td><td>6</td></tr><tr><td>Bartoš Studio</td><td>actioncasualfree to playindiesports</td><td>16.666666666666664</td><td>6</td></tr><tr><td>Barty Games</td><td>actionindie</td><td>16.666666666666664</td><td>6</td></tr><tr><td>Blue Wizard Digital</td><td>actionfree to playrpg</td><td>16.666666666666664</td><td>6</td></tr><tr><td>Boogygames Studios</td><td>adventurecasualindiestrategy</td><td>16.666666666666664</td><td>78</td></tr><tr><td>Bossa Studios</td><td>actionadventureearly accessindiemassively multiplayer</td><td>16.666666666666664</td><td>6</td></tr><tr><td>Brouillard</td><td>indierpgsimulation</td><td>16.666666666666664</td><td>6</td></tr><tr><td>Corradi Games</td><td>casual</td><td>16.666666666666664</td><td>6</td></tr><tr><td>Crescent Moon Games</td><td>indie</td><td>16.666666666666664</td><td>18</td></tr><tr><td>Digital Crafter, Light of Creators</td><td>casualindie</td><td>16.666666666666664</td><td>6</td></tr><tr><td>Doubleton Game Studio</td><td>adventureindie</td><td>16.666666666666664</td><td>6</td></tr><tr><td>Dystopian Edge Publishing</td><td>adventurecasualindiesimulation</td><td>16.666666666666664</td><td>6</td></tr><tr><td>Fantastico Studio</td><td>adventureindie</td><td>16.666666666666664</td><td>6</td></tr><tr><td>Fireshine Games</td><td>actionadventureindie</td><td>16.666666666666664</td><td>12</td></tr><tr><td>Flyhigh Works</td><td>actioncasualindie</td><td>16.666666666666664</td><td>18</td></tr><tr><td>Freedom Games</td><td>actionadventureindie</td><td>16.666666666666664</td><td>24</td></tr><tr><td>GameDev_ToolMaker</td><td>animation & modelingdesign & illustrationgame developmentphoto editingsoftware trainingutilitiesvideo productionweb publishing</td><td>16.666666666666664</td><td>6</td></tr><tr><td>Gestmorph Games</td><td>casualindie</td><td>16.666666666666664</td><td>6</td></tr><tr><td>HeroLabs</td><td>rpgsimulationstrategy</td><td>16.666666666666664</td><td>6</td></tr><tr><td>Idea Cabin</td><td>actionadventureindie</td><td>16.666666666666664</td><td>6</td></tr><tr><td>Interplay Entertainment Corp.</td><td>actionadventuresimulation</td><td>16.666666666666664</td><td>24</td></tr><tr><td>LGV</td><td>actionadventurecasualindierpgsports</td><td>16.666666666666664</td><td>6</td></tr><tr><td>Luden.io</td><td>indiesimulation</td><td>16.666666666666664</td><td>6</td></tr><tr><td>MAGIC Spell Studios</td><td>adventurefree to playindiesimulation</td><td>16.666666666666664</td><td>6</td></tr><tr><td>Mastertronic</td><td>indie</td><td>16.666666666666664</td><td>6</td></tr><tr><td>Midnight Games</td><td>massively multiplayerracingsimulationsports</td><td>16.666666666666664</td><td>6</td></tr><tr><td>Mutant Entertainment Studios</td><td>casualindierpg</td><td>16.666666666666664</td><td>6</td></tr><tr><td>Natsume Inc.</td><td>adventurerpgsimulation</td><td>16.666666666666664</td><td>6</td></tr><tr><td>Neko Entertainment</td><td>casualindie</td><td>16.666666666666664</td><td>6</td></tr><tr><td>Owlchemy Labs</td><td>actioncasualindiestrategy</td><td>16.666666666666664</td><td>6</td></tr><tr><td>Playsaurus</td><td>actionadventurecasualearly accessindierpgsimulationstrategy</td><td>16.666666666666664</td><td>6</td></tr><tr><td>Polantronic</td><td>actionadventure</td><td>16.666666666666664</td><td>6</td></tr><tr><td>Prestige Games</td><td>adventureindie</td><td>16.666666666666664</td><td>6</td></tr><tr><td>RIVERSIDE SPORTS</td><td>action</td><td>16.666666666666664</td><td>6</td></tr><tr><td>Rabotiagi games</td><td>actionadventureindierpgsimulation</td><td>16.666666666666664</td><td>6</td></tr><tr><td>Rank17</td><td>actionadventureearly access</td><td>16.666666666666664</td><td>6</td></tr><tr><td>Resolution Games</td><td>action</td><td>16.666666666666664</td><td>6</td></tr><tr><td>Robot Entertainment</td><td>indiestrategy</td><td>16.666666666666664</td><td>6</td></tr><tr><td>Sergey Bobrov</td><td>indiestrategy</td><td>16.666666666666664</td><td>6</td></tr><tr><td>Shiro Unlimited</td><td>indiesimulationstrategy</td><td>16.666666666666664</td><td>6</td></tr><tr><td>Skywalker HK</td><td>adventureindierpg</td><td>16.666666666666664</td><td>6</td></tr><tr><td>Starmyth</td><td>actionadventureindie</td><td>16.666666666666664</td><td>6</td></tr><tr><td>Survios</td><td>actionindiestrategy</td><td>16.666666666666664</td><td>6</td></tr><tr><td>Tale of Tales</td><td>actioncasualindiesimulation</td><td>16.666666666666664</td><td>6</td></tr><tr><td>Tero Lunkka, Valkeala Software</td><td>adventurecasualindie</td><td>16.666666666666664</td><td>6</td></tr><tr><td>Theodor Niklas</td><td>actionadventureindiesimulation</td><td>16.666666666666664</td><td>6</td></tr><tr><td>VRKiwi</td><td>actionadventure</td><td>16.666666666666664</td><td>6</td></tr><tr><td>Way Down Deep</td><td>adventureindie</td><td>16.666666666666664</td><td>6</td></tr><tr><td>XD</td><td>adventurecasualindiesimulationstrategy</td><td>16.666666666666664</td><td>6</td></tr><tr><td>Xefier Games Inc.</td><td>actionearly access</td><td>16.666666666666664</td><td>6</td></tr><tr><td>derevotyan</td><td>actionadventure</td><td>16.666666666666664</td><td>6</td></tr><tr><td>Ripknot Systems</td><td>casualindie</td><td>16.363636363636363</td><td>55</td></tr><tr><td>Team17 Digital Ltd</td><td>strategy</td><td>16.216216216216218</td><td>37</td></tr><tr><td>Gotcha Gotcha Games</td><td>rpg</td><td>16.129032258064516</td><td>31</td></tr><tr><td>Meridian4</td><td>actionadventureindie</td><td>16.129032258064516</td><td>31</td></tr><tr><td>Excalibur Publishing</td><td>simulation</td><td>15.789473684210526</td><td>19</td></tr><tr><td>Gigantum Games</td><td>adventureindie</td><td>15.789473684210526</td><td>19</td></tr><tr><td>Movavi Software</td><td>animation & modelingaudio productiondesign & illustrationeducationphoto editingsoftware trainingutilitiesvideo production</td><td>15.789473684210526</td><td>19</td></tr><tr><td>Kedexa</td><td>casual</td><td>15.625</td><td>32</td></tr><tr><td>PsychoFlux Entertainment</td><td>casualindie</td><td>15.555555555555555</td><td>45</td></tr><tr><td>Funcom</td><td>adventure</td><td>15.384615384615385</td><td>13</td></tr><tr><td>Ivanovich Games</td><td>actionindiesimulation</td><td>15.384615384615385</td><td>13</td></tr><tr><td>Whale Rock Games</td><td>actionadventureearly accessindiesimulation</td><td>15.384615384615385</td><td>13</td></tr><tr><td>Wired Productions</td><td>adventurecasualindie</td><td>15.384615384615385</td><td>13</td></tr><tr><td>Droid Riot</td><td>actionadventureindie</td><td>15.217391304347828</td><td>46</td></tr><tr><td>KISS ltd</td><td>actionindie</td><td>15.151515151515152</td><td>33</td></tr><tr><td>Volens Nolens Games</td><td>actionadventureindie</td><td>14.893617021276595</td><td>47</td></tr><tr><td>Hede</td><td>actionadventurecasualindiesimulationstrategy</td><td>14.814814814814813</td><td>54</td></tr><tr><td>Piece Of Voxel</td><td>casualindiestrategy</td><td>14.814814814814813</td><td>81</td></tr><tr><td>Tero Lunkka</td><td>actionadventureindie</td><td>14.705882352941178</td><td>68</td></tr><tr><td>505 Games</td><td>actionadventure</td><td>14.634146341463413</td><td>41</td></tr><tr><td>Alternative Software Ltd</td><td>simulationsports</td><td>14.285714285714285</td><td>21</td></tr><tr><td>Ankama Games</td><td>adventureearly accessindierpgstrategy</td><td>14.285714285714285</td><td>7</td></tr><tr><td>Axyos Games</td><td>actionadventurecasualindierpgsimulation</td><td>14.285714285714285</td><td>7</td></tr><tr><td>BadLand Publishing</td><td>adventureindie</td><td>14.285714285714285</td><td>14</td></tr><tr><td>Campus ADN</td><td>actionfree to playindie</td><td>14.285714285714285</td><td>7</td></tr><tr><td>Clique Games</td><td>actionearly accesssports</td><td>14.285714285714285</td><td>7</td></tr><tr><td>Colossus Game Studio</td><td>casualindiestrategy</td><td>14.285714285714285</td><td>7</td></tr><tr><td>Cotton Game</td><td>actionadventureindie</td><td>14.285714285714285</td><td>7</td></tr><tr><td>Cristian Manolachi, Atomic Fabrik</td><td>adventurecasualindiesimulationsports</td><td>14.285714285714285</td><td>21</td></tr><tr><td>Ghost Machine</td><td>indierpgstrategy</td><td>14.285714285714285</td><td>7</td></tr><tr><td>Hyper Hippo Games</td><td>casualindie</td><td>14.285714285714285</td><td>7</td></tr><tr><td>Immersion</td><td>casualfree to playsportsstrategy</td><td>14.285714285714285</td><td>7</td></tr><tr><td>Kerim Kumbasar</td><td>actionadventurecasualindiesimulationsportsstrategy</td><td>14.285714285714285</td><td>7</td></tr><tr><td>Koch Media</td><td>utilities</td><td>14.285714285714285</td><td>7</td></tr><tr><td>META Publishing</td><td>actionadventurecasualfree to playindiemassively multiplayerracingsimulationstrategy</td><td>14.285714285714285</td><td>7</td></tr><tr><td>Modern Wolf</td><td>indierpgstrategy</td><td>14.285714285714285</td><td>7</td></tr><tr><td>Narko Games</td><td>actionadventuregoreindieviolent</td><td>14.285714285714285</td><td>14</td></tr><tr><td>Prime Bit Games SA</td><td>adventure</td><td>14.285714285714285</td><td>7</td></tr><tr><td>Rogue Games, Inc.</td><td>actionfree to playindiestrategy</td><td>14.285714285714285</td><td>7</td></tr><tr><td>SRS Games</td><td>actioncasualindiestrategy</td><td>14.285714285714285</td><td>7</td></tr><tr><td>Satur Entertainment</td><td>actioncasualindierpgsimulationstrategy</td><td>14.285714285714285</td><td>7</td></tr><tr><td>Seaborgium Entertainment</td><td>actionadventureindierpgsimulation</td><td>14.285714285714285</td><td>7</td></tr><tr><td>Sedoc LLC</td><td>indiestrategy</td><td>14.285714285714285</td><td>7</td></tr><tr><td>WELOVEBOT CO., LTD.</td><td>casualearly accessindierpgsimulationstrategy</td><td>14.285714285714285</td><td>7</td></tr><tr><td>YJM GAMES</td><td>actionadventurerpg</td><td>14.285714285714285</td><td>7</td></tr><tr><td>Yogscast Games</td><td>actionadventureindie</td><td>14.285714285714285</td><td>7</td></tr><tr><td>tinyBuild</td><td>actionadventureindie</td><td>13.88888888888889</td><td>72</td></tr><tr><td>SA Industry</td><td>actionadventurecasualindie</td><td>13.793103448275861</td><td>87</td></tr><tr><td>My Way Games</td><td>actionadventurecasualindie</td><td>13.636363636363635</td><td>66</td></tr><tr><td>New Reality Games</td><td>adventureindierpg</td><td>13.513513513513514</td><td>37</td></tr><tr><td>Focus Entertainment</td><td>actionrpg</td><td>13.461538461538462</td><td>52</td></tr><tr><td>Nacon</td><td>sports</td><td>13.333333333333334</td><td>60</td></tr><tr><td>Yash Future Tech Solutions Pvt Ltd</td><td>racingsports</td><td>13.333333333333334</td><td>15</td></tr><tr><td>Sokpop Collective</td><td>actionadventureindie</td><td>13.131313131313133</td><td>99</td></tr><tr><td>Atomic Fabrik, Cristian Manolachi</td><td>casualindieracingsimulationsports</td><td>13.043478260869565</td><td>46</td></tr><tr><td>Plug In Digital</td><td>actionindie</td><td>13.0</td><td>100</td></tr><tr><td>Trinity Project</td><td>actionindie</td><td>12.76595744680851</td><td>47</td></tr><tr><td>-</td><td>actionadventureindie</td><td>12.5</td><td>8</td></tr><tr><td>Art Of Adventures</td><td>actionracing</td><td>12.5</td><td>16</td></tr><tr><td>BD Games</td><td>actionadventureindierpg</td><td>12.5</td><td>8</td></tr><tr><td>Big Black Bear</td><td>casualindie</td><td>12.5</td><td>40</td></tr><tr><td>Black Lime Studio</td><td>actionindie</td><td>12.5</td><td>8</td></tr><tr><td>Coatsink</td><td>casualindie</td><td>12.5</td><td>8</td></tr><tr><td>Coldwild Games</td><td>indierpgstrategy</td><td>12.5</td><td>8</td></tr><tr><td>GexagonVR</td><td>actionadventurecasualsimulation</td><td>12.5</td><td>8</td></tr><tr><td>Hyperstrange</td><td>actionracing</td><td>12.5</td><td>8</td></tr><tr><td>INDIECN</td><td>adventurecasualindierpg</td><td>12.5</td><td>16</td></tr><tr><td>Kitfox Games</td><td>adventureindierpg</td><td>12.5</td><td>8</td></tr><tr><td>Marginal act</td><td>adventureindierpg</td><td>12.5</td><td>8</td></tr><tr><td>Milkstone Studios</td><td>actionindierpg</td><td>12.5</td><td>8</td></tr><tr><td>Self Published</td><td>adventureearly accessindierpgsimulationstrategy</td><td>12.5</td><td>8</td></tr><tr><td>Versus Evil</td><td>actionindie</td><td>12.5</td><td>24</td></tr><tr><td>bilibili</td><td>action</td><td>12.5</td><td>8</td></tr><tr><td>khos85</td><td>actionindiesimulation</td><td>12.5</td><td>8</td></tr><tr><td>KPL</td><td>actionadventureindie</td><td>12.0</td><td>25</td></tr><tr><td>JanduSoft</td><td>actionindie</td><td>11.76470588235294</td><td>17</td></tr><tr><td>Merge Games</td><td>actionadventureindierpg</td><td>11.76470588235294</td><td>17</td></tr><tr><td>PQube</td><td>actionadventure</td><td>11.363636363636363</td><td>44</td></tr><tr><td>Gameloft</td><td>actionadventurefree to playrpg</td><td>11.11111111111111</td><td>9</td></tr><tr><td>Games Operators</td><td>actionindiesimulationstrategy</td><td>11.11111111111111</td><td>9</td></tr><tr><td>HypeTrain Digital</td><td>actionadventureindierpg</td><td>11.11111111111111</td><td>18</td></tr><tr><td>Mature Games</td><td>actionadventureindierpg</td><td>11.11111111111111</td><td>9</td></tr><tr><td>Maximum Games</td><td>actionindie</td><td>11.11111111111111</td><td>9</td></tr><tr><td>MicroProse Software</td><td>actionearly accesssimulation</td><td>11.11111111111111</td><td>9</td></tr><tr><td>Team17</td><td>actionadventureindie</td><td>11.11111111111111</td><td>27</td></tr><tr><td>Vive Studios</td><td>actioncasualsimulationsports</td><td>11.11111111111111</td><td>9</td></tr><tr><td>ESDigital Games</td><td>casualsimulationstrategy</td><td>10.9375</td><td>64</td></tr><tr><td>Enaayah Software Development and Services Private Limited</td><td>actionadventurecasualindieracingsimulationsports</td><td>10.526315789473683</td><td>19</td></tr><tr><td>HandyGames</td><td>adventureindie</td><td>10.0</td><td>40</td></tr><tr><td>Headup Games</td><td>actionadventureindie</td><td>10.0</td><td>20</td></tr><tr><td>No More Robots</td><td>adventurerpgsimulationstrategy</td><td>10.0</td><td>10</td></tr><tr><td>Serenity Forge</td><td>adventureindie</td><td>10.0</td><td>10</td></tr><tr><td>Ultimate Games S.A.</td><td>actionadventureindie</td><td>10.0</td><td>20</td></tr><tr><td>THQ Nordic</td><td>action</td><td>9.6</td><td>125</td></tr><tr><td>Ahlman Game Studio</td><td>free to playindiesimulationsports</td><td>9.090909090909092</td><td>11</td></tr><tr><td>Dieselmine</td><td>adventuresimulation</td><td>9.090909090909092</td><td>11</td></tr><tr><td>None</td><td>actionindie</td><td>9.090909090909092</td><td>22</td></tr><tr><td>none</td><td>early access</td><td>9.090909090909092</td><td>11</td></tr><tr><td>Coffee Stain Publishing</td><td>casualearly access</td><td>8.333333333333332</td><td>12</td></tr><tr><td>Fury Games Production</td><td>adventurecasualindiesimulation</td><td>8.333333333333332</td><td>12</td></tr><tr><td>Humble Games</td><td>adventureindie</td><td>7.6923076923076925</td><td>26</td></tr><tr><td>Breda University of Applied Sciences</td><td>actionadventuresimulation</td><td>7.142857142857142</td><td>14</td></tr></tbody></table></div>"
      ]
     },
     "metadata": {
      "application/vnd.databricks.v1+output": {
       "addedWidgets": {},
       "aggData": [],
       "aggError": "",
       "aggOverflow": false,
       "aggSchema": [],
       "aggSeriesLimitReached": false,
       "aggType": "",
       "arguments": {},
       "columnCustomDisplayInfos": {},
       "data": [
        [
         "Adamvision Studios",
         "actioncasualindie",
         100,
         9
        ],
        [
         "Attack Studio",
         "casual",
         100,
         6
        ],
        [
         "Cherry Kiss Games",
         "casual",
         100,
         6
        ],
        [
         "ChessBase GmbH",
         "strategy",
         100,
         8
        ],
        [
         "DIG Publishing",
         "casualindie",
         100,
         10
        ],
        [
         "Do Games Limited",
         "adventurecasual",
         100,
         6
        ],
        [
         "DominiGames",
         "adventurecasual",
         100,
         13
        ],
        [
         "Dovetail Games - Trains",
         "simulation",
         100,
         5
        ],
        [
         "Epic Games, Inc.",
         "action",
         100,
         5
        ],
        [
         "GirlGames",
         "casualindierpgsimulation",
         100,
         7
        ],
        [
         "Hunny Bunny Studio",
         "casualindie",
         100,
         14
        ],
        [
         "InArcade",
         "actioncasualindie",
         100,
         6
        ],
        [
         "Kedronic UAB",
         "casualindie",
         100,
         5
        ],
        [
         "LKMAD",
         "adventurecasualindie",
         100,
         6
        ],
        [
         "Majesco Entertainment",
         "action",
         100,
         5
        ],
        [
         "MoeNovel",
         "adventurecasualsimulation",
         100,
         8
        ],
        [
         "MojoTouch",
         "adventure",
         100,
         6
        ],
        [
         "Music Paradise",
         "audio productionutilities",
         100,
         5
        ],
        [
         "NikiGames",
         "casualindie",
         100,
         5
        ],
        [
         "Oleg Sereda",
         "casualindiestrategy",
         100,
         5
        ],
        [
         "Pirotexnik",
         "casualindie",
         100,
         8
        ],
        [
         "PopCap Games, Inc.",
         "casual",
         100,
         19
        ],
        [
         "Pro Strategy Games",
         "indiesimulationsportsstrategy",
         100,
         6
        ],
        [
         "SCS Software",
         "indiesimulation",
         100,
         6
        ],
        [
         "SMT Ent.",
         "indie",
         100,
         7
        ],
        [
         "Sports Mogul, Inc.",
         "casualsimulationsportsstrategy",
         100,
         6
        ],
        [
         "Sweety Boy",
         "casualindie",
         100,
         7
        ],
        [
         "Thedox Games",
         "casualindie",
         100,
         5
        ],
        [
         "UL",
         "utilities",
         100,
         5
        ],
        [
         "Warner Bros. Interactive Entertainment, Feral Interactive (Mac)",
         "actionadventure",
         100,
         5
        ],
        [
         "chengcong",
         "utilities",
         100,
         8
        ],
        [
         "id Software",
         "action",
         100,
         16
        ],
        [
         "pencil",
         "adventure",
         100,
         5
        ],
        [
         "HexWar Games",
         "strategy",
         97.61904761904762,
         42
        ],
        [
         "Blender Games",
         "casualindie",
         97.14285714285714,
         70
        ],
        [
         "Cute Hannah's Games",
         "casualindie",
         95.83333333333334,
         24
        ],
        [
         "Sacada",
         "casualindiestrategy",
         95.45454545454545,
         22
        ],
        [
         "CITY CONNECTION",
         "action",
         94.73684210526315,
         19
        ],
        [
         "Crisp App Studio",
         "adventurecasualindie",
         94.11764705882352,
         17
        ],
        [
         "Mediascape Co., Ltd.",
         "actionindie",
         94.11764705882352,
         17
        ],
        [
         "Artifex Mundi",
         "adventurecasual",
         93.33333333333333,
         75
        ],
        [
         "Big Fish Games",
         "adventurecasual",
         92.16152019002375,
         421
        ],
        [
         "Frontwing USA",
         "adventurecasual",
         91.30434782608695,
         23
        ],
        [
         "Follow The Fun",
         "casualindie",
         90.9090909090909,
         11
        ],
        [
         "Positech Games",
         "indiesimulationstrategy",
         90.9090909090909,
         11
        ],
        [
         "HeR Interactive",
         "adventure",
         90.32258064516128,
         31
        ],
        [
         "aNCHOR Inc.",
         "adventurecasual",
         90,
         10
        ],
        [
         "grin robot",
         "indie",
         90,
         10
        ],
        [
         "凝冰剑斩",
         "indierpg",
         90,
         10
        ],
        [
         "Erbe Software",
         "adventure",
         88.88888888888889,
         9
        ],
        [
         "Google Inc.",
         "adventurefree to play",
         88.88888888888889,
         9
        ],
        [
         "Milestone S.r.l.",
         "racingsimulationsports",
         88.57142857142857,
         35
        ],
        [
         "Amanita Design",
         "adventurecasualindie",
         87.5,
         8
        ],
        [
         "Cakewalk",
         "audio production",
         87.5,
         8
        ],
        [
         "Dogenzaka Lab",
         "adventure",
         87.5,
         16
        ],
        [
         "GSC World Publishing",
         "strategy",
         87.5,
         8
        ],
        [
         "Quiet River",
         "casualindie",
         87.5,
         24
        ],
        [
         "b-alive gmbh",
         "casualindiesimulationstrategy",
         86.66666666666667,
         15
        ],
        [
         "BrainGoodGames",
         "strategy",
         85.71428571428571,
         7
        ],
        [
         "Dead Drop Studios LLC",
         "actionadventureindierpg",
         85.71428571428571,
         7
        ],
        [
         "Gray Boss",
         "casualindie",
         85.71428571428571,
         7
        ],
        [
         "Illwinter Game Design",
         "indiestrategy",
         85.71428571428571,
         7
        ],
        [
         "MACKINN7",
         "actioncasualindie",
         85.71428571428571,
         21
        ],
        [
         "Small Game",
         "adventurecasualindie",
         85.71428571428571,
         7
        ],
        [
         "8floor",
         "casual",
         84.65346534653465,
         202
        ],
        [
         "Crew Lab",
         "casualindie",
         84.61538461538461,
         13
        ],
        [
         "Grey Alien Games",
         "casualindie",
         84,
         25
        ],
        [
         "SNK CORPORATION",
         "action",
         84,
         25
        ],
        [
         "Adventure Islands",
         "actionadventureindie",
         83.33333333333334,
         6
        ],
        [
         "Fractal Projects",
         "casualindie",
         83.33333333333334,
         6
        ],
        [
         "Gaijin Games",
         "actionindie",
         83.33333333333334,
         6
        ],
        [
         "IR Studio",
         "casualindie",
         83.33333333333334,
         6
        ],
        [
         "OFF1C1AL",
         "adventure",
         83.33333333333334,
         6
        ],
        [
         "Out of the Park Developments",
         "indiesimulationsportsstrategy",
         83.33333333333334,
         12
        ],
        [
         "Pokies4fun",
         "indiesimulation",
         83.33333333333334,
         6
        ],
        [
         "Polygon Art",
         "actionindie",
         83.33333333333334,
         6
        ],
        [
         "Raptor Claw Games",
         "indiesimulationstrategy",
         83.33333333333334,
         6
        ],
        [
         "Rockin' Android",
         "actionindie",
         83.33333333333334,
         6
        ],
        [
         "Shanghai Lusion Computer Software Co. Ltd.",
         "casual",
         83.33333333333334,
         6
        ],
        [
         "ShortStackStudio",
         "casual",
         83.33333333333334,
         6
        ],
        [
         "Soldak Entertainment",
         "actionindierpg",
         83.33333333333334,
         6
        ],
        [
         "Sounding Stone / 老奉毊, RMAsia",
         "adventurecasualindierpg",
         83.33333333333334,
         6
        ],
        [
         "Team Spikkeee",
         "casual",
         83.33333333333334,
         6
        ],
        [
         "Trend Redaktions- und Verlagsgesellschaft mbH",
         "simulation",
         83.33333333333334,
         6
        ],
        [
         "Zetsubou",
         "casualindiesimulation",
         83.33333333333334,
         6
        ],
        [
         "lightUP",
         "actionadventureindie",
         83.33333333333334,
         12
        ],
        [
         "Telltale Games",
         "adventure",
         82.35294117647058,
         17
        ],
        [
         "Notus Games Ltd",
         "casual",
         81.81818181818183,
         11
        ],
        [
         "Screen 7",
         "adventureindie",
         81.81818181818183,
         11
        ],
        [
         "Zeiva Inc",
         "adventurecasualindiesimulation",
         81.81818181818183,
         11
        ],
        [
         "Ziggurat, 612 Games",
         "action",
         81.81818181818183,
         11
        ],
        [
         "AIHASTO",
         "adventureindie",
         80,
         5
        ],
        [
         "Age of Fear",
         "indierpgstrategy",
         80,
         5
        ],
        [
         "Antizero company",
         "casualindie",
         80,
         5
        ],
        [
         "Arkhouse Telegnosis",
         "actionadventureindie",
         80,
         5
        ],
        [
         "Big Fat Simulations Inc.",
         "adventure",
         80,
         5
        ],
        [
         "Blaze Epic",
         "actionadventureindie",
         80,
         10
        ],
        [
         "Bliss Brain",
         "simulation",
         80,
         5
        ],
        [
         "Clarus Victoria",
         "indiesimulationstrategy",
         80,
         5
        ],
        [
         "Cyan Worlds Inc",
         "adventurecasual",
         80,
         10
        ],
        [
         "DiamosDev",
         "adventurecasualindiesimulation",
         80,
         5
        ],
        [
         "Draknek",
         "indie",
         80,
         5
        ],
        [
         "E McNeill",
         "indiestrategy",
         80,
         5
        ],
        [
         "EMIKA_GAMES",
         "indiesimulation",
         80,
         5
        ],
        [
         "Factus Games",
         "indiesimulationstrategy",
         80,
         5
        ],
        [
         "FireFly Studios",
         "simulationstrategy",
         80,
         10
        ],
        [
         "GC Games",
         "casual",
         80,
         5
        ],
        [
         "HandyGames, Black Forest Games",
         "actionindie",
         80,
         5
        ],
        [
         "Hooded Horse",
         "early accesssimulationstrategy",
         80,
         5
        ],
        [
         "InterAction studios",
         "actioncasualindie",
         80,
         5
        ],
        [
         "JOZGames",
         "actioncasualindie",
         80,
         5
        ],
        [
         "Knuckle Cracker",
         "indiesimulationstrategy",
         80,
         5
        ],
        [
         "Krome Studios",
         "actionadventureindie",
         80,
         5
        ],
        [
         "LGT SIA",
         "casualindie",
         80,
         10
        ],
        [
         "Mommy's Best Games",
         "actionindie",
         80,
         5
        ],
        [
         "Musa GUNGOR",
         "casualindiesimulationstrategy",
         80,
         5
        ],
        [
         "Old Eagle",
         "indierpg",
         80,
         5
        ],
        [
         "Redbrick Studios Ltd",
         "simulation",
         80,
         5
        ],
        [
         "Reiza Studios",
         "racingsimulationsports",
         80,
         5
        ],
        [
         "Rex Junior",
         "casualindie",
         80,
         20
        ],
        [
         "Runesoft GmbH",
         "adventure",
         80,
         5
        ],
        [
         "SAARSE",
         "casualindie",
         80,
         5
        ],
        [
         "Screaming Villains",
         "action",
         80,
         5
        ],
        [
         "Small Game Studio",
         "adventurecasualindie",
         80,
         5
        ],
        [
         "Stefan Preuss",
         "actioncasualindie",
         80,
         5
        ],
        [
         "Team Grybanser Fox",
         "actionindie",
         80,
         5
        ],
        [
         "UltimateDesktop",
         "animation & modelingdesign & illustrationearly accessutilities",
         80,
         5
        ],
        [
         "Vincent Lade",
         "actionadventurecasualindie",
         80,
         5
        ],
        [
         "Wargaming Labs",
         "strategy",
         80,
         5
        ],
        [
         "advocatus",
         "actionadventurecasualindie",
         80,
         5
        ],
        [
         "Wolverine Studios",
         "indiesimulationsportsstrategy",
         79.16666666666666,
         24
        ],
        [
         "TigerQiuQiu",
         "actioncasualindie",
         78.94736842105263,
         19
        ],
        [
         "For Kids",
         "casualindie",
         78.125,
         32
        ],
        [
         "N3V Games",
         "simulation",
         77.77777777777779,
         9
        ],
        [
         "Remix Games",
         "casual",
         77.77777777777779,
         9
        ],
        [
         "Sandlot Games",
         "casual",
         77.77777777777779,
         9
        ],
        [
         "Zloy Krot Studio",
         "casualindie",
         77.77777777777779,
         9
        ],
        [
         "Arc System Works",
         "action",
         77.41935483870968,
         31
        ],
        [
         "Interactive Pixel Entmt.",
         "casualindie",
         76.47058823529412,
         17
        ],
        [
         "Adobe",
         "animation & modelingdesign & illustrationgame development",
         75,
         8
        ],
        [
         "Cleverweek",
         "casualindie",
         75,
         8
        ],
        [
         "FIVE-BN GAMES",
         "adventurecasual",
         75,
         24
        ],
        [
         "Humongous Entertainment, Nightdive Studios",
         "adventurecasual",
         75,
         32
        ],
        [
         "NekoNyan Ltd., HIKARI FIELD",
         "adventurecasual",
         75,
         8
        ],
        [
         "NeocoreGames",
         "actionadventureindierpg",
         75,
         8
        ],
        [
         "Phoenix Games",
         "adventurerpgstrategy",
         75,
         12
        ],
        [
         "Playtouch",
         "casualindie",
         75,
         8
        ],
        [
         "Sigyaad Team",
         "casual",
         75,
         12
        ],
        [
         "The Revills Games",
         "casualindie",
         75,
         8
        ],
        [
         "Yacht Club Games",
         "actionadventureindie",
         75,
         8
        ],
        [
         "Qumaron",
         "adventurecasualsimulationstrategy",
         74.28571428571429,
         35
        ],
        [
         "Wadjet Eye Games",
         "adventureindie",
         73.33333333333333,
         15
        ],
        [
         "Anatoliy Loginovskikh",
         "adventurecasualindie",
         73.07692307692307,
         26
        ],
        [
         "Bullid Games",
         "casualindie",
         72.22222222222221,
         18
        ],
        [
         "Appnori Inc.",
         "casualearly accessindiesimulationsports",
         71.42857142857143,
         7
        ],
        [
         "Frictional Games",
         "actionadventureindie",
         71.42857142857143,
         7
        ],
        [
         "Giants Software",
         "simulation",
         71.42857142857143,
         7
        ],
        [
         "KoheiGallery",
         "actionindie",
         71.42857142857143,
         7
        ],
        [
         "Lil Hentai Games",
         "casualrpg",
         71.42857142857143,
         7
        ],
        [
         "Luci Entertainment",
         "casualindie",
         71.42857142857143,
         35
        ],
        [
         "PigeonDev",
         "indie",
         71.42857142857143,
         7
        ],
        [
         "Valorware",
         "actionadventureindierpg",
         71.42857142857143,
         7
        ],
        [
         "Vladimir Maslov",
         "casualindie",
         71.42857142857143,
         7
        ],
        [
         "gigantumgames",
         "casualindiesimulationsports",
         71.42857142857143,
         7
        ],
        [
         "orange",
         "adventure",
         71.42857142857143,
         7
        ],
        [
         "WASABI entertainment",
         "rpg",
         70.58823529411765,
         17
        ],
        [
         "DNA ARMY GAMING",
         "indiesimulation",
         70,
         10
        ],
        [
         "Mens Sana Interactive",
         "casual",
         70,
         20
        ],
        [
         "MangaGamer",
         "adventure",
         69.81132075471697,
         53
        ],
        [
         "City Interactive S.A.",
         "adventure",
         69.23076923076923,
         13
        ],
        [
         "Game for people",
         "actioncasualindie",
         69.23076923076923,
         13
        ],
        [
         "Kairosoft Co.,Ltd",
         "casualindiesimulationstrategy",
         69.23076923076923,
         26
        ],
        [
         "NedoStudio",
         "casualindie",
         69.23076923076923,
         13
        ],
        [
         "Ningbing Games",
         "adventureindierpg",
         69.23076923076923,
         13
        ],
        [
         "Sigma Team Inc.",
         "actionindierpg",
         69.23076923076923,
         13
        ],
        [
         "DigiMight",
         "casual",
         68.75,
         16
        ],
        [
         "7DOTS",
         "casualindie",
         66.66666666666666,
         6
        ],
        [
         "Abyssal Studios",
         "casualindiestrategy",
         66.66666666666666,
         9
        ],
        [
         "Beamdog",
         "adventurerpg",
         66.66666666666666,
         6
        ],
        [
         "Bloober Team SA",
         "adventureindie",
         66.66666666666666,
         6
        ],
        [
         "CCS",
         "casualindie",
         66.66666666666666,
         6
        ],
        [
         "CDIS",
         "actionadventureindie",
         66.66666666666666,
         6
        ],
        [
         "CI Games",
         "action",
         66.66666666666666,
         12
        ],
        [
         "Caiysware",
         "actionindie",
         66.66666666666666,
         6
        ],
        [
         "ChaniMK",
         "casualindiesimulation",
         66.66666666666666,
         6
        ],
        [
         "Dharker Studios Ltd",
         "adventurecasualindie",
         66.66666666666666,
         18
        ],
        [
         "Encore Software LLC",
         "casualsportsstrategy",
         66.66666666666666,
         9
        ],
        [
         "Fewjix",
         "indie",
         66.66666666666666,
         6
        ],
        [
         "Flat Cat Games",
         "casualindiesimulationstrategy",
         66.66666666666666,
         9
        ],
        [
         "GamesBraz",
         "actionadventurecasualindiestrategy",
         66.66666666666666,
         9
        ],
        [
         "Green Sauce Games",
         "casualindie",
         66.66666666666666,
         12
        ],
        [
         "Interplay Inc.",
         "action",
         66.66666666666666,
         12
        ],
        [
         "Introversion Software",
         "indiestrategy",
         66.66666666666666,
         6
        ],
        [
         "Lingtan Studio",
         "adventureindie",
         66.66666666666666,
         6
        ],
        [
         "Microïds Indie",
         "adventurecasual",
         66.66666666666666,
         12
        ],
        [
         "OnSkull Games",
         "adventurecasualindie",
         66.66666666666666,
         9
        ],
        [
         "Phoenix_co",
         "adventurecasualindie",
         66.66666666666666,
         6
        ],
        [
         "PopCap Games, Inc., Electronic Arts",
         "casual",
         66.66666666666666,
         12
        ],
        [
         "Rusty Lake",
         "adventureindie",
         66.66666666666666,
         6
        ],
        [
         "Sixteen Tons Entertainment",
         "simulationstrategy",
         66.66666666666666,
         6
        ],
        [
         "Studio Goya",
         "casualindiestrategy",
         66.66666666666666,
         9
        ],
        [
         "Tadeusz Lorkowski",
         "sports",
         66.66666666666666,
         6
        ],
        [
         "Valkyria Games",
         "indierpg",
         66.66666666666666,
         9
        ],
        [
         "Walter Machado",
         "actionindie",
         66.66666666666666,
         18
        ],
        [
         "eSolutions Nordic AB",
         "casualindiestrategy",
         66.66666666666666,
         12
        ],
        [
         "小小游戏",
         "adventurecasualindie",
         66.66666666666666,
         6
        ],
        [
         "William at Oxford",
         "casual",
         65.38461538461539,
         52
        ],
        [
         "AFBIK Studio",
         "adventurecasualindie",
         65,
         20
        ],
        [
         "Casual Arts",
         "adventurecasualindie",
         65,
         20
        ],
        [
         "Apogee Entertainment",
         "action",
         64.28571428571429,
         14
        ],
        [
         "Boom Games",
         "actionadventurecasualindierpgsimulation",
         64.28571428571429,
         14
        ],
        [
         "Educational Games",
         "casualindie",
         64.28571428571429,
         14
        ],
        [
         "Mikołaj Spychał",
         "adventurecasualindiesimulation",
         64.28571428571429,
         14
        ],
        [
         "SEGA, Feral Interactive (Mac), Feral Interactive (Linux)",
         "strategy",
         64.28571428571429,
         14
        ],
        [
         "H2 Interactive Co., Ltd.",
         "action",
         63.63636363636363,
         11
        ],
        [
         "Silver Cow Studio",
         "adventureindiesimulation",
         63.63636363636363,
         11
        ],
        [
         "Triority Interactive Novels",
         "adventurecasualindie",
         63.63636363636363,
         11
        ],
        [
         "Hosted Games",
         "adventureindierpg",
         63.29113924050633,
         79
        ],
        [
         "EGAMER",
         "actioncasualindie",
         63.1578947368421,
         19
        ],
        [
         "Valve",
         "action",
         62.857142857142854,
         35
        ],
        [
         "BufoProject",
         "casualindiesimulationstrategy",
         62.5,
         8
        ],
        [
         "ChangeMe",
         "actionadventurecasualindieracingsimulationsports",
         62.5,
         8
        ],
        [
         "DIGIDICED",
         "casualindiestrategy",
         62.5,
         8
        ],
        [
         "Growfall Games",
         "casualindie",
         62.5,
         8
        ],
        [
         "Indie Games Publisher",
         "actionadventureindie",
         62.5,
         8
        ],
        [
         "PanGuoJun",
         "casualindiesimulation",
         62.5,
         8
        ],
        [
         "Perverse Games",
         "adventureindierpg",
         62.5,
         8
        ],
        [
         "Phoenix Online Publishing",
         "adventureindie",
         62.5,
         16
        ],
        [
         "Robotizar Games",
         "casual",
         62.5,
         8
        ],
        [
         "Sub Orbital Software",
         "actioncasualindie",
         62.5,
         8
        ],
        [
         "Winged Cloud",
         "simulation",
         62.5,
         40
        ],
        [
         "橙光游戏",
         "adventurecasualindierpgstrategy",
         62.06896551724138,
         29
        ],
        [
         "Zoo Corporation",
         "casual",
         61.111111111111114,
         36
        ],
        [
         "Acram Digital",
         "casualindiestrategy",
         60,
         5
        ],
        [
         "Ambiera",
         "simulationstrategy",
         60,
         5
        ],
        [
         "BANDAI NAMCO Entertainment Europe",
         "adventure",
         60,
         5
        ],
        [
         "Bad Kid Games",
         "casualindie",
         60,
         5
        ],
        [
         "Beijing Happy Entertainment Technology",
         "adventurerpg",
         60,
         5
        ],
        [
         "BlueLine Games",
         "casualindiestrategy",
         60,
         5
        ],
        [
         "Childish Things Ltd",
         "simulationsportsstrategy",
         60,
         5
        ],
        [
         "ClickGames",
         "actionindie",
         60,
         5
        ],
        [
         "Cloak and Dagger Games",
         "adventure",
         60,
         5
        ],
        [
         "Cosmi Valusoft",
         "simulation",
         60,
         20
        ],
        [
         "Culture Select",
         "adventurecasualindie",
         60,
         5
        ],
        [
         "Diggidy.net",
         "indiesimulation",
         60,
         5
        ],
        [
         "DrinkBox Studios",
         "actionadventureindie",
         60,
         5
        ],
        [
         "Enkian Games",
         "adventureindie",
         60,
         5
        ],
        [
         "FarSight Studios",
         "simulationsports",
         60,
         5
        ],
        [
         "Flying Star Games",
         "adventurerpgstrategy",
         60,
         5
        ],
        [
         "Forever Young Games",
         "casualindiesimulationsportsstrategy",
         60,
         5
        ],
        [
         "FurGoldGames",
         "actionadventureindie",
         60,
         5
        ],
        [
         "Fürst",
         "actionadventurecasualindie",
         60,
         5
        ],
        [
         "GB Patch Games",
         "casualfree to playindie",
         60,
         5
        ],
        [
         "GGaming",
         "adventureindiesimulation",
         60,
         5
        ],
        [
         "Gales Corp. ",
         "indie",
         60,
         5
        ],
        [
         "Gaming Factory, Ultimate Games S.A.",
         "adventurecasualindiesimulation",
         60,
         5
        ],
        [
         "HIKARI FIELD",
         "adventurecasual",
         60,
         20
        ],
        [
         "Heimo Game Studio",
         "casual",
         60,
         5
        ],
        [
         "Henteko Doujin",
         "actionindie",
         60,
         25
        ],
        [
         "Hot Chill",
         "casualindie",
         60,
         5
        ],
        [
         "HugePixel",
         "actionadventureindie",
         60,
         15
        ],
        [
         "Intragames",
         "adventure",
         60,
         5
        ],
        [
         "InvertMouse",
         "indie",
         60,
         10
        ],
        [
         "Ithaqua Labs",
         "adventureindie",
         60,
         5
        ],
        [
         "JinDing Chen",
         "casualindiesimulation",
         60,
         5
        ],
        [
         "Kool2Play",
         "indie",
         60,
         5
        ],
        [
         "Nova's Army",
         "indie",
         60,
         5
        ],
        [
         "NovaLogic, THQ Nordic",
         "action",
         60,
         15
        ],
        [
         "PROATIV GAMES",
         "casualindie",
         60,
         15
        ],
        [
         "Render System",
         "casualindie",
         60,
         5
        ],
        [
         "RetroBug",
         "casual",
         60,
         5
        ],
        [
         "Roencia Game Creators",
         "design & illustration",
         60,
         5
        ],
        [
         "Rosa Special Studio",
         "adventurecasualindierpg",
         60,
         10
        ],
        [
         "Screaming Bee",
         "audio productionutilities",
         60,
         5
        ],
        [
         "Simple Logic Games",
         "casual",
         60,
         5
        ],
        [
         "Skybound Games",
         "adventure",
         60,
         10
        ],
        [
         "Soma Games",
         "adventureindie",
         60,
         5
        ],
        [
         "Specialbit Studio",
         "adventurecasualindie",
         60,
         5
        ],
        [
         "Star Consult S.r.l.",
         "adventureindiesimulation",
         60,
         5
        ],
        [
         "Starni Games",
         "simulationstrategy",
         60,
         5
        ],
        [
         "Studio Thug Life",
         "casualindie",
         60,
         5
        ],
        [
         "SunshineOvercast",
         "casualindie",
         60,
         5
        ],
        [
         "TakeThem.Games",
         "actionadventureindie",
         60,
         5
        ],
        [
         "Temple Gates Games",
         "strategy",
         60,
         5
        ],
        [
         "Tortuga Team",
         "adventurecasualindierpgstrategy",
         60,
         5
        ],
        [
         "Ubisoft Entertainment",
         "actionadventure",
         60,
         5
        ],
        [
         "Unfinished Pixel",
         "casualindiesports",
         60,
         5
        ],
        [
         "Warner Bros. Games, Warner Bros. Interactive Entertainment",
         "action",
         60,
         5
        ],
        [
         "XF Game",
         "casualearly accessindie",
         60,
         5
        ],
        [
         "武汉幻狮科技有限公司",
         "indiestrategy",
         60,
         5
        ],
        [
         "Choice of Games",
         "adventureindierpg",
         59.71223021582733,
         139
        ],
        [
         "NS",
         "actionindie",
         58.82352941176471,
         17
        ],
        [
         "Reforged Group",
         "indie",
         58.42696629213483,
         89
        ],
        [
         "CAPCOM Co., Ltd.",
         "action",
         58.333333333333336,
         24
        ],
        [
         "Clouded Leopard Entertainment",
         "rpg",
         58.333333333333336,
         12
        ],
        [
         "HUNTERS",
         "action",
         58.333333333333336,
         12
        ],
        [
         "Jackbox Games, Inc.",
         "casualindie",
         58.333333333333336,
         24
        ],
        [
         "Spike Chunsoft Co., Ltd.",
         "adventure",
         57.57575757575758,
         33
        ],
        [
         "BJGameInd",
         "indie",
         57.14285714285714,
         7
        ],
        [
         "Cloaz Studio",
         "adventurecasualindierpg",
         57.14285714285714,
         7
        ],
        [
         "Deceptive Games Ltd.",
         "actionadventureindie",
         57.14285714285714,
         7
        ],
        [
         "Devdan Games",
         "actionadventurecasualindie",
         57.14285714285714,
         7
        ],
        [
         "Emblematic Group",
         "free to playindiesimulation",
         57.14285714285714,
         7
        ],
        [
         "Hamsters Gaming",
         "indiesimulationstrategy",
         57.14285714285714,
         7
        ],
        [
         "Kavkaz Sila Games",
         "simulation",
         57.14285714285714,
         14
        ],
        [
         "Khud0",
         "actionindie",
         57.14285714285714,
         7
        ],
        [
         "Laush Studio",
         "casualindie",
         57.14285714285714,
         126
        ],
        [
         "M9 Games",
         "adventurecasualindie",
         57.14285714285714,
         7
        ],
        [
         "Mikhail Melnikov",
         "casualindie",
         57.14285714285714,
         7
        ],
        [
         "Mismatch Studio",
         "casualindie",
         57.14285714285714,
         7
        ],
        [
         "MobileFusion Apps Ltd",
         "casual",
         57.14285714285714,
         7
        ],
        [
         "Music Breath",
         "audio productionutilities",
         57.14285714285714,
         14
        ],
        [
         "Paul Connor",
         "actioncasual",
         57.14285714285714,
         14
        ],
        [
         "RandomSpin",
         "casual",
         57.14285714285714,
         7
        ],
        [
         "Revolution Software Ltd",
         "adventure",
         57.14285714285714,
         7
        ],
        [
         "RhinoGearz",
         "casualindiesimulation",
         57.14285714285714,
         7
        ],
        [
         "SimBin",
         "racing",
         57.14285714285714,
         7
        ],
        [
         "XSEED Games, Marvelous USA, Inc., Marvelous",
         "action",
         57.14285714285714,
         21
        ],
        [
         "YAW Studios",
         "casualindie",
         57.14285714285714,
         14
        ],
        [
         "PlayFirst",
         "casual",
         56.25,
         16
        ],
        [
         "Zachtronics",
         "indiesimulation",
         56.25,
         16
        ],
        [
         "Cronostase",
         "casualindie",
         55.55555555555556,
         9
        ],
        [
         "EntwicklerX",
         "actioncasualindie",
         55.55555555555556,
         9
        ],
        [
         "GFI",
         "adventurecasual",
         55.55555555555556,
         9
        ],
        [
         "Mykhail Konokh",
         "actionindie",
         55.55555555555556,
         9
        ],
        [
         "iWin",
         "casual",
         55.55555555555556,
         18
        ],
        [
         "rondomedia GmbH",
         "simulation",
         55.55555555555556,
         9
        ],
        [
         "3dm_live_wallpapers",
         "design & illustrationutilities",
         54.54545454545454,
         11
        ],
        [
         "Blowfish Studios",
         "actionadventureindie",
         54.54545454545454,
         11
        ],
        [
         "Eversim",
         "simulationstrategy",
         54.54545454545454,
         11
        ],
        [
         "My Label Game Studio",
         "casualindie",
         54.54545454545454,
         22
        ],
        [
         "SOFTSTAR ENTERTAINMENT",
         "rpg",
         54.54545454545454,
         22
        ],
        [
         "Vidas Salavejus",
         "indie",
         54.54545454545454,
         11
        ],
        [
         "Yai Gameworks",
         "adventureindie",
         54.54545454545454,
         11
        ],
        [
         "Ghostlight LTD",
         "adventurerpgstrategy",
         53.84615384615385,
         13
        ],
        [
         "INTI CREATES CO., LTD.",
         "action",
         53.84615384615385,
         13
        ],
        [
         "NVLMaker",
         "adventurecasualindie",
         53.84615384615385,
         13
        ],
        [
         "Phr00t's Software",
         "actionindierpg",
         53.84615384615385,
         13
        ],
        [
         "Retroism",
         "simulation",
         53.84615384615385,
         13
        ],
        [
         "Boomzap Inc",
         "casual",
         53.333333333333336,
         15
        ],
        [
         "L. Stotch",
         "casualfree to playindie",
         53.333333333333336,
         15
        ],
        [
         "Andy Jurko",
         "casualindiestrategy",
         52.94117647058824,
         17
        ],
        [
         "HotFoodGames",
         "indie",
         52.94117647058824,
         17
        ],
        [
         "upjers",
         "casualfree to playsimulation",
         52.63157894736842,
         19
        ],
        [
         "RunServer",
         "casualindie",
         52.38095238095239,
         21
        ],
        [
         "familyplay",
         "casual",
         51.35135135135135,
         37
        ],
        [
         "Kagura Games",
         "indierpg",
         50.63291139240506,
         79
        ],
        [
         "AZAMATIKA",
         "casualindie",
         50,
         6
        ],
        [
         "Adam DeLease",
         "actionadventureindie",
         50,
         6
        ],
        [
         "Alcedo Games",
         "casualindie",
         50,
         6
        ],
        [
         "Anawiki Games",
         "casualindie",
         50,
         6
        ],
        [
         "Application Systems Heidelberg",
         "adventureindie",
         50,
         14
        ],
        [
         "Argent Games",
         "casual",
         50,
         8
        ],
        [
         "BattleGoat Studios",
         "indiesimulationstrategy",
         50,
         6
        ],
        [
         "Bitten Toast Games Inc.",
         "actionindie",
         50,
         6
        ],
        [
         "Bonus Stage Publishing",
         "actionadventureindie",
         50,
         6
        ],
        [
         "BottleCube inc.",
         "casualsimulation",
         50,
         6
        ],
        [
         "Cateia Games",
         "adventurecasualindie",
         50,
         14
        ],
        [
         "Cosmocat",
         "actionadventureindie",
         50,
         6
        ],
        [
         "D.W.S.",
         "actionindie",
         50,
         6
        ],
        [
         "D1ONE",
         "casual",
         50,
         6
        ],
        [
         "Daisy Games",
         "adventure",
         50,
         6
        ],
        [
         "Deep Silver, CyberLink",
         "audio productiondesign & illustrationutilitiesvideo productionweb publishing",
         50,
         6
        ],
        [
         "Dexter Studios",
         "casualindie",
         50,
         6
        ],
        [
         "DigitalEZ",
         "adventurecasualindie",
         50,
         6
        ],
        [
         "DreamsSoftGames",
         "actioncasualindie",
         50,
         6
        ],
        [
         "Dymchick1",
         "actionadventureindie",
         50,
         8
        ],
        [
         "Eugen Systems",
         "indiesimulationstrategy",
         50,
         6
        ],
        [
         "FeelThere",
         "indiesimulation",
         50,
         6
        ],
        [
         "Fireproof Games",
         "adventureindie",
         50,
         6
        ],
        [
         "Flying Islands Team",
         "actionindie",
         50,
         6
        ],
        [
         "FreezeNova.Games",
         "actionindie",
         50,
         18
        ],
        [
         "Funny Twins",
         "actioncasualindiesimulation",
         50,
         8
        ],
        [
         "GTGD",
         "educationsoftware training",
         50,
         6
        ],
        [
         "Game-Labs",
         "indiesimulationstrategy",
         50,
         6
        ],
        [
         "Gemini Stars Games",
         "rpgstrategy",
         50,
         6
        ],
        [
         "Gunnar Games",
         "casual",
         50,
         6
        ],
        [
         "Hook Games",
         "casualindiestrategy",
         50,
         8
        ],
        [
         "Ironhide Game Studio",
         "strategy",
         50,
         6
        ],
        [
         "Joshua Keith",
         "casualindierpg",
         50,
         8
        ],
        [
         "KIMIDORI SOFT",
         "actionadventurecasualindie",
         50,
         8
        ],
        [
         "LU QI",
         "adventureindierpg",
         50,
         6
        ],
        [
         "Little Black Book Entertainment",
         "casualindie",
         50,
         12
        ],
        [
         "Ma Ma Software",
         "casual",
         50,
         6
        ],
        [
         "Mind Body Aware Games LLC",
         "casualfree to playsimulation",
         50,
         6
        ],
        [
         "NLB project",
         "adventureindie",
         50,
         8
        ],
        [
         "Nekomura Games",
         "casualsimulation",
         50,
         6
        ],
        [
         "Neoclassic Games",
         "casualindie",
         50,
         6
        ],
        [
         "Nicholas Rizzo",
         "actionindiestrategy",
         50,
         6
        ],
        [
         "Nyu Media",
         "actionindie",
         50,
         6
        ],
        [
         "Octavi Navarro",
         "adventureindie",
         50,
         6
        ],
        [
         "Ominous Entertainment",
         "actionindie",
         50,
         8
        ],
        [
         "OtakuMaker.com",
         "actionadventurecasualindiestrategy",
         50,
         6
        ],
        [
         "Paleno Games",
         "casualindie",
         50,
         6
        ],
        [
         "ROSEVERTE",
         "adventurecasualindiesimulation",
         50,
         12
        ],
        [
         "Renegade Sector Games",
         "actionindie",
         50,
         12
        ],
        [
         "Revmatek",
         "actionadventurecasualindiesimulation",
         50,
         12
        ],
        [
         "Rockstar Games",
         "action",
         50,
         18
        ],
        [
         "Russpuppy",
         "actioncasualindie",
         50,
         8
        ],
        [
         "SEEP",
         "actionadventureindie",
         50,
         12
        ],
        [
         "SEKTOR GAMES",
         "casualindiestrategy",
         50,
         6
        ],
        [
         "Saibot Studios",
         "actionadventureindie",
         50,
         6
        ],
        [
         "Shaman Games Studio",
         "casual",
         50,
         14
        ],
        [
         "Shiravune",
         "adventure",
         50,
         18
        ],
        [
         "Siberian Mouse",
         "adventurecasualindie",
         50,
         10
        ],
        [
         "Simon Says: Play!",
         "adventureindie",
         50,
         6
        ],
        [
         "Skunkape Games",
         "adventure",
         50,
         16
        ],
        [
         "SosiskaGames",
         "indie",
         50,
         16
        ],
        [
         "Sprovieri Games",
         "casual",
         50,
         12
        ],
        [
         "Strategic Designs Ltd.",
         "simulationsportsstrategy",
         50,
         6
        ],
        [
         "Sweet Games",
         "actionadventurecasualindierpgsimulation",
         50,
         12
        ],
        [
         "Tamashii",
         "actioncasualindie",
         50,
         16
        ],
        [
         "Thylacine Studios LLC",
         "indierpg",
         50,
         6
        ],
        [
         "Tin Man Games",
         "adventureindierpg",
         50,
         14
        ],
        [
         "Tricol Co., Ltd.",
         "actioncasualindiesimulation",
         50,
         8
        ],
        [
         "Vergiu",
         "casualindie",
         50,
         6
        ],
        [
         "VirtexUniverse",
         "casualindie",
         50,
         6
        ],
        [
         "Zojoi",
         "adventure",
         50,
         8
        ],
        [
         "bitComposer Interactive GmbH",
         "casualindiesimulation",
         50,
         8
        ],
        [
         "nonPareil Institute",
         "actionindie",
         50,
         6
        ],
        [
         "杰游科技",
         "actionadventureindie",
         50,
         18
        ],
        [
         "橘喵喵",
         "casualindiesimulation",
         50,
         6
        ],
        [
         "Bethesda Softworks",
         "action",
         49.056603773584904,
         53
        ],
        [
         "Capcom",
         "actionadventure",
         48.57142857142857,
         35
        ],
        [
         "W.T.B.",
         "casualindie",
         47.82608695652174,
         23
        ],
        [
         "ImperiumGame",
         "indie",
         47.72727272727273,
         44
        ],
        [
         "D3PUBLISHER",
         "action",
         47.05882352941176,
         17
        ],
        [
         "Ravenscourt",
         "adventure",
         47.05882352941176,
         17
        ],
        [
         "Slitherine Ltd.",
         "strategy",
         46.93877551020408,
         98
        ],
        [
         "Alawar Entertainment",
         "adventurecasualindie",
         46.728971962616825,
         107
        ],
        [
         "cBlck",
         "casualindie",
         46.666666666666664,
         15
        ],
        [
         "Tripwire Interactive",
         "action",
         46.15384615384615,
         13
        ],
        [
         "Piko Interactive LLC, Bleem!",
         "actionadventure",
         45.714285714285715,
         35
        ],
        [
         "Half-Face Games",
         "casualindie",
         45.45454545454545,
         11
        ],
        [
         "Morning Shift Studios",
         "adventurecasualindie",
         45.45454545454545,
         11
        ],
        [
         "Rising Moon Games",
         "actioncasualindie",
         45.45454545454545,
         11
        ],
        [
         "SVGames",
         "adventureindie",
         45.45454545454545,
         11
        ],
        [
         "Senpai Studios",
         "actionadventureindierpg",
         45.45454545454545,
         22
        ],
        [
         "Warfare Studios",
         "adventurecasualindierpgstrategy",
         45.45454545454545,
         22
        ],
        [
         "Xitilon",
         "actionindie",
         45.45454545454545,
         11
        ],
        [
         "All in! Games",
         "actionindie",
         44.44444444444444,
         9
        ],
        [
         "AnelaGamesStudio",
         "actioncasualindie",
         44.44444444444444,
         9
        ],
        [
         "Axis Games",
         "indiesimulationsportsstrategy",
         44.44444444444444,
         9
        ],
        [
         "Chorus Worldwide Games",
         "actionindie",
         44.44444444444444,
         9
        ],
        [
         "Dracula's Cave",
         "actionadventureindie",
         44.44444444444444,
         9
        ],
        [
         "Eastasiasoft Limited",
         "actionindie",
         44.44444444444444,
         9
        ],
        [
         "GDNomaD",
         "actionadventureindie",
         44.44444444444444,
         9
        ],
        [
         "H.P.Y.S,LLC",
         "actionadventureindierpg",
         44.44444444444444,
         9
        ],
        [
         "Lucasfilm, Disney",
         "adventure",
         44.44444444444444,
         9
        ],
        [
         "LunarCore Games",
         "actionindie",
         44.44444444444444,
         9
        ],
        [
         "Matthew Brown",
         "casualindiestrategy",
         44.44444444444444,
         9
        ],
        [
         "Mindware Co.,Ltd.",
         "actionindie",
         44.44444444444444,
         9
        ],
        [
         "Phoenix Reborn Games",
         "actionindie",
         44.44444444444444,
         9
        ],
        [
         "Spiderweb Software",
         "indierpgstrategy",
         44.44444444444444,
         18
        ],
        [
         "qureate",
         "adventureindie",
         44.44444444444444,
         9
        ],
        [
         "Quarlellle",
         "adventurecasualindie",
         44,
         25
        ],
        [
         "Starship Studio",
         "adventurecasualindierpgsimulationstrategy",
         43.75,
         16
        ],
        [
         "Paradise Project",
         "adventureindierpg",
         43.47826086956522,
         23
        ],
        [
         "Deep Silver",
         "action",
         43.24324324324324,
         37
        ],
        [
         "Disney",
         "actionadventure",
         43.24324324324324,
         37
        ],
        [
         "2tainment GmbH",
         "simulationsportsstrategy",
         42.857142857142854,
         7
        ],
        [
         "90E GAMES",
         "actioncasualindiesimulationstrategy",
         42.857142857142854,
         7
        ],
        [
         "Chilled Mouse",
         "casual",
         42.857142857142854,
         7
        ],
        [
         "Choice Provisions",
         "actionindie",
         42.857142857142854,
         7
        ],
        [
         "Digital Fusion Inc.",
         "actioncasualsimulation",
         42.857142857142854,
         7
        ],
        [
         "Dire Wolf",
         "casualindiestrategy",
         42.857142857142854,
         7
        ],
        [
         "EnsenaSoft",
         "casual",
         42.857142857142854,
         35
        ],
        [
         "Frontier Developments",
         "simulationstrategy",
         42.857142857142854,
         7
        ],
        [
         "Giiku Games",
         "adventurecasualindierpg",
         42.857142857142854,
         7
        ],
        [
         "Gravity Interactive",
         "free to playmassively multiplayerrpg",
         42.857142857142854,
         7
        ],
        [
         "Heart's Choice",
         "adventurecasualindierpg",
         42.857142857142854,
         7
        ],
        [
         "IndigoWare",
         "casualindie",
         42.857142857142854,
         7
        ],
        [
         "Individual Software",
         "software training",
         42.857142857142854,
         49
        ],
        [
         "Ironcode Gaming",
         "casual",
         42.857142857142854,
         7
        ],
        [
         "JustE Publishing",
         "indie",
         42.857142857142854,
         7
        ],
        [
         "KuKo",
         "adventure",
         42.857142857142854,
         14
        ],
        [
         "Landfall",
         "actionindie",
         42.857142857142854,
         7
        ],
        [
         "LeonWaan Games",
         "casualindierpgsimulationstrategy",
         42.857142857142854,
         7
        ],
        [
         "Mode 7",
         "indiestrategy",
         42.857142857142854,
         7
        ],
        [
         "Notovia",
         "indie",
         42.857142857142854,
         7
        ],
        [
         "Opala Project",
         "casual",
         42.857142857142854,
         7
        ],
        [
         "Paul Schneider",
         "actionadventureindie",
         42.857142857142854,
         7
        ],
        [
         "Proximity Games",
         "adventureindie",
         42.857142857142854,
         7
        ],
        [
         "SC Jogos",
         "casualindieracing",
         42.857142857142854,
         14
        ],
        [
         "Sensen Games",
         "actioncasualindie",
         42.857142857142854,
         7
        ],
        [
         "Snkl Studio",
         "casualindie",
         42.857142857142854,
         28
        ],
        [
         "Softwaves Dist.",
         "casualindiesimulationstrategy",
         42.857142857142854,
         7
        ],
        [
         "Techland Publishing",
         "action",
         42.857142857142854,
         7
        ],
        [
         "TurnVex",
         "actionadventureindie",
         42.857142857142854,
         7
        ],
        [
         "inkle Ltd",
         "adventureindierpg",
         42.857142857142854,
         7
        ],
        [
         "rokaplay",
         "casual",
         42.857142857142854,
         7
        ],
        [
         "Anamik Majumdar",
         "adventurecasualindie",
         42.5,
         40
        ],
        [
         "HH-Games",
         "casual",
         42.42424242424242,
         132
        ],
        [
         "3D Realms (Apogee Software)",
         "actionadventure",
         42.10526315789473,
         19
        ],
        [
         "Astero",
         "actionadventureindie",
         41.66666666666667,
         12
        ],
        [
         "LoadUpGames.com",
         "casual",
         41.66666666666667,
         12
        ],
        [
         "LucasArts, Lucasfilm, Disney",
         "action",
         41.37931034482759,
         29
        ],
        [
         "Chilla's Art",
         "actionadventurecasualindiesimulationstrategy",
         41.17647058823529,
         17
        ],
        [
         "DigiPen Institute of Technology",
         "actionfree to play",
         41.17647058823529,
         34
        ],
        [
         "SNEG",
         "actionrpg",
         41.17647058823529,
         17
        ],
        [
         "3D Realms",
         "actionindie",
         40,
         5
        ],
        [
         "616 GAMES",
         "actionadventureindie",
         40,
         5
        ],
        [
         "Aegon Games Ltd",
         "adventureindie",
         40,
         5
        ],
        [
         "Akella",
         "adventure",
         40,
         10
        ],
        [
         "Alawar Entertainment, ESDigital Games",
         "casualsimulationstrategy",
         40,
         5
        ],
        [
         "AlekseyN",
         "actionadventurecasualsimulation",
         40,
         5
        ],
        [
         "Angel And Demons",
         "rpg",
         40,
         5
        ],
        [
         "Artalasky",
         "actionadventurecasualindie",
         40,
         5
        ],
        [
         "Avalon Digital",
         "simulationstrategy",
         40,
         15
        ],
        [
         "Axel Sonic",
         "adventurecasualindie",
         40,
         5
        ],
        [
         "BVRgames",
         "casualindierpgsimulationstrategy",
         40,
         5
        ],
        [
         "Behaviour Interactive Inc.",
         "action",
         40,
         5
        ],
        [
         "Bellcat Game",
         "actionindiesimulation",
         40,
         5
        ],
        [
         "Big Ant Studios",
         "sports",
         40,
         10
        ],
        [
         "Bit Planet Games, LLC",
         "actionindiesimulation",
         40,
         5
        ],
        [
         "Black Phoenix Studio",
         "casualindiestrategy",
         40,
         10
        ],
        [
         "Blazing Planet Studio",
         "adventurecasualindierpgsimulation",
         40,
         5
        ],
        [
         "Blue Entropy Studios",
         "adventurecasualindie",
         40,
         5
        ],
        [
         "Broken Rules",
         "actionindie",
         40,
         5
        ],
        [
         "CBC Games",
         "actionadventurecasualindie",
         40,
         5
        ],
        [
         "COLOPL, Inc.",
         "action",
         40,
         5
        ],
        [
         "Cartoon Network Games",
         "actionadventure",
         40,
         5
        ],
        [
         "Clockwork Wolf",
         "actionindiestrategy",
         40,
         5
        ],
        [
         "Cornutopia Software",
         "casualindiesportsstrategy",
         40,
         5
        ],
        [
         "Corrosive Studios LLC",
         "actionadventureindierpgsimulationstrategy",
         40,
         5
        ],
        [
         "Creepy Brothers",
         "adventureindie",
         40,
         5
        ],
        [
         "Crytek",
         "action",
         40,
         5
        ],
        [
         "David Szymanski",
         "adventureindie",
         40,
         5
        ],
        [
         "Digital Eel",
         "casualindie",
         40,
         5
        ],
        [
         "Digital Leisure Inc.",
         "actionadventurecasual",
         40,
         5
        ],
        [
         "Double Eleven",
         "action",
         40,
         5
        ],
        [
         "Eclipse Games",
         "indieracingsports",
         40,
         5
        ],
        [
         "Euphoric Brothers",
         "actionadventurecasualindie",
         40,
         5
        ],
        [
         "Evil Bunneh",
         "actioncasualindie",
         40,
         5
        ],
        [
         "Extreme Games",
         "actionadventureindiesimulation",
         40,
         5
        ],
        [
         "Far Few Giants",
         "adventurecasualfree to playindie",
         40,
         5
        ],
        [
         "Feardemic",
         "actionadventureindie",
         40,
         5
        ],
        [
         "Floor Chicken",
         "actionadventurecasualindiesimulation",
         40,
         5
        ],
        [
         "Flynn's Arcade",
         "actionindie",
         40,
         5
        ],
        [
         "FobTi interactive",
         "actionindie",
         40,
         10
        ],
        [
         "Forceight",
         "actioncasualindiesimulation",
         40,
         5
        ],
        [
         "FreeAnimals_Software",
         "actionadventurecasualindie",
         40,
         5
        ],
        [
         "From Soy Sauce LLC",
         "actionindie",
         40,
         5
        ],
        [
         "Frosted Wings Studio",
         "actionindierpg",
         40,
         5
        ],
        [
         "Funktronic Labs",
         "actionadventureindiestrategy",
         40,
         5
        ],
        [
         "Gameforge 4D GmbH",
         "actionadventurefree to playmassively multiplayerrpg",
         40,
         5
        ],
        [
         "Gamera Games, YLS Program",
         "adventurecasualindie",
         40,
         5
        ],
        [
         "GoldenGod Games",
         "casualindierpgstrategy",
         40,
         5
        ],
        [
         "GraphXGames",
         "casualindiestrategy",
         40,
         5
        ],
        [
         "Graverobber Foundation",
         "adventureindierpg",
         40,
         5
        ],
        [
         "Green Lava Studios",
         "actionindie",
         40,
         5
        ],
        [
         "GungHo Online Entertainment America, Inc.",
         "adventurerpg",
         40,
         5
        ],
        [
         "Happy Max",
         "casualrpgsimulationstrategy",
         40,
         5
        ],
        [
         "HappyGames",
         "casualindie",
         40,
         5
        ],
        [
         "Headup, WhisperGames",
         "adventureindie",
         40,
         5
        ],
        [
         "Hi-Rez Studios",
         "actionfree to play",
         40,
         5
        ],
        [
         "Hound Picked Games",
         "actionadventureindie",
         40,
         5
        ],
        [
         "INSIDE SYSTEM",
         "actionadventurecasualindie",
         40,
         5
        ],
        [
         "IPACS",
         "indiesimulation",
         40,
         5
        ],
        [
         "ImagineGame",
         "actionadventurecasualearly accessindiemassively multiplayerracingrpgsimulationsports",
         40,
         5
        ],
        [
         "Infinite Dreams",
         "actionindie",
         40,
         5
        ],
        [
         "Inverse Game",
         "adventurecasualrpgstrategy",
         40,
         5
        ],
        [
         "Invictus Games Ltd.",
         "actionindie",
         40,
         5
        ],
        [
         "Jakub Klementewicz",
         "actionadventuresimulation",
         40,
         5
        ],
        [
         "KHB-Soft",
         "actioncasualindie",
         40,
         5
        ],
        [
         "Larsonsoft",
         "adventureindie",
         40,
         5
        ],
        [
         "Legend Studio",
         "actionadventureindie",
         40,
         5
        ],
        [
         "Leonardo Alexandrino",
         "actionadventureindierpg",
         40,
         5
        ],
        [
         "Lghghre GAME",
         "casual",
         40,
         5
        ],
        [
         "Liu Lidan",
         "casualindiesimulation",
         40,
         5
        ],
        [
         "Lock 'n Load Publishing",
         "early accessindiesimulationstrategy",
         40,
         5
        ],
        [
         "MAMMOSSIX Co., Ltd.",
         "actionadventureindie",
         40,
         5
        ],
        [
         "Maciej Targoni",
         "casual",
         40,
         5
        ],
        [
         "Mana Games",
         "simulationsports",
         40,
         5
        ],
        [
         "Marmalade Game Studio Ltd",
         "casualstrategy",
         40,
         5
        ],
        [
         "Minicactus Games",
         "casual",
         40,
         10
        ],
        [
         "Monkey Face Software LLC",
         "indieracingsimulation",
         40,
         5
        ],
        [
         "MoonlightGames",
         "actionindiestrategy",
         40,
         10
        ],
        [
         "MumboJumbo",
         "casual",
         40,
         35
        ],
        [
         "Muse Games",
         "actionadventureindiesimulation",
         40,
         5
        ],
        [
         "Mykel Flynn",
         "casualindiesimulationstrategy",
         40,
         5
        ],
        [
         "N P  GAMES",
         "casual",
         40,
         5
        ],
        [
         "NAISU",
         "actioncasualindie",
         40,
         5
        ],
        [
         "Nival",
         "strategy",
         40,
         10
        ],
        [
         "ODBear Studios",
         "adventurecasual",
         40,
         5
        ],
        [
         "Oddscure",
         "indie",
         40,
         5
        ],
        [
         "Oh, a Rock! Studios",
         "adventurecasualindie",
         40,
         10
        ],
        [
         "Overaction Game Studio",
         "casualindierpgsimulationstrategy",
         40,
         5
        ],
        [
         "PGN Games",
         "actioncasualindie",
         40,
         5
        ],
        [
         "PS Games",
         "adventureindie",
         40,
         5
        ],
        [
         "Panda Indie Studio",
         "actionadventurecasualindie",
         40,
         5
        ],
        [
         "Pinhead Games",
         "adventurecasual",
         40,
         5
        ],
        [
         "Play Publishing",
         "actionracingsimulation",
         40,
         5
        ],
        [
         "Playdek, Inc.",
         "strategy",
         40,
         5
        ],
        [
         "Playito.com",
         "actioncasualindie",
         40,
         5
        ],
        [
         "Prime Matter",
         "action",
         40,
         15
        ],
        [
         "QZQ Studio",
         "indie",
         40,
         5
        ],
        [
         "Rabbiton",
         "adventurecasualindie",
         40,
         5
        ],
        [
         "Rainbow Games",
         "casualstrategy",
         40,
         10
        ],
        [
         "RedFox Games",
         "free to playmassively multiplayerrpg",
         40,
         5
        ],
        [
         "Rogueside",
         "actionadventure",
         40,
         5
        ],
        [
         "Room710Games",
         "actionadventuremassively multiplayer",
         40,
         5
        ],
        [
         "Roppy Chop Studios",
         "actioncasualindie",
         40,
         5
        ],
        [
         "Salsawi Games",
         "actionindiestrategy",
         40,
         5
        ],
        [
         "Samurai Punk",
         "actionindie",
         40,
         5
        ],
        [
         "Secret Labo",
         "casualindie",
         40,
         5
        ],
        [
         "Serious Games Interactive",
         "adventurecasualindie",
         40,
         5
        ],
        [
         "Sheer Studios",
         "actionadventurecasualindiestrategy",
         40,
         5
        ],
        [
         "Sinned Games",
         "actionindie",
         40,
         10
        ],
        [
         "Snowbird Games",
         "indierpgstrategy",
         40,
         5
        ],
        [
         "Stardock",
         "utilities",
         40,
         10
        ],
        [
         "Starmops",
         "actionadventureindie",
         40,
         5
        ],
        [
         "Starwind Games",
         "casualindiestrategy",
         40,
         5
        ],
        [
         "Stray Fawn Studio, WhisperGames",
         "actionindiesimulation",
         40,
         5
        ],
        [
         "Subdream Studios",
         "action",
         40,
         5
        ],
        [
         "Surefire.Games",
         "actionadventureindierpg",
         40,
         5
        ],
        [
         "TERNOX",
         "actionadventureindie",
         40,
         5
        ],
        [
         "TOMATOVR",
         "actioncasualindie",
         40,
         5
        ],
        [
         "Team17 Digital",
         "actionindie",
         40,
         5
        ],
        [
         "ToastieLabs",
         "casualfree to playindie",
         40,
         5
        ],
        [
         "Toge Productions",
         "adventurecasualindie",
         40,
         10
        ],
        [
         "Top Hat Curios & Oddities",
         "casualindiesimulation",
         40,
         5
        ],
        [
         "Tort",
         "indie",
         40,
         5
        ],
        [
         "TreeFall Studios L.L.C.",
         "adventurecasualindie",
         40,
         5
        ],
        [
         "Unimatrix Productions",
         "adventureindie",
         40,
         5
        ],
        [
         "Unknown Worlds Entertainment",
         "adventureindie",
         40,
         5
        ],
        [
         "Vaka Game Magazine",
         "adventureindierpg",
         40,
         10
        ],
        [
         "Vicente Rosell Roig",
         "actionadventure",
         40,
         5
        ],
        [
         "Vladislav Castillo Gonzalez",
         "actionadventureindie",
         40,
         5
        ],
        [
         "Vysoko Anime Production",
         "adventureindie",
         40,
         5
        ],
        [
         "WB Games",
         "actionadventurerpg",
         40,
         5
        ],
        [
         "Wave Light Games Inc.",
         "actionadventureindierpgstrategy",
         40,
         5
        ],
        [
         "WhisperGames",
         "adventureindie",
         40,
         5
        ],
        [
         "Windforce",
         "indiesimulationstrategy",
         40,
         5
        ],
        [
         "Windybeard",
         "actionindie",
         40,
         5
        ],
        [
         "Wolfs Moon Studios",
         "adventurecasualindierpg",
         40,
         5
        ],
        [
         "Woodsy Studio",
         "adventure",
         40,
         5
        ],
        [
         "XDEVS LTD",
         "actioncasualfree to playmassively multiplayersimulation",
         40,
         5
        ],
        [
         "XNZONE",
         "adventurecasualindierpg",
         40,
         5
        ],
        [
         "Xiotex Studios Ltd",
         "actionadventureearly accessindie",
         40,
         5
        ],
        [
         "YSY Softworks",
         "adventurerpg",
         40,
         5
        ],
        [
         "ZUGALU ENTERTAINMENT",
         "actioncasualindie",
         40,
         5
        ],
        [
         "ZaxtorGameS",
         "actionindie",
         40,
         10
        ],
        [
         "Zodiac Interactive",
         "indiesimulation",
         40,
         5
        ],
        [
         "ben lunato",
         "adventureindie",
         40,
         5
        ],
        [
         "iNFINITE Production",
         "casualsimulation",
         40,
         5
        ],
        [
         "lamb of game",
         "adventureindierpg",
         40,
         5
        ],
        [
         "mc2games",
         "adventureindie",
         40,
         5
        ],
        [
         "nDreams",
         "actionadventure",
         40,
         5
        ],
        [
         "nullplussoftware",
         "utilitiesvideo production",
         40,
         5
        ],
        [
         "ЛД [ЛетоДайджест]",
         "adventureindie",
         40,
         5
        ],
        [
         "熊窝dodox, RuiXiao",
         "adventureindierpgstrategy",
         40,
         5
        ],
        [
         "青灯独酌",
         "actionadventurecasualindierpgstrategy",
         40,
         5
        ],
        [
         "Warner Bros. Interactive Entertainment",
         "actionadventure",
         39.285714285714285,
         28
        ],
        [
         "MIRROR Soft",
         "strategy",
         39.130434782608695,
         23
        ],
        [
         "Stegalosaurus Game Development",
         "adventureindie",
         38.88888888888889,
         18
        ],
        [
         "beans rolls",
         "casualindie",
         38.88888888888889,
         18
        ],
        [
         "Nightdive Studios",
         "adventure",
         38.70967741935484,
         31
        ],
        [
         "NIS America, Inc.",
         "rpg",
         38.63636363636363,
         44
        ],
        [
         "Kalypso Media",
         "simulationstrategy",
         38.46153846153847,
         13
        ],
        [
         "Tranquility games",
         "adventurecasualindierpgstrategy",
         38.46153846153847,
         13
        ],
        [
         "Wholetone Games",
         "casualindiesimulation",
         38.46153846153847,
         13
        ],
        [
         "Daedalic Entertainment",
         "adventureindie",
         38.028169014084504,
         71
        ],
        [
         "Minimol Games",
         "casualstrategy",
         37.93103448275862,
         29
        ],
        [
         "BANDAI NAMCO Entertainment",
         "action",
         37.68115942028986,
         69
        ],
        [
         "Afterthought Studios",
         "casualindierpgsimulation",
         37.5,
         8
        ],
        [
         "Art Games Studio S.A.",
         "actionadventureindie",
         37.5,
         8
        ],
        [
         "Coffee Studio",
         "casual",
         37.5,
         8
        ],
        [
         "DreadXP",
         "actionadventureindie",
         37.5,
         8
        ],
        [
         "FlagmanJeremy",
         "casualindiesimulationstrategy",
         37.5,
         8
        ],
        [
         "Gammera Nest",
         "actionadventureindie",
         37.5,
         8
        ],
        [
         "Indovers Studio",
         "casualindie",
         37.5,
         8
        ],
        [
         "King Key Games",
         "casualindie",
         37.5,
         8
        ],
        [
         "NCH Software",
         "audio production",
         37.5,
         8
        ],
        [
         "Neki4 Electronics",
         "action",
         37.5,
         16
        ],
        [
         "Nyanco Channel",
         "actionadventurecasualindierpg",
         37.5,
         8
        ],
        [
         "OtakuMaker SARL",
         "actioncasualindie",
         37.5,
         8
        ],
        [
         "Puppygames",
         "actionindie",
         37.5,
         8
        ],
        [
         "Renan Miguelote Vianna",
         "casual",
         37.5,
         8
        ],
        [
         "Robert Alvarez",
         "casualindiestrategy",
         37.5,
         8
        ],
        [
         "Screenwave Media",
         "actionadventureindie",
         37.5,
         8
        ],
        [
         "SimProse Studios",
         "adventureindierpg",
         37.5,
         8
        ],
        [
         "Tim Rachor",
         "simulation",
         37.5,
         8
        ],
        [
         "Tuomo's games",
         "casualindierpg",
         37.5,
         8
        ],
        [
         "USERJOY Technology Co.,Ltd.",
         "actionrpgsimulationstrategy",
         37.5,
         16
        ],
        [
         "Vertigo Gaming Inc.",
         "actionindiesimulationstrategy",
         37.5,
         8
        ],
        [
         "Yaeko",
         "indie",
         37.5,
         8
        ],
        [
         "Zen Studios",
         "simulation",
         37.5,
         8
        ],
        [
         "azimuth team",
         "adventurecasualindie",
         37.5,
         16
        ],
        [
         "Garage Games",
         "casualindie",
         37.096774193548384,
         62
        ],
        [
         "Adult Swim Games",
         "actionindie",
         36.84210526315789,
         19
        ],
        [
         "Absolutist Ltd.",
         "adventurecasualindie",
         36.36363636363637,
         11
        ],
        [
         "Chucklefish",
         "actionadventureindierpg",
         36.36363636363637,
         11
        ],
        [
         "DANGEN Entertainment",
         "actionadventureindierpg",
         36.36363636363637,
         11
        ],
        [
         "Denda Games",
         "adventurecasualindie",
         36.36363636363637,
         11
        ],
        [
         "Dikobraz Games",
         "casualindie",
         36.36363636363637,
         11
        ],
        [
         "Peaksel",
         "casual",
         36.36363636363637,
         11
        ],
        [
         "Studio Inward",
         "casualindie",
         36.36363636363637,
         11
        ],
        [
         "Wastelands Interactive",
         "indiestrategy",
         36.36363636363637,
         11
        ],
        [
         "galesoozka",
         "indie",
         36.36363636363637,
         11
        ],
        [
         "Activision",
         "action",
         36,
         50
        ],
        [
         "Double Fine Productions",
         "adventure",
         35.714285714285715,
         14
        ],
        [
         "Dr. Cyril Splutterworth",
         "casualindie",
         35.714285714285715,
         14
        ],
        [
         "Graffiti Games",
         "actionadventureindie",
         35.714285714285715,
         14
        ],
        [
         "INFINITE BRIDGE",
         "casualindie",
         35.714285714285715,
         28
        ],
        [
         "OTAKU Plan",
         "adventurerpg",
         35.714285714285715,
         28
        ],
        [
         "Rising Star Games",
         "actionindie",
         35.714285714285715,
         14
        ],
        [
         "冷笑黑妖",
         "casualindie",
         35.714285714285715,
         14
        ],
        [
         "MAGIX Software GmbH",
         "video production",
         35.483870967741936,
         62
        ],
        [
         "Frogwares",
         "adventure",
         35.294117647058826,
         17
        ],
        [
         "Paradox Interactive",
         "strategy",
         35.294117647058826,
         68
        ],
        [
         "Tonguç Bodur",
         "adventurecasualindie",
         35,
         20
        ],
        [
         "Annapurna Interactive",
         "adventureindie",
         34.78260869565217,
         23
        ],
        [
         "Gamenesis",
         "casualindie",
         34.78260869565217,
         23
        ],
        [
         "astragon Entertainment",
         "simulation",
         34.78260869565217,
         23
        ],
        [
         "indie_games_studio",
         "adventureindie",
         34.78260869565217,
         23
        ],
        [
         "KOEI TECMO GAMES CO., LTD.",
         "strategy",
         34.44444444444444,
         90
        ],
        [
         "ANPA.US",
         "actionindie",
         34.375,
         32
        ],
        [
         "GameHouse",
         "adventurecasualstrategy",
         34.285714285714285,
         35
        ],
        [
         "khukhrovr",
         "indie",
         34.285714285714285,
         35
        ],
        [
         "8Floor",
         "casual",
         34.146341463414636,
         41
        ],
        [
         "2Awesome Studio",
         "actionindie",
         33.33333333333333,
         9
        ],
        [
         "3000AD",
         "actioncasualindiesimulation",
         33.33333333333333,
         6
        ],
        [
         "AAD Productions",
         "casualindie",
         33.33333333333333,
         6
        ],
        [
         "AK Studio",
         "actionadventureindie",
         33.33333333333333,
         6
        ],
        [
         "Aksys Games",
         "adventure",
         33.33333333333333,
         12
        ],
        [
         "Asmodee Digital",
         "strategy",
         33.33333333333333,
         6
        ],
        [
         "Astronomic Games",
         "casualindierpg",
         33.33333333333333,
         6
        ],
        [
         "Azerbaijan Technology, Aztech",
         "actionadventurecasualindiesimulation",
         33.33333333333333,
         9
        ],
        [
         "BT Studios",
         "actionadventureindie",
         33.33333333333333,
         6
        ],
        [
         "Blazing Griffin",
         "actionindie",
         33.33333333333333,
         6
        ],
        [
         "Blendo Games",
         "indiestrategy",
         33.33333333333333,
         6
        ],
        [
         "Cheesecake Dev",
         "actionadventurecasualindiesimulationstrategy",
         33.33333333333333,
         6
        ],
        [
         "Corvostudio di Amadei Marco",
         "actionindiesimulationstrategy",
         33.33333333333333,
         6
        ],
        [
         "Crystal Shard",
         "adventureindie",
         33.33333333333333,
         6
        ],
        [
         "Cult Software",
         "strategy",
         33.33333333333333,
         6
        ],
        [
         "DXF Games",
         "indierpgstrategy",
         33.33333333333333,
         6
        ],
        [
         "Day Dreamer Games",
         "actionadventureindie",
         33.33333333333333,
         6
        ],
        [
         "ESAT",
         "actionearly accessindie",
         33.33333333333333,
         9
        ],
        [
         "EcoGames",
         "casualsimulation",
         33.33333333333333,
         6
        ],
        [
         "Endless Loop Studios",
         "indiesimulationstrategy",
         33.33333333333333,
         9
        ],
        [
         "EpiXR Games UG",
         "casualindiesimulation",
         33.33333333333333,
         27
        ],
        [
         "FailoutGames",
         "casualindierpgsimulationstrategy",
         33.33333333333333,
         6
        ],
        [
         "FelGC.GamesDevelopment",
         "casualindiestrategy",
         33.33333333333333,
         6
        ],
        [
         "Flying Panjandrum / ふらいんぐパンジャンドラム",
         "indiesimulationstrategy",
         33.33333333333333,
         6
        ],
        [
         "Fortcullis Games",
         "casual",
         33.33333333333333,
         6
        ],
        [
         "Frozenbyte",
         "actionadventureindie",
         33.33333333333333,
         9
        ],
        [
         "Funny Games",
         "actionadventureindiemassively multiplayerrpg",
         33.33333333333333,
         6
        ],
        [
         "Gagonfe",
         "casualstrategy",
         33.33333333333333,
         9
        ],
        [
         "Goblinz Publishing, Maple Whispering Limited",
         "indierpgstrategy",
         33.33333333333333,
         6
        ],
        [
         "Hanako Games",
         "adventureindie",
         33.33333333333333,
         12
        ],
        [
         "Hitcents",
         "adventurecasualindie",
         33.33333333333333,
         9
        ],
        [
         "JAST USA",
         "adventurecasual",
         33.33333333333333,
         12
        ],
        [
         "John Wizard",
         "indierpgstrategy",
         33.33333333333333,
         9
        ],
        [
         "JoyBits Ltd.",
         "adventurecasualindie",
         33.33333333333333,
         18
        ],
        [
         "Jujubee S.A.",
         "actionindieracingsimulation",
         33.33333333333333,
         6
        ],
        [
         "Kiddy",
         "actionadventureindiesimulation",
         33.33333333333333,
         18
        ],
        [
         "Lamina Studios",
         "indie",
         33.33333333333333,
         6
        ],
        [
         "Legacy Games",
         "adventurecasualindie",
         33.33333333333333,
         6
        ],
        [
         "Lunarhellgames",
         "actioncasualindie",
         33.33333333333333,
         6
        ],
        [
         "MCG",
         "adventureindierpg",
         33.33333333333333,
         9
        ],
        [
         "MadAboutGamesStudios",
         "actionadventureindie",
         33.33333333333333,
         6
        ],
        [
         "Might and Delight",
         "adventurecasualindie",
         33.33333333333333,
         12
        ],
        [
         "Minor Key Games",
         "actionindie",
         33.33333333333333,
         9
        ],
        [
         "N/A",
         "indie",
         33.33333333333333,
         15
        ],
        [
         "NCSOFT",
         "massively multiplayerrpg",
         33.33333333333333,
         6
        ],
        [
         "NekoNyan Ltd.",
         "casualsimulation",
         33.33333333333333,
         9
        ],
        [
         "New Blood Interactive",
         "actionearly accessindie",
         33.33333333333333,
         6
        ],
        [
         "NewWestGames",
         "indie",
         33.33333333333333,
         6
        ],
        [
         "Novalink",
         "actionfree to playindiemassively multiplayer",
         33.33333333333333,
         6
        ],
        [
         "Numskull Games",
         "actionadventureindie",
         33.33333333333333,
         6
        ],
        [
         "Nuts and Volts Electronics",
         "casualindiesimulationstrategy",
         33.33333333333333,
         6
        ],
        [
         "OZNA STUDIO",
         "simulation",
         33.33333333333333,
         6
        ],
        [
         "OnBlind",
         "adventurecasualindie",
         33.33333333333333,
         6
        ],
        [
         "Only Human Studios",
         "actionindie",
         33.33333333333333,
         6
        ],
        [
         "OrionSoft",
         "adventure",
         33.33333333333333,
         6
        ],
        [
         "PeriScope Game",
         "adventurecasualindierpgsimulation",
         33.33333333333333,
         9
        ],
        [
         "Private Division",
         "actionindiesports",
         33.33333333333333,
         6
        ],
        [
         "Pugware",
         "actionadventureindierpg",
         33.33333333333333,
         6
        ],
        [
         "QUByte Interactive",
         "actionindie",
         33.33333333333333,
         6
        ],
        [
         "Ready To Play",
         "adventurecasualindie",
         33.33333333333333,
         9
        ],
        [
         "Renderise",
         "actionadventureindiemassively multiplayer",
         33.33333333333333,
         6
        ],
        [
         "RoBot",
         "actionadventure",
         33.33333333333333,
         9
        ],
        [
         "RockGame S.A.",
         "indiesimulationstrategy",
         33.33333333333333,
         6
        ],
        [
         "RoomsForRockets",
         "indie",
         33.33333333333333,
         6
        ],
        [
         "Scumhead",
         "actionadventureindie",
         33.33333333333333,
         6
        ],
        [
         "Secret Mode",
         "adventurecasualindie",
         33.33333333333333,
         9
        ],
        [
         "Seito Games",
         "actionadventurecasualindie",
         33.33333333333333,
         6
        ],
        [
         "ShineProject",
         "actionadventurecasualearly accessindierpgstrategy",
         33.33333333333333,
         6
        ],
        [
         "Shorebound Studios",
         "casualindie",
         33.33333333333333,
         6
        ],
        [
         "Skull Box Games",
         "actionindie",
         33.33333333333333,
         6
        ],
        [
         "SmashGames",
         "actionadventureindierpg",
         33.33333333333333,
         6
        ],
        [
         "Snapbreak",
         "adventurecasualindie",
         33.33333333333333,
         6
        ],
        [
         "Spry Fox LLC",
         "casualindie",
         33.33333333333333,
         6
        ],
        [
         "The Irregular Corporation",
         "adventureindie",
         33.33333333333333,
         6
        ],
        [
         "The Quantum Astrophysicists Guild",
         "actioncasualindiestrategy",
         33.33333333333333,
         6
        ],
        [
         "Top Hat Studios, Inc.",
         "actionadventureindie",
         33.33333333333333,
         6
        ],
        [
         "Twin Sails Interactive",
         "strategy",
         33.33333333333333,
         18
        ],
        [
         "Untold Tales",
         "adventureindie",
         33.33333333333333,
         9
        ],
        [
         "ValkyrieInitiative",
         "action",
         33.33333333333333,
         6
        ],
        [
         "VaragtP",
         "actionadventurecasualindierpg",
         33.33333333333333,
         6
        ],
        [
         "WRF Studios",
         "actionindierpg",
         33.33333333333333,
         6
        ],
        [
         "War Child Gaming",
         "indie",
         33.33333333333333,
         12
        ],
        [
         "XDesktopSoft",
         "animation & modelingdesign & illustrationearly accessutilities",
         33.33333333333333,
         6
        ],
        [
         "Yang Sun",
         "casualindie",
         33.33333333333333,
         6
        ],
        [
         "deadworld games",
         "actioncasualindie",
         33.33333333333333,
         6
        ],
        [
         "morojenoe's empire",
         "adventurecasual",
         33.33333333333333,
         6
        ],
        [
         "paulstephendavis",
         "actioncasualindie",
         33.33333333333333,
         6
        ],
        [
         "raptor lab",
         "actionindie",
         33.33333333333333,
         6
        ],
        [
         "  Gales Corp.   ",
         "indie",
         33.33333333333333,
         9
        ],
        [
         "Dnovel",
         "actionadventurecasualindie",
         32.55813953488372,
         43
        ],
        [
         "Bitlock Studio",
         "actionindie",
         32.432432432432435,
         37
        ],
        [
         "Rebellion",
         "action",
         32.432432432432435,
         37
        ],
        [
         "Aerosoft GmbH",
         "casualindiesimulation",
         32.35294117647059,
         34
        ],
        [
         "NanningsGames",
         "casual",
         32.25806451612903,
         31
        ],
        [
         "Aldorlea Games",
         "adventurecasualindierpg",
         32,
         50
        ],
        [
         "Ratalaika Games S.L.",
         "actionadventurecasualindie",
         32,
         25
        ],
        [
         "LTZinc",
         "actionadventurecasualindiesimulation",
         31.818181818181817,
         22
        ],
        [
         "Forever Entertainment S. A.",
         "actioncasualindie",
         31.666666666666664,
         60
        ],
        [
         "SOEDESCO",
         "adventureindie",
         31.57894736842105,
         19
        ],
        [
         "KEMCO",
         "adventurerpgsimulationstrategy",
         31.372549019607842,
         51
        ],
        [
         "Akupara Games",
         "adventureindie",
         31.25,
         16
        ],
        [
         "Microids Indie",
         "adventure",
         31.25,
         16
        ],
        [
         "Telltale",
         "adventurerpg",
         31.25,
         16
        ],
        [
         "magnussoft",
         "casual",
         31.25,
         16
        ],
        [
         "Louie Inc",
         "casualindie",
         31.03448275862069,
         29
        ],
        [
         "United Independent Entertainment",
         "simulation",
         30.909090909090907,
         55
        ],
        [
         "Bandai Namco Entertainment",
         "actionrpg",
         30.76923076923077,
         13
        ],
        [
         "Modus Games",
         "actionindie",
         30.76923076923077,
         13
        ],
        [
         "Ripstone",
         "casualindiesimulationsportsstrategy",
         30.76923076923077,
         13
        ],
        [
         "Simulators Live",
         "indiesimulation",
         30.76923076923077,
         13
        ],
        [
         "Crazysoft Limited",
         "educationutilities",
         30,
         10
        ],
        [
         "Deck13",
         "adventure",
         30,
         10
        ],
        [
         "G-MODE",
         "rpg",
         30,
         10
        ],
        [
         "Kajak Games",
         "actionindie",
         30,
         10
        ],
        [
         "Konnichiwa Games",
         "actionadventure",
         30,
         10
        ],
        [
         "Lonely Troops",
         "adventurecasualindierpg",
         30,
         10
        ],
        [
         "Phat Phrog Studios",
         "actioncasualindie",
         30,
         10
        ],
        [
         "Red twice potato",
         "adventureindie",
         30,
         20
        ],
        [
         "Reverb Triple XP",
         "actionindie",
         30,
         10
        ],
        [
         "Sunlight Games",
         "adventureindiestrategy",
         30,
         10
        ],
        [
         "SuperGG.com",
         "actionadventureindie",
         30,
         10
        ],
        [
         "TALESSHOP Co., Ltd.",
         "casualindiesimulation",
         30,
         10
        ],
        [
         "kovalevviktor",
         "indie",
         29.72972972972973,
         37
        ],
        [
         "Retroism, Nightdive Studios",
         "simulation",
         29.166666666666668,
         24
        ],
        [
         "Sometimes You",
         "casualindie",
         29.166666666666668,
         48
        ],
        [
         "Assemble Entertainment",
         "adventure",
         29.03225806451613,
         31
        ],
        [
         "Devolver Digital",
         "actionindie",
         28.865979381443296,
         97
        ],
        [
         "AMG GAMES",
         "actionindie",
         28.57142857142857,
         7
        ],
        [
         "Action Portal",
         "indie",
         28.57142857142857,
         7
        ],
        [
         "Airem",
         "casualindie",
         28.57142857142857,
         7
        ],
        [
         "Aspyr",
         "action",
         28.57142857142857,
         7
        ],
        [
         "Bigosaur",
         "actionadventureindie",
         28.57142857142857,
         7
        ],
        [
         "CD PROJEKT RED",
         "rpg",
         28.57142857142857,
         7
        ],
        [
         "CREST",
         "adventureindie",
         28.57142857142857,
         7
        ],
        [
         "Day Art's Games",
         "casualindiestrategy",
         28.57142857142857,
         7
        ],
        [
         "Dejobaan Games, LLC",
         "actionindie",
         28.57142857142857,
         7
        ],
        [
         "Dotemu",
         "action",
         28.57142857142857,
         7
        ],
        [
         "First Games Interactive",
         "casualindie",
         28.57142857142857,
         7
        ],
        [
         "GameXP.com",
         "adventurecasualfree to play",
         28.57142857142857,
         7
        ],
        [
         "Gamesforgames",
         "actioncasualindie",
         28.57142857142857,
         7
        ],
        [
         "Google",
         "adventurecasual",
         28.57142857142857,
         7
        ],
        [
         "Independent",
         "indie",
         28.57142857142857,
         7
        ],
        [
         "Kazakov Oleg",
         "actionindie",
         28.57142857142857,
         7
        ],
        [
         "Larian Studios",
         "adventureindierpgstrategy",
         28.57142857142857,
         7
        ],
        [
         "Lion Castle Entertainment",
         "racing",
         28.57142857142857,
         7
        ],
        [
         "Michaela Laws",
         "adventurecasualindierpgsimulation",
         28.57142857142857,
         7
        ],
        [
         "Nibb Games",
         "actioncasualindiestrategy",
         28.57142857142857,
         7
        ],
        [
         "Nkidu Games Inc.",
         "adventurecasualindie",
         28.57142857142857,
         7
        ],
        [
         "Old School Vibes",
         "action",
         28.57142857142857,
         7
        ],
        [
         "PID Games",
         "indie",
         28.57142857142857,
         14
        ],
        [
         "Pickle Drugs",
         "actioncasualindie",
         28.57142857142857,
         7
        ],
        [
         "Pixel Puzzles",
         "casualindiesimulationsportsstrategy",
         28.57142857142857,
         14
        ],
        [
         "Rubika Supinfogame",
         "actionindie",
         28.57142857142857,
         7
        ],
        [
         "Soccer Manager Ltd",
         "sports",
         28.57142857142857,
         7
        ],
        [
         "SpielmannSpiel",
         "casualindie",
         28.57142857142857,
         7
        ],
        [
         "Steppe Hare Studio",
         "actionadventureearly accessindie",
         28.57142857142857,
         7
        ],
        [
         "Tap by Tap",
         "early accessindiestrategy",
         28.57142857142857,
         14
        ],
        [
         "Team Syukino",
         "rpg",
         28.57142857142857,
         14
        ],
        [
         "Tegridy Made Games",
         "actionadventurecasualindiestrategy",
         28.57142857142857,
         14
        ],
        [
         "Tribute Games Inc.",
         "action",
         28.57142857142857,
         7
        ],
        [
         "VGstudio",
         "actionadventure",
         28.57142857142857,
         7
        ],
        [
         "WTFOMGames",
         "actionadventurecasualindie",
         28.57142857142857,
         7
        ],
        [
         "Wathitdew Record",
         "adventurerpg",
         28.57142857142857,
         7
        ],
        [
         "okyakusama",
         "casualindie",
         28.57142857142857,
         7
        ],
        [
         "phime studio LLC",
         "actionindie",
         28.57142857142857,
         7
        ],
        [
         "吃了就睡工作室",
         "adventureindierpg",
         28.57142857142857,
         7
        ],
        [
         "哈视奇科技",
         "casualracingsimulationsports",
         28.57142857142857,
         7
        ],
        [
         "Iceberg Interactive",
         "adventureindie",
         28.26086956521739,
         46
        ],
        [
         "Kalypso Media Digital",
         "simulationstrategy",
         27.906976744186046,
         43
        ],
        [
         "Toplitz Productions",
         "simulationstrategy",
         27.77777777777778,
         18
        ],
        [
         "玫瑰工作室",
         "adventurecasualindie",
         27.659574468085108,
         47
        ],
        [
         "101XP",
         "actionadventurefree to playmassively multiplayerrpg",
         27.27272727272727,
         11
        ],
        [
         "Alawar Premium",
         "adventureindiesimulationstrategy",
         27.27272727272727,
         11
        ],
        [
         "Anarchy Enterprises",
         "adventurecasualindie",
         27.27272727272727,
         11
        ],
        [
         "Arcen Games, LLC",
         "indiesimulationstrategy",
         27.27272727272727,
         11
        ],
        [
         "BekkerDev Studio",
         "actionadventurecasualindie",
         27.27272727272727,
         11
        ],
        [
         "CasGames",
         "casualindie",
         27.27272727272727,
         11
        ],
        [
         "CyberStep, Inc.",
         "adventure",
         27.27272727272727,
         11
        ],
        [
         "Nacks Soft",
         "actionadventurecasualfree to playindie",
         27.27272727272727,
         11
        ],
        [
         "Naoka Games",
         "casualindie",
         27.27272727272727,
         11
        ],
        [
         "One Tap Games",
         "actionindie",
         27.27272727272727,
         11
        ],
        [
         "Pix Arts",
         "sports",
         27.27272727272727,
         11
        ],
        [
         "Real Fighting",
         "action",
         27.27272727272727,
         11
        ],
        [
         "SAT-BOX",
         "actioncasualindieracing",
         27.27272727272727,
         11
        ],
        [
         "SilentFuture",
         "casualindie",
         27.27272727272727,
         11
        ],
        [
         "WayForward",
         "actionadventure",
         27.27272727272727,
         11
        ],
        [
         "inXile Entertainment",
         "rpg",
         27.27272727272727,
         11
        ],
        [
         "Square Enix",
         "rpg",
         27.142857142857142,
         140
        ],
        [
         "GrabTheGames",
         "adventureindie",
         26.923076923076923,
         52
        ],
        [
         "XSEED Games, Marvelous USA, Inc.",
         "rpg",
         26.923076923076923,
         26
        ],
        [
         "Pixel Games UK",
         "action",
         26.82926829268293,
         41
        ],
        [
         "Ammonite Design Studios Ltd",
         "actionadventurecasualindiesimulation",
         26.666666666666668,
         15
        ],
        [
         "Brewsterland Studios",
         "actionadventureindierpg",
         26.666666666666668,
         15
        ],
        [
         "DillyFrame",
         "casualindiestrategy",
         26.666666666666668,
         15
        ],
        [
         "Fruitbat Factory",
         "actionindie",
         26.666666666666668,
         30
        ],
        [
         "Gearbox Publishing",
         "actionadventureindie",
         26.666666666666668,
         15
        ],
        [
         "PlayWay S.A.",
         "racingsimulation",
         26.666666666666668,
         15
        ],
        [
         "Sapphire Dragon Productions",
         "casualindiesimulation",
         26.666666666666668,
         15
        ],
        [
         "SEGA",
         "action",
         26.38888888888889,
         144
        ],
        [
         "Wales Interactive",
         "adventure",
         26.31578947368421,
         19
        ],
        [
         "baKno Games",
         "casualindiesimulation",
         26.31578947368421,
         19
        ],
        [
         "Outright Games Ltd.",
         "adventure",
         25.806451612903224,
         31
        ],
        [
         "Ziggurat",
         "action",
         25.773195876288657,
         97
        ],
        [
         "Ubisoft",
         "actionadventure",
         25.196850393700785,
         127
        ],
        [
         "Amaterasu Software",
         "adventureindierpg",
         25,
         12
        ],
        [
         "Archor Games",
         "action",
         25,
         20
        ],
        [
         "Atari",
         "action",
         25,
         40
        ],
        [
         "CINEMAX, s.r.o.",
         "casualindie",
         25,
         12
        ],
        [
         "Crystal Game Works",
         "casualfree to playindierpg",
         25,
         8
        ],
        [
         "DLsite",
         "actionindie",
         25,
         20
        ],
        [
         "David Mulder",
         "action",
         25,
         8
        ],
        [
         "Dear Villagers",
         "actionindie",
         25,
         20
        ],
        [
         "Drageus Games S.A.",
         "indiestrategy",
         25,
         8
        ],
        [
         "EJRGames",
         "casualindiestrategy",
         25,
         8
        ],
        [
         "Egosoft",
         "actionsimulation",
         25,
         8
        ],
        [
         "Endless Games",
         "casual",
         25,
         8
        ],
        [
         "Finji",
         "indie",
         25,
         8
        ],
        [
         "Fun Infused Games",
         "actioncasualindieracing",
         25,
         8
        ],
        [
         "Fungamesvr",
         "actioncasualindiesports",
         25,
         8
        ],
        [
         "GameMill Entertainment",
         "racing",
         25,
         16
        ],
        [
         "Green Man Gaming Publishing",
         "indie",
         25,
         16
        ],
        [
         "GuraShop",
         "actionadventurecasualindie",
         25,
         8
        ],
        [
         "IMGN.PRO",
         "actionadventurecasualindie",
         25,
         8
        ],
        [
         "Idea Factory International",
         "actionadventurerpg",
         25,
         24
        ],
        [
         "JimJams Games",
         "actionindie",
         25,
         8
        ],
        [
         "K Bros Games",
         "casualindiesimulation",
         25,
         8
        ],
        [
         "KazakovStudios",
         "actionadventurecasualindiesimulation",
         25,
         12
        ],
        [
         "KishMish Games",
         "adventurecasualindie",
         25,
         8
        ],
        [
         "Libredia",
         "casual",
         25,
         24
        ],
        [
         "Metal Fox",
         "adventureindie",
         25,
         20
        ],
        [
         "Mihai Morosanu",
         "actionadventureindie",
         25,
         12
        ],
        [
         "NEOWIZ",
         "actionindie",
         25,
         12
        ],
        [
         "No Gravity Games",
         "actionadventureindie",
         25,
         20
        ],
        [
         "Nomad Games",
         "indierpgstrategy",
         25,
         12
        ],
        [
         "Oddfellows Software",
         "casualsimulation",
         25,
         8
        ],
        [
         "PaulArt",
         "indiesimulationstrategy",
         25,
         12
        ],
        [
         "Phoenixx Inc.",
         "actionindie",
         25,
         12
        ],
        [
         "QuickBobber",
         "casualindiestrategy",
         25,
         12
        ],
        [
         "Rake in Grass",
         "actionindie",
         25,
         8
        ],
        [
         "SIG Publishing",
         "indiesimulation",
         25,
         8
        ],
        [
         "Sabrina Aridi",
         "actionadventurecasualindiestrategy",
         25,
         12
        ],
        [
         "Scott Cawthon",
         "actionindiesimulation",
         25,
         8
        ],
        [
         "Self",
         "indie",
         25,
         8
        ],
        [
         "Throwback Entertainment",
         "actionindie",
         25,
         8
        ],
        [
         "eGames.com",
         "adventurerpg",
         25,
         8
        ],
        [
         "hOSHI",
         "adventureindie",
         25,
         8
        ],
        [
         "kazakovstudios",
         "indie",
         25,
         28
        ],
        [
         "小小游戏工作室",
         "adventurecasualindiestrategy",
         25,
         8
        ],
        [
         "岗成年",
         "utilities",
         25,
         8
        ],
        [
         "Fulqrum Publishing",
         "strategy",
         24.03846153846154,
         104
        ],
        [
         "Digerati",
         "actionindie",
         24,
         25
        ],
        [
         "Konami Digital Entertainment",
         "sports",
         24,
         25
        ],
        [
         "Viva Media",
         "casualstrategy",
         24,
         25
        ],
        [
         "Microids",
         "adventure",
         23.809523809523807,
         84
        ],
        [
         "10tons Ltd",
         "actionadventureindierpg",
         23.52941176470588,
         17
        ],
        [
         "DSGame",
         "actionadventurecasualindierpgstrategy",
         23.52941176470588,
         17
        ],
        [
         "Vitok",
         "casual",
         23.52941176470588,
         17
        ],
        [
         "indiegames3000",
         "actionindie",
         23.52941176470588,
         17
        ],
        [
         "11 bit studios",
         "actionindiestrategy",
         23.076923076923077,
         13
        ],
        [
         "Bohemia Interactive",
         "actionsimulationstrategy",
         23.076923076923077,
         26
        ],
        [
         "Clickteam",
         "action",
         23.076923076923077,
         13
        ],
        [
         "HaDe Games",
         "adventurecasualindie",
         23.076923076923077,
         13
        ],
        [
         "Pixeljam",
         "actionindie",
         23.076923076923077,
         13
        ],
        [
         "Studio2760",
         "adventurecasualearly accessindie",
         23.076923076923077,
         13
        ],
        [
         "ARTE France",
         "adventurecasualindie",
         22.22222222222222,
         9
        ],
        [
         "Chris Antoni",
         "actionadventureindiemassively multiplayerrpg",
         22.22222222222222,
         9
        ],
        [
         "Console Classics",
         "racing",
         22.22222222222222,
         9
        ],
        [
         "Fatshark",
         "actionindie",
         22.22222222222222,
         9
        ],
        [
         "IV Productions",
         "adventurerpg",
         22.22222222222222,
         9
        ],
        [
         "Interactive Gaming Studios",
         "adventurecasualindiesimulation",
         22.22222222222222,
         9
        ],
        [
         "Klei Entertainment",
         "adventureindiesimulation",
         22.22222222222222,
         9
        ],
        [
         "Koch Media , CyberLink",
         "audio productiondesign & illustrationutilitiesvideo productionweb publishing",
         22.22222222222222,
         9
        ],
        [
         "Kongregate",
         "adventurefree to playrpgstrategy",
         22.22222222222222,
         9
        ],
        [
         "Libredia Entertainment",
         "adventurecasual",
         22.22222222222222,
         9
        ],
        [
         "Ludosity",
         "adventureindie",
         22.22222222222222,
         9
        ],
        [
         "Ninja Kiwi",
         "actionfree to playstrategy",
         22.22222222222222,
         9
        ],
        [
         "Shoho Games",
         "casualindiesimulation",
         22.22222222222222,
         9
        ],
        [
         "VALOFE",
         "actionfree to playmassively multiplayerrpg",
         22.22222222222222,
         9
        ],
        [
         "Valkyrie Initiative",
         "actionadventure",
         22.22222222222222,
         9
        ],
        [
         "Whitethorn Games",
         "casualindie",
         22.22222222222222,
         9
        ],
        [
         "wow wow Games",
         "casual",
         22.22222222222222,
         9
        ],
        [
         "HandMade Games",
         "casualindie",
         21.62162162162162,
         37
        ],
        [
         "Enoops",
         "actionadventurecasualindierpg",
         21.428571428571427,
         42
        ],
        [
         "Flying Interactive",
         "casualindie",
         21.428571428571427,
         14
        ],
        [
         "Gamera Interactive",
         "actionindie",
         21.428571428571427,
         14
        ],
        [
         "IO Games",
         "indiesimulation",
         21.428571428571427,
         14
        ],
        [
         "Klabater",
         "adventureindie",
         21.428571428571427,
         14
        ],
        [
         "SeedWall",
         "actionindie",
         21.428571428571427,
         14
        ],
        [
         "0Cube",
         "adventurecasualindierpgsimulationstrategy",
         21.052631578947366,
         19
        ],
        [
         "Fellow Traveller",
         "adventureindierpg",
         21.052631578947366,
         19
        ],
        [
         "Nicalis, Inc.",
         "actionadventureindie",
         21.052631578947366,
         19
        ],
        [
         "Randumb Studios",
         "adventurecasualindierpgsimulation",
         21.052631578947366,
         19
        ],
        [
         "Komodo",
         "action",
         20.930232558139537,
         86
        ],
        [
         "CFK Co., Ltd.",
         "actionadventureindie",
         20.833333333333336,
         24
        ],
        [
         "PLAYISM",
         "actionindie",
         20.689655172413794,
         87
        ],
        [
         "Raw Fury",
         "adventureindie",
         20.689655172413794,
         29
        ],
        [
         "SakuraGame",
         "adventureindierpg",
         20.689655172413794,
         29
        ],
        [
         "Strategy First",
         "strategy",
         20.52980132450331,
         151
        ],
        [
         "Sekai Project",
         "casualindie",
         20.454545454545457,
         132
        ],
        [
         "Back To Basics Gaming",
         "actioncasualindie",
         20.37037037037037,
         54
        ],
        [
         "RewindApp",
         "casualindie",
         20.33898305084746,
         59
        ],
        [
         "Aged Immortals",
         "actionadventureindierpg",
         20,
         5
        ],
        [
         "Almighty Games",
         "casualindie",
         20,
         5
        ],
        [
         "Analgesic Productions",
         "actionadventureindie",
         20,
         5
        ],
        [
         "André Bertaglia",
         "actionadventurecasualindie",
         20,
         5
        ],
        [
         "AneaGames",
         "actionadventurecasualindiemassively multiplayerrpgstrategy",
         20,
         5
        ],
        [
         "Antonio Renna",
         "casualindiesimulation",
         20,
         5
        ],
        [
         "Anvate Games",
         "indie",
         20,
         5
        ],
        [
         "Appy Monkeys Software Pvt. Ltd.",
         "animation & modelingdesign & illustrationgame developmentphoto editing",
         20,
         5
        ],
        [
         "Arcade Distillery",
         "actioncasualindie",
         20,
         5
        ],
        [
         "Archive Entertainment",
         "actionadventurefree to playindiemassively multiplayerrpg",
         20,
         5
        ],
        [
         "Assemble Entertainment, WhisperGames",
         "strategy",
         20,
         5
        ],
        [
         "Astrea",
         "casualindie",
         20,
         5
        ],
        [
         "Awaken Realms",
         "actionadventurecasualearly accessindiesimulation",
         20,
         5
        ],
        [
         "BajoGames",
         "actionadventurecasualindie",
         20,
         5
        ],
        [
         "Black Banshee Studios",
         "actioncasualfree to playindiestrategy",
         20,
         5
        ],
        [
         "Blue Mana",
         "actionadventureearly accessindierpgsimulationstrategy",
         20,
         5
        ],
        [
         "ByteRockers' Games",
         "indiestrategy",
         20,
         5
        ],
        [
         "Capybara Games",
         "actionadventureindierpg",
         20,
         5
        ],
        [
         "Chequered Ink Ltd.",
         "actioncasual",
         20,
         10
        ],
        [
         "Chun Y.",
         "actioncasualindie",
         20,
         10
        ],
        [
         "Cobra Mobile",
         "indiestrategy",
         20,
         5
        ],
        [
         "Coconut Island Games",
         "casualindiesimulationstrategy",
         20,
         5
        ],
        [
         "Codemasters, Electronic Arts",
         "rpg",
         20,
         20
        ],
        [
         "CreativeForge Games",
         "actionsimulation",
         20,
         5
        ],
        [
         "Crytivo",
         "early accessindiesimulationstrategy",
         20,
         10
        ],
        [
         "Curve Games",
         "actionindie",
         20,
         35
        ],
        [
         "Daybreak Game Company",
         "massively multiplayer",
         20,
         10
        ],
        [
         "Degica",
         "utilities",
         20,
         10
        ],
        [
         "Digital Tribe",
         "actionadventureindie",
         20,
         25
        ],
        [
         "DimleTeam",
         "actionadventureindiesimulation",
         20,
         5
        ],
        [
         "Doomster Entertainment",
         "adventureindierpg",
         20,
         5
        ],
        [
         "Dreamatrix",
         "strategy",
         20,
         5
        ],
        [
         "EF Universe Games LLC",
         "adventurecasualindierpgsimulationstrategy",
         20,
         5
        ],
        [
         "Eforb",
         "casualindie",
         20,
         5
        ],
        [
         "Excalibur Games",
         "indieracingsimulation",
         20,
         5
        ],
        [
         "Facepunch Studios",
         "actionindie",
         20,
         5
        ],
        [
         "FastGame",
         "adventurecasualindie",
         20,
         5
        ],
        [
         "Flyleap Studios",
         "actioncasualindie",
         20,
         5
        ],
        [
         "Frederik Holst",
         "casualindiestrategy",
         20,
         5
        ],
        [
         "Frontier Foundry",
         "actionadventurecasualindie",
         20,
         5
        ],
        [
         "GZ Storm",
         "actioncasualfree to playindie",
         20,
         5
        ],
        [
         "Gales Corp.",
         "adventurecasualindie",
         20,
         10
        ],
        [
         "Game Studio Abraham Stolk Inc.",
         "action",
         20,
         5
        ],
        [
         "Games Incubator, PlayWay S.A.",
         "indiesimulationstrategy",
         20,
         5
        ],
        [
         "Games Operators, PlayWay S.A.",
         "actionindiesimulationstrategy",
         20,
         5
        ],
        [
         "Gem Rose Accent",
         "adventurecasualindiesimulation",
         20,
         5
        ],
        [
         "Ghost_RUS Games",
         "adventurecasualindie",
         20,
         50
        ],
        [
         "Gooners Game",
         "actionindiesimulationsports",
         20,
         5
        ],
        [
         "Groupees Interactive",
         "indie",
         20,
         5
        ],
        [
         "HFM Games",
         "actionindie",
         20,
         10
        ],
        [
         "Hede Games, Hede",
         "actionadventurecasualearly accessindiesimulationstrategy",
         20,
         10
        ],
        [
         "Hellshake Yano.",
         "casualindierpg",
         20,
         5
        ],
        [
         "HeroCraft PC",
         "indie",
         20,
         10
        ],
        [
         "Hippo Games",
         "animation & modelinggame developmentrpgutilities",
         20,
         5
        ],
        [
         "Hoi 4 Deu",
         "actionadventureindieracingsimulation",
         20,
         5
        ],
        [
         "Home Net Games",
         "actionfree to playindie",
         20,
         10
        ],
        [
         "HorseGames",
         "adventurecasualindiemassively multiplayerrpg",
         20,
         5
        ],
        [
         "Ice Water Games",
         "casualindiesimulation",
         20,
         5
        ],
        [
         "Indie",
         "indie",
         20,
         10
        ],
        [
         "Insane Dreamers",
         "casualindie",
         20,
         5
        ],
        [
         "JTS Development",
         "adventureindiestrategy",
         20,
         5
        ],
        [
         "Kasedo Games",
         "simulationstrategy",
         20,
         10
        ],
        [
         "Kerberos Productions",
         "casualindierpgstrategy",
         20,
         5
        ],
        [
         "KomBits Game Studio",
         "actioncasualindie",
         20,
         5
        ],
        [
         "LOSEDEAD",
         "actionadventurecasualearly accessindieracingsimulationsports",
         20,
         5
        ],
        [
         "Lighthouse Games Studio",
         "casualsimulation",
         20,
         5
        ],
        [
         "Longbow Games",
         "indiesimulationstrategy",
         20,
         5
        ],
        [
         "Lovely Games",
         "casual",
         20,
         20
        ],
        [
         "M2H",
         "actioncasualindie",
         20,
         5
        ],
        [
         "MIROWIN",
         "actionadventureindiesimulation",
         20,
         5
        ],
        [
         "MSI Digital Games",
         "casualindieracingsimulation",
         20,
         5
        ],
        [
         "Matt Roszak",
         "adventurerpgstrategy",
         20,
         5
        ],
        [
         "Mehsoft",
         "actionadventureindie",
         20,
         5
        ],
        [
         "Meng Games",
         "actioncasualindie",
         20,
         20
        ],
        [
         "Milk Bottle Studio",
         "actioncasualindiesimulationstrategy",
         20,
         5
        ],
        [
         "Missing Link Games",
         "actioncasualindieracingsports",
         20,
         5
        ],
        [
         "Movie Games S.A.",
         "actionindiesimulationstrategy",
         20,
         5
        ],
        [
         "MyACG Studio",
         "actionadventurecasualfree to playindiemassively multiplayerrpgsimulationstrategy",
         20,
         5
        ],
        [
         "Mythical City Games",
         "casualindiesimulation",
         20,
         5
        ],
        [
         "NetEase Games",
         "actionadventurecasualmassively multiplayer",
         20,
         5
        ],
        [
         "Ninja Whale Studios",
         "actioncasualracingsimulationsports",
         20,
         5
        ],
        [
         "Noodlecake",
         "casualindie",
         20,
         5
        ],
        [
         "NukGames",
         "actionadventurecasualindie",
         20,
         10
        ],
        [
         "Nutaku Publishing",
         "actioncasual",
         20,
         5
        ],
        [
         "Ocean Media LLC",
         "casual",
         20,
         5
        ],
        [
         "OraMonkey",
         "actionadventureindie",
         20,
         5
        ],
        [
         "Patagoniart",
         "actioncasualsimulationstrategy",
         20,
         5
        ],
        [
         "PikPok",
         "action",
         20,
         5
        ],
        [
         "Pixel After Pixel",
         "adventurecasualindiesimulationstrategy",
         20,
         5
        ],
        [
         "PlayStation PC LLC",
         "action",
         20,
         10
        ],
        [
         "Prince Game Studio",
         "casualindie",
         20,
         5
        ],
        [
         "ProjectorGames",
         "actionadventurecasualindie",
         20,
         5
        ],
        [
         "Pujia8 Studio",
         "adventurefree to playindierpg",
         20,
         15
        ],
        [
         "Recotechnology S.L.",
         "adventureindie",
         20,
         5
        ],
        [
         "Red Meat Games",
         "actioncasual",
         20,
         5
        ],
        [
         "RedZyrro",
         "indie",
         20,
         5
        ],
        [
         "Rusimitu",
         "early accessindiesimulation",
         20,
         5
        ],
        [
         "Schell Games",
         "adventure",
         20,
         10
        ],
        [
         "Self-Published",
         "actionadventurecasualearly accessindierpg",
         20,
         5
        ],
        [
         "Siddharth Sivaraman",
         "indie",
         20,
         5
        ],
        [
         "Size Five Games",
         "actionadventurecasualindie",
         20,
         5
        ],
        [
         "Smartmove",
         "massively multiplayerracingsimulationsports",
         20,
         5
        ],
        [
         "Source Byte Sp. z o.o.",
         "actioncasualindieracingsports",
         20,
         5
        ],
        [
         "Space Fractal",
         "actioncasualstrategy",
         20,
         5
        ],
        [
         "Stardock Entertainment",
         "indiestrategy",
         20,
         20
        ],
        [
         "Stress Level Zero",
         "actionadventuresimulation",
         20,
         5
        ],
        [
         "T-Bull",
         "actionindiestrategy",
         20,
         5
        ],
        [
         "Tate Multimedia",
         "actionracingsimulationsports",
         20,
         5
        ],
        [
         "Thor Gaming",
         "indiestrategy",
         20,
         5
        ],
        [
         "ThroneLab",
         "casualindieracingsimulation",
         20,
         5
        ],
        [
         "Toffee Cafe",
         "casualrpg",
         20,
         5
        ],
        [
         "Tony Wang",
         "animation & modelingdesign & illustrationeducationgame developmentsoftware trainingutilities",
         20,
         5
        ],
        [
         "TopWare Interactive",
         "indierpg",
         20,
         5
        ],
        [
         "U24 Solutions",
         "actionadventureearly accessracing",
         20,
         5
        ],
        [
         "Unbound Creations",
         "adventureindierpg",
         20,
         5
        ],
        [
         "VR RETRO REMASTER",
         "actioncasualindie",
         20,
         5
        ],
        [
         "VRillAR",
         "actioncasualearly accessfree to play",
         20,
         5
        ],
        [
         "Vagabond Dog",
         "indie",
         20,
         5
        ],
        [
         "Visualnoveler",
         "actionadventureindie",
         20,
         5
        ],
        [
         "W. T. B.",
         "actioncasualindie",
         20,
         5
        ],
        [
         "Wainstop James",
         "adventureindie",
         20,
         10
        ],
        [
         "WhiteLakeStudio",
         "actioncasualindie",
         20,
         5
        ],
        [
         "Wreck Tangle Games",
         "actionadventureindiesimulation",
         20,
         5
        ],
        [
         "XGen Studios",
         "adventurecasualindierpg",
         20,
         5
        ],
        [
         "Yume Creations",
         "adventurenuditysexual content",
         20,
         5
        ],
        [
         "Zerouno Games",
         "actionindie",
         20,
         5
        ],
        [
         "eiNpictures",
         "casualindie",
         20,
         5
        ],
        [
         "kan.kikuchi",
         "casualindie",
         20,
         5
        ],
        [
         "meokigame",
         "actionadventurecasualindiesimulationsportsstrategy",
         20,
         10
        ],
        [
         "КиКо",
         "indie",
         20,
         25
        ],
        [
         "悦艺工作室",
         "adventurecasualsimulationstrategy",
         20,
         5
        ],
        [
         "方块游戏(CubeGame)",
         "casualindie",
         20,
         10
        ],
        [
         "电钮组",
         "casualindierpgsimulation",
         20,
         5
        ],
        [
         "白信鸽工作室",
         "casualindiesimulationstrategy",
         20,
         5
        ],
        [
         "致意",
         "casualindierpgsimulationsports",
         20,
         5
        ],
        [
         "2K",
         "simulationsports",
         19.402985074626866,
         67
        ],
        [
         "Winter Wolves",
         "adventurecasualindie",
         19.230769230769234,
         26
        ],
        [
         "ebi-hime",
         "adventurecasualindie",
         19.230769230769234,
         26
        ],
        [
         "Headup",
         "actionadventureindie",
         18.91891891891892,
         37
        ],
        [
         "Displacement Studios",
         "actionadventureindie",
         18.75,
         16
        ],
        [
         "Interplay",
         "actionadventurerpg",
         18.75,
         16
        ],
        [
         "SMU Guildhall",
         "actionfree to playindie",
         18.75,
         16
        ],
        [
         "Topware Interactive",
         "strategy",
         18.75,
         16
        ],
        [
         "Gamera Games",
         "indie",
         18.51851851851852,
         27
        ],
        [
         "Eroge Japan",
         "adventurecasualindie",
         18.181818181818183,
         11
        ],
        [
         "IndieGala",
         "actioncasualindie",
         18.181818181818183,
         11
        ],
        [
         "Orangepixel",
         "actionindie",
         18.181818181818183,
         11
        ],
        [
         "Phoenixxx Games",
         "casualindie",
         18.181818181818183,
         22
        ],
        [
         "Thunderful Publishing",
         "action",
         18.181818181818183,
         11
        ],
        [
         "Vertigo Games",
         "adventureindie",
         18.181818181818183,
         11
        ],
        [
         "exosyphen studios",
         "indie",
         18.181818181818183,
         11
        ],
        [
         "indienova",
         "actionadventureindierpg",
         18.181818181818183,
         11
        ],
        [
         "Armor Games Studios",
         "adventureindie",
         17.857142857142858,
         28
        ],
        [
         "Good Shepherd Entertainment",
         "actionindie",
         17.857142857142858,
         28
        ],
        [
         "Funbox Media Ltd",
         "action",
         17.77777777777778,
         45
        ],
        [
         "Jetdogs Studios",
         "casualindiestrategy",
         17.647058823529413,
         34
        ],
        [
         "Neon Doctrine",
         "actionadventureindierpg",
         17.647058823529413,
         17
        ],
        [
         "Xbox Game Studios",
         "action",
         17.391304347826086,
         46
        ],
        [
         "Electronic Arts",
         "action",
         17.045454545454543,
         88
        ],
        [
         "2P Games",
         "actioncasualearly accessrpgsimulation",
         16.666666666666664,
         6
        ],
        [
         "34BigThings srl",
         "racing",
         16.666666666666664,
         6
        ],
        [
         "Alda Games",
         "actioncasualindiestrategy",
         16.666666666666664,
         6
        ],
        [
         "Alientrap",
         "actionfree to playindie",
         16.666666666666664,
         6
        ],
        [
         "Aurora",
         "indiesimulation",
         16.666666666666664,
         6
        ],
        [
         "Bartoš Studio",
         "actioncasualfree to playindiesports",
         16.666666666666664,
         6
        ],
        [
         "Barty Games",
         "actionindie",
         16.666666666666664,
         6
        ],
        [
         "Blue Wizard Digital",
         "actionfree to playrpg",
         16.666666666666664,
         6
        ],
        [
         "Boogygames Studios",
         "adventurecasualindiestrategy",
         16.666666666666664,
         78
        ],
        [
         "Bossa Studios",
         "actionadventureearly accessindiemassively multiplayer",
         16.666666666666664,
         6
        ],
        [
         "Brouillard",
         "indierpgsimulation",
         16.666666666666664,
         6
        ],
        [
         "Corradi Games",
         "casual",
         16.666666666666664,
         6
        ],
        [
         "Crescent Moon Games",
         "indie",
         16.666666666666664,
         18
        ],
        [
         "Digital Crafter, Light of Creators",
         "casualindie",
         16.666666666666664,
         6
        ],
        [
         "Doubleton Game Studio",
         "adventureindie",
         16.666666666666664,
         6
        ],
        [
         "Dystopian Edge Publishing",
         "adventurecasualindiesimulation",
         16.666666666666664,
         6
        ],
        [
         "Fantastico Studio",
         "adventureindie",
         16.666666666666664,
         6
        ],
        [
         "Fireshine Games",
         "actionadventureindie",
         16.666666666666664,
         12
        ],
        [
         "Flyhigh Works",
         "actioncasualindie",
         16.666666666666664,
         18
        ],
        [
         "Freedom Games",
         "actionadventureindie",
         16.666666666666664,
         24
        ],
        [
         "GameDev_ToolMaker",
         "animation & modelingdesign & illustrationgame developmentphoto editingsoftware trainingutilitiesvideo productionweb publishing",
         16.666666666666664,
         6
        ],
        [
         "Gestmorph Games",
         "casualindie",
         16.666666666666664,
         6
        ],
        [
         "HeroLabs",
         "rpgsimulationstrategy",
         16.666666666666664,
         6
        ],
        [
         "Idea Cabin",
         "actionadventureindie",
         16.666666666666664,
         6
        ],
        [
         "Interplay Entertainment Corp.",
         "actionadventuresimulation",
         16.666666666666664,
         24
        ],
        [
         "LGV",
         "actionadventurecasualindierpgsports",
         16.666666666666664,
         6
        ],
        [
         "Luden.io",
         "indiesimulation",
         16.666666666666664,
         6
        ],
        [
         "MAGIC Spell Studios",
         "adventurefree to playindiesimulation",
         16.666666666666664,
         6
        ],
        [
         "Mastertronic",
         "indie",
         16.666666666666664,
         6
        ],
        [
         "Midnight Games",
         "massively multiplayerracingsimulationsports",
         16.666666666666664,
         6
        ],
        [
         "Mutant Entertainment Studios",
         "casualindierpg",
         16.666666666666664,
         6
        ],
        [
         "Natsume Inc.",
         "adventurerpgsimulation",
         16.666666666666664,
         6
        ],
        [
         "Neko Entertainment",
         "casualindie",
         16.666666666666664,
         6
        ],
        [
         "Owlchemy Labs",
         "actioncasualindiestrategy",
         16.666666666666664,
         6
        ],
        [
         "Playsaurus",
         "actionadventurecasualearly accessindierpgsimulationstrategy",
         16.666666666666664,
         6
        ],
        [
         "Polantronic",
         "actionadventure",
         16.666666666666664,
         6
        ],
        [
         "Prestige Games",
         "adventureindie",
         16.666666666666664,
         6
        ],
        [
         "RIVERSIDE SPORTS",
         "action",
         16.666666666666664,
         6
        ],
        [
         "Rabotiagi games",
         "actionadventureindierpgsimulation",
         16.666666666666664,
         6
        ],
        [
         "Rank17",
         "actionadventureearly access",
         16.666666666666664,
         6
        ],
        [
         "Resolution Games",
         "action",
         16.666666666666664,
         6
        ],
        [
         "Robot Entertainment",
         "indiestrategy",
         16.666666666666664,
         6
        ],
        [
         "Sergey Bobrov",
         "indiestrategy",
         16.666666666666664,
         6
        ],
        [
         "Shiro Unlimited",
         "indiesimulationstrategy",
         16.666666666666664,
         6
        ],
        [
         "Skywalker HK",
         "adventureindierpg",
         16.666666666666664,
         6
        ],
        [
         "Starmyth",
         "actionadventureindie",
         16.666666666666664,
         6
        ],
        [
         "Survios",
         "actionindiestrategy",
         16.666666666666664,
         6
        ],
        [
         "Tale of Tales",
         "actioncasualindiesimulation",
         16.666666666666664,
         6
        ],
        [
         "Tero Lunkka, Valkeala Software",
         "adventurecasualindie",
         16.666666666666664,
         6
        ],
        [
         "Theodor Niklas",
         "actionadventureindiesimulation",
         16.666666666666664,
         6
        ],
        [
         "VRKiwi",
         "actionadventure",
         16.666666666666664,
         6
        ],
        [
         "Way Down Deep",
         "adventureindie",
         16.666666666666664,
         6
        ],
        [
         "XD",
         "adventurecasualindiesimulationstrategy",
         16.666666666666664,
         6
        ],
        [
         "Xefier Games Inc.",
         "actionearly access",
         16.666666666666664,
         6
        ],
        [
         "derevotyan",
         "actionadventure",
         16.666666666666664,
         6
        ],
        [
         "Ripknot Systems",
         "casualindie",
         16.363636363636363,
         55
        ],
        [
         "Team17 Digital Ltd",
         "strategy",
         16.216216216216218,
         37
        ],
        [
         "Gotcha Gotcha Games",
         "rpg",
         16.129032258064516,
         31
        ],
        [
         "Meridian4",
         "actionadventureindie",
         16.129032258064516,
         31
        ],
        [
         "Excalibur Publishing",
         "simulation",
         15.789473684210526,
         19
        ],
        [
         "Gigantum Games",
         "adventureindie",
         15.789473684210526,
         19
        ],
        [
         "Movavi Software",
         "animation & modelingaudio productiondesign & illustrationeducationphoto editingsoftware trainingutilitiesvideo production",
         15.789473684210526,
         19
        ],
        [
         "Kedexa",
         "casual",
         15.625,
         32
        ],
        [
         "PsychoFlux Entertainment",
         "casualindie",
         15.555555555555555,
         45
        ],
        [
         "Funcom",
         "adventure",
         15.384615384615385,
         13
        ],
        [
         "Ivanovich Games",
         "actionindiesimulation",
         15.384615384615385,
         13
        ],
        [
         "Whale Rock Games",
         "actionadventureearly accessindiesimulation",
         15.384615384615385,
         13
        ],
        [
         "Wired Productions",
         "adventurecasualindie",
         15.384615384615385,
         13
        ],
        [
         "Droid Riot",
         "actionadventureindie",
         15.217391304347828,
         46
        ],
        [
         "KISS ltd",
         "actionindie",
         15.151515151515152,
         33
        ],
        [
         "Volens Nolens Games",
         "actionadventureindie",
         14.893617021276595,
         47
        ],
        [
         "Hede",
         "actionadventurecasualindiesimulationstrategy",
         14.814814814814813,
         54
        ],
        [
         "Piece Of Voxel",
         "casualindiestrategy",
         14.814814814814813,
         81
        ],
        [
         "Tero Lunkka",
         "actionadventureindie",
         14.705882352941178,
         68
        ],
        [
         "505 Games",
         "actionadventure",
         14.634146341463413,
         41
        ],
        [
         "Alternative Software Ltd",
         "simulationsports",
         14.285714285714285,
         21
        ],
        [
         "Ankama Games",
         "adventureearly accessindierpgstrategy",
         14.285714285714285,
         7
        ],
        [
         "Axyos Games",
         "actionadventurecasualindierpgsimulation",
         14.285714285714285,
         7
        ],
        [
         "BadLand Publishing",
         "adventureindie",
         14.285714285714285,
         14
        ],
        [
         "Campus ADN",
         "actionfree to playindie",
         14.285714285714285,
         7
        ],
        [
         "Clique Games",
         "actionearly accesssports",
         14.285714285714285,
         7
        ],
        [
         "Colossus Game Studio",
         "casualindiestrategy",
         14.285714285714285,
         7
        ],
        [
         "Cotton Game",
         "actionadventureindie",
         14.285714285714285,
         7
        ],
        [
         "Cristian Manolachi, Atomic Fabrik",
         "adventurecasualindiesimulationsports",
         14.285714285714285,
         21
        ],
        [
         "Ghost Machine",
         "indierpgstrategy",
         14.285714285714285,
         7
        ],
        [
         "Hyper Hippo Games",
         "casualindie",
         14.285714285714285,
         7
        ],
        [
         "Immersion",
         "casualfree to playsportsstrategy",
         14.285714285714285,
         7
        ],
        [
         "Kerim Kumbasar",
         "actionadventurecasualindiesimulationsportsstrategy",
         14.285714285714285,
         7
        ],
        [
         "Koch Media",
         "utilities",
         14.285714285714285,
         7
        ],
        [
         "META Publishing",
         "actionadventurecasualfree to playindiemassively multiplayerracingsimulationstrategy",
         14.285714285714285,
         7
        ],
        [
         "Modern Wolf",
         "indierpgstrategy",
         14.285714285714285,
         7
        ],
        [
         "Narko Games",
         "actionadventuregoreindieviolent",
         14.285714285714285,
         14
        ],
        [
         "Prime Bit Games SA",
         "adventure",
         14.285714285714285,
         7
        ],
        [
         "Rogue Games, Inc.",
         "actionfree to playindiestrategy",
         14.285714285714285,
         7
        ],
        [
         "SRS Games",
         "actioncasualindiestrategy",
         14.285714285714285,
         7
        ],
        [
         "Satur Entertainment",
         "actioncasualindierpgsimulationstrategy",
         14.285714285714285,
         7
        ],
        [
         "Seaborgium Entertainment",
         "actionadventureindierpgsimulation",
         14.285714285714285,
         7
        ],
        [
         "Sedoc LLC",
         "indiestrategy",
         14.285714285714285,
         7
        ],
        [
         "WELOVEBOT CO., LTD.",
         "casualearly accessindierpgsimulationstrategy",
         14.285714285714285,
         7
        ],
        [
         "YJM GAMES",
         "actionadventurerpg",
         14.285714285714285,
         7
        ],
        [
         "Yogscast Games",
         "actionadventureindie",
         14.285714285714285,
         7
        ],
        [
         "tinyBuild",
         "actionadventureindie",
         13.88888888888889,
         72
        ],
        [
         "SA Industry",
         "actionadventurecasualindie",
         13.793103448275861,
         87
        ],
        [
         "My Way Games",
         "actionadventurecasualindie",
         13.636363636363635,
         66
        ],
        [
         "New Reality Games",
         "adventureindierpg",
         13.513513513513514,
         37
        ],
        [
         "Focus Entertainment",
         "actionrpg",
         13.461538461538462,
         52
        ],
        [
         "Nacon",
         "sports",
         13.333333333333334,
         60
        ],
        [
         "Yash Future Tech Solutions Pvt Ltd",
         "racingsports",
         13.333333333333334,
         15
        ],
        [
         "Sokpop Collective",
         "actionadventureindie",
         13.131313131313133,
         99
        ],
        [
         "Atomic Fabrik, Cristian Manolachi",
         "casualindieracingsimulationsports",
         13.043478260869565,
         46
        ],
        [
         "Plug In Digital",
         "actionindie",
         13,
         100
        ],
        [
         "Trinity Project",
         "actionindie",
         12.76595744680851,
         47
        ],
        [
         "-",
         "actionadventureindie",
         12.5,
         8
        ],
        [
         "Art Of Adventures",
         "actionracing",
         12.5,
         16
        ],
        [
         "BD Games",
         "actionadventureindierpg",
         12.5,
         8
        ],
        [
         "Big Black Bear",
         "casualindie",
         12.5,
         40
        ],
        [
         "Black Lime Studio",
         "actionindie",
         12.5,
         8
        ],
        [
         "Coatsink",
         "casualindie",
         12.5,
         8
        ],
        [
         "Coldwild Games",
         "indierpgstrategy",
         12.5,
         8
        ],
        [
         "GexagonVR",
         "actionadventurecasualsimulation",
         12.5,
         8
        ],
        [
         "Hyperstrange",
         "actionracing",
         12.5,
         8
        ],
        [
         "INDIECN",
         "adventurecasualindierpg",
         12.5,
         16
        ],
        [
         "Kitfox Games",
         "adventureindierpg",
         12.5,
         8
        ],
        [
         "Marginal act",
         "adventureindierpg",
         12.5,
         8
        ],
        [
         "Milkstone Studios",
         "actionindierpg",
         12.5,
         8
        ],
        [
         "Self Published",
         "adventureearly accessindierpgsimulationstrategy",
         12.5,
         8
        ],
        [
         "Versus Evil",
         "actionindie",
         12.5,
         24
        ],
        [
         "bilibili",
         "action",
         12.5,
         8
        ],
        [
         "khos85",
         "actionindiesimulation",
         12.5,
         8
        ],
        [
         "KPL",
         "actionadventureindie",
         12,
         25
        ],
        [
         "JanduSoft",
         "actionindie",
         11.76470588235294,
         17
        ],
        [
         "Merge Games",
         "actionadventureindierpg",
         11.76470588235294,
         17
        ],
        [
         "PQube",
         "actionadventure",
         11.363636363636363,
         44
        ],
        [
         "Gameloft",
         "actionadventurefree to playrpg",
         11.11111111111111,
         9
        ],
        [
         "Games Operators",
         "actionindiesimulationstrategy",
         11.11111111111111,
         9
        ],
        [
         "HypeTrain Digital",
         "actionadventureindierpg",
         11.11111111111111,
         18
        ],
        [
         "Mature Games",
         "actionadventureindierpg",
         11.11111111111111,
         9
        ],
        [
         "Maximum Games",
         "actionindie",
         11.11111111111111,
         9
        ],
        [
         "MicroProse Software",
         "actionearly accesssimulation",
         11.11111111111111,
         9
        ],
        [
         "Team17",
         "actionadventureindie",
         11.11111111111111,
         27
        ],
        [
         "Vive Studios",
         "actioncasualsimulationsports",
         11.11111111111111,
         9
        ],
        [
         "ESDigital Games",
         "casualsimulationstrategy",
         10.9375,
         64
        ],
        [
         "Enaayah Software Development and Services Private Limited",
         "actionadventurecasualindieracingsimulationsports",
         10.526315789473683,
         19
        ],
        [
         "HandyGames",
         "adventureindie",
         10,
         40
        ],
        [
         "Headup Games",
         "actionadventureindie",
         10,
         20
        ],
        [
         "No More Robots",
         "adventurerpgsimulationstrategy",
         10,
         10
        ],
        [
         "Serenity Forge",
         "adventureindie",
         10,
         10
        ],
        [
         "Ultimate Games S.A.",
         "actionadventureindie",
         10,
         20
        ],
        [
         "THQ Nordic",
         "action",
         9.6,
         125
        ],
        [
         "Ahlman Game Studio",
         "free to playindiesimulationsports",
         9.090909090909092,
         11
        ],
        [
         "Dieselmine",
         "adventuresimulation",
         9.090909090909092,
         11
        ],
        [
         "None",
         "actionindie",
         9.090909090909092,
         22
        ],
        [
         "none",
         "early access",
         9.090909090909092,
         11
        ],
        [
         "Coffee Stain Publishing",
         "casualearly access",
         8.333333333333332,
         12
        ],
        [
         "Fury Games Production",
         "adventurecasualindiesimulation",
         8.333333333333332,
         12
        ],
        [
         "Humble Games",
         "adventureindie",
         7.6923076923076925,
         26
        ],
        [
         "Breda University of Applied Sciences",
         "actionadventuresimulation",
         7.142857142857142,
         14
        ]
       ],
       "datasetInfos": [],
       "dbfsResultPath": null,
       "isJsonSchema": true,
       "metadata": {},
       "overflow": false,
       "plotOptions": {
        "customPlotOptions": {},
        "displayType": "table",
        "pivotAggregation": null,
        "pivotColumns": null,
        "xColumns": null,
        "yColumns": null
       },
       "removedWidgets": [],
       "schema": [
        {
         "metadata": "{}",
         "name": "publisher",
         "type": "\"string\""
        },
        {
         "metadata": "{}",
         "name": "genre",
         "type": "\"string\""
        },
        {
         "metadata": "{}",
         "name": "genre_size_for_publisher (%)",
         "type": "\"double\""
        },
        {
         "metadata": "{}",
         "name": "num_games_from_publisher",
         "type": "\"long\""
        }
       ],
       "type": "table"
      }
     },
     "output_type": "display_data"
    },
    {
     "data": {
      "text/plain": [
       "Databricks visualization. Run in Databricks to view."
      ]
     },
     "metadata": {
      "application/vnd.databricks.v1.subcommand+json": {
       "baseErrorDetails": null,
       "bindings": {},
       "collapsed": false,
       "command": "%python\n__backend_agg_display_orig = display\n__backend_agg_dfs = []\ndef __backend_agg_display_new(df):\n    __backend_agg_df_modules = [\"pandas.core.frame\", \"databricks.koalas.frame\", \"pyspark.sql.dataframe\", \"pyspark.pandas.frame\", \"pyspark.sql.connect.dataframe\"]\n    if (type(df).__module__ in __backend_agg_df_modules and type(df).__name__ == 'DataFrame') or isinstance(df, list):\n        __backend_agg_dfs.append(df)\n\ndisplay = __backend_agg_display_new\n\ndef __backend_agg_user_code_fn():\n    import base64\n    exec(base64.standard_b64decode(\"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\").decode())\n\ntry:\n    # run user code\n    __backend_agg_user_code_fn()\n\n    #reset display function\n    display = __backend_agg_display_orig\n\n    if len(__backend_agg_dfs) > 0:\n        # create a temp view\n        if type(__backend_agg_dfs[0]).__module__ == \"databricks.koalas.frame\":\n            # koalas dataframe\n            __backend_agg_dfs[0].to_spark().createOrReplaceTempView(\"DatabricksViewf0d223d\")\n        elif type(__backend_agg_dfs[0]).__module__ == \"pandas.core.frame\" or isinstance(__backend_agg_dfs[0], list):\n            # pandas dataframe\n            spark.createDataFrame(__backend_agg_dfs[0]).createOrReplaceTempView(\"DatabricksViewf0d223d\")\n        else:\n            __backend_agg_dfs[0].createOrReplaceTempView(\"DatabricksViewf0d223d\")\n        #run backend agg\n        display(spark.sql(\"\"\"WITH q AS (select * from DatabricksViewf0d223d) ,min_max AS (SELECT `genre_size_for_publisher (%)`,(SELECT MAX(`genre_size_for_publisher (%)`) FROM q) `target_column_max`,(SELECT MIN(`genre_size_for_publisher (%)`) FROM q) `target_column_min` FROM q) ,histogram_meta AS (SELECT `genre_size_for_publisher (%)`,`target_column_min` `min_value`,IF(`target_column_max` = `target_column_min`,`target_column_max` + 1,`target_column_max`) `max_value`,(`target_column_max` - `target_column_min`) / 10 `step` FROM min_max) SELECT IF(ISNULL(`genre_size_for_publisher (%)`),NULL,LEAST(WIDTH_BUCKET(`genre_size_for_publisher (%)`,`min_value`,`max_value`,10),10)) `genre_size_for_publisher (%)_BIN`,FIRST(`min_value` + ((IF(ISNULL(`genre_size_for_publisher (%)`),NULL,LEAST(WIDTH_BUCKET(`genre_size_for_publisher (%)`,`min_value`,`max_value`,10),10)) - 1) * `step`)) `genre_size_for_publisher (%)_BIN_LOWER_BOUND`,FIRST(`step`) `genre_size_for_publisher (%)_BIN_STEP`,COUNT(`genre_size_for_publisher (%)`) `COUNT` FROM histogram_meta GROUP BY `genre_size_for_publisher (%)_BIN`\"\"\"))\n    else:\n        displayHTML(\"dataframe no longer exists. If you're using dataframe.display(), use display(dataframe) instead.\")\n\n\nfinally:\n    spark.sql(\"drop view if exists DatabricksViewf0d223d\")\n    display = __backend_agg_display_orig\n    del __backend_agg_display_new\n    del __backend_agg_display_orig\n    del __backend_agg_dfs\n    del __backend_agg_user_code_fn\n\n",
       "commandTitle": "Genre size distribution",
       "commandType": "auto",
       "commandVersion": 0,
       "commentThread": [],
       "commentsVisible": false,
       "contentSha256Hex": null,
       "customPlotOptions": {
        "redashChart": [
         {
          "key": "type",
          "value": "CHART"
         },
         {
          "key": "options",
          "value": {
           "alignYAxesAtZero": true,
           "coefficient": 1,
           "columnConfigurationMap": {
            "x": {
             "column": "genre_size_for_publisher (%)",
             "id": "column_8e313d2d451"
            }
           },
           "dateTimeFormat": "DD/MM/YYYY HH:mm",
           "direction": {
            "type": "counterclockwise"
           },
           "error_y": {
            "type": "data",
            "visible": true
           },
           "globalSeriesType": "histogram",
           "legend": {
            "traceorder": "normal"
           },
           "missingValuesAsZero": true,
           "numBins": 10,
           "numberFormat": "0,0.[00000]",
           "percentFormat": "0[.]00%",
           "series": {
            "error_y": {
             "type": "data",
             "visible": true
            },
            "stacking": null
           },
           "seriesOptions": {},
           "showDataLabels": false,
           "sizemode": "diameter",
           "sortX": true,
           "sortY": true,
           "swappedAxes": false,
           "textFormat": "",
           "useAggregationsUi": true,
           "valuesOptions": {},
           "version": 2,
           "xAxis": {
            "labels": {
             "enabled": true
            },
            "type": "-"
           },
           "yAxis": [
            {
             "type": "-"
            },
            {
             "opposite": true,
             "type": "-"
            }
           ]
          }
         }
        ]
       },
       "datasetPreviewNameToCmdIdMap": {},
       "diffDeletes": [],
       "diffInserts": [],
       "displayType": "redashChart",
       "error": null,
       "errorDetails": null,
       "errorSummary": null,
       "errorTraceType": null,
       "finishTime": 0,
       "globalVars": {},
       "guid": "",
       "height": "auto",
       "hideCommandCode": false,
       "hideCommandResult": false,
       "iPythonMetadata": null,
       "inputWidgets": {},
       "isLockedInExamMode": false,
       "latestAssumeRoleInfo": null,
       "latestUser": "a user",
       "latestUserId": null,
       "listResultMetadata": null,
       "metadata": {},
       "nuid": "4513ba9c-cc30-4e32-94c4-09a5714ae8e8",
       "origId": 0,
       "parentHierarchy": [],
       "pivotAggregation": null,
       "pivotColumns": null,
       "position": 2.9997520446777344,
       "resultDbfsErrorMessage": null,
       "resultDbfsStatus": "INLINED_IN_TREE",
       "results": null,
       "showCommandTitle": false,
       "startTime": 0,
       "state": "input",
       "streamStates": {},
       "subcommandOptions": {
        "queryPlan": {
         "groups": [
          {
           "column": "genre_size_for_publisher (%)_BIN",
           "type": "column"
          }
         ],
         "selects": [
          {
           "alias": "genre_size_for_publisher (%)_BIN",
           "args": [
            {
             "column": "genre_size_for_publisher (%)",
             "type": "column"
            },
            {
             "number": 10,
             "type": "number"
            }
           ],
           "function": "BIN",
           "type": "function"
          },
          {
           "alias": "genre_size_for_publisher (%)_BIN_LOWER_BOUND",
           "args": [
            {
             "column": "genre_size_for_publisher (%)",
             "type": "column"
            },
            {
             "number": 10,
             "type": "number"
            }
           ],
           "function": "BIN_LOWER_BOUND",
           "type": "function"
          },
          {
           "alias": "genre_size_for_publisher (%)_BIN_STEP",
           "args": [
            {
             "column": "genre_size_for_publisher (%)",
             "type": "column"
            },
            {
             "number": 10,
             "type": "number"
            }
           ],
           "function": "BIN_STEP",
           "type": "function"
          },
          {
           "alias": "COUNT",
           "args": [
            {
             "column": "genre_size_for_publisher (%)",
             "type": "column"
            }
           ],
           "function": "COUNT",
           "type": "function"
          }
         ]
        }
       },
       "submitTime": 0,
       "subtype": "tableResultSubCmd.visualization",
       "tableResultIndex": 0,
       "tableResultSettingsMap": {},
       "useConsistentColors": false,
       "version": "CommandV1",
       "width": "auto",
       "workflows": [],
       "xColumns": null,
       "yColumns": null
      }
     },
     "output_type": "display_data"
    }
   ],
   "source": [
    "get_genres_concat = F.udf(lambda genres: \"\".join(\n",
    "                                                sorted(\n",
    "                                                    [genre.strip().lower() for genre in genres.split(\",\")])),\n",
    "                          StringType())\n",
    "\n",
    "# I can't merge the two lines below because I need the first one before the \"genre_occurrences\" column exists\n",
    "num_games_window = Window.partitionBy(F.col(\"publisher\"))\n",
    "genre_rank_window = Window.partitionBy(F.col(\"publisher\")).orderBy(F.desc(\"genre_occurrences\"))\n",
    "\n",
    "fave_genres_df_2 = df.filter((F.col(\"genre\") != \"\") & ~F.col(\"publisher\").isin([\"\", \" \"]))\\\n",
    "                   .withColumn(\"num_games_from_publisher\", F.count(\"appid\").over(num_games_window))\\\n",
    "                   .filter(F.col(\"num_games_from_publisher\") >= 5)\\\n",
    "                   .withColumn(\"genre\", # ↑ Publishers with very few games wouldn't give us interesting \"favourite genre\" values\n",
    "                               get_genres_concat(\n",
    "                                   F.col(\"genre\")))\\\n",
    "                   .groupBy([F.col(\"publisher\"), F.col(\"genre\")])\\\n",
    "                   .agg(F.count(\"genre\").alias(\"genre_occurrences\"),\n",
    "                        F.max(\"num_games_from_publisher\").alias(\"num_games_from_publisher\"))\\\n",
    "                   .withColumn(\"genre_rank_for_publisher\", F.rank().over(genre_rank_window))\\\n",
    "                   .filter(F.col(\"genre_rank_for_publisher\") == 1)\\\n",
    "                   .withColumn(\"genre_size_for_publisher (%)\",\n",
    "                               (F.col(\"genre_occurrences\") / F.col(\"num_games_from_publisher\") * 100))\\\n",
    "                   .dropDuplicates(subset=[\"publisher\"])\\\n",
    "                   .orderBy(F.desc(\"genre_size_for_publisher (%)\"))\\\n",
    "                   .select([F.col(\"publisher\"),\n",
    "                            F.col(\"genre\"),\n",
    "                            F.col(\"genre_size_for_publisher (%)\"),\n",
    "                            F.col(\"num_games_from_publisher\")])\n",
    "fave_genres_df_2.display()"
   ]
  },
  {
   "cell_type": "markdown",
   "metadata": {
    "application/vnd.databricks.v1+cell": {
     "cellMetadata": {},
     "inputWidgets": {},
     "nuid": "61af27ed-13f6-4a41-82a7-0fb95f0d9fe5",
     "showTitle": false,
     "tableResultSettingsMap": {},
     "title": ""
    }
   },
   "source": [
    "For the most part, it seems like publishers do have a little variety in the genre combinations of the games they publish on Steam."
   ]
  },
  {
   "cell_type": "code",
   "execution_count": 0,
   "metadata": {
    "application/vnd.databricks.v1+cell": {
     "cellMetadata": {
      "byteLimit": 2048000,
      "rowLimit": 10000
     },
     "inputWidgets": {},
     "nuid": "eec57456-7e85-499a-9f73-b48a7aed1ada",
     "showTitle": false,
     "tableResultSettingsMap": {},
     "title": ""
    }
   },
   "outputs": [
    {
     "data": {
      "text/html": [
       "<style scoped>\n",
       "  .table-result-container {\n",
       "    max-height: 300px;\n",
       "    overflow: auto;\n",
       "  }\n",
       "  table, th, td {\n",
       "    border: 1px solid black;\n",
       "    border-collapse: collapse;\n",
       "  }\n",
       "  th, td {\n",
       "    padding: 5px;\n",
       "  }\n",
       "  th {\n",
       "    text-align: left;\n",
       "  }\n",
       "</style><div class='table-result-container'><table class='table-result'><thead style='background-color: white'><tr><th>genre</th><th>count(genre)</th></tr></thead><tbody><tr><td>casualindie</td><td>113</td></tr><tr><td>actionindie</td><td>97</td></tr><tr><td>actionadventureindie</td><td>79</td></tr><tr><td>adventureindie</td><td>64</td></tr><tr><td>action</td><td>61</td></tr><tr><td>casual</td><td>60</td></tr><tr><td>adventurecasualindie</td><td>58</td></tr><tr><td>indie</td><td>49</td></tr><tr><td>actioncasualindie</td><td>45</td></tr><tr><td>adventure</td><td>42</td></tr><tr><td>actionadventurecasualindie</td><td>26</td></tr><tr><td>casualindiestrategy</td><td>26</td></tr><tr><td>adventureindierpg</td><td>23</td></tr><tr><td>strategy</td><td>23</td></tr><tr><td>actionadventure</td><td>22</td></tr><tr><td>actionadventureindierpg</td><td>21</td></tr><tr><td>casualindiesimulation</td><td>20</td></tr><tr><td>adventurecasual</td><td>19</td></tr><tr><td>simulation</td><td>18</td></tr><tr><td>indiesimulationstrategy</td><td>18</td></tr></tbody></table></div>"
      ]
     },
     "metadata": {
      "application/vnd.databricks.v1+output": {
       "addedWidgets": {},
       "aggData": [],
       "aggError": "",
       "aggOverflow": false,
       "aggSchema": [],
       "aggSeriesLimitReached": false,
       "aggType": "",
       "arguments": {},
       "columnCustomDisplayInfos": {},
       "data": [
        [
         "casualindie",
         113
        ],
        [
         "actionindie",
         97
        ],
        [
         "actionadventureindie",
         79
        ],
        [
         "adventureindie",
         64
        ],
        [
         "action",
         61
        ],
        [
         "casual",
         60
        ],
        [
         "adventurecasualindie",
         58
        ],
        [
         "indie",
         49
        ],
        [
         "actioncasualindie",
         45
        ],
        [
         "adventure",
         42
        ],
        [
         "actionadventurecasualindie",
         26
        ],
        [
         "casualindiestrategy",
         26
        ],
        [
         "adventureindierpg",
         23
        ],
        [
         "strategy",
         23
        ],
        [
         "actionadventure",
         22
        ],
        [
         "actionadventureindierpg",
         21
        ],
        [
         "casualindiesimulation",
         20
        ],
        [
         "adventurecasual",
         19
        ],
        [
         "simulation",
         18
        ],
        [
         "indiesimulationstrategy",
         18
        ]
       ],
       "datasetInfos": [],
       "dbfsResultPath": null,
       "isJsonSchema": true,
       "metadata": {},
       "overflow": false,
       "plotOptions": {
        "customPlotOptions": {},
        "displayType": "table",
        "pivotAggregation": null,
        "pivotColumns": null,
        "xColumns": null,
        "yColumns": null
       },
       "removedWidgets": [],
       "schema": [
        {
         "metadata": "{}",
         "name": "genre",
         "type": "\"string\""
        },
        {
         "metadata": "{}",
         "name": "count(genre)",
         "type": "\"long\""
        }
       ],
       "type": "table"
      }
     },
     "output_type": "display_data"
    },
    {
     "data": {
      "text/plain": [
       "Databricks visualization. Run in Databricks to view."
      ]
     },
     "metadata": {
      "application/vnd.databricks.v1.subcommand+json": {
       "baseErrorDetails": null,
       "bindings": {},
       "collapsed": false,
       "command": "%python\n__backend_agg_display_orig = display\n__backend_agg_dfs = []\ndef __backend_agg_display_new(df):\n    __backend_agg_df_modules = [\"pandas.core.frame\", \"databricks.koalas.frame\", \"pyspark.sql.dataframe\", \"pyspark.pandas.frame\", \"pyspark.sql.connect.dataframe\"]\n    if (type(df).__module__ in __backend_agg_df_modules and type(df).__name__ == 'DataFrame') or isinstance(df, list):\n        __backend_agg_dfs.append(df)\n\ndisplay = __backend_agg_display_new\n\ndef __backend_agg_user_code_fn():\n    import base64\n    exec(base64.standard_b64decode(\"Z2V0X2hlYWRfYXNfZGYoZmF2ZV9nZW5yZXNfZGZfMi5zZWxlY3QoRi5jb2woImdlbnJlIikpXAogICAgICAgICAgICAgICAgICAgICAgICAgICAgICAgLmdyb3VwQnkoRi5jb2woImdlbnJlIikpXAogICAgICAgICAgICAgICAgICAgICAgICAgICAgICAgLmFnZyhGLmNvdW50KCJnZW5yZSIpKVwKICAgICAgICAgICAgICAgICAgICAgICAgICAgICAgIC5zb3J0KEYuZGVzYygiY291bnQoZ2VucmUpIikpKQ==\").decode())\n\ntry:\n    # run user code\n    __backend_agg_user_code_fn()\n\n    #reset display function\n    display = __backend_agg_display_orig\n\n    if len(__backend_agg_dfs) > 0:\n        # create a temp view\n        if type(__backend_agg_dfs[0]).__module__ == \"databricks.koalas.frame\":\n            # koalas dataframe\n            __backend_agg_dfs[0].to_spark().createOrReplaceTempView(\"DatabricksView54ec325\")\n        elif type(__backend_agg_dfs[0]).__module__ == \"pandas.core.frame\" or isinstance(__backend_agg_dfs[0], list):\n            # pandas dataframe\n            spark.createDataFrame(__backend_agg_dfs[0]).createOrReplaceTempView(\"DatabricksView54ec325\")\n        else:\n            __backend_agg_dfs[0].createOrReplaceTempView(\"DatabricksView54ec325\")\n        #run backend agg\n        display(spark.sql(\"\"\"WITH q AS (select * from DatabricksView54ec325) SELECT `genre`,SUM(`count(genre)`) `column_8e313d2d460` FROM q GROUP BY `genre`\"\"\"))\n    else:\n        displayHTML(\"dataframe no longer exists. If you're using dataframe.display(), use display(dataframe) instead.\")\n\n\nfinally:\n    spark.sql(\"drop view if exists DatabricksView54ec325\")\n    display = __backend_agg_display_orig\n    del __backend_agg_display_new\n    del __backend_agg_display_orig\n    del __backend_agg_dfs\n    del __backend_agg_user_code_fn\n\n",
       "commandTitle": "Visualization 1",
       "commandType": "auto",
       "commandVersion": 0,
       "commentThread": [],
       "commentsVisible": false,
       "contentSha256Hex": null,
       "customPlotOptions": {
        "redashChart": [
         {
          "key": "type",
          "value": "CHART"
         },
         {
          "key": "options",
          "value": {
           "alignYAxesAtZero": true,
           "coefficient": 1,
           "columnConfigurationMap": {
            "x": {
             "column": "genre",
             "id": "column_8e313d2d459"
            },
            "y": [
             {
              "column": "count(genre)",
              "id": "column_8e313d2d460",
              "transform": "SUM"
             }
            ]
           },
           "dateTimeFormat": "DD/MM/YYYY HH:mm",
           "direction": {
            "type": "counterclockwise"
           },
           "error_y": {
            "type": "data",
            "visible": true
           },
           "globalSeriesType": "column",
           "legend": {
            "traceorder": "normal"
           },
           "missingValuesAsZero": true,
           "numberFormat": "0,0.[00000]",
           "percentFormat": "0[.]00%",
           "series": {
            "error_y": {
             "type": "data",
             "visible": true
            },
            "stacking": null
           },
           "seriesOptions": {
            "column_8e313d2d460": {
             "name": "count(genre)",
             "yAxis": 0
            }
           },
           "showDataLabels": false,
           "sizemode": "diameter",
           "sortX": true,
           "sortY": true,
           "swappedAxes": true,
           "textFormat": "",
           "useAggregationsUi": true,
           "valuesOptions": {},
           "version": 2,
           "xAxis": {
            "labels": {
             "enabled": true
            },
            "type": "-"
           },
           "yAxis": [
            {
             "type": "-"
            },
            {
             "opposite": true,
             "type": "-"
            }
           ]
          }
         }
        ]
       },
       "datasetPreviewNameToCmdIdMap": {},
       "diffDeletes": [],
       "diffInserts": [],
       "displayType": "redashChart",
       "error": null,
       "errorDetails": null,
       "errorSummary": null,
       "errorTraceType": null,
       "finishTime": 0,
       "globalVars": {},
       "guid": "",
       "height": "auto",
       "hideCommandCode": false,
       "hideCommandResult": false,
       "iPythonMetadata": null,
       "inputWidgets": {},
       "isLockedInExamMode": false,
       "latestAssumeRoleInfo": null,
       "latestUser": "a user",
       "latestUserId": null,
       "listResultMetadata": null,
       "metadata": {},
       "nuid": "dd9cfb03-b6f0-4bd3-87af-e5aa4db7eb40",
       "origId": 0,
       "parentHierarchy": [],
       "pivotAggregation": null,
       "pivotColumns": null,
       "position": 2.999753952026367,
       "resultDbfsErrorMessage": null,
       "resultDbfsStatus": "INLINED_IN_TREE",
       "results": null,
       "showCommandTitle": false,
       "startTime": 0,
       "state": "input",
       "streamStates": {},
       "subcommandOptions": {
        "queryPlan": {
         "groups": [
          {
           "column": "genre",
           "type": "column"
          }
         ],
         "selects": [
          {
           "column": "genre",
           "type": "column"
          },
          {
           "alias": "column_8e313d2d460",
           "args": [
            {
             "column": "count(genre)",
             "type": "column"
            }
           ],
           "function": "SUM",
           "type": "function"
          }
         ]
        }
       },
       "submitTime": 0,
       "subtype": "tableResultSubCmd.visualization",
       "tableResultIndex": 0,
       "tableResultSettingsMap": {},
       "useConsistentColors": false,
       "version": "CommandV1",
       "width": "auto",
       "workflows": [],
       "xColumns": null,
       "yColumns": null
      }
     },
     "output_type": "display_data"
    }
   ],
   "source": [
    "get_head_as_df(fave_genres_df_2.select(F.col(\"genre\"))\\\n",
    "                               .groupBy(F.col(\"genre\"))\\\n",
    "                               .agg(F.count(\"genre\"))\\\n",
    "                               .sort(F.desc(\"count(genre)\")))"
   ]
  },
  {
   "cell_type": "markdown",
   "metadata": {
    "application/vnd.databricks.v1+cell": {
     "cellMetadata": {},
     "inputWidgets": {},
     "nuid": "2c673acf-bcde-470d-87d0-1456bfce3881",
     "showTitle": false,
     "tableResultSettingsMap": {},
     "title": ""
    }
   },
   "source": [
    "### What are the most lucrative genres?\n",
    "\n",
    "Because doing otherwise would be complex and way beyond the scope of the project, I will assume that each genre assigned to a game contributes equally and fully (i.e. no need to divide a retail price associated with a genre by the number of genres assigned to a game) to its retail price, and that the fact that genres are combined in different ways throughout the data will naturally bring the more important genres to the top (i.e. if a cheap game has the genres \"action, puzzle, rpg\" and an expensive game has the genres \"action, puzzle, indie\", I will assume that \"indie\" is more lucrative than \"rpg\" even though there could be other factors at play)."
   ]
  },
  {
   "cell_type": "code",
   "execution_count": 0,
   "metadata": {
    "application/vnd.databricks.v1+cell": {
     "cellMetadata": {
      "byteLimit": 2048000,
      "rowLimit": 10000
     },
     "inputWidgets": {},
     "nuid": "cef7981c-17a4-44b0-a429-b9294a53235c",
     "showTitle": false,
     "tableResultSettingsMap": {},
     "title": ""
    }
   },
   "outputs": [
    {
     "data": {
      "text/html": [
       "<style scoped>\n",
       "  .table-result-container {\n",
       "    max-height: 300px;\n",
       "    overflow: auto;\n",
       "  }\n",
       "  table, th, td {\n",
       "    border: 1px solid black;\n",
       "    border-collapse: collapse;\n",
       "  }\n",
       "  th, td {\n",
       "    padding: 5px;\n",
       "  }\n",
       "  th {\n",
       "    text-align: left;\n",
       "  }\n",
       "</style><div class='table-result-container'><table class='table-result'><thead style='background-color: white'><tr><th>genre</th><th>price_for_genre</th></tr></thead><tbody><tr><td>Indie</td><td>2.6063036E7</td></tr><tr><td>Action</td><td>1.8358769E7</td></tr><tr><td>Adventure</td><td>1.7158179E7</td></tr><tr><td>Casual</td><td>1.2383583E7</td></tr><tr><td>Simulation</td><td>9851654.0</td></tr><tr><td>Strategy</td><td>9157201.0</td></tr><tr><td>RPG</td><td>8621295.0</td></tr><tr><td>Early Access</td><td>5375795.0</td></tr><tr><td>Sports</td><td>2385529.0</td></tr><tr><td>Racing</td><td>1771645.0</td></tr><tr><td>Utilities</td><td>780919.0</td></tr><tr><td>Design & Illustration</td><td>773770.0</td></tr><tr><td>Massively Multiplayer</td><td>730035.0</td></tr><tr><td>Animation & Modeling</td><td>604597.0</td></tr><tr><td>Video Production</td><td>468285.0</td></tr><tr><td>Education</td><td>454632.0</td></tr><tr><td>Audio Production</td><td>383077.0</td></tr><tr><td>Game Development</td><td>338387.0</td></tr><tr><td>Software Training</td><td>312136.0</td></tr><tr><td>Photo Editing</td><td>213425.0</td></tr></tbody></table></div>"
      ]
     },
     "metadata": {
      "application/vnd.databricks.v1+output": {
       "addedWidgets": {},
       "aggData": [],
       "aggError": "",
       "aggOverflow": false,
       "aggSchema": [],
       "aggSeriesLimitReached": false,
       "aggType": "",
       "arguments": {},
       "columnCustomDisplayInfos": {},
       "data": [
        [
         "Indie",
         26063036
        ],
        [
         "Action",
         18358769
        ],
        [
         "Adventure",
         17158179
        ],
        [
         "Casual",
         12383583
        ],
        [
         "Simulation",
         9851654
        ],
        [
         "Strategy",
         9157201
        ],
        [
         "RPG",
         8621295
        ],
        [
         "Early Access",
         5375795
        ],
        [
         "Sports",
         2385529
        ],
        [
         "Racing",
         1771645
        ],
        [
         "Utilities",
         780919
        ],
        [
         "Design & Illustration",
         773770
        ],
        [
         "Massively Multiplayer",
         730035
        ],
        [
         "Animation & Modeling",
         604597
        ],
        [
         "Video Production",
         468285
        ],
        [
         "Education",
         454632
        ],
        [
         "Audio Production",
         383077
        ],
        [
         "Game Development",
         338387
        ],
        [
         "Software Training",
         312136
        ],
        [
         "Photo Editing",
         213425
        ]
       ],
       "datasetInfos": [],
       "dbfsResultPath": null,
       "isJsonSchema": true,
       "metadata": {},
       "overflow": false,
       "plotOptions": {
        "customPlotOptions": {},
        "displayType": "table",
        "pivotAggregation": null,
        "pivotColumns": null,
        "xColumns": null,
        "yColumns": null
       },
       "removedWidgets": [],
       "schema": [
        {
         "metadata": "{}",
         "name": "genre",
         "type": "\"string\""
        },
        {
         "metadata": "{}",
         "name": "price_for_genre",
         "type": "\"double\""
        }
       ],
       "type": "table"
      }
     },
     "output_type": "display_data"
    },
    {
     "data": {
      "text/plain": [
       "Databricks visualization. Run in Databricks to view."
      ]
     },
     "metadata": {
      "application/vnd.databricks.v1.subcommand+json": {
       "baseErrorDetails": null,
       "bindings": {},
       "collapsed": false,
       "command": "%python\n__backend_agg_display_orig = display\n__backend_agg_dfs = []\ndef __backend_agg_display_new(df):\n    __backend_agg_df_modules = [\"pandas.core.frame\", \"databricks.koalas.frame\", \"pyspark.sql.dataframe\", \"pyspark.pandas.frame\", \"pyspark.sql.connect.dataframe\"]\n    if (type(df).__module__ in __backend_agg_df_modules and type(df).__name__ == 'DataFrame') or isinstance(df, list):\n        __backend_agg_dfs.append(df)\n\ndisplay = __backend_agg_display_new\n\ndef __backend_agg_user_code_fn():\n    import base64\n    exec(base64.standard_b64decode(\"Z2V0X2dlbnJlX2xpc3QgPSBGLnVkZihsYW1iZGEgZ2VucmVzOiBbZ2VucmUuc3RyaXAoKSBmb3IgZ2VucmUgaW4gZ2VucmVzLnNwbGl0KCIsIildLAogICAgICAgICAgICAgICAgICAgICAgIEFycmF5VHlwZShTdHJpbmdUeXBlKCkpKQoKbHVjcmF0aXZlX2dlbnJlX2RmID0gZGYud2l0aENvbHVtbigiZ2VucmUiLAogICAgICAgICAgICAgICAgICAgICAgICAgICAgICAgICAgIEYuZXhwbG9kZSgKICAgICAgICAgICAgICAgICAgICAgICAgICAgICAgICAgICAgICAgZ2V0X2dlbnJlX2xpc3QoCiAgICAgICAgICAgICAgICAgICAgICAgICAgICAgICAgICAgICAgICAgICBGLmNvbCgiZ2VucmUiKSkpKVwKICAgICAgICAgICAgICAgICAgICAgICAuZ3JvdXBCeShGLmNvbCgiZ2VucmUiKSlcCiAgICAgICAgICAgICAgICAgICAgICAgLmFnZyhGLnN1bSgicHJpY2UiKS5hbGlhcygicHJpY2VfZm9yX2dlbnJlIikpXAogICAgICAgICAgICAgICAgICAgICAgIC5vcmRlckJ5KEYuZGVzYygicHJpY2VfZm9yX2dlbnJlIikpCmdldF9oZWFkX2FzX2RmKGx1Y3JhdGl2ZV9nZW5yZV9kZik=\").decode())\n\ntry:\n    # run user code\n    __backend_agg_user_code_fn()\n\n    #reset display function\n    display = __backend_agg_display_orig\n\n    if len(__backend_agg_dfs) > 0:\n        # create a temp view\n        if type(__backend_agg_dfs[0]).__module__ == \"databricks.koalas.frame\":\n            # koalas dataframe\n            __backend_agg_dfs[0].to_spark().createOrReplaceTempView(\"DatabricksView4b8aea3\")\n        elif type(__backend_agg_dfs[0]).__module__ == \"pandas.core.frame\" or isinstance(__backend_agg_dfs[0], list):\n            # pandas dataframe\n            spark.createDataFrame(__backend_agg_dfs[0]).createOrReplaceTempView(\"DatabricksView4b8aea3\")\n        else:\n            __backend_agg_dfs[0].createOrReplaceTempView(\"DatabricksView4b8aea3\")\n        #run backend agg\n        display(spark.sql(\"\"\"WITH q AS (select * from DatabricksView4b8aea3) SELECT `genre`,MAX(`price_for_genre`) `column_58dc1db3196` FROM q GROUP BY `genre`\"\"\"))\n    else:\n        displayHTML(\"dataframe no longer exists. If you're using dataframe.display(), use display(dataframe) instead.\")\n\n\nfinally:\n    spark.sql(\"drop view if exists DatabricksView4b8aea3\")\n    display = __backend_agg_display_orig\n    del __backend_agg_display_new\n    del __backend_agg_display_orig\n    del __backend_agg_dfs\n    del __backend_agg_user_code_fn\n\n",
       "commandTitle": "Visualization 1",
       "commandType": "auto",
       "commandVersion": 0,
       "commentThread": [],
       "commentsVisible": false,
       "contentSha256Hex": null,
       "customPlotOptions": {
        "redashChart": [
         {
          "key": "type",
          "value": "CHART"
         },
         {
          "key": "options",
          "value": {
           "alignYAxesAtZero": true,
           "coefficient": 1,
           "columnConfigurationMap": {
            "x": {
             "column": "genre",
             "id": "column_58dc1db3195"
            },
            "y": [
             {
              "column": "price_for_genre",
              "id": "column_58dc1db3196",
              "transform": "MAX"
             }
            ]
           },
           "dateTimeFormat": "DD/MM/YYYY HH:mm",
           "direction": {
            "type": "counterclockwise"
           },
           "error_y": {
            "type": "data",
            "visible": true
           },
           "globalSeriesType": "column",
           "hideYAxes": false,
           "isAggregationOn": true,
           "legend": {
            "traceorder": "normal"
           },
           "missingValuesAsZero": true,
           "numberFormat": "0,0.[00000]",
           "percentFormat": "0[.]00%",
           "series": {
            "error_y": {
             "type": "data",
             "visible": true
            },
            "stacking": null
           },
           "seriesOptions": {
            "column_58dc1db3196": {
             "name": "price_for_genre",
             "type": "column",
             "yAxis": 0
            }
           },
           "showDataLabels": false,
           "sizemode": "diameter",
           "sortX": true,
           "sortY": true,
           "swappedAxes": true,
           "textFormat": "",
           "useAggregationsUi": true,
           "valuesOptions": {},
           "version": 2,
           "xAxis": {
            "labels": {
             "enabled": true
            },
            "type": "-"
           },
           "yAxis": [
            {
             "type": "-"
            },
            {
             "opposite": true,
             "type": "-"
            }
           ]
          }
         }
        ]
       },
       "datasetPreviewNameToCmdIdMap": {},
       "diffDeletes": [],
       "diffInserts": [],
       "displayType": "redashChart",
       "error": null,
       "errorDetails": null,
       "errorSummary": null,
       "errorTraceType": null,
       "finishTime": 0,
       "globalVars": {},
       "guid": "",
       "height": "auto",
       "hideCommandCode": false,
       "hideCommandResult": false,
       "iPythonMetadata": null,
       "inputWidgets": {},
       "isLockedInExamMode": false,
       "latestAssumeRoleInfo": null,
       "latestUser": "a user",
       "latestUserId": null,
       "listResultMetadata": null,
       "metadata": {},
       "nuid": "08c4cc84-40a2-42fc-955d-7de8c9d5fd5a",
       "origId": 0,
       "parentHierarchy": [],
       "pivotAggregation": null,
       "pivotColumns": null,
       "position": 2.99981689453125,
       "resultDbfsErrorMessage": null,
       "resultDbfsStatus": "INLINED_IN_TREE",
       "results": null,
       "showCommandTitle": false,
       "startTime": 0,
       "state": "input",
       "streamStates": {},
       "subcommandOptions": {
        "queryPlan": {
         "groups": [
          {
           "column": "genre",
           "type": "column"
          }
         ],
         "selects": [
          {
           "column": "genre",
           "type": "column"
          },
          {
           "alias": "column_58dc1db3196",
           "args": [
            {
             "column": "price_for_genre",
             "type": "column"
            }
           ],
           "function": "MAX",
           "type": "function"
          }
         ]
        }
       },
       "submitTime": 0,
       "subtype": "tableResultSubCmd.visualization",
       "tableResultIndex": 0,
       "tableResultSettingsMap": {},
       "useConsistentColors": false,
       "version": "CommandV1",
       "width": "auto",
       "workflows": [],
       "xColumns": null,
       "yColumns": null
      }
     },
     "output_type": "display_data"
    }
   ],
   "source": [
    "get_genre_list = F.udf(lambda genres: [genre.strip() for genre in genres.split(\",\")],\n",
    "                       ArrayType(StringType()))\n",
    "\n",
    "lucrative_genre_df = df.withColumn(\"genre\",\n",
    "                                   F.explode(\n",
    "                                       get_genre_list(\n",
    "                                           F.col(\"genre\"))))\\\n",
    "                       .groupBy(F.col(\"genre\"))\\\n",
    "                       .agg(F.sum(\"price\").alias(\"price_for_genre\"))\\\n",
    "                       .orderBy(F.desc(\"price_for_genre\"))\n",
    "get_head_as_df(lucrative_genre_df)"
   ]
  },
  {
   "cell_type": "markdown",
   "metadata": {
    "application/vnd.databricks.v1+cell": {
     "cellMetadata": {},
     "inputWidgets": {},
     "nuid": "d43ccc75-9163-491a-b519-0c523c2b4719",
     "showTitle": false,
     "tableResultSettingsMap": {},
     "title": ""
    }
   },
   "source": [
    "Each value in \"price_for_genre\" corresponds to the sum of the retail prices of all games that are shown as belonging to a given genre, and not how much money this specific genre brought to publishers. However, because there are many samples with different combinations of genres, I believe that it works out to something approaching the latter in terms of the relative sizes of the values."
   ]
  },
  {
   "cell_type": "markdown",
   "metadata": {
    "application/vnd.databricks.v1+cell": {
     "cellMetadata": {},
     "inputWidgets": {},
     "nuid": "97d2ff36-a84a-40ff-82ab-8e7d359202a7",
     "showTitle": false,
     "tableResultSettingsMap": {},
     "title": ""
    }
   },
   "source": [
    "## Platform analysis"
   ]
  },
  {
   "cell_type": "markdown",
   "metadata": {
    "application/vnd.databricks.v1+cell": {
     "cellMetadata": {},
     "inputWidgets": {},
     "nuid": "a8a7dbd8-ef71-4303-9f54-ff23cae87099",
     "showTitle": false,
     "tableResultSettingsMap": {},
     "title": ""
    }
   },
   "source": [
    "### Are most games available on Windows/Mac/Linux?"
   ]
  },
  {
   "cell_type": "code",
   "execution_count": 0,
   "metadata": {
    "application/vnd.databricks.v1+cell": {
     "cellMetadata": {
      "byteLimit": 2048000,
      "rowLimit": 10000
     },
     "inputWidgets": {},
     "nuid": "b4d9e7ee-ee29-45e7-b3db-ee84823a86c4",
     "showTitle": false,
     "tableResultSettingsMap": {},
     "title": ""
    }
   },
   "outputs": [
    {
     "data": {
      "text/html": [
       "<style scoped>\n",
       "  .table-result-container {\n",
       "    max-height: 300px;\n",
       "    overflow: auto;\n",
       "  }\n",
       "  table, th, td {\n",
       "    border: 1px solid black;\n",
       "    border-collapse: collapse;\n",
       "  }\n",
       "  th, td {\n",
       "    padding: 5px;\n",
       "  }\n",
       "  th {\n",
       "    text-align: left;\n",
       "  }\n",
       "</style><div class='table-result-container'><table class='table-result'><thead style='background-color: white'><tr><th>platforms</th><th>compatible_game_count</th></tr></thead><tbody><tr><td>windows</td><td>41271</td></tr><tr><td>linux</td><td>8457</td></tr><tr><td>mac</td><td>5962</td></tr></tbody></table></div>"
      ]
     },
     "metadata": {
      "application/vnd.databricks.v1+output": {
       "addedWidgets": {},
       "aggData": [],
       "aggError": "",
       "aggOverflow": false,
       "aggSchema": [],
       "aggSeriesLimitReached": false,
       "aggType": "",
       "arguments": {},
       "columnCustomDisplayInfos": {},
       "data": [
        [
         "windows",
         41271
        ],
        [
         "linux",
         8457
        ],
        [
         "mac",
         5962
        ]
       ],
       "datasetInfos": [],
       "dbfsResultPath": null,
       "isJsonSchema": true,
       "metadata": {},
       "overflow": false,
       "plotOptions": {
        "customPlotOptions": {},
        "displayType": "table",
        "pivotAggregation": null,
        "pivotColumns": null,
        "xColumns": null,
        "yColumns": null
       },
       "removedWidgets": [],
       "schema": [
        {
         "metadata": "{}",
         "name": "platforms",
         "type": "\"string\""
        },
        {
         "metadata": "{}",
         "name": "compatible_game_count",
         "type": "\"long\""
        }
       ],
       "type": "table"
      }
     },
     "output_type": "display_data"
    },
    {
     "data": {
      "text/plain": [
       "Databricks visualization. Run in Databricks to view."
      ]
     },
     "metadata": {
      "application/vnd.databricks.v1.subcommand+json": {
       "baseErrorDetails": null,
       "bindings": {},
       "collapsed": false,
       "command": "%python\n__backend_agg_display_orig = display\n__backend_agg_dfs = []\ndef __backend_agg_display_new(df):\n    __backend_agg_df_modules = [\"pandas.core.frame\", \"databricks.koalas.frame\", \"pyspark.sql.dataframe\", \"pyspark.pandas.frame\", \"pyspark.sql.connect.dataframe\"]\n    if (type(df).__module__ in __backend_agg_df_modules and type(df).__name__ == 'DataFrame') or isinstance(df, list):\n        __backend_agg_dfs.append(df)\n\ndisplay = __backend_agg_display_new\n\ndef __backend_agg_user_code_fn():\n    import base64\n    exec(base64.standard_b64decode(\"Z2V0X3BsYXRmX2xpc3QgPSBGLnVkZihsYW1iZGEgcGxhdGZvcm1zOiBbcGxhdGZvcm0uc3RyaXAoKSBmb3IgcGxhdGZvcm0gaW4gcGxhdGZvcm1zLnNwbGl0KCIsIildLAogICAgICAgICAgICAgICAgICAgICAgIEFycmF5VHlwZShTdHJpbmdUeXBlKCkpKQoKcGxhdGZvcm1zX2RmID0gZGYud2l0aENvbHVtbigicGxhdGZvcm1zIiwKICAgICAgICAgICAgICAgICAgICAgICAgICAgICBGLmV4cGxvZGUoCiAgICAgICAgICAgICAgICAgICAgICAgICAgICAgICAgIGdldF9wbGF0Zl9saXN0KAogICAgICAgICAgICAgICAgICAgICAgICAgICAgICAgICAgICAgRi5jb2woInBsYXRmb3JtcyIpKSkpXAogICAgICAgICAgICAgICAgIC5ncm91cEJ5KEYuY29sKCJwbGF0Zm9ybXMiKSlcCiAgICAgICAgICAgICAgICAgLmFnZyhGLmNvdW50KCJhcHBpZCIpLmFsaWFzKCJjb21wYXRpYmxlX2dhbWVfY291bnQiKSlcCiAgICAgICAgICAgICAgICAgLm9yZGVyQnkoRi5kZXNjKCJjb21wYXRpYmxlX2dhbWVfY291bnQiKSkKCnBsYXRmb3Jtc19kZi5kaXNwbGF5KCk=\").decode())\n\ntry:\n    # run user code\n    __backend_agg_user_code_fn()\n\n    #reset display function\n    display = __backend_agg_display_orig\n\n    if len(__backend_agg_dfs) > 0:\n        # create a temp view\n        if type(__backend_agg_dfs[0]).__module__ == \"databricks.koalas.frame\":\n            # koalas dataframe\n            __backend_agg_dfs[0].to_spark().createOrReplaceTempView(\"DatabricksView003041d\")\n        elif type(__backend_agg_dfs[0]).__module__ == \"pandas.core.frame\" or isinstance(__backend_agg_dfs[0], list):\n            # pandas dataframe\n            spark.createDataFrame(__backend_agg_dfs[0]).createOrReplaceTempView(\"DatabricksView003041d\")\n        else:\n            __backend_agg_dfs[0].createOrReplaceTempView(\"DatabricksView003041d\")\n        #run backend agg\n        display(spark.sql(\"\"\"WITH q AS (select * from DatabricksView003041d) SELECT `platforms`,SUM(`compatible_game_count`) `column_58dc1db3206` FROM q GROUP BY `platforms`\"\"\"))\n    else:\n        displayHTML(\"dataframe no longer exists. If you're using dataframe.display(), use display(dataframe) instead.\")\n\n\nfinally:\n    spark.sql(\"drop view if exists DatabricksView003041d\")\n    display = __backend_agg_display_orig\n    del __backend_agg_display_new\n    del __backend_agg_display_orig\n    del __backend_agg_dfs\n    del __backend_agg_user_code_fn\n\n",
       "commandTitle": "Visualization 1",
       "commandType": "auto",
       "commandVersion": 0,
       "commentThread": [],
       "commentsVisible": false,
       "contentSha256Hex": null,
       "customPlotOptions": {
        "redashChart": [
         {
          "key": "type",
          "value": "CHART"
         },
         {
          "key": "options",
          "value": {
           "alignYAxesAtZero": true,
           "coefficient": 1,
           "columnConfigurationMap": {
            "x": {
             "column": "platforms",
             "id": "column_58dc1db3205"
            },
            "y": [
             {
              "column": "compatible_game_count",
              "id": "column_58dc1db3206",
              "transform": "SUM"
             }
            ]
           },
           "dateTimeFormat": "DD/MM/YYYY HH:mm",
           "direction": {
            "type": "counterclockwise"
           },
           "error_y": {
            "type": "data",
            "visible": true
           },
           "globalSeriesType": "column",
           "isAggregationOn": true,
           "legend": {
            "traceorder": "normal"
           },
           "missingValuesAsZero": true,
           "numberFormat": "0,0.[00000]",
           "percentFormat": "0[.]00%",
           "series": {
            "error_y": {
             "type": "data",
             "visible": true
            },
            "stacking": null
           },
           "seriesOptions": {
            "column_58dc1db3206": {
             "name": "compatible_game_count",
             "yAxis": 0
            }
           },
           "showDataLabels": false,
           "sizemode": "diameter",
           "sortX": true,
           "sortY": true,
           "swappedAxes": false,
           "textFormat": "",
           "useAggregationsUi": true,
           "valuesOptions": {},
           "version": 2,
           "xAxis": {
            "labels": {
             "enabled": true
            },
            "type": "-"
           },
           "yAxis": [
            {
             "type": "-"
            },
            {
             "opposite": true,
             "type": "-"
            }
           ]
          }
         }
        ]
       },
       "datasetPreviewNameToCmdIdMap": {},
       "diffDeletes": [],
       "diffInserts": [],
       "displayType": "redashChart",
       "error": null,
       "errorDetails": null,
       "errorSummary": null,
       "errorTraceType": null,
       "finishTime": 0,
       "globalVars": {},
       "guid": "",
       "height": "auto",
       "hideCommandCode": false,
       "hideCommandResult": false,
       "iPythonMetadata": null,
       "inputWidgets": {},
       "isLockedInExamMode": false,
       "latestAssumeRoleInfo": null,
       "latestUser": "a user",
       "latestUserId": null,
       "listResultMetadata": null,
       "metadata": {},
       "nuid": "3eae7f4f-64ac-48ca-953b-fad1256cc68c",
       "origId": 0,
       "parentHierarchy": [],
       "pivotAggregation": null,
       "pivotColumns": null,
       "position": 2.9999542236328125,
       "resultDbfsErrorMessage": null,
       "resultDbfsStatus": "INLINED_IN_TREE",
       "results": null,
       "showCommandTitle": false,
       "startTime": 0,
       "state": "input",
       "streamStates": {},
       "subcommandOptions": {
        "queryPlan": {
         "groups": [
          {
           "column": "platforms",
           "type": "column"
          }
         ],
         "selects": [
          {
           "column": "platforms",
           "type": "column"
          },
          {
           "alias": "column_58dc1db3206",
           "args": [
            {
             "column": "compatible_game_count",
             "type": "column"
            }
           ],
           "function": "SUM",
           "type": "function"
          }
         ]
        }
       },
       "submitTime": 0,
       "subtype": "tableResultSubCmd.visualization",
       "tableResultIndex": 0,
       "tableResultSettingsMap": {},
       "useConsistentColors": false,
       "version": "CommandV1",
       "width": "auto",
       "workflows": [],
       "xColumns": null,
       "yColumns": null
      }
     },
     "output_type": "display_data"
    }
   ],
   "source": [
    "get_platf_list = F.udf(lambda platforms: [platform.strip() for platform in platforms.split(\",\")],\n",
    "                       ArrayType(StringType()))\n",
    "\n",
    "platforms_df = df.withColumn(\"platforms\",\n",
    "                             F.explode(\n",
    "                                 get_platf_list(\n",
    "                                     F.col(\"platforms\"))))\\\n",
    "                 .groupBy(F.col(\"platforms\"))\\\n",
    "                 .agg(F.count(\"appid\").alias(\"compatible_game_count\"))\\\n",
    "                 .orderBy(F.desc(\"compatible_game_count\"))\n",
    "\n",
    "platforms_df.display()"
   ]
  },
  {
   "cell_type": "markdown",
   "metadata": {
    "application/vnd.databricks.v1+cell": {
     "cellMetadata": {},
     "inputWidgets": {},
     "nuid": "47f1ad39-0f83-4395-b8f5-9ed66cff7875",
     "showTitle": false,
     "tableResultSettingsMap": {},
     "title": ""
    }
   },
   "source": [
    "### Do certain genres tend to be preferentially available on certain platforms?"
   ]
  },
  {
   "cell_type": "code",
   "execution_count": 0,
   "metadata": {
    "application/vnd.databricks.v1+cell": {
     "cellMetadata": {
      "byteLimit": 2048000,
      "rowLimit": 10000
     },
     "inputWidgets": {},
     "nuid": "5271f44a-6a3d-4d43-97e2-b05be7754136",
     "showTitle": false,
     "tableResultSettingsMap": {},
     "title": ""
    }
   },
   "outputs": [
    {
     "data": {
      "text/html": [
       "<style scoped>\n",
       "  .table-result-container {\n",
       "    max-height: 300px;\n",
       "    overflow: auto;\n",
       "  }\n",
       "  table, th, td {\n",
       "    border: 1px solid black;\n",
       "    border-collapse: collapse;\n",
       "  }\n",
       "  th, td {\n",
       "    padding: 5px;\n",
       "  }\n",
       "  th {\n",
       "    text-align: left;\n",
       "  }\n",
       "</style><div class='table-result-container'><table class='table-result'><thead style='background-color: white'><tr><th>genre</th><th>share_mac_compatible_games (%)</th><th>share_windows_compatible_games (%)</th><th>share_linux_compatible_games (%)</th></tr></thead><tbody><tr><td>Movie</td><td>0.0</td><td>100.0</td><td>0.0</td></tr><tr><td>Video Production</td><td>9.7165991902834</td><td>87.85425101214574</td><td>2.42914979757085</td></tr><tr><td>Photo Editing</td><td>11.428571428571429</td><td>84.76190476190476</td><td>3.8095238095238098</td></tr><tr><td>Utilities</td><td>8.944281524926687</td><td>83.87096774193549</td><td>7.184750733137831</td></tr><tr><td>Early Access</td><td>7.469487388120423</td><td>82.24572823433685</td><td>10.284784377542717</td></tr><tr><td>Software Training</td><td>10.975609756097562</td><td>81.70731707317073</td><td>7.317073170731707</td></tr><tr><td>Education</td><td>12.618296529968454</td><td>81.38801261829653</td><td>5.993690851735016</td></tr><tr><td>Violent</td><td>6.547619047619048</td><td>80.35714285714286</td><td>13.095238095238097</td></tr><tr><td>Gore</td><td>6.0606060606060606</td><td>79.7979797979798</td><td>14.14141414141414</td></tr><tr><td>Massively Multiplayer</td><td>9.315068493150685</td><td>79.45205479452055</td><td>11.232876712328768</td></tr><tr><td>Audio Production</td><td>17.94871794871795</td><td>78.46153846153847</td><td>3.5897435897435894</td></tr><tr><td>Sports</td><td>10.315078769692423</td><td>78.91972993248312</td><td>10.765191297824456</td></tr><tr><td>Nudity</td><td>6.666666666666667</td><td>77.77777777777779</td><td>15.555555555555555</td></tr><tr><td>Action</td><td>8.26213224462309</td><td>77.51588871585504</td><td>14.221979039521864</td></tr><tr><td>Accounting</td><td>25.0</td><td>75.0</td><td>0.0</td></tr><tr><td>Racing</td><td>9.095127610208817</td><td>76.79814385150812</td><td>14.106728538283061</td></tr><tr><td>Sexual Content</td><td>11.11111111111111</td><td>75.92592592592592</td><td>12.962962962962962</td></tr><tr><td>Animation & Modeling</td><td>12.422360248447205</td><td>75.77639751552795</td><td>11.801242236024844</td></tr><tr><td>Web Publishing</td><td>15.730337078651685</td><td>75.28089887640449</td><td>8.98876404494382</td></tr><tr><td>Simulation</td><td>10.78811369509044</td><td>75.07382798080474</td><td>14.138058324104835</td></tr><tr><td>RPG</td><td>9.99580448919656</td><td>74.01929934969583</td><td>15.984896161107615</td></tr><tr><td>Adventure</td><td>10.73211702673697</td><td>73.8602958331389</td><td>15.407587140124118</td></tr><tr><td>Casual</td><td>11.228832744725164</td><td>73.80693652087295</td><td>14.964230734401884</td></tr><tr><td>Design & Illustration</td><td>13.546798029556651</td><td>73.15270935960592</td><td>13.30049261083744</td></tr><tr><td>Free to Play</td><td>13.586796345417035</td><td>72.44326554671382</td><td>13.969938107869142</td></tr><tr><td>Indie</td><td>10.879262115370077</td><td>71.53549557722839</td><td>17.58524230740153</td></tr><tr><td>Strategy</td><td>13.66681964203763</td><td>69.57319871500688</td><td>16.759981642955484</td></tr><tr><td>Game Development</td><td>13.836477987421384</td><td>64.15094339622641</td><td>22.0125786163522</td></tr></tbody></table></div>"
      ]
     },
     "metadata": {
      "application/vnd.databricks.v1+output": {
       "addedWidgets": {},
       "aggData": [],
       "aggError": "",
       "aggOverflow": false,
       "aggSchema": [],
       "aggSeriesLimitReached": false,
       "aggType": "",
       "arguments": {},
       "columnCustomDisplayInfos": {},
       "data": [
        [
         "Movie",
         0,
         100,
         0
        ],
        [
         "Video Production",
         9.7165991902834,
         87.85425101214574,
         2.42914979757085
        ],
        [
         "Photo Editing",
         11.428571428571429,
         84.76190476190476,
         3.8095238095238098
        ],
        [
         "Utilities",
         8.944281524926687,
         83.87096774193549,
         7.184750733137831
        ],
        [
         "Early Access",
         7.469487388120423,
         82.24572823433685,
         10.284784377542717
        ],
        [
         "Software Training",
         10.975609756097562,
         81.70731707317073,
         7.317073170731707
        ],
        [
         "Education",
         12.618296529968454,
         81.38801261829653,
         5.993690851735016
        ],
        [
         "Violent",
         6.547619047619048,
         80.35714285714286,
         13.095238095238097
        ],
        [
         "Gore",
         6.0606060606060606,
         79.7979797979798,
         14.14141414141414
        ],
        [
         "Massively Multiplayer",
         9.315068493150685,
         79.45205479452055,
         11.232876712328768
        ],
        [
         "Audio Production",
         17.94871794871795,
         78.46153846153847,
         3.5897435897435894
        ],
        [
         "Sports",
         10.315078769692423,
         78.91972993248312,
         10.765191297824456
        ],
        [
         "Nudity",
         6.666666666666667,
         77.77777777777779,
         15.555555555555555
        ],
        [
         "Action",
         8.26213224462309,
         77.51588871585504,
         14.221979039521864
        ],
        [
         "Accounting",
         25,
         75,
         0
        ],
        [
         "Racing",
         9.095127610208817,
         76.79814385150812,
         14.106728538283061
        ],
        [
         "Sexual Content",
         11.11111111111111,
         75.92592592592592,
         12.962962962962962
        ],
        [
         "Animation & Modeling",
         12.422360248447205,
         75.77639751552795,
         11.801242236024844
        ],
        [
         "Web Publishing",
         15.730337078651685,
         75.28089887640449,
         8.98876404494382
        ],
        [
         "Simulation",
         10.78811369509044,
         75.07382798080474,
         14.138058324104835
        ],
        [
         "RPG",
         9.99580448919656,
         74.01929934969583,
         15.984896161107615
        ],
        [
         "Adventure",
         10.73211702673697,
         73.8602958331389,
         15.407587140124118
        ],
        [
         "Casual",
         11.228832744725164,
         73.80693652087295,
         14.964230734401884
        ],
        [
         "Design & Illustration",
         13.546798029556651,
         73.15270935960592,
         13.30049261083744
        ],
        [
         "Free to Play",
         13.586796345417035,
         72.44326554671382,
         13.969938107869142
        ],
        [
         "Indie",
         10.879262115370077,
         71.53549557722839,
         17.58524230740153
        ],
        [
         "Strategy",
         13.66681964203763,
         69.57319871500688,
         16.759981642955484
        ],
        [
         "Game Development",
         13.836477987421384,
         64.15094339622641,
         22.0125786163522
        ]
       ],
       "datasetInfos": [],
       "dbfsResultPath": null,
       "isJsonSchema": true,
       "metadata": {},
       "overflow": false,
       "plotOptions": {
        "customPlotOptions": {},
        "displayType": "table",
        "pivotAggregation": null,
        "pivotColumns": null,
        "xColumns": null,
        "yColumns": null
       },
       "removedWidgets": [],
       "schema": [
        {
         "metadata": "{}",
         "name": "genre",
         "type": "\"string\""
        },
        {
         "metadata": "{}",
         "name": "share_mac_compatible_games (%)",
         "type": "\"double\""
        },
        {
         "metadata": "{}",
         "name": "share_windows_compatible_games (%)",
         "type": "\"double\""
        },
        {
         "metadata": "{}",
         "name": "share_linux_compatible_games (%)",
         "type": "\"double\""
        }
       ],
       "type": "table"
      }
     },
     "output_type": "display_data"
    },
    {
     "data": {
      "text/plain": [
       "Databricks visualization. Run in Databricks to view."
      ]
     },
     "metadata": {
      "application/vnd.databricks.v1.subcommand+json": {
       "baseErrorDetails": null,
       "bindings": {},
       "collapsed": false,
       "command": "%python\n__backend_agg_display_orig = display\n__backend_agg_dfs = []\ndef __backend_agg_display_new(df):\n    __backend_agg_df_modules = [\"pandas.core.frame\", \"databricks.koalas.frame\", \"pyspark.sql.dataframe\", \"pyspark.pandas.frame\", \"pyspark.sql.connect.dataframe\"]\n    if (type(df).__module__ in __backend_agg_df_modules and type(df).__name__ == 'DataFrame') or isinstance(df, list):\n        __backend_agg_dfs.append(df)\n\ndisplay = __backend_agg_display_new\n\ndef __backend_agg_user_code_fn():\n    import base64\n    exec(base64.standard_b64decode(\"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\").decode())\n\ntry:\n    # run user code\n    __backend_agg_user_code_fn()\n\n    #reset display function\n    display = __backend_agg_display_orig\n\n    if len(__backend_agg_dfs) > 0:\n        # create a temp view\n        if type(__backend_agg_dfs[0]).__module__ == \"databricks.koalas.frame\":\n            # koalas dataframe\n            __backend_agg_dfs[0].to_spark().createOrReplaceTempView(\"DatabricksViewaacca17\")\n        elif type(__backend_agg_dfs[0]).__module__ == \"pandas.core.frame\" or isinstance(__backend_agg_dfs[0], list):\n            # pandas dataframe\n            spark.createDataFrame(__backend_agg_dfs[0]).createOrReplaceTempView(\"DatabricksViewaacca17\")\n        else:\n            __backend_agg_dfs[0].createOrReplaceTempView(\"DatabricksViewaacca17\")\n        #run backend agg\n        display(spark.sql(\"\"\"WITH q AS (select * from DatabricksViewaacca17) SELECT `genre`,SUM(`share_mac_compatible_games (%)`) `column_58dc1db3262`,SUM(`share_windows_compatible_games (%)`) `column_58dc1db3265`,SUM(`share_linux_compatible_games (%)`) `column_58dc1db3268` FROM q GROUP BY `genre`\"\"\"))\n    else:\n        displayHTML(\"dataframe no longer exists. If you're using dataframe.display(), use display(dataframe) instead.\")\n\n\nfinally:\n    spark.sql(\"drop view if exists DatabricksViewaacca17\")\n    display = __backend_agg_display_orig\n    del __backend_agg_display_new\n    del __backend_agg_display_orig\n    del __backend_agg_dfs\n    del __backend_agg_user_code_fn\n\n",
       "commandTitle": "Visualization 1",
       "commandType": "auto",
       "commandVersion": 0,
       "commentThread": [],
       "commentsVisible": false,
       "contentSha256Hex": null,
       "customPlotOptions": {
        "redashChart": [
         {
          "key": "type",
          "value": "CHART"
         },
         {
          "key": "options",
          "value": {
           "alignYAxesAtZero": false,
           "coefficient": 1,
           "columnConfigurationMap": {
            "x": {
             "column": "genre",
             "id": "column_58dc1db3260"
            },
            "y": [
             {
              "column": "share_mac_compatible_games (%)",
              "id": "column_58dc1db3262",
              "transform": "SUM"
             },
             {
              "column": "share_windows_compatible_games (%)",
              "id": "column_58dc1db3265",
              "transform": "SUM"
             },
             {
              "column": "share_linux_compatible_games (%)",
              "id": "column_58dc1db3268",
              "transform": "SUM"
             }
            ]
           },
           "dateTimeFormat": "DD/MM/YYYY HH:mm",
           "direction": {
            "type": "counterclockwise"
           },
           "error_y": {
            "type": "data",
            "visible": true
           },
           "globalSeriesType": "column",
           "isAggregationOn": true,
           "legend": {
            "enabled": true,
            "placement": "right",
            "traceorder": "normal"
           },
           "missingValuesAsZero": true,
           "numberFormat": "0,0.[00000]",
           "percentFormat": "0[.]00%",
           "series": {
            "error_y": {
             "type": "data",
             "visible": true
            },
            "stacking": "stack"
           },
           "seriesOptions": {
            "column_58dc1db3262": {
             "type": "column",
             "yAxis": 0
            },
            "column_58dc1db3265": {
             "type": "column",
             "yAxis": 0
            },
            "column_58dc1db3268": {
             "type": "column",
             "yAxis": 0
            }
           },
           "showDataLabels": false,
           "sizemode": "diameter",
           "sortX": true,
           "sortY": true,
           "swappedAxes": true,
           "textFormat": "",
           "useAggregationsUi": true,
           "valuesOptions": {},
           "version": 2,
           "xAxis": {
            "labels": {
             "enabled": true
            },
            "type": "-"
           },
           "yAxis": [
            {
             "rangeMax": 100,
             "title": {
              "text": "Compatible games per platform"
             },
             "type": "-"
            },
            {
             "opposite": true,
             "type": "-"
            }
           ]
          }
         }
        ]
       },
       "datasetPreviewNameToCmdIdMap": {},
       "diffDeletes": [],
       "diffInserts": [],
       "displayType": "redashChart",
       "error": null,
       "errorDetails": null,
       "errorSummary": null,
       "errorTraceType": null,
       "finishTime": 0,
       "globalVars": {},
       "guid": "",
       "height": "547",
       "hideCommandCode": false,
       "hideCommandResult": false,
       "iPythonMetadata": null,
       "inputWidgets": {},
       "isLockedInExamMode": false,
       "latestAssumeRoleInfo": null,
       "latestUser": "a user",
       "latestUserId": null,
       "listResultMetadata": null,
       "metadata": {},
       "nuid": "1aa6e3e3-b2bd-44f5-9c67-3d6a91524c5d",
       "origId": 0,
       "parentHierarchy": [],
       "pivotAggregation": null,
       "pivotColumns": null,
       "position": 3,
       "resultDbfsErrorMessage": null,
       "resultDbfsStatus": "INLINED_IN_TREE",
       "results": null,
       "showCommandTitle": false,
       "startTime": 0,
       "state": "input",
       "streamStates": {},
       "subcommandOptions": {
        "queryPlan": {
         "groups": [
          {
           "column": "genre",
           "type": "column"
          }
         ],
         "selects": [
          {
           "column": "genre",
           "type": "column"
          },
          {
           "alias": "column_58dc1db3262",
           "args": [
            {
             "column": "share_mac_compatible_games (%)",
             "type": "column"
            }
           ],
           "function": "SUM",
           "type": "function"
          },
          {
           "alias": "column_58dc1db3265",
           "args": [
            {
             "column": "share_windows_compatible_games (%)",
             "type": "column"
            }
           ],
           "function": "SUM",
           "type": "function"
          },
          {
           "alias": "column_58dc1db3268",
           "args": [
            {
             "column": "share_linux_compatible_games (%)",
             "type": "column"
            }
           ],
           "function": "SUM",
           "type": "function"
          }
         ]
        }
       },
       "submitTime": 0,
       "subtype": "tableResultSubCmd.visualization",
       "tableResultIndex": 0,
       "tableResultSettingsMap": {},
       "useConsistentColors": false,
       "version": "CommandV1",
       "width": "auto",
       "workflows": [],
       "xColumns": null,
       "yColumns": null
      }
     },
     "output_type": "display_data"
    }
   ],
   "source": [
    "get_elem_list = F.udf(lambda elems: [elem.strip() for elem in elems.split(\",\")],\n",
    "                      ArrayType(StringType()))\n",
    "\n",
    "#num_games_window = Window.partitionBy(F.col(\"genre\"))\n",
    "#.withColumn(\"num_games_for_genre\", F.count(\"appid\").over(num_games_window))\\\n",
    "\n",
    "def row_std(*cols):\n",
    "    row_vals = [*cols]\n",
    "    mean = sum(row_vals) / len(row_vals)\n",
    "    variance = sum([(val - mean) ** 2 for val in row_vals])\\\n",
    "               / len(row_vals)\n",
    "    return variance ** 0.5\n",
    "\n",
    "row_std = F.udf(row_std, DoubleType())\n",
    "\n",
    "genres_platforms_df = df.filter(F.col(\"genre\") != \"\")\\\n",
    "                        .withColumn(\"platforms\",\n",
    "                                    F.explode(\n",
    "                                        get_elem_list(\n",
    "                                            F.col(\"platforms\"))))\\\n",
    "                        .withColumn(\"genre\",\n",
    "                                    F.explode(\n",
    "                                        get_elem_list(\n",
    "                                            F.col(\"genre\"))))\\\n",
    "                        .groupBy(F.col(\"genre\"))\\\n",
    "                        .agg(F.count(\n",
    "                                F.when((F.col(\"platforms\") == \"mac\"), True)\n",
    "                                ).alias(\"mac_compatible_games\"),\n",
    "                             F.count(\n",
    "                                F.when((F.col(\"platforms\") == \"windows\"), True)\n",
    "                                ).alias(\"windows_compatible_games\"),\n",
    "                             F.count(\n",
    "                                F.when((F.col(\"platforms\") == \"linux\"), True)\n",
    "                                ).alias(\"linux_compatible_games\"),\n",
    "                             F.countDistinct(\n",
    "                                F.col(\"appid\")\n",
    "                                ).alias(\"num_games_for_genre\"))\\\n",
    "                        .withColumn(\"share_mac_compatible_games (%)\",\n",
    "                                    F.col(\"mac_compatible_games\") / F.col(\"num_games_for_genre\") * 100)\\\n",
    "                        .withColumn(\"share_windows_compatible_games (%)\",\n",
    "                                    F.col(\"windows_compatible_games\") / F.col(\"num_games_for_genre\") * 100)\\\n",
    "                        .withColumn(\"share_linux_compatible_games (%)\",\n",
    "                                    F.col(\"linux_compatible_games\") / F.col(\"num_games_for_genre\") * 100)\\\n",
    "                        .withColumn(\"platf_share_std\", row_std(F.col(\"share_mac_compatible_games (%)\"),\n",
    "                                                               F.col(\"share_windows_compatible_games (%)\"),\n",
    "                                                               F.col(\"share_linux_compatible_games (%)\")))\\\n",
    "                        .orderBy(F.desc(\"platf_share_std\"))\\\n",
    "                        .select([\"genre\",\n",
    "                                 \"share_mac_compatible_games (%)\",\n",
    "                                 \"share_windows_compatible_games (%)\",\n",
    "                                 \"share_linux_compatible_games (%)\"])\\\n",
    "\n",
    "genres_platforms_df.display()"
   ]
  },
  {
   "cell_type": "code",
   "execution_count": 0,
   "metadata": {
    "application/vnd.databricks.v1+cell": {
     "cellMetadata": {},
     "inputWidgets": {},
     "nuid": "b70650c7-c153-470e-936b-d80451b2cfdf",
     "showTitle": false,
     "tableResultSettingsMap": {},
     "title": ""
    }
   },
   "outputs": [],
   "source": [
    "row_max = F.udf(lambda *cols: np.max(cols))\n",
    "\n",
    "genres_platforms_df.withColumn(\"top_genre_for_platform\", row_max(F.col(\"share_mac_compatible_games (%)\"),\n",
    "                                                                 F.col(\"share_windows_compatible_games (%)\"),\n",
    "                                                                 F.col(\"share_linux_compatible_games (%)\")))\\\n",
    "                   ."
   ]
  },
  {
   "cell_type": "code",
   "execution_count": 0,
   "metadata": {
    "application/vnd.databricks.v1+cell": {
     "cellMetadata": {
      "byteLimit": 2048000,
      "rowLimit": 10000
     },
     "inputWidgets": {},
     "nuid": "9660dde7-a25d-4e33-8ab4-f398e29022ed",
     "showTitle": false,
     "tableResultSettingsMap": {},
     "title": ""
    }
   },
   "outputs": [
    {
     "data": {
      "text/html": [
       "<style scoped>\n",
       "  .table-result-container {\n",
       "    max-height: 300px;\n",
       "    overflow: auto;\n",
       "  }\n",
       "  table, th, td {\n",
       "    border: 1px solid black;\n",
       "    border-collapse: collapse;\n",
       "  }\n",
       "  th, td {\n",
       "    padding: 5px;\n",
       "  }\n",
       "  th {\n",
       "    text-align: left;\n",
       "  }\n",
       "</style><div class='table-result-container'><table class='table-result'><thead style='background-color: white'><tr><th>platforms</th><th>top_genre</th></tr></thead><tbody><tr><td>linux</td><td>Indie</td></tr><tr><td>mac</td><td>Indie</td></tr><tr><td>windows</td><td>Indie</td></tr></tbody></table></div>"
      ]
     },
     "metadata": {
      "application/vnd.databricks.v1+output": {
       "addedWidgets": {},
       "aggData": [],
       "aggError": "",
       "aggOverflow": false,
       "aggSchema": [],
       "aggSeriesLimitReached": false,
       "aggType": "",
       "arguments": {},
       "columnCustomDisplayInfos": {},
       "data": [
        [
         "linux",
         "Indie"
        ],
        [
         "mac",
         "Indie"
        ],
        [
         "windows",
         "Indie"
        ]
       ],
       "datasetInfos": [],
       "dbfsResultPath": null,
       "isJsonSchema": true,
       "metadata": {},
       "overflow": false,
       "plotOptions": {
        "customPlotOptions": {},
        "displayType": "table",
        "pivotAggregation": null,
        "pivotColumns": null,
        "xColumns": null,
        "yColumns": null
       },
       "removedWidgets": [],
       "schema": [
        {
         "metadata": "{}",
         "name": "platforms",
         "type": "\"string\""
        },
        {
         "metadata": "{}",
         "name": "top_genre",
         "type": "\"string\""
        }
       ],
       "type": "table"
      }
     },
     "output_type": "display_data"
    }
   ],
   "source": [
    "genre_rank_window = Window.partitionBy(F.col(\"platforms\")).orderBy(F.desc(\"genre_occurrences_for_platform\"))\n",
    "\n",
    "top_genre_for_platform_df = df.filter(F.col(\"genre\") != \"\")\\\n",
    "                              .withColumn(\"platforms\",\n",
    "                                          F.explode(\n",
    "                                              get_elem_list(\n",
    "                                                  F.col(\"platforms\"))))\\\n",
    "                              .withColumn(\"genre\",\n",
    "                                          F.explode(\n",
    "                                              get_elem_list(\n",
    "                                                  F.col(\"genre\"))))\\\n",
    "                              .groupBy(F.col(\"platforms\"), F.col(\"genre\"))\\\n",
    "                              .agg(F.count(\"genre\").alias(\"genre_occurrences_for_platform\"))\\\n",
    "                              .withColumn(\"genre_rank_for_platform\", F.rank().over(genre_rank_window))\\\n",
    "                              .filter(F.col(\"genre_rank_for_platform\") == 1)\\\n",
    "                              .select([\"platforms\", \"genre\"])\\\n",
    "                              .withColumnRenamed(\"genre\", \"top_genre\")\n",
    "top_genre_for_platform_df.display()"
   ]
  }
 ],
 "metadata": {
  "application/vnd.databricks.v1+notebook": {
   "computePreferences": {
    "hardware": {
     "accelerator": null,
     "gpuPoolId": null,
     "memory": null
    }
   },
   "dashboards": [],
   "environmentMetadata": {
    "base_environment": "",
    "environment_version": "3"
   },
   "inputWidgetPreferences": null,
   "language": "python",
   "notebookMetadata": {
    "pythonIndentUnit": 4
   },
   "notebookName": "answering_the_questions.ipynb",
   "widgets": {}
  },
  "language_info": {
   "name": "python"
  }
 },
 "nbformat": 4,
 "nbformat_minor": 0
}
